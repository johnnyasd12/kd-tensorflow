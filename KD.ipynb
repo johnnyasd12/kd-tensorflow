{
 "cells": [
  {
   "cell_type": "code",
   "execution_count": 1,
   "metadata": {
    "ExecuteTime": {
     "end_time": "2018-11-13T01:56:40.229617Z",
     "start_time": "2018-11-13T01:56:40.218082Z"
    }
   },
   "outputs": [],
   "source": [
    "# to auto reload the modified module\n",
    "% load_ext autoreload\n",
    "% autoreload 2"
   ]
  },
  {
   "cell_type": "code",
   "execution_count": 2,
   "metadata": {
    "ExecuteTime": {
     "end_time": "2018-11-13T01:56:42.077653Z",
     "start_time": "2018-11-13T01:56:40.231046Z"
    }
   },
   "outputs": [
    {
     "name": "stderr",
     "output_type": "stream",
     "text": [
      "/home/deep3072/anaconda2/envs/tu36/lib/python3.6/importlib/_bootstrap.py:219: RuntimeWarning: compiletime version 3.5 of module 'tensorflow.python.framework.fast_tensor_util' does not match runtime version 3.6\n",
      "  return f(*args, **kwds)\n",
      "Using TensorFlow backend.\n"
     ]
    }
   ],
   "source": [
    "import tensorflow as tf\n",
    "import numpy as np\n",
    "import random\n",
    "import os\n",
    "from sklearn.model_selection import train_test_split\n",
    "import matplotlib.pyplot as plt\n",
    "\n",
    "from utils import *\n",
    "from data import MnistTF\n",
    "from models import *"
   ]
  },
  {
   "cell_type": "code",
   "execution_count": 3,
   "metadata": {
    "ExecuteTime": {
     "end_time": "2018-11-13T01:56:42.224727Z",
     "start_time": "2018-11-13T01:56:42.078989Z"
    }
   },
   "outputs": [],
   "source": [
    "# session settings\n",
    "session = create_session(gpu_id='0')\n",
    "# seed settings\n",
    "set_rand_seed(0)"
   ]
  },
  {
   "cell_type": "code",
   "execution_count": 4,
   "metadata": {
    "ExecuteTime": {
     "end_time": "2018-11-13T01:56:42.293671Z",
     "start_time": "2018-11-13T01:56:42.226279Z"
    }
   },
   "outputs": [],
   "source": [
    "try_reg2 = False\n",
    "if try_reg2:\n",
    "#         X_data = np.random.random((6000))[:, np.newaxis]*100\n",
    "#         noise = np.random.normal(0, 0.05, X_data.shape).astype(np.float32)*0\n",
    "#         y_data = X_data*2 + 1 + noise\n",
    "    X_data = np.linspace(-10,10,5000, dtype=np.float32)[:, np.newaxis]\n",
    "    np.random.shuffle(X_data)\n",
    "    noise = np.random.normal(0, 10, X_data.shape).astype(np.float32)\n",
    "    y_data = np.square(X_data) - 0.5 + noise\n",
    "    print('X_data',X_data.shape,'\\n',X_data[:5])\n",
    "    print('y_data',y_data.shape,'\\n',y_data[:5])\n",
    "    \n",
    "    X_train, X_test, y_train, y_test = train_test_split(X_data, y_data, test_size=0.2)\n",
    "    X_train, X_val, y_train, y_val = train_test_split(X_train, y_train, test_size=0.25)\n",
    "    \n",
    "    input_dims = X_train.shape[1]\n",
    "    col_0 = SoftenedNN(\n",
    "        input_dims=input_dims\n",
    "        , output_dims=1\n",
    "        , session=session\n",
    "        , dtype_X=tf.float32, dtype_y=tf.float32\n",
    "    )\n",
    "    col_0.add_layer(\n",
    "        FC(inputs=col_0.h[-1],out_dims=256,activation_fn=tf.nn.relu)\n",
    "    )\n",
    "    col_0.add_layer(\n",
    "        FC(inputs=col_0.h[-1],out_dims=1,activation_fn=None)\n",
    "    )\n",
    "    col_0.compile_nn(\n",
    "#         loss=tf.reduce_mean(tf.reduce_sum(tf.square(col_0.ys - col_0.prediction),reduction_indices=[1]))\n",
    "        loss=tf.losses.mean_squared_error(col_0.ys,col_0.prediction)\n",
    "        ,opt=tf.train.AdamOptimizer(learning_rate=1e-3)\n",
    "#         ,opt=tf.train.GradientDescentOptimizer(learning_rate=1e-1)\n",
    "#         ,mectrics=[]\n",
    "    )\n",
    "    col_0.train(\n",
    "        X=X_train\n",
    "        , y=y_train\n",
    "#         , val_set=[X_val,y_val]\n",
    "        , batch_size=32\n",
    "        , n_epochs=200\n",
    "        , display_steps=100\n",
    "    )"
   ]
  },
  {
   "cell_type": "code",
   "execution_count": 5,
   "metadata": {
    "ExecuteTime": {
     "end_time": "2018-11-13T01:56:42.322255Z",
     "start_time": "2018-11-13T01:56:42.295439Z"
    }
   },
   "outputs": [],
   "source": [
    "if try_reg2:\n",
    "    col_0.plt_loss()\n",
    "    col_0.plt_metrics()\n",
    "    test_metric = col_0.get_metrics(X_test, y_test)\n",
    "    print(test_metric)"
   ]
  },
  {
   "cell_type": "code",
   "execution_count": 6,
   "metadata": {
    "ExecuteTime": {
     "end_time": "2018-11-13T01:56:42.780373Z",
     "start_time": "2018-11-13T01:56:42.323862Z"
    },
    "scrolled": true
   },
   "outputs": [
    {
     "name": "stdout",
     "output_type": "stream",
     "text": [
      "Extracting /tmp/data/train-images-idx3-ubyte.gz\n",
      "Extracting /tmp/data/train-labels-idx1-ubyte.gz\n",
      "Extracting /tmp/data/t10k-images-idx3-ubyte.gz\n",
      "Extracting /tmp/data/t10k-labels-idx1-ubyte.gz\n",
      "X_train <class 'numpy.ndarray'> (55000, 784)\n",
      "y_train <class 'numpy.ndarray'> (55000, 10)\n",
      "input_dims <class 'int'> 784\n",
      "output_dims <class 'int'> 10\n"
     ]
    }
   ],
   "source": [
    "try_cls2 = True\n",
    "if try_cls2:\n",
    "    mnist = MnistTF()\n",
    "    X_train, y_train = mnist.get_train_data()\n",
    "    X_val, y_val = mnist.get_validation_data()\n",
    "    X_test, y_test = mnist.get_test_data()\n",
    "    print_obj(X_train, 'X_train')\n",
    "    print_obj(y_train, 'y_train')\n",
    "    input_dims = X_train.shape[1]\n",
    "    output_dims = y_train.shape[1]\n",
    "    print_obj(input_dims, 'input_dims')\n",
    "    print_obj(output_dims, 'output_dims')\n"
   ]
  },
  {
   "cell_type": "code",
   "execution_count": 7,
   "metadata": {
    "ExecuteTime": {
     "end_time": "2018-11-13T01:57:09.775644Z",
     "start_time": "2018-11-13T01:56:42.781970Z"
    }
   },
   "outputs": [
    {
     "name": "stdout",
     "output_type": "stream",
     "text": [
      "Epoch 1 , step 0 , loss= 2.1537776 val_loss= 2.27826 , acc = 0.09375 val acc = 0.1272 \n",
      "Epoch 1 , step 100 , loss= 0.80246747 val_loss= 0.6238871 , acc = 0.71875 val acc = 0.8382 \n",
      "Epoch 1 , step 200 , loss= 0.416744 val_loss= 0.40995783 , acc = 0.875 val acc = 0.8914 \n",
      "Epoch 1 , step 300 , loss= 0.42214334 val_loss= 0.35452422 , acc = 0.84375 val acc = 0.9002 \n",
      "Epoch 1 , step 400 , loss= 0.099252924 val_loss= 0.32509032 , acc = 1.0 val acc = 0.9096 \n",
      "Epoch 1 , step 500 , loss= 0.26806623 val_loss= 0.2937818 , acc = 0.90625 val acc = 0.9124 \n",
      "Epoch 1 , step 600 , loss= 0.12835047 val_loss= 0.28090465 , acc = 1.0 val acc = 0.9222 \n",
      "Epoch 1 , step 700 , loss= 0.2505793 val_loss= 0.26762897 , acc = 0.96875 val acc = 0.9208 \n",
      "Epoch 1 , step 800 , loss= 0.28472674 val_loss= 0.24726787 , acc = 0.9375 val acc = 0.9302 \n",
      "Epoch 1 , step 900 , loss= 0.4780286 val_loss= 0.2440239 , acc = 0.875 val acc = 0.9316 \n",
      "Epoch 1 , step 1000 , loss= 0.12109499 val_loss= 0.2226496 , acc = 1.0 val acc = 0.9378 \n",
      "Epoch 1 , step 1100 , loss= 0.09450291 val_loss= 0.22061862 , acc = 1.0 val acc = 0.9366 \n",
      "Epoch 1 , step 1200 , loss= 0.15110326 val_loss= 0.2215553 , acc = 0.96875 val acc = 0.9374 \n",
      "Epoch 1 , step 1300 , loss= 0.0670183 val_loss= 0.20444563 , acc = 1.0 val acc = 0.9434 \n",
      "Epoch 1 , step 1400 , loss= 0.1790235 val_loss= 0.2022736 , acc = 0.9375 val acc = 0.945 \n",
      "Epoch 1 , step 1500 , loss= 0.31341937 val_loss= 0.19088323 , acc = 0.875 val acc = 0.9458 \n",
      "Epoch 1 , step 1600 , loss= 0.14490813 val_loss= 0.18318199 , acc = 0.96875 val acc = 0.9508 \n",
      "Epoch 1 , step 1700 , loss= 0.26296806 val_loss= 0.18323977 , acc = 0.9375 val acc = 0.9478 \n",
      "Epoch 2 , step 82 , loss= 0.21687257 val_loss= 0.18116064 , acc = 0.90625 val acc = 0.9494 \n",
      "Epoch 2 , step 182 , loss= 0.15122655 val_loss= 0.1703126 , acc = 0.9375 val acc = 0.952 \n",
      "Epoch 2 , step 282 , loss= 0.30235928 val_loss= 0.1726709 , acc = 0.90625 val acc = 0.954 \n",
      "Epoch 2 , step 382 , loss= 0.11390527 val_loss= 0.16432185 , acc = 0.9375 val acc = 0.9516 \n",
      "Epoch 2 , step 482 , loss= 0.13335541 val_loss= 0.16672361 , acc = 0.96875 val acc = 0.9522 \n",
      "Epoch 2 , step 582 , loss= 0.022635456 val_loss= 0.16360465 , acc = 1.0 val acc = 0.9534 \n",
      "Epoch 2 , step 682 , loss= 0.43338817 val_loss= 0.15719353 , acc = 0.84375 val acc = 0.9556 \n",
      "Epoch 2 , step 782 , loss= 0.28634536 val_loss= 0.15380566 , acc = 0.9375 val acc = 0.957 \n",
      "Epoch 2 , step 882 , loss= 0.2204618 val_loss= 0.14842996 , acc = 0.9375 val acc = 0.9592 \n",
      "Epoch 2 , step 982 , loss= 0.14290068 val_loss= 0.14855352 , acc = 0.96875 val acc = 0.96 \n",
      "Epoch 2 , step 1082 , loss= 0.10305029 val_loss= 0.14370292 , acc = 0.96875 val acc = 0.9602 \n",
      "Epoch 2 , step 1182 , loss= 0.20151776 val_loss= 0.13888852 , acc = 0.9375 val acc = 0.9598 \n",
      "Epoch 2 , step 1282 , loss= 0.21663049 val_loss= 0.13681902 , acc = 0.96875 val acc = 0.9628 \n",
      "Epoch 2 , step 1382 , loss= 0.09665698 val_loss= 0.13422756 , acc = 0.9375 val acc = 0.963 \n",
      "Epoch 2 , step 1482 , loss= 0.12718982 val_loss= 0.13483042 , acc = 0.9375 val acc = 0.9622 \n",
      "Epoch 2 , step 1582 , loss= 0.07895521 val_loss= 0.13018999 , acc = 1.0 val acc = 0.9614 \n",
      "Epoch 2 , step 1682 , loss= 0.07946008 val_loss= 0.12809002 , acc = 0.96875 val acc = 0.962 \n",
      "Epoch 3 , step 64 , loss= 0.1665395 val_loss= 0.12677102 , acc = 0.96875 val acc = 0.9628 \n",
      "Epoch 3 , step 164 , loss= 0.3140161 val_loss= 0.12646462 , acc = 0.9375 val acc = 0.9636 \n",
      "Epoch 3 , step 264 , loss= 0.13282317 val_loss= 0.122401975 , acc = 0.9375 val acc = 0.9628 \n",
      "Epoch 3 , step 364 , loss= 0.1393481 val_loss= 0.11955304 , acc = 0.9375 val acc = 0.9644 \n",
      "Epoch 3 , step 464 , loss= 0.11680837 val_loss= 0.12334784 , acc = 0.9375 val acc = 0.9646 \n",
      "Epoch 3 , step 564 , loss= 0.17269135 val_loss= 0.12477031 , acc = 0.9375 val acc = 0.962 \n",
      "Epoch 3 , step 664 , loss= 0.036640912 val_loss= 0.12287622 , acc = 1.0 val acc = 0.9644 \n",
      "Epoch 3 , step 764 , loss= 0.15203416 val_loss= 0.12534288 , acc = 0.9375 val acc = 0.9648 \n",
      "Epoch 3 , step 864 , loss= 0.019834206 val_loss= 0.11928952 , acc = 1.0 val acc = 0.9636 \n",
      "Epoch 3 , step 964 , loss= 0.18293113 val_loss= 0.11494613 , acc = 0.96875 val acc = 0.9668 \n",
      "Epoch 3 , step 1064 , loss= 0.06756273 val_loss= 0.111980505 , acc = 0.96875 val acc = 0.966 \n",
      "Epoch 3 , step 1164 , loss= 0.1129756 val_loss= 0.12269346 , acc = 0.96875 val acc = 0.9628 \n",
      "Epoch 3 , step 1264 , loss= 0.096430615 val_loss= 0.10933745 , acc = 0.9375 val acc = 0.9658 \n",
      "Epoch 3 , step 1364 , loss= 0.26322877 val_loss= 0.10987843 , acc = 0.96875 val acc = 0.9648 \n",
      "Epoch 3 , step 1464 , loss= 0.026169345 val_loss= 0.110304356 , acc = 1.0 val acc = 0.9662 \n",
      "Epoch 3 , step 1564 , loss= 0.08530173 val_loss= 0.1039609 , acc = 1.0 val acc = 0.9706 \n",
      "Epoch 3 , step 1664 , loss= 0.04164689 val_loss= 0.10961659 , acc = 1.0 val acc = 0.969 \n",
      "Epoch 4 , step 46 , loss= 0.050112188 val_loss= 0.11152297 , acc = 1.0 val acc = 0.9672 \n",
      "Epoch 4 , step 146 , loss= 0.083657965 val_loss= 0.10698027 , acc = 0.96875 val acc = 0.9664 \n",
      "Epoch 4 , step 246 , loss= 0.013955449 val_loss= 0.10774131 , acc = 1.0 val acc = 0.968 \n",
      "Epoch 4 , step 346 , loss= 0.049471803 val_loss= 0.105075136 , acc = 1.0 val acc = 0.9662 \n",
      "Epoch 4 , step 446 , loss= 0.054760747 val_loss= 0.10821238 , acc = 0.96875 val acc = 0.9708 \n",
      "Epoch 4 , step 546 , loss= 0.057863478 val_loss= 0.101813614 , acc = 0.96875 val acc = 0.9702 \n",
      "Epoch 4 , step 646 , loss= 0.019940421 val_loss= 0.10186434 , acc = 1.0 val acc = 0.97 \n",
      "Epoch 4 , step 746 , loss= 0.15744275 val_loss= 0.09839747 , acc = 0.96875 val acc = 0.9718 \n",
      "Epoch 4 , step 846 , loss= 0.24261914 val_loss= 0.09772968 , acc = 0.96875 val acc = 0.9706 \n",
      "Epoch 4 , step 946 , loss= 0.026350046 val_loss= 0.101919875 , acc = 1.0 val acc = 0.97 \n",
      "Epoch 4 , step 1046 , loss= 0.021244625 val_loss= 0.09853672 , acc = 1.0 val acc = 0.9704 \n",
      "Epoch 4 , step 1146 , loss= 0.123990454 val_loss= 0.1007643 , acc = 0.96875 val acc = 0.9694 \n",
      "Epoch 4 , step 1246 , loss= 0.063439675 val_loss= 0.09189182 , acc = 0.96875 val acc = 0.9722 \n",
      "Epoch 4 , step 1346 , loss= 0.061403133 val_loss= 0.107425295 , acc = 1.0 val acc = 0.969 \n",
      "Epoch 4 , step 1446 , loss= 0.11258775 val_loss= 0.10105335 , acc = 0.96875 val acc = 0.9688 \n",
      "Epoch 4 , step 1546 , loss= 0.18610264 val_loss= 0.09893515 , acc = 0.9375 val acc = 0.9708 \n",
      "Epoch 4 , step 1646 , loss= 0.06776394 val_loss= 0.09638262 , acc = 0.9375 val acc = 0.9714 \n",
      "Epoch 5 , step 28 , loss= 0.012886375 val_loss= 0.09413503 , acc = 1.0 val acc = 0.9716 \n",
      "Epoch 5 , step 128 , loss= 0.061940603 val_loss= 0.09639755 , acc = 0.96875 val acc = 0.9708 \n",
      "Epoch 5 , step 228 , loss= 0.04946982 val_loss= 0.09466902 , acc = 1.0 val acc = 0.971 \n",
      "Epoch 5 , step 328 , loss= 0.0508198 val_loss= 0.09328349 , acc = 0.96875 val acc = 0.9722 \n",
      "Epoch 5 , step 428 , loss= 0.03581534 val_loss= 0.092302844 , acc = 1.0 val acc = 0.9728 \n",
      "Epoch 5 , step 528 , loss= 0.041880395 val_loss= 0.089835666 , acc = 1.0 val acc = 0.9732 \n",
      "Epoch 5 , step 628 , loss= 0.008300249 val_loss= 0.09260311 , acc = 1.0 val acc = 0.9712 \n",
      "Epoch 5 , step 728 , loss= 0.014046038 val_loss= 0.0950053 , acc = 1.0 val acc = 0.9722 \n",
      "Epoch 5 , step 828 , loss= 0.06560325 val_loss= 0.089390844 , acc = 0.96875 val acc = 0.9724 \n",
      "Epoch 5 , step 928 , loss= 0.08052559 val_loss= 0.09895573 , acc = 0.96875 val acc = 0.9694 \n",
      "Epoch 5 , step 1028 , loss= 0.070202604 val_loss= 0.091528356 , acc = 0.96875 val acc = 0.9734 \n",
      "Epoch 5 , step 1128 , loss= 0.0078753475 val_loss= 0.092288315 , acc = 1.0 val acc = 0.9726 \n",
      "Epoch 5 , step 1228 , loss= 0.053034853 val_loss= 0.09036461 , acc = 0.96875 val acc = 0.9738 \n",
      "Epoch 5 , step 1328 , loss= 0.09575015 val_loss= 0.0909615 , acc = 0.9375 val acc = 0.9726 \n",
      "Epoch 5 , step 1428 , loss= 0.19008787 val_loss= 0.094427414 , acc = 0.96875 val acc = 0.9702 \n",
      "Epoch 5 , step 1528 , loss= 0.027093338 val_loss= 0.08645728 , acc = 1.0 val acc = 0.9746 \n",
      "Epoch 5 , step 1628 , loss= 0.10165421 val_loss= 0.08740321 , acc = 0.96875 val acc = 0.976 \n",
      "Epoch 6 , step 10 , loss= 0.035840113 val_loss= 0.0911037 , acc = 1.0 val acc = 0.9738 \n",
      "Epoch 6 , step 110 , loss= 0.013602857 val_loss= 0.08753801 , acc = 1.0 val acc = 0.9738 \n",
      "Epoch 6 , step 210 , loss= 0.29114085 val_loss= 0.090203814 , acc = 0.96875 val acc = 0.9752 \n",
      "Epoch 6 , step 310 , loss= 0.26116526 val_loss= 0.09119704 , acc = 0.9375 val acc = 0.9704 \n"
     ]
    },
    {
     "name": "stdout",
     "output_type": "stream",
     "text": [
      "Epoch 6 , step 410 , loss= 0.13010986 val_loss= 0.092624485 , acc = 0.96875 val acc = 0.972 \n",
      "Epoch 6 , step 510 , loss= 0.022145174 val_loss= 0.089065604 , acc = 1.0 val acc = 0.9734 \n",
      "Epoch 6 , step 610 , loss= 0.01638246 val_loss= 0.084542416 , acc = 1.0 val acc = 0.975 \n",
      "Epoch 6 , step 710 , loss= 0.011806207 val_loss= 0.08902451 , acc = 1.0 val acc = 0.9732 \n",
      "Epoch 6 , step 810 , loss= 0.07056263 val_loss= 0.08473992 , acc = 0.96875 val acc = 0.974 \n",
      "Epoch 6 , step 910 , loss= 0.02016017 val_loss= 0.08982505 , acc = 1.0 val acc = 0.9726 \n",
      "Epoch 6 , step 1010 , loss= 0.019178264 val_loss= 0.093112774 , acc = 1.0 val acc = 0.9716 \n",
      "Epoch 6 , step 1110 , loss= 0.03349892 val_loss= 0.08650903 , acc = 0.96875 val acc = 0.9746 \n",
      "Epoch 6 , step 1210 , loss= 0.008305409 val_loss= 0.084593594 , acc = 1.0 val acc = 0.9754 \n",
      "Epoch 6 , step 1310 , loss= 0.16304556 val_loss= 0.08285015 , acc = 0.96875 val acc = 0.974 \n",
      "Epoch 6 , step 1410 , loss= 0.011664786 val_loss= 0.08494353 , acc = 1.0 val acc = 0.9758 \n",
      "Epoch 6 , step 1510 , loss= 0.095100135 val_loss= 0.085263014 , acc = 0.96875 val acc = 0.9754 \n",
      "Epoch 6 , step 1610 , loss= 0.049585767 val_loss= 0.08261403 , acc = 1.0 val acc = 0.977 \n",
      "Epoch 6 , step 1710 , loss= 0.14593965 val_loss= 0.08468971 , acc = 0.9375 val acc = 0.9746 \n",
      "Epoch 7 , step 92 , loss= 0.04626009 val_loss= 0.08672773 , acc = 1.0 val acc = 0.9726 \n",
      "Epoch 7 , step 192 , loss= 0.08626041 val_loss= 0.08807601 , acc = 0.96875 val acc = 0.9756 \n",
      "Epoch 7 , step 292 , loss= 0.070443176 val_loss= 0.083291054 , acc = 0.96875 val acc = 0.9748 \n",
      "Epoch 7 , step 392 , loss= 0.030161604 val_loss= 0.08144076 , acc = 1.0 val acc = 0.9764 \n",
      "Epoch 7 , step 492 , loss= 0.020322386 val_loss= 0.08331436 , acc = 1.0 val acc = 0.9764 \n",
      "Epoch 7 , step 592 , loss= 0.14078793 val_loss= 0.08783403 , acc = 0.96875 val acc = 0.9742 \n",
      "Epoch 7 , step 692 , loss= 0.08030766 val_loss= 0.0839963 , acc = 0.9375 val acc = 0.974 \n",
      "Epoch 7 , step 792 , loss= 0.13786383 val_loss= 0.092095874 , acc = 0.9375 val acc = 0.9726 \n",
      "Epoch 7 , step 892 , loss= 0.003605513 val_loss= 0.08478598 , acc = 1.0 val acc = 0.9734 \n",
      "Epoch 7 , step 992 , loss= 0.07244419 val_loss= 0.0831901 , acc = 0.96875 val acc = 0.9742 \n",
      "Epoch 7 , step 1092 , loss= 0.015743937 val_loss= 0.083816916 , acc = 1.0 val acc = 0.9748 \n",
      "Epoch 7 , step 1192 , loss= 0.022502825 val_loss= 0.08178145 , acc = 1.0 val acc = 0.975 \n",
      "Epoch 7 , step 1292 , loss= 0.02076571 val_loss= 0.08381903 , acc = 1.0 val acc = 0.9742 \n",
      "Epoch 7 , step 1392 , loss= 0.09630059 val_loss= 0.0864581 , acc = 0.96875 val acc = 0.974 \n",
      "Epoch 7 , step 1492 , loss= 0.06943823 val_loss= 0.079286315 , acc = 0.96875 val acc = 0.975 \n",
      "Epoch 7 , step 1592 , loss= 0.00360907 val_loss= 0.08333962 , acc = 1.0 val acc = 0.975 \n",
      "Epoch 7 , step 1692 , loss= 0.12083932 val_loss= 0.081024714 , acc = 0.96875 val acc = 0.9754 \n",
      "Epoch 8 , step 74 , loss= 0.010055066 val_loss= 0.086709045 , acc = 1.0 val acc = 0.9744 \n",
      "Epoch 8 , step 174 , loss= 0.012680275 val_loss= 0.08414736 , acc = 1.0 val acc = 0.9742 \n",
      "Epoch 8 , step 274 , loss= 0.011075937 val_loss= 0.082720615 , acc = 1.0 val acc = 0.9762 \n",
      "Epoch 8 , step 374 , loss= 0.03702202 val_loss= 0.08241764 , acc = 0.96875 val acc = 0.9754 \n",
      "Epoch 8 , step 474 , loss= 0.003828648 val_loss= 0.08925721 , acc = 1.0 val acc = 0.9726 \n",
      "Epoch 8 , step 574 , loss= 0.057043687 val_loss= 0.08600552 , acc = 0.96875 val acc = 0.9742 \n",
      "Epoch 8 , step 674 , loss= 0.014507324 val_loss= 0.08274334 , acc = 1.0 val acc = 0.9736 \n",
      "Epoch 8 , step 774 , loss= 0.0015604387 val_loss= 0.08582849 , acc = 1.0 val acc = 0.974 \n",
      "Epoch 8 , step 874 , loss= 0.021582063 val_loss= 0.086165145 , acc = 1.0 val acc = 0.974 \n",
      "Epoch 8 , step 974 , loss= 0.023687158 val_loss= 0.08187976 , acc = 1.0 val acc = 0.9766 \n",
      "Epoch 8 , step 1074 , loss= 0.060950395 val_loss= 0.09110471 , acc = 1.0 val acc = 0.974 \n",
      "Epoch 8 , step 1174 , loss= 0.01660822 val_loss= 0.08332037 , acc = 1.0 val acc = 0.9756 \n",
      "Epoch 8 , step 1274 , loss= 0.012574944 val_loss= 0.08149231 , acc = 1.0 val acc = 0.9758 \n",
      "Epoch 8 , step 1374 , loss= 0.037516914 val_loss= 0.083912395 , acc = 0.96875 val acc = 0.9734 \n",
      "Epoch 8 , step 1474 , loss= 0.11321506 val_loss= 0.0820658 , acc = 0.96875 val acc = 0.9758 \n",
      "Epoch 8 , step 1574 , loss= 0.0020323629 val_loss= 0.07871228 , acc = 1.0 val acc = 0.9752 \n",
      "Epoch 8 , step 1674 , loss= 0.044233773 val_loss= 0.08170032 , acc = 0.96875 val acc = 0.975 \n",
      "Epoch 9 , step 56 , loss= 0.013581477 val_loss= 0.0767061 , acc = 1.0 val acc = 0.9778 \n",
      "Epoch 9 , step 156 , loss= 0.04279533 val_loss= 0.07853685 , acc = 1.0 val acc = 0.9758 \n",
      "Epoch 9 , step 256 , loss= 0.09837859 val_loss= 0.092284404 , acc = 0.96875 val acc = 0.9736 \n",
      "Epoch 9 , step 356 , loss= 0.010084151 val_loss= 0.08858088 , acc = 1.0 val acc = 0.9732 \n",
      "Epoch 9 , step 456 , loss= 0.0074896202 val_loss= 0.07892722 , acc = 1.0 val acc = 0.9756 \n",
      "Epoch 9 , step 556 , loss= 0.11927371 val_loss= 0.083618924 , acc = 0.96875 val acc = 0.9746 \n",
      "Epoch 9 , step 656 , loss= 0.012572872 val_loss= 0.08056259 , acc = 1.0 val acc = 0.9742 \n",
      "Epoch 9 , step 756 , loss= 0.045011617 val_loss= 0.08441562 , acc = 0.96875 val acc = 0.9746 \n",
      "Epoch 9 , step 856 , loss= 0.026740566 val_loss= 0.08508746 , acc = 1.0 val acc = 0.976 \n",
      "Epoch 9 , step 956 , loss= 0.013126378 val_loss= 0.08264992 , acc = 1.0 val acc = 0.9778 \n",
      "Epoch 9 , step 1056 , loss= 0.03248244 val_loss= 0.086008534 , acc = 0.96875 val acc = 0.9764 \n",
      "Epoch 9 , step 1156 , loss= 0.12809877 val_loss= 0.08032158 , acc = 0.9375 val acc = 0.9774 \n",
      "Epoch 9 , step 1256 , loss= 0.0067218584 val_loss= 0.08837573 , acc = 1.0 val acc = 0.974 \n",
      "Epoch 9 , step 1356 , loss= 0.22040899 val_loss= 0.088838436 , acc = 0.96875 val acc = 0.9756 \n",
      "Epoch 9 , step 1456 , loss= 0.0043675806 val_loss= 0.08352057 , acc = 1.0 val acc = 0.9756 \n",
      "Epoch 9 , step 1556 , loss= 0.006127538 val_loss= 0.07677701 , acc = 1.0 val acc = 0.976 \n",
      "Epoch 9 , step 1656 , loss= 0.032097556 val_loss= 0.084010184 , acc = 1.0 val acc = 0.9746 \n",
      "Epoch 10 , step 38 , loss= 0.10598932 val_loss= 0.07575902 , acc = 0.96875 val acc = 0.977 \n",
      "Epoch 10 , step 138 , loss= 0.11936619 val_loss= 0.07790924 , acc = 0.96875 val acc = 0.9768 \n",
      "Epoch 10 , step 238 , loss= 0.0039648525 val_loss= 0.07897406 , acc = 1.0 val acc = 0.9758 \n",
      "Epoch 10 , step 338 , loss= 0.0070923255 val_loss= 0.083131686 , acc = 1.0 val acc = 0.9748 \n",
      "Epoch 10 , step 438 , loss= 0.017822932 val_loss= 0.07998217 , acc = 1.0 val acc = 0.976 \n",
      "Epoch 10 , step 538 , loss= 0.06990603 val_loss= 0.08168024 , acc = 0.96875 val acc = 0.9766 \n",
      "Epoch 10 , step 638 , loss= 0.06169554 val_loss= 0.085000075 , acc = 0.96875 val acc = 0.9748 \n",
      "Epoch 10 , step 738 , loss= 0.04135485 val_loss= 0.08060377 , acc = 1.0 val acc = 0.977 \n",
      "Epoch 10 , step 838 , loss= 0.046712644 val_loss= 0.07852262 , acc = 1.0 val acc = 0.9756 \n",
      "Epoch 10 , step 938 , loss= 0.045054354 val_loss= 0.08189096 , acc = 0.96875 val acc = 0.976 \n",
      "Epoch 10 , step 1038 , loss= 0.028798705 val_loss= 0.080506526 , acc = 0.96875 val acc = 0.9758 \n",
      "Epoch 10 , step 1138 , loss= 0.032041546 val_loss= 0.075134575 , acc = 1.0 val acc = 0.979 \n",
      "Epoch 10 , step 1238 , loss= 0.040338542 val_loss= 0.0847711 , acc = 1.0 val acc = 0.975 \n",
      "Epoch 10 , step 1338 , loss= 0.0032048146 val_loss= 0.08420119 , acc = 1.0 val acc = 0.9756 \n",
      "Epoch 10 , step 1438 , loss= 0.0025707497 val_loss= 0.08292086 , acc = 1.0 val acc = 0.976 \n",
      "Epoch 10 , step 1538 , loss= 0.0037938391 val_loss= 0.083422385 , acc = 1.0 val acc = 0.9758 \n",
      "Epoch 10 , step 1638 , loss= 0.089680776 val_loss= 0.085159265 , acc = 0.9375 val acc = 0.976 \n",
      "Epoch 10 , step 1717 , loss= 0.024221633 val_loss= 0.07901939 , acc = 0.98214287 val acc = 0.9762 \n"
     ]
    }
   ],
   "source": [
    "if try_cls2:\n",
    "    teacher = build_big_model(input_dims, output_dims, session)\n",
    "    teacher.train(\n",
    "        X=X_train\n",
    "        ,y=y_train\n",
    "        ,val_set=[X_val,y_val]\n",
    "        ,batch_size=32\n",
    "        ,n_epochs=10\n",
    "        ,display_steps=100)"
   ]
  },
  {
   "cell_type": "code",
   "execution_count": 8,
   "metadata": {
    "ExecuteTime": {
     "end_time": "2018-11-13T01:57:10.079460Z",
     "start_time": "2018-11-13T01:57:09.777845Z"
    }
   },
   "outputs": [
    {
     "name": "stdout",
     "output_type": "stream",
     "text": [
      "Plotting loss...\n"
     ]
    },
    {
     "data": {
      "image/png": "[encoded data removed]",
      "text/plain": [
       "<Figure size 432x288 with 1 Axes>"
      ]
     },
     "metadata": {
      "needs_background": "light"
     },
     "output_type": "display_data"
    },
    {
     "name": "stdout",
     "output_type": "stream",
     "text": [
      "Plotting metrics...\n"
     ]
    },
    {
     "data": {
      "image/png": "[encoded data removed]",
      "text/plain": [
       "<Figure size 432x288 with 1 Axes>"
      ]
     },
     "metadata": {
      "needs_background": "light"
     },
     "output_type": "display_data"
    },
    {
     "name": "stdout",
     "output_type": "stream",
     "text": [
      "{'acc': 0.9758}\n"
     ]
    }
   ],
   "source": [
    "if try_cls2:\n",
    "    teacher.plt_loss()\n",
    "    teacher.plt_metrics()\n",
    "    test_metric = teacher.get_metrics(X_test, y_test)\n",
    "    print(test_metric)"
   ]
  },
  {
   "cell_type": "code",
   "execution_count": 9,
   "metadata": {
    "ExecuteTime": {
     "end_time": "2018-11-13T01:57:10.144196Z",
     "start_time": "2018-11-13T01:57:10.080855Z"
    }
   },
   "outputs": [],
   "source": [
    "if try_cls2:\n",
    "    temperature = 1\n",
    "    y_train_soft = teacher.predict_softened(X_train, temperature)\n",
    "    y_val_soft = teacher.predict_softened(X_val, temperature)\n",
    "    y_test_soft = teacher.predict_softened(X_test, temperature)"
   ]
  },
  {
   "cell_type": "code",
   "execution_count": 10,
   "metadata": {
    "ExecuteTime": {
     "end_time": "2018-11-13T01:57:10.772563Z",
     "start_time": "2018-11-13T01:57:10.145677Z"
    }
   },
   "outputs": [
    {
     "data": {
      "image/png": "[encoded data removed]",
      "text/plain": [
       "<Figure size 432x288 with 1 Axes>"
      ]
     },
     "metadata": {
      "needs_background": "light"
     },
     "output_type": "display_data"
    },
    {
     "name": "stdout",
     "output_type": "stream",
     "text": [
      "sample.max() 1.0\n",
      "label [0. 1. 0. 0. 0. 0. 0. 0. 0. 0.]\n",
      "teacher.predict [[0.000e+00 9.993e-01 4.000e-04 0.000e+00 1.000e-04 0.000e+00 0.000e+00\n",
      "  1.000e-04 1.000e-04 0.000e+00]]\n",
      "teacher.predict_softened [[0.000e+00 9.993e-01 4.000e-04 0.000e+00 1.000e-04 0.000e+00 0.000e+00\n",
      "  1.000e-04 1.000e-04 0.000e+00]]\n",
      "y_soft [0.000e+00 9.993e-01 4.000e-04 0.000e+00 1.000e-04 0.000e+00 0.000e+00\n",
      " 1.000e-04 1.000e-04 0.000e+00]\n"
     ]
    },
    {
     "data": {
      "image/png": "[encoded data removed]",
      "text/plain": [
       "<Figure size 432x288 with 1 Axes>"
      ]
     },
     "metadata": {
      "needs_background": "light"
     },
     "output_type": "display_data"
    },
    {
     "name": "stdout",
     "output_type": "stream",
     "text": [
      "sample.max() 1.0\n",
      "label [0. 0. 0. 0. 0. 0. 0. 0. 1. 0.]\n",
      "teacher.predict [[0. 0. 0. 0. 0. 0. 0. 0. 1. 0.]]\n",
      "teacher.predict_softened [[0. 0. 0. 0. 0. 0. 0. 0. 1. 0.]]\n",
      "y_soft [0. 0. 0. 0. 0. 0. 0. 0. 1. 0.]\n"
     ]
    },
    {
     "data": {
      "image/png": "[encoded data removed]",
      "text/plain": [
       "<Figure size 432x288 with 1 Axes>"
      ]
     },
     "metadata": {
      "needs_background": "light"
     },
     "output_type": "display_data"
    },
    {
     "name": "stdout",
     "output_type": "stream",
     "text": [
      "sample.max() 0.9960785\n",
      "label [0. 1. 0. 0. 0. 0. 0. 0. 0. 0.]\n",
      "teacher.predict [[0.000e+00 9.999e-01 0.000e+00 0.000e+00 0.000e+00 0.000e+00 0.000e+00\n",
      "  1.000e-04 0.000e+00 0.000e+00]]\n",
      "teacher.predict_softened [[0.000e+00 9.999e-01 0.000e+00 0.000e+00 0.000e+00 0.000e+00 0.000e+00\n",
      "  1.000e-04 0.000e+00 0.000e+00]]\n",
      "y_soft [0.000e+00 9.999e-01 0.000e+00 0.000e+00 0.000e+00 0.000e+00 0.000e+00\n",
      " 1.000e-04 0.000e+00 0.000e+00]\n"
     ]
    },
    {
     "data": {
      "image/png": "[encoded data removed]",
      "text/plain": [
       "<Figure size 432x288 with 1 Axes>"
      ]
     },
     "metadata": {
      "needs_background": "light"
     },
     "output_type": "display_data"
    },
    {
     "name": "stdout",
     "output_type": "stream",
     "text": [
      "sample.max() 1.0\n",
      "label [0. 0. 0. 0. 0. 0. 0. 1. 0. 0.]\n",
      "teacher.predict [[0. 0. 0. 0. 0. 0. 0. 1. 0. 0.]]\n",
      "teacher.predict_softened [[0. 0. 0. 0. 0. 0. 0. 1. 0. 0.]]\n",
      "y_soft [0. 0. 0. 0. 0. 0. 0. 1. 0. 0.]\n"
     ]
    },
    {
     "data": {
      "image/png": "[encoded data removed]",
      "text/plain": [
       "<Figure size 432x288 with 1 Axes>"
      ]
     },
     "metadata": {
      "needs_background": "light"
     },
     "output_type": "display_data"
    },
    {
     "name": "stdout",
     "output_type": "stream",
     "text": [
      "sample.max() 1.0\n",
      "label [0. 0. 0. 0. 1. 0. 0. 0. 0. 0.]\n",
      "teacher.predict [[0. 0. 0. 0. 1. 0. 0. 0. 0. 0.]]\n",
      "teacher.predict_softened [[0. 0. 0. 0. 1. 0. 0. 0. 0. 0.]]\n",
      "y_soft [0. 0. 0. 0. 1. 0. 0. 0. 0. 0.]\n"
     ]
    },
    {
     "data": {
      "image/png": "[encoded data removed]",
      "text/plain": [
       "<Figure size 432x288 with 1 Axes>"
      ]
     },
     "metadata": {
      "needs_background": "light"
     },
     "output_type": "display_data"
    },
    {
     "name": "stdout",
     "output_type": "stream",
     "text": [
      "sample.max() 1.0\n",
      "label [1. 0. 0. 0. 0. 0. 0. 0. 0. 0.]\n",
      "teacher.predict [[1. 0. 0. 0. 0. 0. 0. 0. 0. 0.]]\n",
      "teacher.predict_softened [[1. 0. 0. 0. 0. 0. 0. 0. 0. 0.]]\n",
      "y_soft [1. 0. 0. 0. 0. 0. 0. 0. 0. 0.]\n"
     ]
    }
   ],
   "source": [
    "# plot and show sample\n",
    "if try_cls2 and True:\n",
    "    n_samples = 6\n",
    "    round_show = 4\n",
    "    X_show = X_train\n",
    "    n_data = X_show.shape[0]\n",
    "    indices = np.random.choice(n_data,n_samples)\n",
    "    for i in range(n_samples):\n",
    "        sample = X_show[[indices[i]]]\n",
    "        label = y_train[indices[i]]\n",
    "        plt.imshow(sample.reshape((28,28)), cmap='gray')\n",
    "        plt.show()\n",
    "        pred = teacher.predict(sample)\n",
    "        pred_t = teacher.predict_softened(sample, temperature=temperature)\n",
    "        pred_t2 = y_train_soft[indices[i]]\n",
    "        print('sample.max()',sample.max())\n",
    "        print('label',label)\n",
    "        print('teacher.predict',np.round(pred,round_show))\n",
    "        print('teacher.predict_softened',np.round(pred_t,round_show))\n",
    "        print('y_soft',np.round(pred_t2,round_show))\n",
    "        #     teacher.predict()"
   ]
  },
  {
   "cell_type": "code",
   "execution_count": null,
   "metadata": {
    "ExecuteTime": {
     "end_time": "2018-11-12T08:09:37.811571Z",
     "start_time": "2018-11-12T08:09:37.758087Z"
    }
   },
   "outputs": [],
   "source": []
  },
  {
   "cell_type": "code",
   "execution_count": 11,
   "metadata": {
    "ExecuteTime": {
     "end_time": "2018-11-13T01:57:10.800800Z",
     "start_time": "2018-11-13T01:57:10.774443Z"
    }
   },
   "outputs": [],
   "source": [
    "if try_cls2 and False:\n",
    "    student = build_small_model(input_dims, output_dims, session, soften=False)\n",
    "    student.train(\n",
    "        X=X_train\n",
    "        ,y=y_train\n",
    "        ,val_set=[X_val,y_val]\n",
    "        ,batch_size=32\n",
    "        ,n_epochs=20\n",
    "        ,display_steps=100)"
   ]
  },
  {
   "cell_type": "code",
   "execution_count": 12,
   "metadata": {
    "ExecuteTime": {
     "end_time": "2018-11-13T01:57:10.826956Z",
     "start_time": "2018-11-13T01:57:10.802906Z"
    }
   },
   "outputs": [],
   "source": [
    "if try_cls2 and False:\n",
    "    student.plt_loss()\n",
    "    student.plt_metrics()\n",
    "    test_metric = student.get_metrics(X_test, y_test)\n",
    "    print(test_metric)"
   ]
  },
  {
   "cell_type": "code",
   "execution_count": 13,
   "metadata": {
    "ExecuteTime": {
     "end_time": "2018-11-13T01:57:24.260714Z",
     "start_time": "2018-11-13T01:57:10.828815Z"
    }
   },
   "outputs": [
    {
     "name": "stdout",
     "output_type": "stream",
     "text": [
      "Epoch 1 , step 0 , loss= 2.3216314 val_loss= 2.3211682 , acc = 0.08 val acc = 0.0994 \n",
      "Epoch 101 , step 0 , loss= 2.2826393 val_loss= 2.3141975 , acc = 0.05 val acc = 0.0766 \n",
      "Epoch 201 , step 0 , loss= 2.297282 val_loss= 2.32943 , acc = 0.12 val acc = 0.096 \n",
      "Epoch 301 , step 0 , loss= 2.2893968 val_loss= 2.327245 , acc = 0.09 val acc = 0.0882 \n",
      "Epoch 401 , step 0 , loss= 2.2817345 val_loss= 2.3122213 , acc = 0.14 val acc = 0.111 \n",
      "Epoch 501 , step 0 , loss= 2.2773626 val_loss= 2.3156328 , acc = 0.13 val acc = 0.1192 \n",
      "Epoch 601 , step 0 , loss= 2.2849398 val_loss= 2.3222215 , acc = 0.13 val acc = 0.104 \n",
      "Epoch 701 , step 0 , loss= 2.2785778 val_loss= 2.3230634 , acc = 0.12 val acc = 0.1038 \n",
      "Epoch 801 , step 0 , loss= 2.280744 val_loss= 2.3257425 , acc = 0.12 val acc = 0.111 \n",
      "Epoch 901 , step 0 , loss= 2.2846398 val_loss= 2.3205469 , acc = 0.13 val acc = 0.0976 \n",
      "Epoch 1001 , step 0 , loss= 2.2891304 val_loss= 2.3221262 , acc = 0.13 val acc = 0.0956 \n",
      "Epoch 1101 , step 0 , loss= 2.2854202 val_loss= 2.3205 , acc = 0.11 val acc = 0.0744 \n",
      "Epoch 1201 , step 0 , loss= 2.286135 val_loss= 2.324231 , acc = 0.12 val acc = 0.0948 \n",
      "Epoch 1301 , step 0 , loss= 2.2769568 val_loss= 2.324444 , acc = 0.12 val acc = 0.096 \n",
      "Epoch 1401 , step 0 , loss= 2.2804148 val_loss= 2.3266652 , acc = 0.12 val acc = 0.0966 \n",
      "Epoch 1501 , step 0 , loss= 2.280731 val_loss= 2.3292785 , acc = 0.12 val acc = 0.0958 \n",
      "Epoch 1601 , step 0 , loss= 2.2804873 val_loss= 2.3252869 , acc = 0.12 val acc = 0.0958 \n",
      "Epoch 1701 , step 0 , loss= 2.2819226 val_loss= 2.323466 , acc = 0.19 val acc = 0.1448 \n",
      "Epoch 1801 , step 0 , loss= 2.2832482 val_loss= 2.3225422 , acc = 0.2 val acc = 0.139 \n",
      "Epoch 1901 , step 0 , loss= 2.2820144 val_loss= 2.3211613 , acc = 0.13 val acc = 0.1078 \n",
      "Epoch 2001 , step 0 , loss= 2.278054 val_loss= 2.3218694 , acc = 0.1 val acc = 0.104 \n",
      "Epoch 2101 , step 0 , loss= 2.279933 val_loss= 2.3243556 , acc = 0.12 val acc = 0.0998 \n",
      "Epoch 2201 , step 0 , loss= 2.2817256 val_loss= 2.3240829 , acc = 0.11 val acc = 0.1016 \n",
      "Epoch 2301 , step 0 , loss= 2.28177 val_loss= 2.3232286 , acc = 0.12 val acc = 0.095 \n",
      "Epoch 2401 , step 0 , loss= 2.2806265 val_loss= 2.3241653 , acc = 0.13 val acc = 0.0882 \n",
      "Epoch 2501 , step 0 , loss= 2.2826395 val_loss= 2.321602 , acc = 0.12 val acc = 0.096 \n",
      "Epoch 2601 , step 0 , loss= 2.2829986 val_loss= 2.3221633 , acc = 0.13 val acc = 0.0762 \n",
      "Epoch 2701 , step 0 , loss= 2.2826557 val_loss= 2.3229804 , acc = 0.13 val acc = 0.0904 \n",
      "Epoch 2801 , step 0 , loss= 2.2807233 val_loss= 2.321748 , acc = 0.12 val acc = 0.0904 \n",
      "Epoch 2901 , step 0 , loss= 2.2799826 val_loss= 2.3219762 , acc = 0.12 val acc = 0.095 \n",
      "Epoch 3001 , step 0 , loss= 2.282506 val_loss= 2.322008 , acc = 0.11 val acc = 0.0984 \n",
      "Epoch 3101 , step 0 , loss= 2.2818158 val_loss= 2.3215964 , acc = 0.1 val acc = 0.094 \n",
      "Epoch 3201 , step 0 , loss= 2.2840528 val_loss= 2.3235147 , acc = 0.08 val acc = 0.0746 \n",
      "Epoch 3301 , step 0 , loss= 2.2832563 val_loss= 2.324917 , acc = 0.08 val acc = 0.0704 \n",
      "Epoch 3401 , step 0 , loss= 2.283445 val_loss= 2.325713 , acc = 0.08 val acc = 0.072 \n",
      "Epoch 3501 , step 0 , loss= 2.2801032 val_loss= 2.3246572 , acc = 0.1 val acc = 0.0762 \n",
      "Epoch 3601 , step 0 , loss= 2.2802706 val_loss= 2.3231213 , acc = 0.13 val acc = 0.093 \n",
      "Epoch 3701 , step 0 , loss= 2.2822337 val_loss= 2.3225675 , acc = 0.12 val acc = 0.0966 \n",
      "Epoch 3801 , step 0 , loss= 2.281101 val_loss= 2.3228917 , acc = 0.12 val acc = 0.0898 \n",
      "Epoch 3901 , step 0 , loss= 2.2818635 val_loss= 2.322074 , acc = 0.12 val acc = 0.0962 \n",
      "Epoch 4001 , step 0 , loss= 2.2816544 val_loss= 2.3211658 , acc = 0.12 val acc = 0.0968 \n",
      "Epoch 4101 , step 0 , loss= 2.2803495 val_loss= 2.321426 , acc = 0.12 val acc = 0.0966 \n",
      "Epoch 4201 , step 0 , loss= 2.2816057 val_loss= 2.3203695 , acc = 0.12 val acc = 0.091 \n",
      "Epoch 4301 , step 0 , loss= 2.2822192 val_loss= 2.3209202 , acc = 0.12 val acc = 0.0962 \n",
      "Epoch 4401 , step 0 , loss= 2.280975 val_loss= 2.3192039 , acc = 0.12 val acc = 0.0974 \n",
      "Epoch 4501 , step 0 , loss= 2.2830465 val_loss= 2.3184192 , acc = 0.12 val acc = 0.0972 \n",
      "Epoch 4601 , step 0 , loss= 2.2814262 val_loss= 2.3197167 , acc = 0.12 val acc = 0.0962 \n",
      "Epoch 4701 , step 0 , loss= 2.2802453 val_loss= 2.3214939 , acc = 0.07 val acc = 0.073 \n",
      "Epoch 4801 , step 0 , loss= 2.2822468 val_loss= 2.3224218 , acc = 0.07 val acc = 0.0768 \n",
      "Epoch 4901 , step 0 , loss= 2.2816687 val_loss= 2.3229496 , acc = 0.1 val acc = 0.0886 \n",
      "Epoch 5000 , step 0 , loss= 2.2832334 val_loss= 2.320744 , acc = 0.12 val acc = 0.0956 \n"
     ]
    }
   ],
   "source": [
    "if try_cls2:\n",
    "    X_train = X_train[:100]\n",
    "    y_train = y_train[:100]\n",
    "    y_train_soft = y_train_soft[:100]\n",
    "    student = build_small_model(input_dims, output_dims, session, soften=True)\n",
    "    student.soft_train(\n",
    "        X=X_train\n",
    "        ,y=y_train\n",
    "        ,y_soft=y_train_soft\n",
    "        ,temperature=temperature\n",
    "        ,coef_softloss=1\n",
    "        ,val_set=[X_val,y_val,y_val_soft]\n",
    "        ,batch_size=None\n",
    "        ,n_epochs=5000\n",
    "        ,display_steps=100)\n",
    "    # try original student\n",
    "#     student = build_small_model(input_dims, output_dims, session, soften=False)\n",
    "#     student.train(\n",
    "#         X=X_train\n",
    "#         ,y=y_train_soft\n",
    "#         ,val_set=[X_val,y_val]\n",
    "#         ,batch_size=32\n",
    "#         ,n_epochs=2000\n",
    "#         ,display_steps=100)"
   ]
  },
  {
   "cell_type": "code",
   "execution_count": 14,
   "metadata": {
    "ExecuteTime": {
     "end_time": "2018-11-13T01:57:24.581564Z",
     "start_time": "2018-11-13T01:57:24.262331Z"
    }
   },
   "outputs": [
    {
     "name": "stdout",
     "output_type": "stream",
     "text": [
      "Plotting loss...\n"
     ]
    },
    {
     "data": {
      "image/png": "[encoded data removed]",
      "text/plain": [
       "<Figure size 432x288 with 1 Axes>"
      ]
     },
     "metadata": {
      "needs_background": "light"
     },
     "output_type": "display_data"
    },
    {
     "name": "stdout",
     "output_type": "stream",
     "text": [
      "Plotting metrics...\n"
     ]
    },
    {
     "data": {
      "image/png": "[encoded data removed]",
      "text/plain": [
       "<Figure size 432x288 with 1 Axes>"
      ]
     },
     "metadata": {
      "needs_background": "light"
     },
     "output_type": "display_data"
    },
    {
     "name": "stdout",
     "output_type": "stream",
     "text": [
      "{'acc': 0.0983}\n"
     ]
    }
   ],
   "source": [
    "if try_cls2:\n",
    "    student.plt_loss()\n",
    "    student.plt_metrics()\n",
    "    test_metric = student.get_metrics(X_test, y_test)\n",
    "    print(test_metric)"
   ]
  },
  {
   "cell_type": "code",
   "execution_count": 15,
   "metadata": {
    "ExecuteTime": {
     "end_time": "2018-11-13T01:57:25.216306Z",
     "start_time": "2018-11-13T01:57:24.583268Z"
    }
   },
   "outputs": [
    {
     "data": {
      "image/png": "[encoded data removed]",
      "text/plain": [
       "<Figure size 432x288 with 1 Axes>"
      ]
     },
     "metadata": {
      "needs_background": "light"
     },
     "output_type": "display_data"
    },
    {
     "name": "stdout",
     "output_type": "stream",
     "text": [
      "[0. 1. 0. 0. 0. 0. 0. 0. 0. 0.]\n",
      "[[0.1219 0.1099 0.0559 0.1134 0.1113 0.0821 0.1205 0.0993 0.1048 0.0809]]\n",
      "[[0.1219 0.1099 0.0559 0.1134 0.1113 0.0821 0.1205 0.0993 0.1048 0.0809]]\n"
     ]
    },
    {
     "data": {
      "image/png": "[encoded data removed]",
      "text/plain": [
       "<Figure size 432x288 with 1 Axes>"
      ]
     },
     "metadata": {
      "needs_background": "light"
     },
     "output_type": "display_data"
    },
    {
     "name": "stdout",
     "output_type": "stream",
     "text": [
      "[0. 0. 0. 1. 0. 0. 0. 0. 0. 0.]\n",
      "[[0.1213 0.11   0.0566 0.1136 0.1099 0.0828 0.1203 0.0993 0.1053 0.081 ]]\n",
      "[[0.1213 0.11   0.0566 0.1136 0.1099 0.0828 0.1203 0.0993 0.1053 0.081 ]]\n"
     ]
    },
    {
     "data": {
      "image/png": "[encoded data removed]",
      "text/plain": [
       "<Figure size 432x288 with 1 Axes>"
      ]
     },
     "metadata": {
      "needs_background": "light"
     },
     "output_type": "display_data"
    },
    {
     "name": "stdout",
     "output_type": "stream",
     "text": [
      "[0. 0. 0. 0. 0. 1. 0. 0. 0. 0.]\n",
      "[[0.1219 0.1099 0.0559 0.1133 0.1114 0.0821 0.1205 0.0993 0.1047 0.0809]]\n",
      "[[0.1219 0.1099 0.0559 0.1133 0.1114 0.0821 0.1205 0.0993 0.1047 0.0809]]\n"
     ]
    },
    {
     "data": {
      "image/png": "[encoded data removed]",
      "text/plain": [
       "<Figure size 432x288 with 1 Axes>"
      ]
     },
     "metadata": {
      "needs_background": "light"
     },
     "output_type": "display_data"
    },
    {
     "name": "stdout",
     "output_type": "stream",
     "text": [
      "[0. 0. 0. 0. 0. 0. 0. 0. 0. 1.]\n",
      "[[0.1219 0.1099 0.056  0.1134 0.1112 0.0821 0.1205 0.0993 0.1048 0.0809]]\n",
      "[[0.1219 0.1099 0.056  0.1134 0.1112 0.0821 0.1205 0.0993 0.1048 0.0809]]\n"
     ]
    },
    {
     "data": {
      "image/png": "[encoded data removed]",
      "text/plain": [
       "<Figure size 432x288 with 1 Axes>"
      ]
     },
     "metadata": {
      "needs_background": "light"
     },
     "output_type": "display_data"
    },
    {
     "name": "stdout",
     "output_type": "stream",
     "text": [
      "[0. 0. 0. 0. 0. 1. 0. 0. 0. 0.]\n",
      "[[0.1214 0.1099 0.0565 0.1136 0.1102 0.0826 0.1203 0.0993 0.1052 0.081 ]]\n",
      "[[0.1214 0.1099 0.0565 0.1136 0.1102 0.0826 0.1203 0.0993 0.1052 0.081 ]]\n"
     ]
    },
    {
     "data": {
      "image/png": "[encoded data removed]",
      "text/plain": [
       "<Figure size 432x288 with 1 Axes>"
      ]
     },
     "metadata": {
      "needs_background": "light"
     },
     "output_type": "display_data"
    },
    {
     "name": "stdout",
     "output_type": "stream",
     "text": [
      "[1. 0. 0. 0. 0. 0. 0. 0. 0. 0.]\n",
      "[[0.1211 0.11   0.0569 0.1137 0.1095 0.083  0.1202 0.0992 0.1054 0.081 ]]\n",
      "[[0.1211 0.11   0.0569 0.1137 0.1095 0.083  0.1202 0.0992 0.1054 0.081 ]]\n"
     ]
    }
   ],
   "source": [
    "# plot and show sample\n",
    "if try_cls2 and True:\n",
    "    n_samples = 6\n",
    "    round_show = 4\n",
    "    n_data = X_test.shape[0]\n",
    "    indices = np.random.choice(n_data,n_samples)\n",
    "    for i in range(n_samples):\n",
    "        sample = X_test[[indices[i]]]\n",
    "        label = y_test[indices[i]]\n",
    "        plt.imshow(sample.reshape((28,28)), cmap='gray')\n",
    "        plt.show()\n",
    "        pred = student.predict(sample)\n",
    "        pred_t = student.predict_softened(sample, temperature=temperature)\n",
    "        print(label)\n",
    "        print(np.round(pred,round_show))\n",
    "        print(np.round(pred_t,round_show))\n",
    "#         print(np.round(pred_t2,round_show))\n",
    "        #     student.predict()"
   ]
  },
  {
   "cell_type": "code",
   "execution_count": 16,
   "metadata": {
    "ExecuteTime": {
     "end_time": "2018-11-13T01:57:25.243279Z",
     "start_time": "2018-11-13T01:57:25.218008Z"
    }
   },
   "outputs": [],
   "source": [
    "# close_session(session)"
   ]
  },
  {
   "cell_type": "code",
   "execution_count": null,
   "metadata": {},
   "outputs": [],
   "source": []
  }
 ],
 "metadata": {
  "kernelspec": {
   "display_name": "Python [conda env:tu36]",
   "language": "python",
   "name": "conda-env-tu36-py"
  },
  "language_info": {
   "codemirror_mode": {
    "name": "ipython",
    "version": 3
   },
   "file_extension": ".py",
   "mimetype": "text/x-python",
   "name": "python",
   "nbconvert_exporter": "python",
   "pygments_lexer": "ipython3",
   "version": "3.6.6"
  },
  "widgets": {
   "state": {},
   "version": "1.1.2"
  }
 },
 "nbformat": 4,
 "nbformat_minor": 2
}
