{
 "cells": [
  {
   "cell_type": "code",
   "execution_count": 1,
   "metadata": {
    "ExecuteTime": {
     "end_time": "2018-11-11T13:39:43.256177Z",
     "start_time": "2018-11-11T13:39:43.230046Z"
    }
   },
   "outputs": [],
   "source": [
    "# to auto reload the modified module\n",
    "% load_ext autoreload\n",
    "% autoreload 2"
   ]
  },
  {
   "cell_type": "code",
   "execution_count": 8,
   "metadata": {
    "ExecuteTime": {
     "end_time": "2018-11-11T13:40:16.793016Z",
     "start_time": "2018-11-11T13:40:16.773174Z"
    }
   },
   "outputs": [],
   "source": [
    "import tensorflow as tf\n",
    "import numpy as np\n",
    "import random\n",
    "import os\n",
    "from nn_kd import TeacherNN\n",
    "from layers import FC, Dropout\n",
    "from utils import *\n",
    "from sklearn.model_selection import train_test_split\n",
    "import matplotlib.pyplot as plt"
   ]
  },
  {
   "cell_type": "code",
   "execution_count": 3,
   "metadata": {
    "ExecuteTime": {
     "end_time": "2018-11-11T13:39:44.578076Z",
     "start_time": "2018-11-11T13:39:44.566427Z"
    }
   },
   "outputs": [],
   "source": [
    "def check_obj(obj_str):\n",
    "    obj = eval(obj_str)\n",
    "    obj_type = type(obj)\n",
    "    print(obj_str\n",
    "        , obj_type\n",
    "        , end = ' '\n",
    "        )\n",
    "    if obj_type == np.ndarray:\n",
    "        print(obj.shape)\n",
    "    else:\n",
    "        try:\n",
    "            iterator = iter(obj)\n",
    "        except TypeError:\n",
    "            # not iterable\n",
    "            print(obj)\n",
    "        else:\n",
    "            # iterable\n",
    "            print(len(obj))"
   ]
  },
  {
   "cell_type": "code",
   "execution_count": 4,
   "metadata": {
    "ExecuteTime": {
     "end_time": "2018-11-11T13:39:45.548520Z",
     "start_time": "2018-11-11T13:39:45.421681Z"
    }
   },
   "outputs": [],
   "source": [
    "# session settings\n",
    "session = create_session(gpu_id='0')\n",
    "# seed settings\n",
    "set_rand_seed(0)"
   ]
  },
  {
   "cell_type": "code",
   "execution_count": null,
   "metadata": {
    "ExecuteTime": {
     "end_time": "2018-11-11T12:53:23.458724Z",
     "start_time": "2018-11-11T12:53:14.204575Z"
    }
   },
   "outputs": [],
   "source": [
    "try_reg2 = True\n",
    "if try_reg2:\n",
    "#         X_data = np.random.random((6000))[:, np.newaxis]*100\n",
    "#         noise = np.random.normal(0, 0.05, X_data.shape).astype(np.float32)*0\n",
    "#         y_data = X_data*2 + 1 + noise\n",
    "    X_data = np.linspace(-10,10,5000, dtype=np.float32)[:, np.newaxis]\n",
    "    np.random.shuffle(X_data)\n",
    "    noise = np.random.normal(0, 10, X_data.shape).astype(np.float32)\n",
    "    y_data = np.square(X_data) - 0.5 + noise\n",
    "    print('X_data',X_data.shape,'\\n',X_data[:5])\n",
    "    print('y_data',y_data.shape,'\\n',y_data[:5])\n",
    "    \n",
    "    X_train, X_test, y_train, y_test = train_test_split(X_data, y_data, test_size=0.2)\n",
    "    X_train, X_val, y_train, y_val = train_test_split(X_train, y_train, test_size=0.25)\n",
    "    \n",
    "    input_dims = X_train.shape[1]\n",
    "    col_0 = TeacherNN(\n",
    "        input_dims=input_dims\n",
    "        , output_dims=1\n",
    "        , session=session\n",
    "        , dtype_X=tf.float32, dtype_y=tf.float32\n",
    "    )\n",
    "    col_0.add_layer(\n",
    "        FC(inputs=col_0.h[-1],out_dims=256,activation_fn=tf.nn.relu)\n",
    "    )\n",
    "    col_0.add_layer(\n",
    "        FC(inputs=col_0.h[-1],out_dims=1,activation_fn=None)\n",
    "    )\n",
    "    col_0.compile_nn(\n",
    "#         loss=tf.reduce_mean(tf.reduce_sum(tf.square(col_0.ys - col_0.prediction),reduction_indices=[1]))\n",
    "        loss=tf.losses.mean_squared_error(col_0.ys,col_0.prediction)\n",
    "        ,opt=tf.train.AdamOptimizer(learning_rate=1e-3)\n",
    "#         ,opt=tf.train.GradientDescentOptimizer(learning_rate=1e-1)\n",
    "#         ,mectrics=[]\n",
    "    )\n",
    "    col_0.train(\n",
    "        X=X_train\n",
    "        , y=y_train\n",
    "#         , val_set=[X_val,y_val]\n",
    "        , batch_size=32\n",
    "        , n_epochs=200\n",
    "        , display_steps=100\n",
    "    )"
   ]
  },
  {
   "cell_type": "code",
   "execution_count": null,
   "metadata": {
    "ExecuteTime": {
     "end_time": "2018-11-11T12:53:29.063120Z",
     "start_time": "2018-11-11T12:53:28.964398Z"
    }
   },
   "outputs": [],
   "source": [
    "if try_reg2:\n",
    "    col_0.plt_loss()\n",
    "    col_0.plt_metrics()\n",
    "    test_metric = col_0.get_metrics(X_test, y_test)\n",
    "    print(test_metric)"
   ]
  },
  {
   "cell_type": "code",
   "execution_count": 5,
   "metadata": {
    "ExecuteTime": {
     "end_time": "2018-11-11T13:39:55.784563Z",
     "start_time": "2018-11-11T13:39:48.743787Z"
    }
   },
   "outputs": [
    {
     "name": "stdout",
     "output_type": "stream",
     "text": [
      "Extracting /tmp/data/train-images-idx3-ubyte.gz\n",
      "Extracting /tmp/data/train-labels-idx1-ubyte.gz\n",
      "Extracting /tmp/data/t10k-images-idx3-ubyte.gz\n",
      "Extracting /tmp/data/t10k-labels-idx1-ubyte.gz\n",
      "X_train <class 'numpy.ndarray'> (55000, 784)\n",
      "y_train <class 'numpy.ndarray'> (55000, 10)\n",
      "input_dims <class 'int'> 784\n",
      "output_dims <class 'int'> 10\n",
      "Epoch 1 , step 0 , loss= 1.7756177 val_loss= 2.1809766 , acc = 0.484375 val acc = 0.207 \n",
      "Epoch 1 , step 100 , loss= 0.26192498 val_loss= 0.24738692 , acc = 0.875 val acc = 0.9292 \n",
      "Epoch 1 , step 200 , loss= 0.14382651 val_loss= 0.18208796 , acc = 0.953125 val acc = 0.9478 \n",
      "Epoch 1 , step 300 , loss= 0.13600037 val_loss= 0.19546863 , acc = 0.984375 val acc = 0.9422 \n",
      "Epoch 1 , step 400 , loss= 0.15947714 val_loss= 0.14965707 , acc = 0.953125 val acc = 0.9568 \n",
      "Epoch 1 , step 500 , loss= 0.06713743 val_loss= 0.12177727 , acc = 0.96875 val acc = 0.9646 \n",
      "Epoch 1 , step 600 , loss= 0.06023174 val_loss= 0.13682628 , acc = 1.0 val acc = 0.9612 \n",
      "Epoch 1 , step 700 , loss= 0.04551112 val_loss= 0.12032411 , acc = 1.0 val acc = 0.9636 \n",
      "Epoch 1 , step 800 , loss= 0.06727429 val_loss= 0.109844424 , acc = 0.984375 val acc = 0.9666 \n",
      "Epoch 2 , step 41 , loss= 0.02282084 val_loss= 0.092759825 , acc = 1.0 val acc = 0.9718 \n",
      "Epoch 2 , step 141 , loss= 0.1273678 val_loss= 0.09685843 , acc = 0.96875 val acc = 0.9728 \n",
      "Epoch 2 , step 241 , loss= 0.15578273 val_loss= 0.10488303 , acc = 0.96875 val acc = 0.9708 \n",
      "Epoch 2 , step 341 , loss= 0.090951145 val_loss= 0.10570349 , acc = 0.953125 val acc = 0.9682 \n",
      "Epoch 2 , step 441 , loss= 0.0812486 val_loss= 0.08480775 , acc = 0.984375 val acc = 0.9744 \n",
      "Epoch 2 , step 541 , loss= 0.024107555 val_loss= 0.09033063 , acc = 0.984375 val acc = 0.973 \n",
      "Epoch 2 , step 641 , loss= 0.020553812 val_loss= 0.100161955 , acc = 1.0 val acc = 0.9688 \n",
      "Epoch 2 , step 741 , loss= 0.02882133 val_loss= 0.10009788 , acc = 0.984375 val acc = 0.9712 \n",
      "Epoch 2 , step 841 , loss= 0.041079227 val_loss= 0.091928616 , acc = 1.0 val acc = 0.9732 \n",
      "Epoch 3 , step 82 , loss= 0.059502993 val_loss= 0.0790121 , acc = 0.96875 val acc = 0.9772 \n",
      "Epoch 3 , step 182 , loss= 0.026013637 val_loss= 0.08376963 , acc = 1.0 val acc = 0.9748 \n",
      "Epoch 3 , step 282 , loss= 0.092009485 val_loss= 0.08455933 , acc = 0.96875 val acc = 0.977 \n",
      "Epoch 3 , step 382 , loss= 0.029974205 val_loss= 0.07914887 , acc = 0.984375 val acc = 0.9774 \n",
      "Epoch 3 , step 482 , loss= 0.046931177 val_loss= 0.094136745 , acc = 0.984375 val acc = 0.9764 \n",
      "Epoch 3 , step 582 , loss= 0.010012263 val_loss= 0.1036246 , acc = 1.0 val acc = 0.9732 \n",
      "Epoch 3 , step 682 , loss= 0.027537763 val_loss= 0.08424692 , acc = 0.984375 val acc = 0.9752 \n",
      "Epoch 3 , step 782 , loss= 0.032291826 val_loss= 0.08203188 , acc = 1.0 val acc = 0.9758 \n",
      "Epoch 4 , step 23 , loss= 0.054978143 val_loss= 0.08179707 , acc = 0.984375 val acc = 0.98 \n",
      "Epoch 4 , step 123 , loss= 0.080087714 val_loss= 0.092980705 , acc = 0.984375 val acc = 0.9742 \n",
      "Epoch 4 , step 223 , loss= 0.004723878 val_loss= 0.074346446 , acc = 1.0 val acc = 0.9804 \n",
      "Epoch 4 , step 323 , loss= 0.0070469277 val_loss= 0.08037676 , acc = 1.0 val acc = 0.9794 \n",
      "Epoch 4 , step 423 , loss= 0.038440887 val_loss= 0.07967508 , acc = 0.984375 val acc = 0.9766 \n",
      "Epoch 4 , step 523 , loss= 0.00882446 val_loss= 0.085691735 , acc = 1.0 val acc = 0.9752 \n",
      "Epoch 4 , step 623 , loss= 0.0056815604 val_loss= 0.08096731 , acc = 1.0 val acc = 0.9782 \n",
      "Epoch 4 , step 723 , loss= 0.014429235 val_loss= 0.08034793 , acc = 1.0 val acc = 0.9748 \n",
      "Epoch 4 , step 823 , loss= 0.026706072 val_loss= 0.076574 , acc = 1.0 val acc = 0.977 \n",
      "Epoch 5 , step 64 , loss= 0.012365675 val_loss= 0.08637701 , acc = 1.0 val acc = 0.9756 \n",
      "Epoch 5 , step 164 , loss= 0.003246097 val_loss= 0.07265908 , acc = 1.0 val acc = 0.9794 \n",
      "Epoch 5 , step 264 , loss= 0.0019001359 val_loss= 0.06796349 , acc = 1.0 val acc = 0.98 \n",
      "Epoch 5 , step 364 , loss= 0.03639937 val_loss= 0.07343426 , acc = 0.984375 val acc = 0.98 \n",
      "Epoch 5 , step 464 , loss= 0.010168914 val_loss= 0.07965906 , acc = 1.0 val acc = 0.9776 \n",
      "Epoch 5 , step 564 , loss= 0.0051146555 val_loss= 0.07335406 , acc = 1.0 val acc = 0.979 \n",
      "Epoch 5 , step 664 , loss= 0.14162345 val_loss= 0.0832226 , acc = 0.96875 val acc = 0.979 \n",
      "Epoch 5 , step 764 , loss= 0.0019686338 val_loss= 0.07491949 , acc = 1.0 val acc = 0.9788 \n",
      "Epoch 5 , step 858 , loss= 0.013094279 val_loss= 0.07809842 , acc = 1.0 val acc = 0.9792 \n"
     ]
    }
   ],
   "source": [
    "try_cls2 = True\n",
    "if try_cls2:\n",
    "    from tensorflow.examples.tutorials.mnist import input_data\n",
    "\n",
    "    mnist = input_data.read_data_sets(\"/tmp/data/\", one_hot=True)\n",
    "    X_train = mnist.train.images#.astype(np.float64)\n",
    "    y_train = mnist.train.labels#.astype(np.float64)\n",
    "    X_val = mnist.validation.images\n",
    "    y_val = mnist.validation.labels\n",
    "    X_test = mnist.test.images\n",
    "    y_test = mnist.test.labels\n",
    "    check_obj('X_train')\n",
    "    check_obj('y_train')\n",
    "    input_dims = X_train.shape[1]\n",
    "    output_dims = y_train.shape[1]\n",
    "    check_obj('input_dims')\n",
    "    check_obj('output_dims')\n",
    "    col_cls_0 = TeacherNN(\n",
    "        input_dims=input_dims\n",
    "        , output_dims=output_dims\n",
    "        , session=session\n",
    "        , dtype_X=tf.float32\n",
    "        , dtype_y=tf.float32)\n",
    "#     col_cls_0.add_fc(512,activation_fn=tf.nn.relu)\n",
    "#     col_cls_0.add_fc(256,activation_fn=tf.nn.relu)\n",
    "#     col_cls_0.add_fc(128,activation_fn=tf.nn.relu)\n",
    "#     col_cls_0.add_fc(output_dims,activation_fn=tf.nn.softmax)\n",
    "    \n",
    "    col_cls_0.add_layer(\n",
    "        FC(inputs=col_cls_0.h[-1],out_dims=512,activation_fn=tf.nn.relu))\n",
    "    col_cls_0.add_layer(\n",
    "        FC(inputs=col_cls_0.h[-1],out_dims=256,activation_fn=tf.nn.relu))\n",
    "    col_cls_0.add_layer(\n",
    "        FC(inputs=col_cls_0.h[-1],out_dims=128,activation_fn=tf.nn.relu))\n",
    "    col_cls_0.add_layer(\n",
    "        FC(inputs=col_cls_0.h[-1],out_dims=output_dims,activation_fn=tf.nn.softmax))\n",
    "    \n",
    "    col_cls_0.compile_nn(\n",
    "        loss=tf.losses.softmax_cross_entropy(col_cls_0.ys,col_cls_0.logits)\n",
    "        , opt=tf.train.AdamOptimizer(learning_rate=1e-3)\n",
    "        , metrics = ['acc'])\n",
    "    col_cls_0.train(\n",
    "        X=X_train\n",
    "        ,y=y_train\n",
    "        ,val_set=[X_val,y_val]\n",
    "        ,batch_size=64\n",
    "        ,n_epochs=5\n",
    "        ,display_steps=100)"
   ]
  },
  {
   "cell_type": "code",
   "execution_count": 6,
   "metadata": {
    "ExecuteTime": {
     "end_time": "2018-11-11T13:39:57.809414Z",
     "start_time": "2018-11-11T13:39:57.621452Z"
    }
   },
   "outputs": [
    {
     "name": "stdout",
     "output_type": "stream",
     "text": [
      "Plotting loss...\n"
     ]
    },
    {
     "data": {
      "image/png": "[encoded data removed]",
      "text/plain": [
       "<Figure size 432x288 with 1 Axes>"
      ]
     },
     "metadata": {
      "needs_background": "light"
     },
     "output_type": "display_data"
    },
    {
     "name": "stdout",
     "output_type": "stream",
     "text": [
      "Plotting metrics...\n"
     ]
    },
    {
     "data": {
      "image/png": "[encoded data removed]",
      "text/plain": [
       "<Figure size 432x288 with 1 Axes>"
      ]
     },
     "metadata": {
      "needs_background": "light"
     },
     "output_type": "display_data"
    },
    {
     "name": "stdout",
     "output_type": "stream",
     "text": [
      "{'acc': 0.9775}\n"
     ]
    }
   ],
   "source": [
    "if try_cls2:\n",
    "    col_cls_0.plt_loss()\n",
    "    col_cls_0.plt_metrics()\n",
    "    test_metric = col_cls_0.get_metrics(X_test, y_test)\n",
    "    print(test_metric)"
   ]
  },
  {
   "cell_type": "code",
   "execution_count": 30,
   "metadata": {
    "ExecuteTime": {
     "end_time": "2018-11-11T14:04:53.321580Z",
     "start_time": "2018-11-11T14:04:52.812722Z"
    }
   },
   "outputs": [
    {
     "data": {
      "image/png": "[encoded data removed]",
      "text/plain": [
       "<Figure size 432x288 with 1 Axes>"
      ]
     },
     "metadata": {
      "needs_background": "light"
     },
     "output_type": "display_data"
    },
    {
     "name": "stdout",
     "output_type": "stream",
     "text": [
      "[[0.00e+00 0.00e+00 1.00e-04 1.00e-04 1.06e-02 0.00e+00 0.00e+00 1.00e-04\n",
      "  1.00e-04 9.89e-01]]\n",
      "[[0.0611 0.0761 0.0871 0.0942 0.1482 0.0687 0.0468 0.0895 0.0951 0.2332]]\n"
     ]
    },
    {
     "data": {
      "image/png": "[encoded data removed]",
      "text/plain": [
       "<Figure size 432x288 with 1 Axes>"
      ]
     },
     "metadata": {
      "needs_background": "light"
     },
     "output_type": "display_data"
    },
    {
     "name": "stdout",
     "output_type": "stream",
     "text": [
      "[[0.     0.     0.     0.     0.0028 0.     0.     0.     0.     0.9972]]\n",
      "[[0.0567 0.0465 0.0888 0.0763 0.1741 0.0622 0.0399 0.078  0.0643 0.3132]]\n"
     ]
    },
    {
     "data": {
      "image/png": "[encoded data removed]",
      "text/plain": [
       "<Figure size 432x288 with 1 Axes>"
      ]
     },
     "metadata": {
      "needs_background": "light"
     },
     "output_type": "display_data"
    },
    {
     "name": "stdout",
     "output_type": "stream",
     "text": [
      "[[0. 0. 1. 0. 0. 0. 0. 0. 0. 0.]]\n",
      "[[0.0646 0.0617 0.445  0.0915 0.077  0.0481 0.0555 0.0559 0.0597 0.0411]]\n"
     ]
    },
    {
     "data": {
      "image/png": "[encoded data removed]",
      "text/plain": [
       "<Figure size 432x288 with 1 Axes>"
      ]
     },
     "metadata": {
      "needs_background": "light"
     },
     "output_type": "display_data"
    },
    {
     "name": "stdout",
     "output_type": "stream",
     "text": [
      "[[0. 0. 0. 0. 0. 0. 1. 0. 0. 0.]]\n",
      "[[0.0958 0.053  0.048  0.0555 0.0672 0.1161 0.3935 0.0325 0.0824 0.056 ]]\n"
     ]
    },
    {
     "data": {
      "image/png": "[encoded data removed]",
      "text/plain": [
       "<Figure size 432x288 with 1 Axes>"
      ]
     },
     "metadata": {
      "needs_background": "light"
     },
     "output_type": "display_data"
    },
    {
     "name": "stdout",
     "output_type": "stream",
     "text": [
      "[[0.     0.     0.9952 0.     0.0048 0.     0.     0.     0.     0.    ]]\n",
      "[[0.0829 0.0794 0.282  0.0936 0.1653 0.0531 0.066  0.0752 0.0426 0.06  ]]\n"
     ]
    },
    {
     "data": {
      "image/png": "[encoded data removed]",
      "text/plain": [
       "<Figure size 432x288 with 1 Axes>"
      ]
     },
     "metadata": {
      "needs_background": "light"
     },
     "output_type": "display_data"
    },
    {
     "name": "stdout",
     "output_type": "stream",
     "text": [
      "[[0. 0. 1. 0. 0. 0. 0. 0. 0. 0.]]\n",
      "[[0.063  0.07   0.4647 0.1014 0.0593 0.0415 0.0496 0.0612 0.0618 0.0274]]\n"
     ]
    }
   ],
   "source": [
    "if try_cls2:\n",
    "    n_samples = 6\n",
    "    temperature = 10\n",
    "    n_data = X_test.shape[0]\n",
    "    indices = np.random.choice(n_data,n_samples)\n",
    "    for i in range(n_samples):\n",
    "        sample = X_test[[indices[i]]]\n",
    "        plt.imshow(sample.reshape((28,28)), cmap='gray')\n",
    "        plt.show()\n",
    "        pred = col_cls_0.predict(sample)\n",
    "        pred_t = col_cls_0.predict_with_t(sample, temperature=temperature)\n",
    "        print(np.round(pred,4))\n",
    "        print(np.round(pred_t,4))\n",
    "        #     col_cls_0.predict()"
   ]
  },
  {
   "cell_type": "code",
   "execution_count": null,
   "metadata": {
    "ExecuteTime": {
     "end_time": "2018-11-11T13:20:17.671039Z",
     "start_time": "2018-11-11T13:20:17.656922Z"
    }
   },
   "outputs": [],
   "source": [
    "close_session(session)"
   ]
  },
  {
   "cell_type": "code",
   "execution_count": null,
   "metadata": {},
   "outputs": [],
   "source": []
  }
 ],
 "metadata": {
  "kernelspec": {
   "display_name": "Python [conda env:tu36]",
   "language": "python",
   "name": "conda-env-tu36-py"
  },
  "language_info": {
   "codemirror_mode": {
    "name": "ipython",
    "version": 3
   },
   "file_extension": ".py",
   "mimetype": "text/x-python",
   "name": "python",
   "nbconvert_exporter": "python",
   "pygments_lexer": "ipython3",
   "version": "3.6.6"
  },
  "widgets": {
   "state": {},
   "version": "1.1.2"
  }
 },
 "nbformat": 4,
 "nbformat_minor": 2
}
