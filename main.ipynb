{
 "cells": [
  {
   "cell_type": "code",
   "execution_count": 1,
   "metadata": {
    "ExecuteTime": {
     "end_time": "2018-11-11T05:30:35.712751Z",
     "start_time": "2018-11-11T05:30:35.699636Z"
    }
   },
   "outputs": [],
   "source": [
    "# to auto reload the modified module\n",
    "% load_ext autoreload\n",
    "% autoreload 2"
   ]
  },
  {
   "cell_type": "code",
   "execution_count": 2,
   "metadata": {
    "ExecuteTime": {
     "end_time": "2018-11-11T05:30:37.123700Z",
     "start_time": "2018-11-11T05:30:35.977333Z"
    }
   },
   "outputs": [
    {
     "name": "stderr",
     "output_type": "stream",
     "text": [
      "/home/deep3072/anaconda2/envs/tu36/lib/python3.6/importlib/_bootstrap.py:219: RuntimeWarning: compiletime version 3.5 of module 'tensorflow.python.framework.fast_tensor_util' does not match runtime version 3.6\n",
      "  return f(*args, **kwds)\n"
     ]
    }
   ],
   "source": [
    "import tensorflow as tf\n",
    "import numpy as np\n",
    "import random\n",
    "import os\n",
    "from NNs import BasicNN\n",
    "from utils import *"
   ]
  },
  {
   "cell_type": "code",
   "execution_count": 3,
   "metadata": {
    "ExecuteTime": {
     "end_time": "2018-11-11T05:30:37.141286Z",
     "start_time": "2018-11-11T05:30:37.125100Z"
    }
   },
   "outputs": [],
   "source": [
    "def check_obj(obj_str):\n",
    "    obj = eval(obj_str)\n",
    "    obj_type = type(obj)\n",
    "    print(obj_str\n",
    "        , obj_type\n",
    "        , end = ' '\n",
    "        )\n",
    "    if obj_type == np.ndarray:\n",
    "        print(obj.shape)\n",
    "    else:\n",
    "        try:\n",
    "            iterator = iter(obj)\n",
    "        except TypeError:\n",
    "            # not iterable\n",
    "            print(obj)\n",
    "        else:\n",
    "            # iterable\n",
    "            print(len(obj))"
   ]
  },
  {
   "cell_type": "code",
   "execution_count": 4,
   "metadata": {
    "ExecuteTime": {
     "end_time": "2018-11-11T05:30:37.292957Z",
     "start_time": "2018-11-11T05:30:37.143016Z"
    }
   },
   "outputs": [],
   "source": [
    "# session settings\n",
    "session = create_session(gpu_id='1')\n",
    "# seed settings\n",
    "set_rand_seed(0)"
   ]
  },
  {
   "cell_type": "code",
   "execution_count": 5,
   "metadata": {
    "ExecuteTime": {
     "end_time": "2018-11-11T05:30:44.664256Z",
     "start_time": "2018-11-11T05:30:37.294923Z"
    }
   },
   "outputs": [
    {
     "name": "stdout",
     "output_type": "stream",
     "text": [
      "X_data (300, 1) \n",
      " [[ 0.39130434]\n",
      " [ 0.2575251 ]\n",
      " [-0.91973245]\n",
      " [ 0.47826087]\n",
      " [ 0.5986622 ]]\n",
      "y_data (300, 1) \n",
      " [[-0.29054913]\n",
      " [-0.4876774 ]\n",
      " [ 0.28853437]\n",
      " [-0.29315752]\n",
      " [-0.16650519]]\n",
      "Layer 1 : FC, input shape = [None, 1] , out_size = 10\n",
      "Layer 2 : FC, input shape = [None, 10] , out_size = 1\n",
      "Epoch 1 , step 0 , loss= 0.16649368 \n",
      "Epoch 6 , step 5 , loss= 0.09910223 \n",
      "Epoch 12 , step 1 , loss= 0.09833762 \n",
      "Epoch 17 , step 6 , loss= 0.082543254 \n",
      "Epoch 23 , step 2 , loss= 0.09178974 \n",
      "Epoch 28 , step 7 , loss= 0.050532497 \n",
      "Epoch 34 , step 3 , loss= 0.05521805 \n",
      "Epoch 39 , step 8 , loss= 0.05884784 \n",
      "Epoch 45 , step 4 , loss= 0.06629663 \n",
      "Epoch 51 , step 0 , loss= 0.048805617 \n",
      "Epoch 56 , step 5 , loss= 0.0283386 \n",
      "Epoch 62 , step 1 , loss= 0.026773432 \n",
      "Epoch 67 , step 6 , loss= 0.035482354 \n",
      "Epoch 73 , step 2 , loss= 0.02877795 \n",
      "Epoch 78 , step 7 , loss= 0.01851423 \n",
      "Epoch 84 , step 3 , loss= 0.013863183 \n",
      "Epoch 89 , step 8 , loss= 0.021427333 \n",
      "Epoch 95 , step 4 , loss= 0.008317487 \n",
      "Epoch 101 , step 0 , loss= 0.00807323 \n",
      "Epoch 106 , step 5 , loss= 0.007059685 \n",
      "Epoch 112 , step 1 , loss= 0.005211727 \n",
      "Epoch 117 , step 6 , loss= 0.007904654 \n",
      "Epoch 123 , step 2 , loss= 0.0065890066 \n",
      "Epoch 128 , step 7 , loss= 0.0058453474 \n",
      "Epoch 134 , step 3 , loss= 0.008286448 \n",
      "Epoch 139 , step 8 , loss= 0.007830647 \n",
      "Epoch 145 , step 4 , loss= 0.006655803 \n",
      "Epoch 151 , step 0 , loss= 0.0040277634 \n",
      "Epoch 156 , step 5 , loss= 0.0069970693 \n",
      "Epoch 162 , step 1 , loss= 0.005018632 \n",
      "Epoch 167 , step 6 , loss= 0.006009032 \n",
      "Epoch 173 , step 2 , loss= 0.0045631146 \n",
      "Epoch 178 , step 7 , loss= 0.0071480563 \n",
      "Epoch 184 , step 3 , loss= 0.0036285687 \n",
      "Epoch 189 , step 8 , loss= 0.0036366447 \n",
      "Epoch 195 , step 4 , loss= 0.0039522722 \n",
      "Epoch 201 , step 0 , loss= 0.004417558 \n",
      "Epoch 206 , step 5 , loss= 0.002859622 \n",
      "Epoch 212 , step 1 , loss= 0.0043150866 \n",
      "Epoch 217 , step 6 , loss= 0.0035872734 \n",
      "Epoch 223 , step 2 , loss= 0.0028222208 \n",
      "Epoch 228 , step 7 , loss= 0.0039479462 \n",
      "Epoch 234 , step 3 , loss= 0.0029321394 \n",
      "Epoch 239 , step 8 , loss= 0.0037537122 \n",
      "Epoch 245 , step 4 , loss= 0.0025273622 \n",
      "Epoch 251 , step 0 , loss= 0.0040384205 \n",
      "Epoch 256 , step 5 , loss= 0.0031664483 \n",
      "Epoch 262 , step 1 , loss= 0.0038087824 \n",
      "Epoch 267 , step 6 , loss= 0.0044172974 \n",
      "Epoch 273 , step 2 , loss= 0.0027993773 \n",
      "Epoch 278 , step 7 , loss= 0.0031391704 \n",
      "Epoch 284 , step 3 , loss= 0.0037448131 \n",
      "Epoch 289 , step 8 , loss= 0.0025127435 \n",
      "Epoch 295 , step 4 , loss= 0.0041103438 \n",
      "Epoch 301 , step 0 , loss= 0.0023602913 \n",
      "Epoch 306 , step 5 , loss= 0.0041340105 \n",
      "Epoch 312 , step 1 , loss= 0.004241911 \n",
      "Epoch 317 , step 6 , loss= 0.004072966 \n",
      "Epoch 323 , step 2 , loss= 0.003225164 \n",
      "Epoch 328 , step 7 , loss= 0.001564409 \n",
      "Epoch 334 , step 3 , loss= 0.0033732997 \n",
      "Epoch 339 , step 8 , loss= 0.00296696 \n",
      "Epoch 345 , step 4 , loss= 0.0028260755 \n",
      "Epoch 351 , step 0 , loss= 0.0029898444 \n",
      "Epoch 356 , step 5 , loss= 0.0023931633 \n",
      "Epoch 362 , step 1 , loss= 0.0028412202 \n",
      "Epoch 367 , step 6 , loss= 0.0035271877 \n",
      "Epoch 373 , step 2 , loss= 0.0019318655 \n",
      "Epoch 378 , step 7 , loss= 0.0024849456 \n",
      "Epoch 384 , step 3 , loss= 0.003876799 \n",
      "Epoch 389 , step 8 , loss= 0.0028436638 \n",
      "Epoch 395 , step 4 , loss= 0.0024236664 \n",
      "Epoch 401 , step 0 , loss= 0.0021691532 \n",
      "Epoch 406 , step 5 , loss= 0.0034218673 \n",
      "Epoch 412 , step 1 , loss= 0.0021411516 \n",
      "Epoch 417 , step 6 , loss= 0.0023667598 \n",
      "Epoch 423 , step 2 , loss= 0.0042587263 \n",
      "Epoch 428 , step 7 , loss= 0.0022099162 \n",
      "Epoch 434 , step 3 , loss= 0.0026672508 \n",
      "Epoch 439 , step 8 , loss= 0.0032518432 \n",
      "Epoch 445 , step 4 , loss= 0.0026089498 \n",
      "Epoch 451 , step 0 , loss= 0.0033525892 \n",
      "Epoch 456 , step 5 , loss= 0.0017967378 \n",
      "Epoch 462 , step 1 , loss= 0.0017121541 \n",
      "Epoch 467 , step 6 , loss= 0.0045293 \n",
      "Epoch 473 , step 2 , loss= 0.0031324278 \n",
      "Epoch 478 , step 7 , loss= 0.0034929507 \n",
      "Epoch 484 , step 3 , loss= 0.001470054 \n",
      "Epoch 489 , step 8 , loss= 0.0020194515 \n",
      "Epoch 495 , step 4 , loss= 0.003298083 \n",
      "Epoch 501 , step 0 , loss= 0.002175638 \n",
      "Epoch 506 , step 5 , loss= 0.002093874 \n",
      "Epoch 512 , step 1 , loss= 0.0017299383 \n",
      "Epoch 517 , step 6 , loss= 0.0043652435 \n",
      "Epoch 523 , step 2 , loss= 0.0020639887 \n",
      "Epoch 528 , step 7 , loss= 0.0039687264 \n",
      "Epoch 534 , step 3 , loss= 0.002972045 \n",
      "Epoch 539 , step 8 , loss= 0.002890301 \n",
      "Epoch 545 , step 4 , loss= 0.0025650111 \n",
      "Epoch 551 , step 0 , loss= 0.0026572514 \n",
      "Epoch 556 , step 5 , loss= 0.0031907093 \n",
      "Epoch 562 , step 1 , loss= 0.0032391264 \n",
      "Epoch 567 , step 6 , loss= 0.0019638184 \n",
      "Epoch 573 , step 2 , loss= 0.002951636 \n",
      "Epoch 578 , step 7 , loss= 0.0024978472 \n",
      "Epoch 584 , step 3 , loss= 0.0039176736 \n",
      "Epoch 589 , step 8 , loss= 0.0030116714 \n",
      "Epoch 595 , step 4 , loss= 0.0022863527 \n",
      "Epoch 601 , step 0 , loss= 0.0024187828 \n",
      "Epoch 606 , step 5 , loss= 0.002639589 \n",
      "Epoch 612 , step 1 , loss= 0.003239268 \n",
      "Epoch 617 , step 6 , loss= 0.0031342832 \n",
      "Epoch 623 , step 2 , loss= 0.0021678042 \n",
      "Epoch 628 , step 7 , loss= 0.003409627 \n",
      "Epoch 634 , step 3 , loss= 0.002444795 \n",
      "Epoch 639 , step 8 , loss= 0.0030343316 \n",
      "Epoch 645 , step 4 , loss= 0.0027065235 \n",
      "Epoch 651 , step 0 , loss= 0.0027713764 \n",
      "Epoch 656 , step 5 , loss= 0.0014937258 \n",
      "Epoch 662 , step 1 , loss= 0.0023452786 \n",
      "Epoch 667 , step 6 , loss= 0.002001996 \n",
      "Epoch 673 , step 2 , loss= 0.003803275 \n",
      "Epoch 678 , step 7 , loss= 0.002392821 \n",
      "Epoch 684 , step 3 , loss= 0.003659238 \n",
      "Epoch 689 , step 8 , loss= 0.002917994 \n",
      "Epoch 695 , step 4 , loss= 0.0031387433 \n",
      "Epoch 701 , step 0 , loss= 0.0025382088 \n",
      "Epoch 706 , step 5 , loss= 0.0027923093 \n",
      "Epoch 712 , step 1 , loss= 0.0020728044 \n",
      "Epoch 717 , step 6 , loss= 0.0019611917 \n",
      "Epoch 723 , step 2 , loss= 0.0022662268 \n",
      "Epoch 728 , step 7 , loss= 0.0032447581 \n",
      "Epoch 734 , step 3 , loss= 0.0027987505 \n",
      "Epoch 739 , step 8 , loss= 0.0029795018 \n",
      "Epoch 745 , step 4 , loss= 0.0017183915 \n",
      "Epoch 751 , step 0 , loss= 0.0038103287 \n",
      "Epoch 756 , step 5 , loss= 0.0018758469 \n",
      "Epoch 762 , step 1 , loss= 0.0031190887 \n",
      "Epoch 767 , step 6 , loss= 0.0028954335 \n",
      "Epoch 773 , step 2 , loss= 0.0022086245 \n",
      "Epoch 778 , step 7 , loss= 0.0024992314 \n",
      "Epoch 784 , step 3 , loss= 0.003104149 \n",
      "Epoch 789 , step 8 , loss= 0.0032611801 \n",
      "Epoch 795 , step 4 , loss= 0.0027455552 \n",
      "Epoch 801 , step 0 , loss= 0.0024797544 \n",
      "Epoch 806 , step 5 , loss= 0.0023786384 \n",
      "Epoch 812 , step 1 , loss= 0.002829447 \n",
      "Epoch 817 , step 6 , loss= 0.0024428256 \n",
      "Epoch 823 , step 2 , loss= 0.0023327717 \n",
      "Epoch 828 , step 7 , loss= 0.0020195488 \n",
      "Epoch 834 , step 3 , loss= 0.003558242 \n",
      "Epoch 839 , step 8 , loss= 0.0024557 \n",
      "Epoch 845 , step 4 , loss= 0.0030210975 \n",
      "Epoch 851 , step 0 , loss= 0.0026754546 \n",
      "Epoch 856 , step 5 , loss= 0.0024186147 \n",
      "Epoch 862 , step 1 , loss= 0.005039847 \n",
      "Epoch 867 , step 6 , loss= 0.004460111 \n",
      "Epoch 873 , step 2 , loss= 0.004370586 \n",
      "Epoch 878 , step 7 , loss= 0.0026828693 \n",
      "Epoch 884 , step 3 , loss= 0.0023906324 \n",
      "Epoch 889 , step 8 , loss= 0.0031217446 \n",
      "Epoch 895 , step 4 , loss= 0.0030892838 \n",
      "Epoch 901 , step 0 , loss= 0.0026782586 \n",
      "Epoch 906 , step 5 , loss= 0.0032902055 \n",
      "Epoch 912 , step 1 , loss= 0.0029019632 \n",
      "Epoch 917 , step 6 , loss= 0.0032947925 \n",
      "Epoch 923 , step 2 , loss= 0.002413204 \n",
      "Epoch 928 , step 7 , loss= 0.0031839637 \n",
      "Epoch 934 , step 3 , loss= 0.002908656 \n",
      "Epoch 939 , step 8 , loss= 0.0020873805 \n",
      "Epoch 945 , step 4 , loss= 0.0022487566 \n",
      "Epoch 951 , step 0 , loss= 0.0024053613 \n",
      "Epoch 956 , step 5 , loss= 0.003000903 \n",
      "Epoch 962 , step 1 , loss= 0.0022690794 \n",
      "Epoch 967 , step 6 , loss= 0.002063715 \n",
      "Epoch 973 , step 2 , loss= 0.0025613375 \n",
      "Epoch 978 , step 7 , loss= 0.0029630056 \n",
      "Epoch 984 , step 3 , loss= 0.0032199426 \n",
      "Epoch 989 , step 8 , loss= 0.002664755 \n",
      "Epoch 995 , step 4 , loss= 0.0023046164 \n",
      "Epoch 1000 , step 8 , loss= 0.0025950777 \n"
     ]
    }
   ],
   "source": [
    "try_reg = True\n",
    "if try_reg:\n",
    "#         X_data = np.random.random((6000))[:, np.newaxis]*100\n",
    "#         noise = np.random.normal(0, 0.05, X_data.shape).astype(np.float32)*0\n",
    "#         y_data = X_data*2 + 1 + noise\n",
    "    X_data = np.linspace(-1,1,300, dtype=np.float32)[:, np.newaxis]\n",
    "    np.random.shuffle(X_data)\n",
    "    noise = np.random.normal(0, 0.05, X_data.shape).astype(np.float32)\n",
    "    y_data = np.square(X_data) - 0.5 + noise\n",
    "    print('X_data',X_data.shape,'\\n',X_data[:5])\n",
    "    print('y_data',y_data.shape,'\\n',y_data[:5])\n",
    "\n",
    "    input_dims = X_data.shape[1]\n",
    "    col_0 = BasicNN(\n",
    "        input_dims=input_dims\n",
    "        , output_dims=1\n",
    "        , session=session\n",
    "        , dtype_X=tf.float32, dtype_y=tf.float32\n",
    "    )\n",
    "    col_0.add_fc(10,activation_func=tf.nn.relu)\n",
    "#     col_0.add_fc(1024,activation_func=tf.nn.relu)\n",
    "    col_0.add_fc(1,activation_func=None\n",
    "        # ,output_layer=True\n",
    "        )\n",
    "    col_0.compile_nn(\n",
    "#         loss=tf.reduce_mean(tf.reduce_sum(tf.square(col_0.ys - col_0.prediction),reduction_indices=[1]))\n",
    "        loss=tf.losses.mean_squared_error(col_0.ys,col_0.prediction)\n",
    "        ,opt=tf.train.AdamOptimizer(learning_rate=1e-3)\n",
    "#         ,opt=tf.train.GradientDescentOptimizer(learning_rate=1e-1)\n",
    "#         ,mectrics=[]\n",
    "    )\n",
    "    col_0.train(\n",
    "        X=X_data\n",
    "        , y=y_data\n",
    "        , batch_size=32\n",
    "        , n_epochs=1000\n",
    "        , display_steps=50\n",
    "    )\n"
   ]
  },
  {
   "cell_type": "code",
   "execution_count": 6,
   "metadata": {
    "ExecuteTime": {
     "end_time": "2018-11-11T05:30:44.795450Z",
     "start_time": "2018-11-11T05:30:44.665976Z"
    }
   },
   "outputs": [
    {
     "name": "stdout",
     "output_type": "stream",
     "text": [
      "Plotting loss...\n"
     ]
    },
    {
     "data": {
      "image/png": "[encoded data removed]",
      "text/plain": [
       "<Figure size 432x288 with 1 Axes>"
      ]
     },
     "metadata": {
      "needs_background": "light"
     },
     "output_type": "display_data"
    },
    {
     "name": "stdout",
     "output_type": "stream",
     "text": [
      "Plotting metrics...\n",
      "no metrics to plot\n"
     ]
    }
   ],
   "source": [
    "if try_reg:\n",
    "    col_0.plt_loss()\n",
    "    col_0.plt_metrics()"
   ]
  },
  {
   "cell_type": "code",
   "execution_count": 7,
   "metadata": {
    "ExecuteTime": {
     "end_time": "2018-11-11T05:31:11.410694Z",
     "start_time": "2018-11-11T05:30:44.797091Z"
    }
   },
   "outputs": [
    {
     "name": "stdout",
     "output_type": "stream",
     "text": [
      "Extracting /tmp/data/train-images-idx3-ubyte.gz\n",
      "Extracting /tmp/data/train-labels-idx1-ubyte.gz\n",
      "Extracting /tmp/data/t10k-images-idx3-ubyte.gz\n",
      "Extracting /tmp/data/t10k-labels-idx1-ubyte.gz\n",
      "X_train <class 'numpy.ndarray'> (55000, 784)\n",
      "y_train <class 'numpy.ndarray'> (55000, 10)\n",
      "input_dims <class 'int'> 784\n",
      "output_dims <class 'int'> 10\n",
      "Layer 1 : FC, input shape = [None, 784] , out_size = 512\n",
      "Layer 2 : FC, input shape = [None, 512] , out_size = 256\n",
      "Layer 3 : FC, input shape = [None, 256] , out_size = 128\n",
      "Layer 4 : FC, input shape = [None, 128] , out_size = 10\n",
      "Epoch 1 , step 0 , loss= 1.809063 acc = 0.4375 , val_loss= 2.1829164 val acc = 0.281 \n",
      "Epoch 1 , step 100 , loss= 0.3291347 acc = 0.890625 , val_loss= 0.26885188 val acc = 0.9228 \n",
      "Epoch 1 , step 200 , loss= 0.15679716 acc = 0.9375 , val_loss= 0.21375088 val acc = 0.9354 \n",
      "Epoch 1 , step 300 , loss= 0.16008104 acc = 0.953125 , val_loss= 0.20459539 val acc = 0.9404 \n",
      "Epoch 1 , step 400 , loss= 0.21661814 acc = 0.90625 , val_loss= 0.15382347 val acc = 0.9542 \n",
      "Epoch 1 , step 500 , loss= 0.074187726 acc = 0.984375 , val_loss= 0.13376026 val acc = 0.9598 \n",
      "Epoch 1 , step 600 , loss= 0.057789102 acc = 0.984375 , val_loss= 0.13686343 val acc = 0.9588 \n",
      "Epoch 1 , step 700 , loss= 0.038323574 acc = 1.0 , val_loss= 0.1141092 val acc = 0.9654 \n",
      "Epoch 1 , step 800 , loss= 0.09326368 acc = 0.984375 , val_loss= 0.09840098 val acc = 0.9698 \n",
      "Epoch 2 , step 41 , loss= 0.024791332 acc = 1.0 , val_loss= 0.098152794 val acc = 0.9708 \n",
      "Epoch 2 , step 141 , loss= 0.17567168 acc = 0.96875 , val_loss= 0.093025446 val acc = 0.9714 \n",
      "Epoch 2 , step 241 , loss= 0.13598135 acc = 0.984375 , val_loss= 0.08338852 val acc = 0.9738 \n",
      "Epoch 2 , step 341 , loss= 0.08563873 acc = 0.984375 , val_loss= 0.103699 val acc = 0.9696 \n",
      "Epoch 2 , step 441 , loss= 0.049649876 acc = 0.96875 , val_loss= 0.08200304 val acc = 0.9756 \n",
      "Epoch 2 , step 541 , loss= 0.027609129 acc = 1.0 , val_loss= 0.091427766 val acc = 0.9718 \n",
      "Epoch 2 , step 641 , loss= 0.048681043 acc = 0.984375 , val_loss= 0.089953475 val acc = 0.972 \n",
      "Epoch 2 , step 741 , loss= 0.030140357 acc = 1.0 , val_loss= 0.08512981 val acc = 0.9762 \n",
      "Epoch 2 , step 841 , loss= 0.058449097 acc = 0.984375 , val_loss= 0.07454964 val acc = 0.9766 \n",
      "Epoch 3 , step 82 , loss= 0.06055394 acc = 0.984375 , val_loss= 0.07023757 val acc = 0.9768 \n",
      "Epoch 3 , step 182 , loss= 0.008800689 acc = 1.0 , val_loss= 0.079441346 val acc = 0.9758 \n",
      "Epoch 3 , step 282 , loss= 0.081507064 acc = 0.96875 , val_loss= 0.07312133 val acc = 0.977 \n",
      "Epoch 3 , step 382 , loss= 0.029478641 acc = 0.984375 , val_loss= 0.06812521 val acc = 0.9802 \n",
      "Epoch 3 , step 482 , loss= 0.08302137 acc = 0.96875 , val_loss= 0.08011146 val acc = 0.9754 \n",
      "Epoch 3 , step 582 , loss= 0.0062819077 acc = 1.0 , val_loss= 0.08203415 val acc = 0.9778 \n",
      "Epoch 3 , step 682 , loss= 0.012324599 acc = 1.0 , val_loss= 0.0930094 val acc = 0.9722 \n",
      "Epoch 3 , step 782 , loss= 0.047830395 acc = 1.0 , val_loss= 0.07672824 val acc = 0.9772 \n",
      "Epoch 4 , step 23 , loss= 0.0647779 acc = 0.984375 , val_loss= 0.0653639 val acc = 0.9828 \n",
      "Epoch 4 , step 123 , loss= 0.069644086 acc = 0.984375 , val_loss= 0.08170108 val acc = 0.9748 \n",
      "Epoch 4 , step 223 , loss= 0.007480941 acc = 1.0 , val_loss= 0.072186075 val acc = 0.9778 \n",
      "Epoch 4 , step 323 , loss= 0.0058352347 acc = 1.0 , val_loss= 0.06313465 val acc = 0.9814 \n",
      "Epoch 4 , step 423 , loss= 0.018641246 acc = 0.984375 , val_loss= 0.0777447 val acc = 0.9794 \n",
      "Epoch 4 , step 523 , loss= 0.0052217217 acc = 1.0 , val_loss= 0.0733239 val acc = 0.98 \n",
      "Epoch 4 , step 623 , loss= 0.00994382 acc = 1.0 , val_loss= 0.07991362 val acc = 0.9782 \n",
      "Epoch 4 , step 723 , loss= 0.027643338 acc = 0.984375 , val_loss= 0.07176167 val acc = 0.9784 \n",
      "Epoch 4 , step 823 , loss= 0.02947814 acc = 1.0 , val_loss= 0.06994897 val acc = 0.9788 \n",
      "Epoch 5 , step 64 , loss= 0.009847009 acc = 1.0 , val_loss= 0.06808009 val acc = 0.98 \n",
      "Epoch 5 , step 164 , loss= 0.0060196007 acc = 1.0 , val_loss= 0.07860888 val acc = 0.9794 \n",
      "Epoch 5 , step 264 , loss= 0.009168441 acc = 1.0 , val_loss= 0.07926325 val acc = 0.9768 \n",
      "Epoch 5 , step 364 , loss= 0.02100338 acc = 0.984375 , val_loss= 0.06976845 val acc = 0.9804 \n",
      "Epoch 5 , step 464 , loss= 0.008033188 acc = 1.0 , val_loss= 0.07141033 val acc = 0.9778 \n",
      "Epoch 5 , step 564 , loss= 0.0067004906 acc = 1.0 , val_loss= 0.07332931 val acc = 0.9798 \n",
      "Epoch 5 , step 664 , loss= 0.0406044 acc = 0.984375 , val_loss= 0.09646415 val acc = 0.9776 \n",
      "Epoch 5 , step 764 , loss= 0.0010235674 acc = 1.0 , val_loss= 0.07690177 val acc = 0.9768 \n",
      "Epoch 6 , step 5 , loss= 0.015579268 acc = 1.0 , val_loss= 0.089235365 val acc = 0.9738 \n",
      "Epoch 6 , step 105 , loss= 0.011305458 acc = 1.0 , val_loss= 0.0687861 val acc = 0.9818 \n",
      "Epoch 6 , step 205 , loss= 0.047051694 acc = 0.984375 , val_loss= 0.08260918 val acc = 0.9754 \n",
      "Epoch 6 , step 305 , loss= 0.05156535 acc = 0.984375 , val_loss= 0.076863475 val acc = 0.976 \n",
      "Epoch 6 , step 405 , loss= 0.008667537 acc = 1.0 , val_loss= 0.06722328 val acc = 0.9802 \n",
      "Epoch 6 , step 505 , loss= 0.006898855 acc = 1.0 , val_loss= 0.074834675 val acc = 0.9804 \n",
      "Epoch 6 , step 605 , loss= 0.03433687 acc = 0.984375 , val_loss= 0.08392886 val acc = 0.977 \n",
      "Epoch 6 , step 705 , loss= 0.00025700865 acc = 1.0 , val_loss= 0.06340494 val acc = 0.9834 \n",
      "Epoch 6 , step 805 , loss= 0.011692423 acc = 1.0 , val_loss= 0.0846251 val acc = 0.9768 \n",
      "Epoch 7 , step 46 , loss= 0.0011538467 acc = 1.0 , val_loss= 0.08731328 val acc = 0.978 \n",
      "Epoch 7 , step 146 , loss= 0.0140382005 acc = 0.984375 , val_loss= 0.090666495 val acc = 0.9766 \n",
      "Epoch 7 , step 246 , loss= 0.0051254244 acc = 1.0 , val_loss= 0.1037578 val acc = 0.9772 \n",
      "Epoch 7 , step 346 , loss= 0.009990307 acc = 1.0 , val_loss= 0.07850281 val acc = 0.9806 \n",
      "Epoch 7 , step 446 , loss= 0.00049029064 acc = 1.0 , val_loss= 0.10138752 val acc = 0.9738 \n",
      "Epoch 7 , step 546 , loss= 0.010310929 acc = 1.0 , val_loss= 0.09304387 val acc = 0.9772 \n",
      "Epoch 7 , step 646 , loss= 0.09692836 acc = 0.984375 , val_loss= 0.07715689 val acc = 0.981 \n",
      "Epoch 7 , step 746 , loss= 0.028691439 acc = 0.984375 , val_loss= 0.13748191 val acc = 0.9688 \n",
      "Epoch 7 , step 846 , loss= 0.003055824 acc = 1.0 , val_loss= 0.089913785 val acc = 0.9778 \n",
      "Epoch 8 , step 87 , loss= 8.7514636e-05 acc = 1.0 , val_loss= 0.08506433 val acc = 0.9806 \n",
      "Epoch 8 , step 187 , loss= 0.0035261437 acc = 1.0 , val_loss= 0.08038595 val acc = 0.98 \n",
      "Epoch 8 , step 287 , loss= 0.0005994441 acc = 1.0 , val_loss= 0.07103306 val acc = 0.984 \n",
      "Epoch 8 , step 387 , loss= 0.00058915524 acc = 1.0 , val_loss= 0.075351484 val acc = 0.982 \n",
      "Epoch 8 , step 487 , loss= 0.002506046 acc = 1.0 , val_loss= 0.087755956 val acc = 0.9794 \n",
      "Epoch 8 , step 587 , loss= 0.007539546 acc = 1.0 , val_loss= 0.09012948 val acc = 0.982 \n",
      "Epoch 8 , step 687 , loss= 0.0033879569 acc = 1.0 , val_loss= 0.08388519 val acc = 0.9796 \n",
      "Epoch 8 , step 787 , loss= 0.0015921122 acc = 1.0 , val_loss= 0.081227005 val acc = 0.98 \n",
      "Epoch 9 , step 28 , loss= 0.0027494207 acc = 1.0 , val_loss= 0.08389134 val acc = 0.9806 \n",
      "Epoch 9 , step 128 , loss= 0.0035401501 acc = 1.0 , val_loss= 0.07441733 val acc = 0.9822 \n",
      "Epoch 9 , step 228 , loss= 0.00033660166 acc = 1.0 , val_loss= 0.07373859 val acc = 0.9828 \n",
      "Epoch 9 , step 328 , loss= 0.0025637106 acc = 1.0 , val_loss= 0.11845765 val acc = 0.9762 \n",
      "Epoch 9 , step 428 , loss= 0.0052997414 acc = 1.0 , val_loss= 0.07555236 val acc = 0.9814 \n",
      "Epoch 9 , step 528 , loss= 0.0031402889 acc = 1.0 , val_loss= 0.09965783 val acc = 0.979 \n",
      "Epoch 9 , step 628 , loss= 0.0011875153 acc = 1.0 , val_loss= 0.0756988 val acc = 0.9824 \n",
      "Epoch 9 , step 728 , loss= 0.002167285 acc = 1.0 , val_loss= 0.08729714 val acc = 0.9814 \n",
      "Epoch 9 , step 828 , loss= 0.0018708516 acc = 1.0 , val_loss= 0.12569511 val acc = 0.9728 \n",
      "Epoch 10 , step 69 , loss= 0.07643469 acc = 0.984375 , val_loss= 0.07017528 val acc = 0.983 \n",
      "Epoch 10 , step 169 , loss= 0.0001844365 acc = 1.0 , val_loss= 0.083265245 val acc = 0.9816 \n",
      "Epoch 10 , step 269 , loss= 0.0036902607 acc = 1.0 , val_loss= 0.08422976 val acc = 0.9814 \n",
      "Epoch 10 , step 369 , loss= 0.0005275502 acc = 1.0 , val_loss= 0.08112821 val acc = 0.9808 \n",
      "Epoch 10 , step 469 , loss= 0.0015516791 acc = 1.0 , val_loss= 0.099872395 val acc = 0.977 \n",
      "Epoch 10 , step 569 , loss= 0.0024782661 acc = 1.0 , val_loss= 0.09275799 val acc = 0.9812 \n"
     ]
    },
    {
     "name": "stdout",
     "output_type": "stream",
     "text": [
      "Epoch 10 , step 669 , loss= 0.012251096 acc = 1.0 , val_loss= 0.08174414 val acc = 0.9804 \n",
      "Epoch 10 , step 769 , loss= 0.00087473367 acc = 1.0 , val_loss= 0.115285635 val acc = 0.9756 \n",
      "Epoch 10 , step 858 , loss= 0.0013892251 acc = 1.0 , val_loss= 0.09000019 val acc = 0.9822 \n"
     ]
    }
   ],
   "source": [
    "try_cls = True\n",
    "if try_cls:\n",
    "    from tensorflow.examples.tutorials.mnist import input_data\n",
    "\n",
    "    mnist = input_data.read_data_sets(\"/tmp/data/\", one_hot=True)\n",
    "    X_train = mnist.train.images#.astype(np.float64)\n",
    "    y_train = mnist.train.labels#.astype(np.float64)\n",
    "    X_val = mnist.validation.images\n",
    "    y_val = mnist.validation.labels\n",
    "    X_test = mnist.test.images\n",
    "    y_test = mnist.test.labels\n",
    "    check_obj('X_train')\n",
    "    check_obj('y_train')\n",
    "    input_dims = X_train.shape[1]\n",
    "    output_dims = y_train.shape[1]\n",
    "    check_obj('input_dims')\n",
    "    check_obj('output_dims')\n",
    "    col_cls_0 = BasicNN(\n",
    "        input_dims=input_dims\n",
    "        , output_dims=output_dims\n",
    "        , session=session\n",
    "        , dtype_X=tf.float32\n",
    "        , dtype_y=tf.float32)\n",
    "    col_cls_0.add_fc(512,activation_func=tf.nn.relu)\n",
    "    col_cls_0.add_fc(256,activation_func=tf.nn.relu)\n",
    "    col_cls_0.add_fc(128,activation_func=tf.nn.relu)\n",
    "    col_cls_0.add_fc(output_dims,activation_func=tf.nn.softmax)\n",
    "    col_cls_0.compile_nn(\n",
    "        loss=tf.losses.softmax_cross_entropy(col_cls_0.ys,col_cls_0.logits)\n",
    "        , opt=tf.train.AdamOptimizer(learning_rate=1e-3)\n",
    "        , metrics = ['acc'])\n",
    "    col_cls_0.train(\n",
    "        X=X_train\n",
    "        ,y=y_train\n",
    "        ,val_set=[X_val,y_val]\n",
    "        ,batch_size=64\n",
    "        ,n_epochs=5\n",
    "        ,display_steps=100)\n",
    "    "
   ]
  },
  {
   "cell_type": "code",
   "execution_count": 8,
   "metadata": {
    "ExecuteTime": {
     "end_time": "2018-11-11T05:31:11.736056Z",
     "start_time": "2018-11-11T05:31:11.412041Z"
    }
   },
   "outputs": [
    {
     "name": "stdout",
     "output_type": "stream",
     "text": [
      "Plotting loss...\n"
     ]
    },
    {
     "data": {
      "image/png": "[encoded data removed]",
      "text/plain": [
       "<Figure size 432x288 with 1 Axes>"
      ]
     },
     "metadata": {
      "needs_background": "light"
     },
     "output_type": "display_data"
    },
    {
     "name": "stdout",
     "output_type": "stream",
     "text": [
      "Plotting metrics...\n"
     ]
    },
    {
     "data": {
      "image/png": "[encoded data removed]",
      "text/plain": [
       "<Figure size 432x288 with 1 Axes>"
      ]
     },
     "metadata": {
      "needs_background": "light"
     },
     "output_type": "display_data"
    },
    {
     "name": "stdout",
     "output_type": "stream",
     "text": [
      "{'acc': 0.9779}\n"
     ]
    }
   ],
   "source": [
    "if try_cls:\n",
    "    col_cls_0.plt_loss()\n",
    "    col_cls_0.plt_metrics()\n",
    "    test_metric = col_cls_0.get_metrics(X_test, y_test)\n",
    "    print(test_metric)"
   ]
  },
  {
   "cell_type": "code",
   "execution_count": 9,
   "metadata": {
    "ExecuteTime": {
     "end_time": "2018-11-11T05:31:49.161344Z",
     "start_time": "2018-11-11T05:31:49.131922Z"
    }
   },
   "outputs": [],
   "source": [
    "close_session(session)"
   ]
  },
  {
   "cell_type": "code",
   "execution_count": null,
   "metadata": {},
   "outputs": [],
   "source": []
  }
 ],
 "metadata": {
  "kernelspec": {
   "display_name": "Python [conda env:tu36]",
   "language": "python",
   "name": "conda-env-tu36-py"
  },
  "language_info": {
   "codemirror_mode": {
    "name": "ipython",
    "version": 3
   },
   "file_extension": ".py",
   "mimetype": "text/x-python",
   "name": "python",
   "nbconvert_exporter": "python",
   "pygments_lexer": "ipython3",
   "version": "3.6.6"
  },
  "widgets": {
   "state": {},
   "version": "1.1.2"
  }
 },
 "nbformat": 4,
 "nbformat_minor": 2
}
