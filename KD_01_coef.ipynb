{
 "cells": [
  {
   "cell_type": "code",
   "execution_count": 1,
   "metadata": {
    "ExecuteTime": {
     "end_time": "2018-11-22T14:16:47.394510Z",
     "start_time": "2018-11-22T14:16:47.383323Z"
    }
   },
   "outputs": [],
   "source": [
    "# to auto reload the modified module\n",
    "% load_ext autoreload\n",
    "% autoreload 2"
   ]
  },
  {
   "cell_type": "code",
   "execution_count": 2,
   "metadata": {
    "ExecuteTime": {
     "end_time": "2018-11-22T14:16:49.292918Z",
     "start_time": "2018-11-22T14:16:47.395881Z"
    }
   },
   "outputs": [
    {
     "name": "stderr",
     "output_type": "stream",
     "text": [
      "/home/deep3072/anaconda2/envs/tu36/lib/python3.6/importlib/_bootstrap.py:219: RuntimeWarning: compiletime version 3.5 of module 'tensorflow.python.framework.fast_tensor_util' does not match runtime version 3.6\n",
      "  return f(*args, **kwds)\n",
      "Using TensorFlow backend.\n"
     ]
    }
   ],
   "source": [
    "import tensorflow as tf\n",
    "import numpy as np\n",
    "import random\n",
    "import os\n",
    "from sklearn.model_selection import train_test_split\n",
    "import matplotlib.pyplot as plt\n",
    "import gc\n",
    "\n",
    "from utils import *\n",
    "from data import MnistTF\n",
    "from nn_kd import *\n",
    "from layers import *\n",
    "# from models import *"
   ]
  },
  {
   "cell_type": "code",
   "execution_count": 3,
   "metadata": {
    "ExecuteTime": {
     "end_time": "2018-11-22T14:16:49.314337Z",
     "start_time": "2018-11-22T14:16:49.294394Z"
    }
   },
   "outputs": [],
   "source": [
    "# check_available_device()\n",
    "# seed settings\n",
    "set_rand_seed(0)"
   ]
  },
  {
   "cell_type": "code",
   "execution_count": 4,
   "metadata": {
    "ExecuteTime": {
     "end_time": "2018-11-22T14:16:49.829603Z",
     "start_time": "2018-11-22T14:16:49.315866Z"
    },
    "scrolled": true
   },
   "outputs": [
    {
     "name": "stdout",
     "output_type": "stream",
     "text": [
      "Extracting /tmp/data/train-images-idx3-ubyte.gz\n",
      "Extracting /tmp/data/train-labels-idx1-ubyte.gz\n",
      "Extracting /tmp/data/t10k-images-idx3-ubyte.gz\n",
      "Extracting /tmp/data/t10k-labels-idx1-ubyte.gz\n",
      "X_train <class 'numpy.ndarray'> (55000, 784)\n",
      "y_train <class 'numpy.ndarray'> (55000, 10)\n",
      "X_val <class 'numpy.ndarray'> (5000, 784)\n",
      "y_val <class 'numpy.ndarray'> (5000, 10)\n",
      "X_test <class 'numpy.ndarray'> (10000, 784)\n",
      "y_test <class 'numpy.ndarray'> (10000, 10)\n",
      "input_dims <class 'int'> 784\n",
      "output_dims <class 'int'> 10\n"
     ]
    }
   ],
   "source": [
    "# read Mnist data\n",
    "try_cls2 = True\n",
    "if try_cls2:\n",
    "    mnist = MnistTF()\n",
    "    X_train, y_train = mnist.get_train_data()\n",
    "    X_val, y_val = mnist.get_validation_data()\n",
    "    X_test, y_test = mnist.get_test_data()\n",
    "    print_obj(X_train, 'X_train')\n",
    "    print_obj(y_train, 'y_train')\n",
    "    print_obj(X_val, 'X_val')\n",
    "    print_obj(y_val, 'y_val')\n",
    "    print_obj(X_test, 'X_test')\n",
    "    print_obj(y_test, 'y_test')\n",
    "    input_dims = X_train.shape[1]\n",
    "    output_dims = y_train.shape[1]\n",
    "    print_obj(input_dims, 'input_dims')\n",
    "    print_obj(output_dims, 'output_dims')\n"
   ]
  },
  {
   "cell_type": "code",
   "execution_count": 5,
   "metadata": {
    "ExecuteTime": {
     "end_time": "2018-11-22T14:16:49.856759Z",
     "start_time": "2018-11-22T14:16:49.831074Z"
    }
   },
   "outputs": [],
   "source": [
    "def build_big_model(input_dims, output_dims):#, session):\n",
    "    # session settings\n",
    "    session = create_session(gpu_id='1')\n",
    "#     tf.reset_default_graph()\n",
    "    bigmodel = SoftenedNN(\n",
    "        input_dims=input_dims\n",
    "        , output_dims=output_dims\n",
    "        , session=session\n",
    "        , dtype_X=tf.float32\n",
    "        , dtype_y=tf.float32)\n",
    "\n",
    "#     bigmodel.add_layer(\n",
    "#         Dropout(inputs=bigmodel.h[-1], keep_prob=0.8))\n",
    "    bigmodel.add_layer(\n",
    "        FC(inputs=bigmodel.h[-1],out_dims=1200, activation_fn=tf.nn.relu))\n",
    "#     bigmodel.add_layer(\n",
    "#         Dropout(inputs=bigmodel.h[-1], keep_prob=0.9))\n",
    "    bigmodel.add_layer(\n",
    "        FC(inputs=bigmodel.h[-1],out_dims=1200, activation_fn=tf.nn.relu))\n",
    "#     bigmodel.add_layer(\n",
    "#         Dropout(inputs=bigmodel.h[-1], keep_prob=0.9))\n",
    "    bigmodel.add_layer(\n",
    "        FC(inputs=bigmodel.h[-1],out_dims=output_dims, activation_fn=tf.nn.softmax))\n",
    "\n",
    "    bigmodel.compile_nn(\n",
    "        loss=tf.losses.softmax_cross_entropy(bigmodel.ys,bigmodel.logits)\n",
    "        , opt=tf.train.AdamOptimizer(learning_rate=1e-3)\n",
    "        , metrics = ['acc'])\n",
    "\n",
    "    return bigmodel"
   ]
  },
  {
   "cell_type": "code",
   "execution_count": 6,
   "metadata": {
    "ExecuteTime": {
     "end_time": "2018-11-22T14:18:20.784330Z",
     "start_time": "2018-11-22T14:16:49.858194Z"
    },
    "scrolled": true
   },
   "outputs": [
    {
     "name": "stdout",
     "output_type": "stream",
     "text": [
      "[name: \"/device:CPU:0\"\n",
      "device_type: \"CPU\"\n",
      "memory_limit: 268435456\n",
      "locality {\n",
      "}\n",
      "incarnation: 9868858994752659807\n",
      ", name: \"/device:GPU:0\"\n",
      "device_type: \"GPU\"\n",
      "memory_limit: 8833273037\n",
      "locality {\n",
      "  bus_id: 1\n",
      "}\n",
      "incarnation: 154304736342474620\n",
      "physical_device_desc: \"device: 0, name: GeForce GTX 1080 Ti, pci bus id: 0000:03:00.0, compute capability: 6.1\"\n",
      "]\n",
      "Epoch 1 , step 0 , loss= 3.9922416 , acc = 0.34 \n",
      "Epoch 1 , step 100 , loss= 0.10583778 , acc = 0.96 \n",
      "Epoch 1 , step 200 , loss= 0.058210712 , acc = 1.0 \n",
      "Epoch 1 , step 300 , loss= 0.08472545 , acc = 0.97 \n",
      "Epoch 1 , step 400 , loss= 0.114689104 , acc = 0.99 \n",
      "Epoch 1 , step 500 , loss= 0.08104271 , acc = 0.97 \n",
      "Epoch 1 , step 549 , loss= 0.06923969 val_loss= 0.10526155 , acc = 0.98 val acc = 0.9662 \n",
      "Epoch 1 finished, loss= 0.220874 val loss= 0.10526155 ,  acc = 0.9499818 val acc = 0.9662\n",
      "\n",
      "Epoch 2 , step 50 , loss= 0.017966567 , acc = 0.99 \n",
      "Epoch 2 , step 150 , loss= 0.012570604 , acc = 1.0 \n",
      "Epoch 2 , step 250 , loss= 0.015433839 , acc = 1.0 \n",
      "Epoch 2 , step 350 , loss= 0.033129986 , acc = 1.0 \n",
      "Epoch 2 , step 450 , loss= 0.18985716 , acc = 0.97 \n",
      "Epoch 2 , step 549 , loss= 0.04766779 val_loss= 0.09723682 , acc = 0.99 val acc = 0.97 \n",
      "Epoch 2 finished, loss= 0.039568625 val loss= 0.09723682 ,  acc = 0.99054545 val acc = 0.97\n",
      "\n",
      "Epoch 3 , step 0 , loss= 0.024692101 , acc = 0.99 \n",
      "Epoch 3 , step 100 , loss= 0.02482588 , acc = 0.99 \n",
      "Epoch 3 , step 200 , loss= 0.005881437 , acc = 1.0 \n",
      "Epoch 3 , step 300 , loss= 0.037177604 , acc = 0.99 \n",
      "Epoch 3 , step 400 , loss= 0.012515105 , acc = 1.0 \n",
      "Epoch 3 , step 500 , loss= 0.0066154394 , acc = 1.0 \n",
      "Epoch 3 , step 549 , loss= 0.023774963 val_loss= 0.106519006 , acc = 1.0 val acc = 0.9696 \n",
      "Epoch 3 finished, loss= 0.0186695 val loss= 0.106519006 ,  acc = 0.9964909 val acc = 0.9696\n",
      "\n",
      "Epoch 4 , step 50 , loss= 0.006324853 , acc = 1.0 \n",
      "Epoch 4 , step 150 , loss= 0.0037740192 , acc = 1.0 \n",
      "Epoch 4 , step 250 , loss= 0.007052455 , acc = 1.0 \n",
      "Epoch 4 , step 350 , loss= 0.033706795 , acc = 0.99 \n",
      "Epoch 4 , step 450 , loss= 0.013442863 , acc = 0.99 \n",
      "Epoch 4 , step 549 , loss= 0.0390016 val_loss= 0.08578977 , acc = 0.99 val acc = 0.9774 \n",
      "Epoch 4 finished, loss= 0.010204397 val loss= 0.08578977 ,  acc = 0.99863636 val acc = 0.9774\n",
      "\n",
      "Epoch 5 , step 0 , loss= 0.0013749046 , acc = 1.0 \n",
      "Epoch 5 , step 100 , loss= 0.0034149662 , acc = 1.0 \n",
      "Epoch 5 , step 200 , loss= 0.02360798 , acc = 0.99 \n",
      "Epoch 5 , step 300 , loss= 0.0027934485 , acc = 1.0 \n",
      "Epoch 5 , step 400 , loss= 0.0063976035 , acc = 1.0 \n",
      "Epoch 5 , step 500 , loss= 0.0042089196 , acc = 1.0 \n",
      "Epoch 5 , step 549 , loss= 0.0030522468 val_loss= 0.107641555 , acc = 1.0 val acc = 0.9762 \n",
      "Epoch 5 finished, loss= 0.008681505 val loss= 0.107641555 ,  acc = 0.99854535 val acc = 0.9762\n",
      "\n",
      "Epoch 6 , step 50 , loss= 0.0073745907 , acc = 1.0 \n",
      "Epoch 6 , step 150 , loss= 0.005167906 , acc = 1.0 \n",
      "Epoch 6 , step 250 , loss= 0.0052579218 , acc = 1.0 \n",
      "Epoch 6 , step 350 , loss= 0.0053211777 , acc = 1.0 \n",
      "Epoch 6 , step 450 , loss= 0.004328358 , acc = 1.0 \n",
      "Epoch 6 , step 549 , loss= 0.0023537255 val_loss= 0.08730163 , acc = 1.0 val acc = 0.9796 \n",
      "Epoch 6 finished, loss= 0.008236819 val loss= 0.08730163 ,  acc = 0.99859995 val acc = 0.9796\n",
      "\n",
      "Epoch 7 , step 0 , loss= 0.0038258273 , acc = 1.0 \n",
      "Epoch 7 , step 100 , loss= 0.0015206679 , acc = 1.0 \n",
      "Epoch 7 , step 200 , loss= 0.003931208 , acc = 1.0 \n",
      "Epoch 7 , step 300 , loss= 0.0021064898 , acc = 1.0 \n",
      "Epoch 7 , step 400 , loss= 0.0034391421 , acc = 1.0 \n",
      "Epoch 7 , step 500 , loss= 0.008269303 , acc = 1.0 \n",
      "Epoch 7 , step 549 , loss= 0.010111843 val_loss= 0.09098388 , acc = 1.0 val acc = 0.979 \n",
      "Epoch 7 finished, loss= 0.005721075 val loss= 0.09098388 ,  acc = 0.99907273 val acc = 0.979\n",
      "\n",
      "Epoch 8 , step 50 , loss= 0.00860758 , acc = 1.0 \n",
      "Epoch 8 , step 150 , loss= 0.008461502 , acc = 1.0 \n",
      "Epoch 8 , step 250 , loss= 0.0017047146 , acc = 1.0 \n",
      "Epoch 8 , step 350 , loss= 0.0019169126 , acc = 1.0 \n",
      "Epoch 8 , step 450 , loss= 0.0028126307 , acc = 1.0 \n",
      "Epoch 8 , step 549 , loss= 0.0036440212 val_loss= 0.08375127 , acc = 1.0 val acc = 0.9816 \n",
      "Epoch 8 finished, loss= 0.0051051443 val loss= 0.08375127 ,  acc = 0.9992363 val acc = 0.9816\n",
      "\n",
      "Epoch 9 , step 0 , loss= 0.00073295383 , acc = 1.0 \n",
      "Epoch 9 , step 100 , loss= 0.0021081127 , acc = 1.0 \n",
      "Epoch 9 , step 200 , loss= 0.00078323076 , acc = 1.0 \n",
      "Epoch 9 , step 300 , loss= 0.005068338 , acc = 1.0 \n",
      "Epoch 9 , step 400 , loss= 0.0040913853 , acc = 1.0 \n",
      "Epoch 9 , step 500 , loss= 0.007355728 , acc = 1.0 \n",
      "Epoch 9 , step 549 , loss= 0.0026136942 val_loss= 0.082116775 , acc = 1.0 val acc = 0.9826 \n",
      "Epoch 9 finished, loss= 0.0048901765 val loss= 0.082116775 ,  acc = 0.9992909 val acc = 0.9826\n",
      "\n",
      "Epoch 10 , step 50 , loss= 0.00078367285 , acc = 1.0 \n",
      "Epoch 10 , step 150 , loss= 0.00024702158 , acc = 1.0 \n",
      "Epoch 10 , step 250 , loss= 0.00100079 , acc = 1.0 \n",
      "Epoch 10 , step 350 , loss= 0.00023855547 , acc = 1.0 \n",
      "Epoch 10 , step 450 , loss= 0.0029699581 , acc = 1.0 \n",
      "Epoch 10 , step 549 , loss= 0.04017949 val_loss= 0.10611285 , acc = 0.99 val acc = 0.9758 \n",
      "Epoch 10 finished, loss= 0.0034575008 val loss= 0.10611285 ,  acc = 0.99954545 val acc = 0.9758\n",
      "\n",
      "Epoch 11 , step 0 , loss= 0.0008197024 , acc = 1.0 \n",
      "Epoch 11 , step 100 , loss= 0.0016705383 , acc = 1.0 \n",
      "Epoch 11 , step 200 , loss= 0.0021446564 , acc = 1.0 \n",
      "Epoch 11 , step 300 , loss= 0.0037116846 , acc = 1.0 \n",
      "Epoch 11 , step 400 , loss= 0.007037112 , acc = 1.0 \n",
      "Epoch 11 , step 500 , loss= 0.0063921167 , acc = 1.0 \n",
      "Epoch 11 , step 549 , loss= 0.002965532 val_loss= 0.086229205 , acc = 1.0 val acc = 0.982 \n",
      "Epoch 11 finished, loss= 0.0037861655 val loss= 0.086229205 ,  acc = 0.9993455 val acc = 0.982\n",
      "\n",
      "Epoch 12 , step 50 , loss= 0.0020317368 , acc = 1.0 \n",
      "Epoch 12 , step 150 , loss= 0.0019093162 , acc = 1.0 \n",
      "Epoch 12 , step 250 , loss= 0.0013520159 , acc = 1.0 \n",
      "Epoch 12 , step 350 , loss= 0.0012700811 , acc = 1.0 \n",
      "Epoch 12 , step 450 , loss= 9.602299e-05 , acc = 1.0 \n",
      "Epoch 12 , step 549 , loss= 0.0037321807 val_loss= 0.10011239 , acc = 1.0 val acc = 0.9808 \n",
      "Epoch 12 finished, loss= 0.0019808887 val loss= 0.10011239 ,  acc = 0.99978185 val acc = 0.9808\n",
      "\n",
      "Epoch 13 , step 0 , loss= 0.00031646277 , acc = 1.0 \n",
      "Epoch 13 , step 100 , loss= 0.00086912885 , acc = 1.0 \n",
      "Epoch 13 , step 200 , loss= 0.0019139694 , acc = 1.0 \n",
      "Epoch 13 , step 300 , loss= 0.00016541567 , acc = 1.0 \n",
      "Epoch 13 , step 400 , loss= 0.0013542477 , acc = 1.0 \n",
      "Epoch 13 , step 500 , loss= 0.0009690526 , acc = 1.0 \n",
      "Epoch 13 , step 549 , loss= 0.0035033491 val_loss= 0.11883797 , acc = 1.0 val acc = 0.9814 \n",
      "Epoch 13 finished, loss= 0.00259845 val loss= 0.11883797 ,  acc = 0.99950904 val acc = 0.9814\n",
      "\n",
      "Epoch 14 , step 50 , loss= 0.0017795281 , acc = 1.0 \n",
      "Epoch 14 , step 150 , loss= 0.0022146762 , acc = 1.0 \n",
      "Epoch 14 , step 250 , loss= 0.00053091673 , acc = 1.0 \n",
      "Epoch 14 , step 350 , loss= 0.0028501854 , acc = 1.0 \n",
      "Epoch 14 , step 450 , loss= 0.002509398 , acc = 1.0 \n",
      "Epoch 14 , step 549 , loss= 0.0013956347 val_loss= 0.09780169 , acc = 1.0 val acc = 0.9814 \n",
      "Epoch 14 finished, loss= 0.0024717965 val loss= 0.09780169 ,  acc = 0.99960005 val acc = 0.9814\n",
      "\n",
      "Epoch 15 , step 0 , loss= 0.00026955473 , acc = 1.0 \n",
      "Epoch 15 , step 100 , loss= 0.0017361009 , acc = 1.0 \n",
      "Epoch 15 , step 200 , loss= 0.0007736209 , acc = 1.0 \n",
      "Epoch 15 , step 300 , loss= 0.0010231755 , acc = 1.0 \n",
      "Epoch 15 , step 400 , loss= 0.0028203684 , acc = 1.0 \n",
      "Epoch 15 , step 500 , loss= 0.0016065806 , acc = 1.0 \n",
      "Epoch 15 , step 549 , loss= 0.0020528673 val_loss= 0.08774837 , acc = 1.0 val acc = 0.9844 \n",
      "Epoch 15 finished, loss= 0.002365457 val loss= 0.08774837 ,  acc = 0.99959993 val acc = 0.9844\n",
      "\n",
      "Epoch 16 , step 50 , loss= 0.001729986 , acc = 1.0 \n",
      "Epoch 16 , step 150 , loss= 0.0009850989 , acc = 1.0 \n",
      "Epoch 16 , step 250 , loss= 0.0007267559 , acc = 1.0 \n",
      "Epoch 16 , step 350 , loss= 0.0005790878 , acc = 1.0 \n",
      "Epoch 16 , step 450 , loss= 0.000717146 , acc = 1.0 \n",
      "Epoch 16 , step 549 , loss= 0.0013650305 val_loss= 0.101239145 , acc = 1.0 val acc = 0.982 \n",
      "Epoch 16 finished, loss= 0.0021535896 val loss= 0.101239145 ,  acc = 0.99956363 val acc = 0.982\n",
      "\n",
      "Epoch 17 , step 0 , loss= 5.9736296e-05 , acc = 1.0 \n",
      "Epoch 17 , step 100 , loss= 4.4267803e-05 , acc = 1.0 \n",
      "Epoch 17 , step 200 , loss= 0.004856356 , acc = 1.0 \n",
      "Epoch 17 , step 300 , loss= 0.0010601109 , acc = 1.0 \n"
     ]
    },
    {
     "name": "stdout",
     "output_type": "stream",
     "text": [
      "Epoch 17 , step 400 , loss= 0.0013103434 , acc = 1.0 \n",
      "Epoch 17 , step 500 , loss= 0.00043258668 , acc = 1.0 \n",
      "Epoch 17 , step 549 , loss= 0.00042330287 val_loss= 0.10255059 , acc = 1.0 val acc = 0.9812 \n",
      "Epoch 17 finished, loss= 0.0019744236 val loss= 0.10255059 ,  acc = 0.99972725 val acc = 0.9812\n",
      "\n",
      "Epoch 18 , step 50 , loss= 7.699802e-05 , acc = 1.0 \n",
      "Epoch 18 , step 150 , loss= 0.0005810577 , acc = 1.0 \n",
      "Epoch 18 , step 250 , loss= 0.00029793242 , acc = 1.0 \n",
      "Epoch 18 , step 350 , loss= 0.0028908974 , acc = 1.0 \n",
      "Epoch 18 , step 450 , loss= 0.001291955 , acc = 1.0 \n",
      "Epoch 18 , step 549 , loss= 0.0002482321 val_loss= 0.103534006 , acc = 1.0 val acc = 0.9834 \n",
      "Epoch 18 finished, loss= 0.0009892691 val loss= 0.103534006 ,  acc = 0.9998544 val acc = 0.9834\n",
      "\n",
      "Epoch 19 , step 0 , loss= 0.0019215879 , acc = 1.0 \n",
      "Epoch 19 , step 100 , loss= 1.5319289e-05 , acc = 1.0 \n",
      "Epoch 19 , step 200 , loss= 0.00024163236 , acc = 1.0 \n",
      "Epoch 19 , step 300 , loss= 0.0016887471 , acc = 1.0 \n",
      "Epoch 19 , step 400 , loss= 0.0013117647 , acc = 1.0 \n",
      "Epoch 19 , step 500 , loss= 0.0005993586 , acc = 1.0 \n",
      "Epoch 19 , step 549 , loss= 0.0024539893 val_loss= 0.14216897 , acc = 1.0 val acc = 0.9762 \n",
      "Epoch 19 finished, loss= 0.0014690075 val loss= 0.14216897 ,  acc = 0.9998182 val acc = 0.9762\n",
      "\n",
      "Epoch 20 , step 50 , loss= 0.00038648906 , acc = 1.0 \n",
      "Epoch 20 , step 150 , loss= 0.004013461 , acc = 1.0 \n",
      "Epoch 20 , step 250 , loss= 0.0020107436 , acc = 1.0 \n",
      "Epoch 20 , step 350 , loss= 0.055380277 , acc = 0.99 \n",
      "Epoch 20 , step 450 , loss= 0.0005508509 , acc = 1.0 \n",
      "Epoch 20 , step 549 , loss= 0.00059296796 val_loss= 0.107497826 , acc = 1.0 val acc = 0.9828 \n",
      "Epoch 20 finished, loss= 0.0015662023 val loss= 0.107497826 ,  acc = 0.99969083 val acc = 0.9828\n",
      "\n"
     ]
    }
   ],
   "source": [
    "if try_cls2:\n",
    "#     teacher = build_big_model(input_dims, output_dims, session)\n",
    "    teacher = build_big_model(input_dims, output_dims)\n",
    "    teacher.train(\n",
    "        X=X_train\n",
    "        ,y=y_train\n",
    "        ,val_set=[X_val,y_val]\n",
    "        ,batch_size=100\n",
    "        ,n_epochs=20\n",
    "        ,display_steps=100)"
   ]
  },
  {
   "cell_type": "code",
   "execution_count": 7,
   "metadata": {
    "ExecuteTime": {
     "end_time": "2018-11-22T14:18:21.370686Z",
     "start_time": "2018-11-22T14:18:20.786105Z"
    }
   },
   "outputs": [
    {
     "name": "stdout",
     "output_type": "stream",
     "text": [
      "Plotting loss...\n"
     ]
    },
    {
     "data": {
      "image/png": "[encoded data removed]",
      "text/plain": [
       "<Figure size 432x288 with 1 Axes>"
      ]
     },
     "metadata": {
      "needs_background": "light"
     },
     "output_type": "display_data"
    },
    {
     "name": "stdout",
     "output_type": "stream",
     "text": [
      "Plotting metrics...\n"
     ]
    },
    {
     "data": {
      "image/png": "[encoded data removed]",
      "text/plain": [
       "<Figure size 432x288 with 1 Axes>"
      ]
     },
     "metadata": {
      "needs_background": "light"
     },
     "output_type": "display_data"
    },
    {
     "name": "stdout",
     "output_type": "stream",
     "text": [
      "train {'acc': 0.9981818}\n",
      "test {'acc': 0.9801}\n"
     ]
    }
   ],
   "source": [
    "if try_cls2:\n",
    "#     gc.collect()\n",
    "    teacher.plt_loss()\n",
    "    teacher.plt_metrics()\n",
    "    train_metric = teacher.get_metrics(X_train, y_train)\n",
    "    test_metric = teacher.get_metrics(X_test, y_test)\n",
    "    print('train',train_metric)\n",
    "    print('test',test_metric)"
   ]
  },
  {
   "cell_type": "code",
   "execution_count": 8,
   "metadata": {
    "ExecuteTime": {
     "end_time": "2018-11-22T14:18:22.847755Z",
     "start_time": "2018-11-22T14:18:21.372416Z"
    }
   },
   "outputs": [
    {
     "data": {
      "image/png": "[encoded data removed]",
      "text/plain": [
       "<Figure size 432x288 with 1 Axes>"
      ]
     },
     "metadata": {
      "needs_background": "light"
     },
     "output_type": "display_data"
    },
    {
     "name": "stdout",
     "output_type": "stream",
     "text": [
      "[0. 0. 0. 0. 0. 0. 0. 1. 0. 0.]\n",
      "[1.2416029e-24 2.0141148e-23 8.2136368e-17 1.6127624e-20 2.1509384e-21\n",
      " 5.8212543e-24 1.9801792e-34 1.0000000e+00 4.9459207e-32 7.0513298e-23]\n"
     ]
    },
    {
     "data": {
      "image/png": "[encoded data removed]",
      "text/plain": [
       "<Figure size 432x288 with 1 Axes>"
      ]
     },
     "metadata": {
      "needs_background": "light"
     },
     "output_type": "display_data"
    },
    {
     "name": "stdout",
     "output_type": "stream",
     "text": [
      "[0. 0. 0. 1. 0. 0. 0. 0. 0. 0.]\n",
      "[5.7509041e-34 3.9930926e-25 1.4881000e-28 1.0000000e+00 7.6027495e-32\n",
      " 7.6615994e-22 6.1548890e-35 3.2974195e-26 6.4190730e-19 3.8242697e-19]\n"
     ]
    },
    {
     "data": {
      "image/png": "[encoded data removed]",
      "text/plain": [
       "<Figure size 432x288 with 1 Axes>"
      ]
     },
     "metadata": {
      "needs_background": "light"
     },
     "output_type": "display_data"
    },
    {
     "name": "stdout",
     "output_type": "stream",
     "text": [
      "[0. 0. 0. 0. 1. 0. 0. 0. 0. 0.]\n",
      "[2.8555000e-24 2.8591057e-18 1.2476768e-22 6.9886777e-20 1.0000000e+00\n",
      " 7.4656734e-21 9.3882369e-20 1.9155875e-15 3.3616111e-17 1.7457487e-09]\n"
     ]
    },
    {
     "data": {
      "image/png": "[encoded data removed]",
      "text/plain": [
       "<Figure size 432x288 with 1 Axes>"
      ]
     },
     "metadata": {
      "needs_background": "light"
     },
     "output_type": "display_data"
    },
    {
     "name": "stdout",
     "output_type": "stream",
     "text": [
      "[0. 0. 0. 0. 0. 0. 1. 0. 0. 0.]\n",
      "[2.1652412e-18 1.7309603e-21 1.1219523e-15 6.4232488e-23 7.6937012e-14\n",
      " 5.1349827e-14 1.0000000e+00 7.6978010e-24 6.4409100e-17 6.0597468e-19]\n"
     ]
    },
    {
     "data": {
      "image/png": "[encoded data removed]",
      "text/plain": [
       "<Figure size 432x288 with 1 Axes>"
      ]
     },
     "metadata": {
      "needs_background": "light"
     },
     "output_type": "display_data"
    },
    {
     "name": "stdout",
     "output_type": "stream",
     "text": [
      "[0. 1. 0. 0. 0. 0. 0. 0. 0. 0.]\n",
      "[3.9326511e-12 1.0000000e+00 1.1109205e-10 1.3408114e-13 1.0015258e-10\n",
      " 1.0042257e-12 9.1037025e-11 1.4584299e-09 3.0470939e-09 7.8793005e-12]\n"
     ]
    },
    {
     "data": {
      "image/png": "[encoded data removed]",
      "text/plain": [
       "<Figure size 432x288 with 1 Axes>"
      ]
     },
     "metadata": {
      "needs_background": "light"
     },
     "output_type": "display_data"
    },
    {
     "name": "stdout",
     "output_type": "stream",
     "text": [
      "[0. 0. 0. 0. 0. 0. 0. 0. 1. 0.]\n",
      "[2.3748809e-17 1.9040459e-13 3.8159809e-10 9.2701064e-12 8.2114164e-16\n",
      " 3.4607948e-20 1.7056811e-18 5.4617619e-18 1.0000000e+00 1.3912499e-14]\n"
     ]
    },
    {
     "data": {
      "image/png": "[encoded data removed]",
      "text/plain": [
       "<Figure size 432x288 with 1 Axes>"
      ]
     },
     "metadata": {
      "needs_background": "light"
     },
     "output_type": "display_data"
    },
    {
     "name": "stdout",
     "output_type": "stream",
     "text": [
      "[0. 1. 0. 0. 0. 0. 0. 0. 0. 0.]\n",
      "[6.1841584e-14 9.9999940e-01 1.7624648e-10 6.5261374e-16 3.6500615e-11\n",
      " 1.0537957e-14 3.0024891e-10 1.3706286e-10 6.2255071e-07 8.5882677e-16]\n"
     ]
    },
    {
     "data": {
      "image/png": "[encoded data removed]",
      "text/plain": [
       "<Figure size 432x288 with 1 Axes>"
      ]
     },
     "metadata": {
      "needs_background": "light"
     },
     "output_type": "display_data"
    },
    {
     "name": "stdout",
     "output_type": "stream",
     "text": [
      "[1. 0. 0. 0. 0. 0. 0. 0. 0. 0.]\n",
      "[1.00000000e+00 8.76125717e-19 1.55558554e-16 4.63882260e-25\n",
      " 2.61194177e-16 2.40159527e-22 1.31881785e-14 1.89599326e-13\n",
      " 4.38529102e-23 1.11820459e-16]\n"
     ]
    },
    {
     "data": {
      "image/png": "[encoded data removed]",
      "text/plain": [
       "<Figure size 432x288 with 1 Axes>"
      ]
     },
     "metadata": {
      "needs_background": "light"
     },
     "output_type": "display_data"
    },
    {
     "name": "stdout",
     "output_type": "stream",
     "text": [
      "[0. 0. 0. 0. 0. 0. 0. 0. 0. 1.]\n",
      "[6.2310184e-16 1.9372113e-18 9.3263104e-19 5.2545973e-15 2.4378810e-10\n",
      " 3.9424907e-19 5.6786753e-21 3.4066213e-12 2.7684186e-15 1.0000000e+00]\n"
     ]
    },
    {
     "data": {
      "image/png": "[encoded data removed]",
      "text/plain": [
       "<Figure size 432x288 with 1 Axes>"
      ]
     },
     "metadata": {
      "needs_background": "light"
     },
     "output_type": "display_data"
    },
    {
     "name": "stdout",
     "output_type": "stream",
     "text": [
      "[0. 0. 0. 0. 0. 0. 0. 0. 1. 0.]\n",
      "[9.9914232e-23 1.8524611e-17 3.1292110e-16 1.0456315e-14 8.3539973e-18\n",
      " 8.0846534e-19 7.0957516e-21 3.0238774e-24 1.0000000e+00 8.3140117e-16]\n"
     ]
    }
   ],
   "source": [
    "if try_cls2:\n",
    "    n_samples = 10\n",
    "    t = 5\n",
    "    X_show, y_show = X_train.copy(), y_train.copy()\n",
    "    model = teacher\n",
    "    \n",
    "    y_pred = model.predict(X_show)\n",
    "    y_pred_soft = model.predict_softened(X_show, t)\n",
    "    \n",
    "    plot_mnist(X_show, y_show, y_pred, n_samples)\n",
    "    \n",
    "    X_show, y_show = None, None\n",
    "#     gc.collect()"
   ]
  },
  {
   "cell_type": "code",
   "execution_count": 9,
   "metadata": {
    "ExecuteTime": {
     "end_time": "2018-11-22T14:18:44.138291Z",
     "start_time": "2018-11-22T14:18:44.111801Z"
    }
   },
   "outputs": [],
   "source": [
    "\n",
    "def build_small_model(input_dims, output_dims, is_student):#, session):\n",
    "    # session settings\n",
    "    session = create_session(gpu_id='1')\n",
    "#     tf.reset_default_graph()\n",
    "    smallmodel = StudentNN(\n",
    "        input_dims=input_dims\n",
    "        , output_dims=output_dims\n",
    "        , session=session\n",
    "        , dtype_X=tf.float32\n",
    "        , dtype_y=tf.float32)\n",
    "\n",
    "    smallmodel.add_layer(\n",
    "        FC(inputs=smallmodel.h[-1],out_dims=30,activation_fn=tf.nn.relu))\n",
    "#     smallmodel.add_layer(\n",
    "#         FC(inputs=smallmodel.h[-1],out_dims=800,activation_fn=tf.nn.relu))\n",
    "    smallmodel.add_layer(\n",
    "        FC(inputs=smallmodel.h[-1],out_dims=output_dims, activation_fn=tf.nn.softmax))\n",
    "\n",
    "    if is_student:\n",
    "        smallmodel.compile_student(\n",
    "            loss_standard=tf.losses.softmax_cross_entropy(smallmodel.ys,smallmodel.logits)\n",
    "            , opt=tf.train.AdamOptimizer(learning_rate=1e-4) #TODO: learning rate\n",
    "            , metrics = ['acc']\n",
    "        )\n",
    "    else:\n",
    "        smallmodel.compile_nn(\n",
    "            loss=tf.losses.softmax_cross_entropy(smallmodel.ys,smallmodel.logits)\n",
    "            , opt=tf.train.AdamOptimizer(learning_rate=1e-4)\n",
    "            , metrics = ['acc']\n",
    "        )\n",
    "    return smallmodel"
   ]
  },
  {
   "cell_type": "code",
   "execution_count": 13,
   "metadata": {
    "ExecuteTime": {
     "end_time": "2018-11-22T14:20:08.491081Z",
     "start_time": "2018-11-22T14:19:15.170022Z"
    }
   },
   "outputs": [
    {
     "name": "stdout",
     "output_type": "stream",
     "text": [
      "[name: \"/device:CPU:0\"\n",
      "device_type: \"CPU\"\n",
      "memory_limit: 268435456\n",
      "locality {\n",
      "}\n",
      "incarnation: 2997553457315910511\n",
      ", name: \"/device:GPU:0\"\n",
      "device_type: \"GPU\"\n",
      "memory_limit: 8118039348\n",
      "locality {\n",
      "  bus_id: 1\n",
      "}\n",
      "incarnation: 5627890450019554547\n",
      "physical_device_desc: \"device: 0, name: GeForce GTX 1080 Ti, pci bus id: 0000:03:00.0, compute capability: 6.1\"\n",
      "]\n",
      "Epoch 1 , step 0 , loss= 2.3179727 , acc = 0.11 \n",
      "Epoch 1 , step 100 , loss= 2.1361043 , acc = 0.29 \n",
      "Epoch 1 , step 200 , loss= 1.8888179 , acc = 0.53 \n",
      "Epoch 1 , step 300 , loss= 1.6168774 , acc = 0.72 \n",
      "Epoch 1 , step 400 , loss= 1.2698727 , acc = 0.77 \n",
      "Epoch 1 , step 500 , loss= 1.1070206 , acc = 0.82 \n",
      "Epoch 1 , step 549 , loss= 1.1094021 val_loss= 1.0487108 , acc = 0.75 val acc = 0.7938 \n",
      "Epoch 1 finished, loss= 1.6854761 val loss= 1.0487108 ,  acc = 0.55869097 val acc = 0.7938\n",
      "\n",
      "Epoch 2 , step 50 , loss= 1.0014292 , acc = 0.83 \n",
      "Epoch 2 , step 150 , loss= 0.94268763 , acc = 0.79 \n",
      "Epoch 2 , step 250 , loss= 0.82502866 , acc = 0.79 \n",
      "Epoch 2 , step 350 , loss= 0.8668875 , acc = 0.78 \n",
      "Epoch 2 , step 450 , loss= 0.59225374 , acc = 0.89 \n",
      "Epoch 2 , step 549 , loss= 0.5246012 val_loss= 0.59626716 , acc = 0.92 val acc = 0.8562 \n",
      "Epoch 2 finished, loss= 0.7956148 val loss= 0.59626716 ,  acc = 0.8254909 val acc = 0.8562\n",
      "\n",
      "Epoch 3 , step 0 , loss= 0.60786325 , acc = 0.88 \n",
      "Epoch 3 , step 100 , loss= 0.59796834 , acc = 0.86 \n",
      "Epoch 3 , step 200 , loss= 0.58283925 , acc = 0.85 \n",
      "Epoch 3 , step 300 , loss= 0.5439415 , acc = 0.85 \n",
      "Epoch 3 , step 400 , loss= 0.47279656 , acc = 0.89 \n",
      "Epoch 3 , step 500 , loss= 0.481145 , acc = 0.88 \n",
      "Epoch 3 , step 549 , loss= 0.43519992 val_loss= 0.4561482 , acc = 0.87 val acc = 0.8822 \n",
      "Epoch 3 finished, loss= 0.5389669 val loss= 0.4561482 ,  acc = 0.8654364 val acc = 0.8822\n",
      "\n",
      "Epoch 4 , step 50 , loss= 0.32495987 , acc = 0.95 \n",
      "Epoch 4 , step 150 , loss= 0.5084696 , acc = 0.82 \n",
      "Epoch 4 , step 250 , loss= 0.42255336 , acc = 0.88 \n",
      "Epoch 4 , step 350 , loss= 0.47361752 , acc = 0.84 \n",
      "Epoch 4 , step 450 , loss= 0.4010447 , acc = 0.87 \n",
      "Epoch 4 , step 549 , loss= 0.40786248 val_loss= 0.3900126 , acc = 0.89 val acc = 0.8974 \n",
      "Epoch 4 finished, loss= 0.44198418 val loss= 0.3900126 ,  acc = 0.8825818 val acc = 0.8974\n",
      "\n",
      "Epoch 5 , step 0 , loss= 0.46815625 , acc = 0.87 \n",
      "Epoch 5 , step 100 , loss= 0.4538216 , acc = 0.86 \n",
      "Epoch 5 , step 200 , loss= 0.26813278 , acc = 0.93 \n",
      "Epoch 5 , step 300 , loss= 0.38606012 , acc = 0.88 \n",
      "Epoch 5 , step 400 , loss= 0.43606958 , acc = 0.89 \n",
      "Epoch 5 , step 500 , loss= 0.46156892 , acc = 0.83 \n",
      "Epoch 5 , step 549 , loss= 0.4564378 val_loss= 0.3527146 , acc = 0.88 val acc = 0.9042 \n",
      "Epoch 5 finished, loss= 0.39138496 val loss= 0.3527146 ,  acc = 0.8936908 val acc = 0.9042\n",
      "\n",
      "Epoch 6 , step 50 , loss= 0.3939138 , acc = 0.87 \n",
      "Epoch 6 , step 150 , loss= 0.33570644 , acc = 0.92 \n",
      "Epoch 6 , step 250 , loss= 0.40854287 , acc = 0.88 \n",
      "Epoch 6 , step 350 , loss= 0.33339217 , acc = 0.9 \n",
      "Epoch 6 , step 450 , loss= 0.36498544 , acc = 0.89 \n",
      "Epoch 6 , step 549 , loss= 0.28632423 val_loss= 0.32829684 , acc = 0.9 val acc = 0.9086 \n",
      "Epoch 6 finished, loss= 0.36005306 val loss= 0.32829684 ,  acc = 0.9003637 val acc = 0.9086\n",
      "\n",
      "Epoch 7 , step 0 , loss= 0.36232892 , acc = 0.87 \n",
      "Epoch 7 , step 100 , loss= 0.2761651 , acc = 0.93 \n",
      "Epoch 7 , step 200 , loss= 0.39647976 , acc = 0.92 \n",
      "Epoch 7 , step 300 , loss= 0.45711178 , acc = 0.89 \n",
      "Epoch 7 , step 400 , loss= 0.26586956 , acc = 0.9 \n",
      "Epoch 7 , step 500 , loss= 0.37033096 , acc = 0.91 \n",
      "Epoch 7 , step 549 , loss= 0.16789593 val_loss= 0.30996597 , acc = 0.95 val acc = 0.9134 \n",
      "Epoch 7 finished, loss= 0.3377073 val loss= 0.30996597 ,  acc = 0.90590906 val acc = 0.9134\n",
      "\n",
      "Epoch 8 , step 50 , loss= 0.26950482 , acc = 0.95 \n",
      "Epoch 8 , step 150 , loss= 0.2506508 , acc = 0.95 \n",
      "Epoch 8 , step 250 , loss= 0.33175918 , acc = 0.9 \n",
      "Epoch 8 , step 350 , loss= 0.3659251 , acc = 0.89 \n",
      "Epoch 8 , step 450 , loss= 0.30834273 , acc = 0.93 \n",
      "Epoch 8 , step 549 , loss= 0.1857545 val_loss= 0.29607186 , acc = 0.95 val acc = 0.9164 \n",
      "Epoch 8 finished, loss= 0.3205972 val loss= 0.29607186 ,  acc = 0.9104908 val acc = 0.9164\n",
      "\n",
      "Epoch 9 , step 0 , loss= 0.30484986 , acc = 0.91 \n",
      "Epoch 9 , step 100 , loss= 0.34200364 , acc = 0.89 \n",
      "Epoch 9 , step 200 , loss= 0.3458395 , acc = 0.89 \n",
      "Epoch 9 , step 300 , loss= 0.29117194 , acc = 0.96 \n",
      "Epoch 9 , step 400 , loss= 0.19932862 , acc = 0.95 \n",
      "Epoch 9 , step 500 , loss= 0.31627345 , acc = 0.91 \n",
      "Epoch 9 , step 549 , loss= 0.2938649 val_loss= 0.28413194 , acc = 0.92 val acc = 0.9196 \n",
      "Epoch 9 finished, loss= 0.30676988 val loss= 0.28413194 ,  acc = 0.9141636 val acc = 0.9196\n",
      "\n",
      "Epoch 10 , step 50 , loss= 0.38825852 , acc = 0.89 \n",
      "Epoch 10 , step 150 , loss= 0.36709693 , acc = 0.87 \n",
      "Epoch 10 , step 250 , loss= 0.3849464 , acc = 0.9 \n",
      "Epoch 10 , step 350 , loss= 0.33029258 , acc = 0.91 \n",
      "Epoch 10 , step 450 , loss= 0.29483023 , acc = 0.91 \n",
      "Epoch 10 , step 549 , loss= 0.18980004 val_loss= 0.27509093 , acc = 0.94 val acc = 0.9212 \n",
      "Epoch 10 finished, loss= 0.29514343 val loss= 0.27509093 ,  acc = 0.9169273 val acc = 0.9212\n",
      "\n",
      "Epoch 11 , step 0 , loss= 0.35308447 , acc = 0.92 \n",
      "Epoch 11 , step 100 , loss= 0.21056227 , acc = 0.96 \n",
      "Epoch 11 , step 200 , loss= 0.3535506 , acc = 0.91 \n",
      "Epoch 11 , step 300 , loss= 0.25856158 , acc = 0.93 \n",
      "Epoch 11 , step 400 , loss= 0.19080856 , acc = 0.95 \n",
      "Epoch 11 , step 500 , loss= 0.27488184 , acc = 0.89 \n",
      "Epoch 11 , step 549 , loss= 0.21720417 val_loss= 0.26700944 , acc = 0.93 val acc = 0.9248 \n",
      "Epoch 11 finished, loss= 0.28529868 val loss= 0.26700944 ,  acc = 0.91965455 val acc = 0.9248\n",
      "\n",
      "Epoch 12 , step 50 , loss= 0.31307116 , acc = 0.92 \n",
      "Epoch 12 , step 150 , loss= 0.21057104 , acc = 0.94 \n",
      "Epoch 12 , step 250 , loss= 0.25251022 , acc = 0.96 \n",
      "Epoch 12 , step 350 , loss= 0.33780164 , acc = 0.94 \n",
      "Epoch 12 , step 450 , loss= 0.31314036 , acc = 0.92 \n",
      "Epoch 12 , step 549 , loss= 0.3699 val_loss= 0.25969675 , acc = 0.9 val acc = 0.9264 \n",
      "Epoch 12 finished, loss= 0.27655685 val loss= 0.25969675 ,  acc = 0.9223454 val acc = 0.9264\n",
      "\n",
      "Epoch 13 , step 0 , loss= 0.27318582 , acc = 0.95 \n",
      "Epoch 13 , step 100 , loss= 0.30269554 , acc = 0.91 \n",
      "Epoch 13 , step 200 , loss= 0.15937772 , acc = 0.96 \n",
      "Epoch 13 , step 300 , loss= 0.28105974 , acc = 0.9 \n",
      "Epoch 13 , step 400 , loss= 0.45361644 , acc = 0.87 \n",
      "Epoch 13 , step 500 , loss= 0.23338518 , acc = 0.93 \n",
      "Epoch 13 , step 549 , loss= 0.31532508 val_loss= 0.252498 , acc = 0.9 val acc = 0.9294 \n",
      "Epoch 13 finished, loss= 0.268733 val loss= 0.252498 ,  acc = 0.9244 val acc = 0.9294\n",
      "\n",
      "Epoch 14 , step 50 , loss= 0.14969511 , acc = 0.95 \n",
      "Epoch 14 , step 150 , loss= 0.34026104 , acc = 0.89 \n",
      "Epoch 14 , step 250 , loss= 0.23072447 , acc = 0.94 \n",
      "Epoch 14 , step 350 , loss= 0.16457689 , acc = 0.94 \n",
      "Epoch 14 , step 450 , loss= 0.39733 , acc = 0.93 \n",
      "Epoch 14 , step 549 , loss= 0.26610786 val_loss= 0.2465169 , acc = 0.92 val acc = 0.9296 \n",
      "Epoch 14 finished, loss= 0.26156232 val loss= 0.2465169 ,  acc = 0.92598176 val acc = 0.9296\n",
      "\n",
      "Epoch 15 , step 0 , loss= 0.20366259 , acc = 0.96 \n",
      "Epoch 15 , step 100 , loss= 0.37738574 , acc = 0.86 \n",
      "Epoch 15 , step 200 , loss= 0.3322675 , acc = 0.93 \n",
      "Epoch 15 , step 300 , loss= 0.2101907 , acc = 0.92 \n",
      "Epoch 15 , step 400 , loss= 0.4212469 , acc = 0.84 \n",
      "Epoch 15 , step 500 , loss= 0.2615822 , acc = 0.95 \n",
      "Epoch 15 , step 549 , loss= 0.2987715 val_loss= 0.24119835 , acc = 0.9 val acc = 0.931 \n",
      "Epoch 15 finished, loss= 0.25508222 val loss= 0.24119835 ,  acc = 0.9277091 val acc = 0.931\n",
      "\n",
      "Epoch 16 , step 50 , loss= 0.2330379 , acc = 0.93 \n",
      "Epoch 16 , step 150 , loss= 0.36492828 , acc = 0.89 \n",
      "Epoch 16 , step 250 , loss= 0.34095603 , acc = 0.91 \n",
      "Epoch 16 , step 350 , loss= 0.29104665 , acc = 0.93 \n",
      "Epoch 16 , step 450 , loss= 0.2550883 , acc = 0.91 \n",
      "Epoch 16 , step 549 , loss= 0.25174847 val_loss= 0.23581848 , acc = 0.95 val acc = 0.9332 \n",
      "Epoch 16 finished, loss= 0.24882613 val loss= 0.23581848 ,  acc = 0.9296365 val acc = 0.9332\n",
      "\n",
      "Epoch 17 , step 0 , loss= 0.26713166 , acc = 0.93 \n",
      "Epoch 17 , step 100 , loss= 0.09789863 , acc = 0.99 \n",
      "Epoch 17 , step 200 , loss= 0.22010624 , acc = 0.95 \n",
      "Epoch 17 , step 300 , loss= 0.174175 , acc = 0.96 \n",
      "Epoch 17 , step 400 , loss= 0.26365444 , acc = 0.91 \n",
      "Epoch 17 , step 500 , loss= 0.26704443 , acc = 0.92 \n",
      "Epoch 17 , step 549 , loss= 0.22507152 val_loss= 0.23075996 , acc = 0.94 val acc = 0.9336 \n",
      "Epoch 17 finished, loss= 0.24312682 val loss= 0.23075996 ,  acc = 0.93118185 val acc = 0.9336\n",
      "\n"
     ]
    },
    {
     "name": "stdout",
     "output_type": "stream",
     "text": [
      "Epoch 18 , step 50 , loss= 0.27053022 , acc = 0.95 \n",
      "Epoch 18 , step 150 , loss= 0.19372386 , acc = 0.95 \n",
      "Epoch 18 , step 250 , loss= 0.2925393 , acc = 0.93 \n",
      "Epoch 18 , step 350 , loss= 0.27817428 , acc = 0.9 \n",
      "Epoch 18 , step 450 , loss= 0.19911419 , acc = 0.96 \n",
      "Epoch 18 , step 549 , loss= 0.1703858 val_loss= 0.22596428 , acc = 0.97 val acc = 0.9352 \n",
      "Epoch 18 finished, loss= 0.23764557 val loss= 0.22596428 ,  acc = 0.9329091 val acc = 0.9352\n",
      "\n",
      "Epoch 19 , step 0 , loss= 0.2383718 , acc = 0.93 \n",
      "Epoch 19 , step 100 , loss= 0.28878215 , acc = 0.91 \n",
      "Epoch 19 , step 200 , loss= 0.21479577 , acc = 0.93 \n",
      "Epoch 19 , step 300 , loss= 0.25250247 , acc = 0.9 \n",
      "Epoch 19 , step 400 , loss= 0.33443123 , acc = 0.9 \n",
      "Epoch 19 , step 500 , loss= 0.3484744 , acc = 0.92 \n",
      "Epoch 19 , step 549 , loss= 0.34963673 val_loss= 0.22162339 , acc = 0.88 val acc = 0.9368 \n",
      "Epoch 19 finished, loss= 0.23270552 val loss= 0.22162339 ,  acc = 0.9342 val acc = 0.9368\n",
      "\n",
      "Epoch 20 , step 50 , loss= 0.22549716 , acc = 0.92 \n",
      "Epoch 20 , step 150 , loss= 0.197545 , acc = 0.94 \n",
      "Epoch 20 , step 250 , loss= 0.17081144 , acc = 0.95 \n",
      "Epoch 20 , step 350 , loss= 0.24915175 , acc = 0.93 \n",
      "Epoch 20 , step 450 , loss= 0.26588506 , acc = 0.92 \n",
      "Epoch 20 , step 549 , loss= 0.1648573 val_loss= 0.2182833 , acc = 0.97 val acc = 0.9388 \n",
      "Epoch 20 finished, loss= 0.22769657 val loss= 0.2182833 ,  acc = 0.936 val acc = 0.9388\n",
      "\n"
     ]
    }
   ],
   "source": [
    "train_small = True\n",
    "# gc.collect()\n",
    "if try_cls2 and train_small:\n",
    "#     small = build_small_model(input_dims, output_dims, session, is_student=False)\n",
    "    small = build_small_model(input_dims, output_dims, is_student=False)\n",
    "    small.train(\n",
    "        X=X_train\n",
    "        ,y=y_train\n",
    "        ,val_set=[X_val,y_val]\n",
    "        ,batch_size=100\n",
    "        ,n_epochs=20\n",
    "        ,display_steps=100)"
   ]
  },
  {
   "cell_type": "code",
   "execution_count": 14,
   "metadata": {
    "ExecuteTime": {
     "end_time": "2018-11-22T14:20:09.024633Z",
     "start_time": "2018-11-22T14:20:08.492556Z"
    }
   },
   "outputs": [
    {
     "name": "stdout",
     "output_type": "stream",
     "text": [
      "Small model\n",
      "Plotting loss...\n"
     ]
    },
    {
     "data": {
      "image/png": "[encoded data removed]",
      "text/plain": [
       "<Figure size 432x288 with 1 Axes>"
      ]
     },
     "metadata": {
      "needs_background": "light"
     },
     "output_type": "display_data"
    },
    {
     "name": "stdout",
     "output_type": "stream",
     "text": [
      "Plotting metrics...\n"
     ]
    },
    {
     "data": {
      "image/png": "[encoded data removed]",
      "text/plain": [
       "<Figure size 432x288 with 1 Axes>"
      ]
     },
     "metadata": {
      "needs_background": "light"
     },
     "output_type": "display_data"
    },
    {
     "name": "stdout",
     "output_type": "stream",
     "text": [
      "train {'acc': 0.9368909}\n",
      "test {'acc': 0.9361}\n"
     ]
    }
   ],
   "source": [
    "if try_cls2 and train_small:\n",
    "    print('Small model')\n",
    "    small.plt_loss()\n",
    "    small.plt_metrics()\n",
    "    train_metric = small.get_metrics(X_train, y_train)\n",
    "    test_metric = small.get_metrics(X_test, y_test)\n",
    "    print('train',train_metric)\n",
    "    print('test',test_metric)"
   ]
  },
  {
   "cell_type": "code",
   "execution_count": 15,
   "metadata": {
    "ExecuteTime": {
     "end_time": "2018-11-22T14:20:10.408318Z",
     "start_time": "2018-11-22T14:20:09.026043Z"
    }
   },
   "outputs": [
    {
     "data": {
      "image/png": "[encoded data removed]",
      "text/plain": [
       "<Figure size 432x288 with 1 Axes>"
      ]
     },
     "metadata": {
      "needs_background": "light"
     },
     "output_type": "display_data"
    },
    {
     "name": "stdout",
     "output_type": "stream",
     "text": [
      "[0. 0. 0. 0. 0. 0. 0. 1. 0. 0.]\n",
      "[4.3683362e-06 6.2735394e-06 1.3109775e-01 1.2690272e-02 1.2294855e-05\n",
      " 1.0192661e-04 4.2481452e-06 8.5366982e-01 1.4568719e-03 9.5617288e-04]\n"
     ]
    },
    {
     "data": {
      "image/png": "[encoded data removed]",
      "text/plain": [
       "<Figure size 432x288 with 1 Axes>"
      ]
     },
     "metadata": {
      "needs_background": "light"
     },
     "output_type": "display_data"
    },
    {
     "name": "stdout",
     "output_type": "stream",
     "text": [
      "[0. 0. 0. 1. 0. 0. 0. 0. 0. 0.]\n",
      "[4.8446864e-06 3.0136416e-06 3.1607552e-04 9.9562645e-01 8.7773628e-08\n",
      " 1.6419347e-04 2.7046212e-09 1.7246879e-05 3.3751428e-03 4.9299648e-04]\n"
     ]
    },
    {
     "data": {
      "image/png": "[encoded data removed]",
      "text/plain": [
       "<Figure size 432x288 with 1 Axes>"
      ]
     },
     "metadata": {
      "needs_background": "light"
     },
     "output_type": "display_data"
    },
    {
     "name": "stdout",
     "output_type": "stream",
     "text": [
      "[0. 0. 0. 0. 1. 0. 0. 0. 0. 0.]\n",
      "[2.9625683e-06 3.8986354e-07 8.1572525e-06 1.9972799e-03 2.8325278e-01\n",
      " 5.9228460e-03 8.1735507e-06 1.7157997e-03 1.7944869e-02 6.8914676e-01]\n"
     ]
    },
    {
     "data": {
      "image/png": "[encoded data removed]",
      "text/plain": [
       "<Figure size 432x288 with 1 Axes>"
      ]
     },
     "metadata": {
      "needs_background": "light"
     },
     "output_type": "display_data"
    },
    {
     "name": "stdout",
     "output_type": "stream",
     "text": [
      "[0. 0. 0. 0. 0. 0. 1. 0. 0. 0.]\n",
      "[1.6070773e-03 3.9099208e-07 1.1756132e-02 5.3857252e-06 4.3567545e-03\n",
      " 1.8511579e-03 9.8034507e-01 2.4206693e-05 1.1287248e-05 4.2496351e-05]\n"
     ]
    },
    {
     "data": {
      "image/png": "[encoded data removed]",
      "text/plain": [
       "<Figure size 432x288 with 1 Axes>"
      ]
     },
     "metadata": {
      "needs_background": "light"
     },
     "output_type": "display_data"
    },
    {
     "name": "stdout",
     "output_type": "stream",
     "text": [
      "[0. 1. 0. 0. 0. 0. 0. 0. 0. 0.]\n",
      "[1.8820623e-06 9.9440742e-01 1.6027912e-03 1.5286730e-03 5.8938681e-06\n",
      " 3.9432818e-04 1.6281028e-04 1.5148186e-04 1.6711791e-03 7.3701296e-05]\n"
     ]
    },
    {
     "data": {
      "image/png": "[encoded data removed]",
      "text/plain": [
       "<Figure size 432x288 with 1 Axes>"
      ]
     },
     "metadata": {
      "needs_background": "light"
     },
     "output_type": "display_data"
    },
    {
     "name": "stdout",
     "output_type": "stream",
     "text": [
      "[0. 0. 0. 0. 0. 0. 0. 0. 1. 0.]\n",
      "[4.5859422e-05 3.8778816e-07 3.2654151e-04 9.9268567e-04 1.1333372e-05\n",
      " 5.8944896e-04 1.0121956e-05 7.9839335e-09 9.9763894e-01 3.8471262e-04]\n"
     ]
    },
    {
     "data": {
      "image/png": "[encoded data removed]",
      "text/plain": [
       "<Figure size 432x288 with 1 Axes>"
      ]
     },
     "metadata": {
      "needs_background": "light"
     },
     "output_type": "display_data"
    },
    {
     "name": "stdout",
     "output_type": "stream",
     "text": [
      "[0. 1. 0. 0. 0. 0. 0. 0. 0. 0.]\n",
      "[1.0577062e-06 9.9111056e-01 1.7674917e-03 1.7940155e-03 2.0332948e-06\n",
      " 2.2545943e-04 1.0956905e-04 8.5262582e-05 4.8747216e-03 2.9853471e-05]\n"
     ]
    },
    {
     "data": {
      "image/png": "[encoded data removed]",
      "text/plain": [
       "<Figure size 432x288 with 1 Axes>"
      ]
     },
     "metadata": {
      "needs_background": "light"
     },
     "output_type": "display_data"
    },
    {
     "name": "stdout",
     "output_type": "stream",
     "text": [
      "[1. 0. 0. 0. 0. 0. 0. 0. 0. 0.]\n",
      "[9.9912018e-01 8.7060090e-12 2.6172936e-06 2.6375421e-06 1.1178050e-08\n",
      " 8.5558917e-04 5.0394551e-06 7.3850845e-07 1.0378553e-05 2.8727454e-06]\n"
     ]
    },
    {
     "data": {
      "image/png": "[encoded data removed]",
      "text/plain": [
       "<Figure size 432x288 with 1 Axes>"
      ]
     },
     "metadata": {
      "needs_background": "light"
     },
     "output_type": "display_data"
    },
    {
     "name": "stdout",
     "output_type": "stream",
     "text": [
      "[0. 0. 0. 0. 0. 0. 0. 0. 0. 1.]\n",
      "[3.9895473e-05 2.4860485e-05 1.0608572e-04 1.5463212e-03 5.0724316e-02\n",
      " 1.6886406e-03 1.7938751e-04 2.9987269e-03 4.3933517e-03 9.3829840e-01]\n"
     ]
    },
    {
     "data": {
      "image/png": "[encoded data removed]",
      "text/plain": [
       "<Figure size 432x288 with 1 Axes>"
      ]
     },
     "metadata": {
      "needs_background": "light"
     },
     "output_type": "display_data"
    },
    {
     "name": "stdout",
     "output_type": "stream",
     "text": [
      "[0. 0. 0. 0. 0. 0. 0. 0. 1. 0.]\n",
      "[4.59036411e-04 6.58009640e-07 1.80129532e-03 1.51674636e-03\n",
      " 9.03387408e-05 1.24532473e-03 1.10544293e-04 2.96702196e-09\n",
      " 9.94674444e-01 1.01567566e-04]\n"
     ]
    }
   ],
   "source": [
    "if try_cls2 and train_small:\n",
    "    n_samples = 10\n",
    "    t = 5\n",
    "    X_show, y_show = X_train.copy(), y_train.copy()\n",
    "    model = small\n",
    "    \n",
    "    y_pred = model.predict(X_show)\n",
    "    y_pred_soft = model.predict_softened(X_show, t)\n",
    "    \n",
    "    plot_mnist(X_show, y_show, y_pred, n_samples)\n",
    "    \n",
    "    X_show, y_show = None, None\n",
    "#     gc.collect()"
   ]
  },
  {
   "cell_type": "code",
   "execution_count": 16,
   "metadata": {
    "ExecuteTime": {
     "end_time": "2018-11-22T14:20:24.201165Z",
     "start_time": "2018-11-22T14:20:22.651792Z"
    }
   },
   "outputs": [
    {
     "data": {
      "image/png": "[encoded data removed]",
      "text/plain": [
       "<Figure size 432x288 with 1 Axes>"
      ]
     },
     "metadata": {
      "needs_background": "light"
     },
     "output_type": "display_data"
    },
    {
     "name": "stdout",
     "output_type": "stream",
     "text": [
      "[0. 0. 0. 0. 0. 0. 0. 1. 0. 0.]\n",
      "[1.2416029e-24 2.0141148e-23 8.2136368e-17 1.6127624e-20 2.1509384e-21\n",
      " 5.8212543e-24 1.9801792e-34 1.0000000e+00 4.9459207e-32 7.0513298e-23]\n"
     ]
    },
    {
     "data": {
      "image/png": "[encoded data removed]",
      "text/plain": [
       "<Figure size 432x288 with 1 Axes>"
      ]
     },
     "metadata": {
      "needs_background": "light"
     },
     "output_type": "display_data"
    },
    {
     "name": "stdout",
     "output_type": "stream",
     "text": [
      "[0. 0. 0. 1. 0. 0. 0. 0. 0. 0.]\n",
      "[5.7509041e-34 3.9930926e-25 1.4881000e-28 1.0000000e+00 7.6027495e-32\n",
      " 7.6615994e-22 6.1548890e-35 3.2974195e-26 6.4190730e-19 3.8242697e-19]\n"
     ]
    },
    {
     "data": {
      "image/png": "[encoded data removed]",
      "text/plain": [
       "<Figure size 432x288 with 1 Axes>"
      ]
     },
     "metadata": {
      "needs_background": "light"
     },
     "output_type": "display_data"
    },
    {
     "name": "stdout",
     "output_type": "stream",
     "text": [
      "[0. 0. 0. 0. 1. 0. 0. 0. 0. 0.]\n",
      "[2.8555000e-24 2.8591057e-18 1.2476768e-22 6.9886777e-20 1.0000000e+00\n",
      " 7.4656734e-21 9.3882369e-20 1.9155875e-15 3.3616111e-17 1.7457487e-09]\n"
     ]
    },
    {
     "data": {
      "image/png": "[encoded data removed]",
      "text/plain": [
       "<Figure size 432x288 with 1 Axes>"
      ]
     },
     "metadata": {
      "needs_background": "light"
     },
     "output_type": "display_data"
    },
    {
     "name": "stdout",
     "output_type": "stream",
     "text": [
      "[0. 0. 0. 0. 0. 0. 1. 0. 0. 0.]\n",
      "[2.1652412e-18 1.7309603e-21 1.1219523e-15 6.4232488e-23 7.6937012e-14\n",
      " 5.1349827e-14 1.0000000e+00 7.6978010e-24 6.4409100e-17 6.0597468e-19]\n"
     ]
    },
    {
     "data": {
      "image/png": "[encoded data removed]",
      "text/plain": [
       "<Figure size 432x288 with 1 Axes>"
      ]
     },
     "metadata": {
      "needs_background": "light"
     },
     "output_type": "display_data"
    },
    {
     "name": "stdout",
     "output_type": "stream",
     "text": [
      "[0. 1. 0. 0. 0. 0. 0. 0. 0. 0.]\n",
      "[3.9326511e-12 1.0000000e+00 1.1109205e-10 1.3408114e-13 1.0015258e-10\n",
      " 1.0042257e-12 9.1037025e-11 1.4584299e-09 3.0470939e-09 7.8793005e-12]\n"
     ]
    },
    {
     "data": {
      "image/png": "[encoded data removed]",
      "text/plain": [
       "<Figure size 432x288 with 1 Axes>"
      ]
     },
     "metadata": {
      "needs_background": "light"
     },
     "output_type": "display_data"
    },
    {
     "name": "stdout",
     "output_type": "stream",
     "text": [
      "[0. 0. 0. 0. 0. 0. 0. 0. 1. 0.]\n",
      "[2.3748809e-17 1.9040459e-13 3.8159809e-10 9.2701064e-12 8.2114164e-16\n",
      " 3.4607948e-20 1.7056811e-18 5.4617619e-18 1.0000000e+00 1.3912499e-14]\n"
     ]
    },
    {
     "data": {
      "image/png": "[encoded data removed]",
      "text/plain": [
       "<Figure size 432x288 with 1 Axes>"
      ]
     },
     "metadata": {
      "needs_background": "light"
     },
     "output_type": "display_data"
    },
    {
     "name": "stdout",
     "output_type": "stream",
     "text": [
      "[0. 1. 0. 0. 0. 0. 0. 0. 0. 0.]\n",
      "[6.1841584e-14 9.9999940e-01 1.7624648e-10 6.5261374e-16 3.6500615e-11\n",
      " 1.0537957e-14 3.0024891e-10 1.3706286e-10 6.2255071e-07 8.5882677e-16]\n"
     ]
    },
    {
     "data": {
      "image/png": "[encoded data removed]",
      "text/plain": [
       "<Figure size 432x288 with 1 Axes>"
      ]
     },
     "metadata": {
      "needs_background": "light"
     },
     "output_type": "display_data"
    },
    {
     "name": "stdout",
     "output_type": "stream",
     "text": [
      "[1. 0. 0. 0. 0. 0. 0. 0. 0. 0.]\n",
      "[1.00000000e+00 8.76125717e-19 1.55558554e-16 4.63882260e-25\n",
      " 2.61194177e-16 2.40159527e-22 1.31881785e-14 1.89599326e-13\n",
      " 4.38529102e-23 1.11820459e-16]\n"
     ]
    },
    {
     "data": {
      "image/png": "[encoded data removed]",
      "text/plain": [
       "<Figure size 432x288 with 1 Axes>"
      ]
     },
     "metadata": {
      "needs_background": "light"
     },
     "output_type": "display_data"
    },
    {
     "name": "stdout",
     "output_type": "stream",
     "text": [
      "[0. 0. 0. 0. 0. 0. 0. 0. 0. 1.]\n",
      "[6.2310184e-16 1.9372113e-18 9.3263104e-19 5.2545973e-15 2.4378810e-10\n",
      " 3.9424907e-19 5.6786753e-21 3.4066213e-12 2.7684186e-15 1.0000000e+00]\n"
     ]
    },
    {
     "data": {
      "image/png": "[encoded data removed]",
      "text/plain": [
       "<Figure size 432x288 with 1 Axes>"
      ]
     },
     "metadata": {
      "needs_background": "light"
     },
     "output_type": "display_data"
    },
    {
     "name": "stdout",
     "output_type": "stream",
     "text": [
      "[0. 0. 0. 0. 0. 0. 0. 0. 1. 0.]\n",
      "[9.9914232e-23 1.8524611e-17 3.1292110e-16 1.0456315e-14 8.3539973e-18\n",
      " 8.0846534e-19 7.0957516e-21 3.0238774e-24 1.0000000e+00 8.3140117e-16]\n"
     ]
    }
   ],
   "source": [
    "if try_cls2:\n",
    "    n_samples = 10\n",
    "    t = 5\n",
    "    X_show, y_show = X_train.copy(), y_train.copy()\n",
    "    model = teacher\n",
    "    \n",
    "    y_pred = model.predict(X_show)\n",
    "    y_pred_soft = model.predict_softened(X_show, t)\n",
    "    \n",
    "    plot_mnist(X_show, y_show, y_pred, n_samples)\n",
    "    \n",
    "    X_show, y_show = None, None\n",
    "#     gc.collect()"
   ]
  },
  {
   "cell_type": "code",
   "execution_count": 17,
   "metadata": {
    "ExecuteTime": {
     "end_time": "2018-11-22T14:25:05.748362Z",
     "start_time": "2018-11-22T14:23:02.612739Z"
    }
   },
   "outputs": [
    {
     "data": {
      "image/png": "[encoded data removed]",
      "text/plain": [
       "<Figure size 432x288 with 1 Axes>"
      ]
     },
     "metadata": {
      "needs_background": "light"
     },
     "output_type": "display_data"
    },
    {
     "name": "stdout",
     "output_type": "stream",
     "text": [
      "[0. 0. 0. 0. 0. 0. 0. 1. 0. 0.]\n",
      "[1.2416029e-24 2.0141148e-23 8.2136368e-17 1.6127624e-20 2.1509384e-21\n",
      " 5.8212543e-24 1.9801792e-34 1.0000000e+00 4.9459207e-32 7.0513298e-23]\n"
     ]
    },
    {
     "data": {
      "image/png": "[encoded data removed]",
      "text/plain": [
       "<Figure size 432x288 with 1 Axes>"
      ]
     },
     "metadata": {
      "needs_background": "light"
     },
     "output_type": "display_data"
    },
    {
     "name": "stdout",
     "output_type": "stream",
     "text": [
      "[0. 0. 0. 1. 0. 0. 0. 0. 0. 0.]\n",
      "[5.7509041e-34 3.9930926e-25 1.4881000e-28 1.0000000e+00 7.6027495e-32\n",
      " 7.6615994e-22 6.1548890e-35 3.2974195e-26 6.4190730e-19 3.8242697e-19]\n"
     ]
    },
    {
     "data": {
      "image/png": "[encoded data removed]",
      "text/plain": [
       "<Figure size 432x288 with 1 Axes>"
      ]
     },
     "metadata": {
      "needs_background": "light"
     },
     "output_type": "display_data"
    },
    {
     "name": "stdout",
     "output_type": "stream",
     "text": [
      "[0. 0. 0. 0. 1. 0. 0. 0. 0. 0.]\n",
      "[2.8555000e-24 2.8591057e-18 1.2476768e-22 6.9886777e-20 1.0000000e+00\n",
      " 7.4656734e-21 9.3882369e-20 1.9155875e-15 3.3616111e-17 1.7457487e-09]\n"
     ]
    },
    {
     "data": {
      "image/png": "[encoded data removed]",
      "text/plain": [
       "<Figure size 432x288 with 1 Axes>"
      ]
     },
     "metadata": {
      "needs_background": "light"
     },
     "output_type": "display_data"
    },
    {
     "name": "stdout",
     "output_type": "stream",
     "text": [
      "[0. 0. 0. 0. 0. 0. 1. 0. 0. 0.]\n",
      "[2.1652412e-18 1.7309603e-21 1.1219523e-15 6.4232488e-23 7.6937012e-14\n",
      " 5.1349827e-14 1.0000000e+00 7.6978010e-24 6.4409100e-17 6.0597468e-19]\n"
     ]
    },
    {
     "data": {
      "image/png": "[encoded data removed]",
      "text/plain": [
       "<Figure size 432x288 with 1 Axes>"
      ]
     },
     "metadata": {
      "needs_background": "light"
     },
     "output_type": "display_data"
    },
    {
     "name": "stdout",
     "output_type": "stream",
     "text": [
      "[0. 1. 0. 0. 0. 0. 0. 0. 0. 0.]\n",
      "[3.9326511e-12 1.0000000e+00 1.1109205e-10 1.3408114e-13 1.0015258e-10\n",
      " 1.0042257e-12 9.1037025e-11 1.4584299e-09 3.0470939e-09 7.8793005e-12]\n"
     ]
    },
    {
     "data": {
      "image/png": "[encoded data removed]",
      "text/plain": [
       "<Figure size 432x288 with 1 Axes>"
      ]
     },
     "metadata": {
      "needs_background": "light"
     },
     "output_type": "display_data"
    },
    {
     "name": "stdout",
     "output_type": "stream",
     "text": [
      "[0. 0. 0. 0. 0. 0. 0. 0. 1. 0.]\n",
      "[2.3748809e-17 1.9040459e-13 3.8159809e-10 9.2701064e-12 8.2114164e-16\n",
      " 3.4607948e-20 1.7056811e-18 5.4617619e-18 1.0000000e+00 1.3912499e-14]\n",
      "Training student with temperature = 2 , coef = 1.0 .\n",
      "[name: \"/device:CPU:0\"\n",
      "device_type: \"CPU\"\n",
      "memory_limit: 268435456\n",
      "locality {\n",
      "}\n",
      "incarnation: 6227708775098036147\n",
      ", name: \"/device:GPU:0\"\n",
      "device_type: \"GPU\"\n",
      "memory_limit: 8118039348\n",
      "locality {\n",
      "  bus_id: 1\n",
      "}\n",
      "incarnation: 1649263947873151326\n",
      "physical_device_desc: \"device: 0, name: GeForce GTX 1080 Ti, pci bus id: 0000:03:00.0, compute capability: 6.1\"\n",
      "]\n",
      "Epoch 1 , step 0 , loss= 2.3151755 , acc = 0.11 \n",
      "Epoch 1 , step 100 , loss= 2.1993685 , acc = 0.33 \n",
      "Epoch 1 , step 200 , loss= 2.0830734 , acc = 0.52 \n",
      "Epoch 1 , step 300 , loss= 1.9138027 , acc = 0.49 \n",
      "Epoch 1 , step 400 , loss= 1.7390721 , acc = 0.65 \n",
      "Epoch 1 , step 500 , loss= 1.5714521 , acc = 0.78 \n",
      "Epoch 1 , step 549 , loss= 1.3743666 val_loss= 1.4678481 , acc = 0.84 val acc = 0.7338 \n",
      "Epoch 1 finished, loss= 1.8851873 \n",
      "Epoch 2 , step 50 , loss= 1.4933755 , acc = 0.66 \n",
      "Epoch 2 , step 150 , loss= 1.2341672 , acc = 0.77 \n",
      "Epoch 2 , step 250 , loss= 1.134703 , acc = 0.82 \n",
      "Epoch 2 , step 350 , loss= 1.0764507 , acc = 0.8 \n",
      "Epoch 2 , step 450 , loss= 0.87097 , acc = 0.87 \n",
      "Epoch 2 , step 549 , loss= 0.8118261 val_loss= 0.83788836 , acc = 0.86 val acc = 0.8364 \n",
      "Epoch 2 finished, loss= 1.5244465 \n",
      "Epoch 3 , step 0 , loss= 0.6901338 , acc = 0.91 \n",
      "Epoch 3 , step 100 , loss= 0.7860745 , acc = 0.83 \n",
      "Epoch 3 , step 200 , loss= 0.9490888 , acc = 0.76 \n",
      "Epoch 3 , step 300 , loss= 0.7662858 , acc = 0.82 \n",
      "Epoch 3 , step 400 , loss= 0.6440406 , acc = 0.88 \n",
      "Epoch 3 , step 500 , loss= 0.6641976 , acc = 0.85 \n",
      "Epoch 3 , step 549 , loss= 0.65612364 val_loss= 0.596643 , acc = 0.86 val acc = 0.8686 \n",
      "Epoch 3 finished, loss= 1.2486874 \n",
      "Epoch 4 , step 50 , loss= 0.70021266 , acc = 0.85 \n",
      "Epoch 4 , step 150 , loss= 0.49573925 , acc = 0.93 \n",
      "Epoch 4 , step 250 , loss= 0.6431095 , acc = 0.85 \n",
      "Epoch 4 , step 350 , loss= 0.61142325 , acc = 0.82 \n",
      "Epoch 4 , step 450 , loss= 0.5759279 , acc = 0.83 \n",
      "Epoch 4 , step 549 , loss= 0.5795366 val_loss= 0.4849442 , acc = 0.87 val acc = 0.8842 \n",
      "Epoch 4 finished, loss= 1.0992191 \n",
      "Epoch 5 , step 0 , loss= 0.45436978 , acc = 0.88 \n",
      "Epoch 5 , step 100 , loss= 0.40042034 , acc = 0.92 \n",
      "Epoch 5 , step 200 , loss= 0.4497301 , acc = 0.88 \n",
      "Epoch 5 , step 300 , loss= 0.40847075 , acc = 0.9 \n",
      "Epoch 5 , step 400 , loss= 0.5405701 , acc = 0.85 \n",
      "Epoch 5 , step 500 , loss= 0.3911723 , acc = 0.88 \n",
      "Epoch 5 , step 549 , loss= 0.5628855 val_loss= 0.4215167 , acc = 0.81 val acc = 0.8956 \n",
      "Epoch 5 finished, loss= 0.96325207 \n",
      "Epoch 6 , step 50 , loss= 0.43386525 , acc = 0.89 \n",
      "Epoch 6 , step 150 , loss= 0.4541367 , acc = 0.86 \n",
      "Epoch 6 , step 250 , loss= 0.42634812 , acc = 0.86 \n",
      "Epoch 6 , step 350 , loss= 0.43514848 , acc = 0.84 \n",
      "Epoch 6 , step 450 , loss= 0.46590096 , acc = 0.85 \n",
      "Epoch 6 , step 549 , loss= 0.27036595 val_loss= 0.38208812 , acc = 0.93 val acc = 0.9016 \n",
      "Epoch 6 finished, loss= 0.8787971 \n",
      "Epoch 7 , step 0 , loss= 0.34959278 , acc = 0.9 \n",
      "Epoch 7 , step 100 , loss= 0.38227025 , acc = 0.89 \n",
      "Epoch 7 , step 200 , loss= 0.38408592 , acc = 0.92 \n",
      "Epoch 7 , step 300 , loss= 0.37057275 , acc = 0.89 \n",
      "Epoch 7 , step 400 , loss= 0.36602992 , acc = 0.88 \n",
      "Epoch 7 , step 500 , loss= 0.24383499 , acc = 0.97 \n",
      "Epoch 7 , step 549 , loss= 0.3998992 val_loss= 0.35501572 , acc = 0.89 val acc = 0.9064 \n",
      "Epoch 7 finished, loss= 0.79933405 \n",
      "Epoch 8 , step 50 , loss= 0.35581884 , acc = 0.91 \n",
      "Epoch 8 , step 150 , loss= 0.3699243 , acc = 0.9 \n",
      "Epoch 8 , step 250 , loss= 0.549846 , acc = 0.88 \n",
      "Epoch 8 , step 350 , loss= 0.3752713 , acc = 0.88 \n",
      "Epoch 8 , step 450 , loss= 0.29366148 , acc = 0.93 \n",
      "Epoch 8 , step 549 , loss= 0.399475 val_loss= 0.33655235 , acc = 0.9 val acc = 0.9092 \n",
      "Epoch 8 finished, loss= 0.7521801 \n",
      "Epoch 9 , step 0 , loss= 0.37405282 , acc = 0.87 \n",
      "Epoch 9 , step 100 , loss= 0.42624056 , acc = 0.91 \n",
      "Epoch 9 , step 200 , loss= 0.42262283 , acc = 0.88 \n",
      "Epoch 9 , step 300 , loss= 0.43036366 , acc = 0.9 \n",
      "Epoch 9 , step 400 , loss= 0.3073044 , acc = 0.89 \n",
      "Epoch 9 , step 500 , loss= 0.35668853 , acc = 0.94 \n",
      "Epoch 9 , step 549 , loss= 0.34416035 val_loss= 0.321848 , acc = 0.93 val acc = 0.9106 \n",
      "Epoch 9 finished, loss= 0.70804745 \n",
      "Epoch 10 , step 50 , loss= 0.26132736 , acc = 0.93 \n",
      "Epoch 10 , step 150 , loss= 0.286594 , acc = 0.89 \n",
      "Epoch 10 , step 250 , loss= 0.34568095 , acc = 0.91 \n",
      "Epoch 10 , step 350 , loss= 0.27458185 , acc = 0.9 \n",
      "Epoch 10 , step 450 , loss= 0.42294803 , acc = 0.9 \n",
      "Epoch 10 , step 549 , loss= 0.40602025 val_loss= 0.3100203 , acc = 0.9 val acc = 0.9162 \n",
      "Epoch 10 finished, loss= 0.6734146 \n",
      "Epoch 11 , step 0 , loss= 0.45142993 , acc = 0.85 \n",
      "Epoch 11 , step 100 , loss= 0.2414811 , acc = 0.93 \n",
      "Epoch 11 , step 200 , loss= 0.20620233 , acc = 0.93 \n",
      "Epoch 11 , step 300 , loss= 0.29919097 , acc = 0.93 \n",
      "Epoch 11 , step 400 , loss= 0.34568664 , acc = 0.91 \n",
      "Epoch 11 , step 500 , loss= 0.34087062 , acc = 0.9 \n",
      "Epoch 11 , step 549 , loss= 0.53762066 val_loss= 0.3012952 , acc = 0.85 val acc = 0.9166 \n",
      "Epoch 11 finished, loss= 0.64158934 \n",
      "Epoch 12 , step 50 , loss= 0.33039954 , acc = 0.93 \n",
      "Epoch 12 , step 150 , loss= 0.35210645 , acc = 0.91 \n",
      "Epoch 12 , step 250 , loss= 0.36637688 , acc = 0.89 \n",
      "Epoch 12 , step 350 , loss= 0.27581862 , acc = 0.9 \n",
      "Epoch 12 , step 450 , loss= 0.35824445 , acc = 0.88 \n",
      "Epoch 12 , step 549 , loss= 0.30879796 val_loss= 0.29385817 , acc = 0.92 val acc = 0.9186 \n",
      "Epoch 12 finished, loss= 0.61777157 \n",
      "Epoch 13 , step 0 , loss= 0.26945913 , acc = 0.94 \n",
      "Epoch 13 , step 100 , loss= 0.33044133 , acc = 0.89 \n",
      "Epoch 13 , step 200 , loss= 0.20505564 , acc = 0.95 \n",
      "Epoch 13 , step 300 , loss= 0.26679385 , acc = 0.94 \n",
      "Epoch 13 , step 400 , loss= 0.22751665 , acc = 0.93 \n",
      "Epoch 13 , step 500 , loss= 0.31772783 , acc = 0.92 \n",
      "Epoch 13 , step 549 , loss= 0.3619443 val_loss= 0.2873972 , acc = 0.91 val acc = 0.9202 \n",
      "Epoch 13 finished, loss= 0.59017783 \n",
      "Epoch 14 , step 50 , loss= 0.2672325 , acc = 0.92 \n",
      "Epoch 14 , step 150 , loss= 0.3400822 , acc = 0.89 \n",
      "Epoch 14 , step 250 , loss= 0.21425182 , acc = 0.94 \n",
      "Epoch 14 , step 350 , loss= 0.41283885 , acc = 0.88 \n",
      "Epoch 14 , step 450 , loss= 0.24206127 , acc = 0.95 \n",
      "Epoch 14 , step 549 , loss= 0.25571254 val_loss= 0.28177792 , acc = 0.96 val acc = 0.9214 \n",
      "Epoch 14 finished, loss= 0.5702999 \n",
      "Epoch 15 , step 0 , loss= 0.2562887 , acc = 0.91 \n",
      "Epoch 15 , step 100 , loss= 0.26737672 , acc = 0.9 \n",
      "Epoch 15 , step 200 , loss= 0.30742806 , acc = 0.92 \n",
      "Epoch 15 , step 300 , loss= 0.2760265 , acc = 0.92 \n",
      "Epoch 15 , step 400 , loss= 0.31638741 , acc = 0.91 \n",
      "Epoch 15 , step 500 , loss= 0.2901851 , acc = 0.9 \n",
      "Epoch 15 , step 549 , loss= 0.3044215 val_loss= 0.27636835 , acc = 0.92 val acc = 0.9238 \n",
      "Epoch 15 finished, loss= 0.5501572 \n",
      "Epoch 16 , step 50 , loss= 0.2904736 , acc = 0.93 \n",
      "Epoch 16 , step 150 , loss= 0.33182904 , acc = 0.89 \n",
      "Epoch 16 , step 250 , loss= 0.29959792 , acc = 0.94 \n",
      "Epoch 16 , step 350 , loss= 0.3122053 , acc = 0.91 \n",
      "Epoch 16 , step 450 , loss= 0.34316307 , acc = 0.91 \n",
      "Epoch 16 , step 549 , loss= 0.2895409 val_loss= 0.27224615 , acc = 0.93 val acc = 0.9236 \n",
      "Epoch 16 finished, loss= 0.5363675 \n",
      "Epoch 17 , step 0 , loss= 0.1639536 , acc = 0.97 \n",
      "Epoch 17 , step 100 , loss= 0.28902462 , acc = 0.91 \n",
      "Epoch 17 , step 200 , loss= 0.40428832 , acc = 0.86 \n",
      "Epoch 17 , step 300 , loss= 0.18538535 , acc = 0.94 \n",
      "Epoch 17 , step 400 , loss= 0.502236 , acc = 0.88 \n",
      "Epoch 17 , step 500 , loss= 0.31429228 , acc = 0.91 \n",
      "Epoch 17 , step 549 , loss= 0.22693382 val_loss= 0.26811934 , acc = 0.95 val acc = 0.9252 \n",
      "Epoch 17 finished, loss= 0.5213363 \n",
      "Epoch 18 , step 50 , loss= 0.25989965 , acc = 0.93 \n",
      "Epoch 18 , step 150 , loss= 0.18691798 , acc = 0.97 \n",
      "Epoch 18 , step 250 , loss= 0.24533455 , acc = 0.96 \n",
      "Epoch 18 , step 350 , loss= 0.24570517 , acc = 0.9 \n",
      "Epoch 18 , step 450 , loss= 0.4830138 , acc = 0.9 \n",
      "Epoch 18 , step 549 , loss= 0.35230106 val_loss= 0.26400706 , acc = 0.92 val acc = 0.9266 \n",
      "Epoch 18 finished, loss= 0.50975645 \n",
      "Epoch 19 , step 0 , loss= 0.19340225 , acc = 0.95 \n",
      "Epoch 19 , step 100 , loss= 0.35938317 , acc = 0.89 \n",
      "Epoch 19 , step 200 , loss= 0.4308769 , acc = 0.86 \n",
      "Epoch 19 , step 300 , loss= 0.23038225 , acc = 0.95 \n",
      "Epoch 19 , step 400 , loss= 0.27786133 , acc = 0.91 \n"
     ]
    },
    {
     "name": "stdout",
     "output_type": "stream",
     "text": [
      "Epoch 19 , step 500 , loss= 0.3124918 , acc = 0.9 \n",
      "Epoch 19 , step 549 , loss= 0.5141214 val_loss= 0.2600034 , acc = 0.85 val acc = 0.926 \n",
      "Epoch 19 finished, loss= 0.49967763 \n",
      "Epoch 20 , step 50 , loss= 0.20694183 , acc = 0.93 \n",
      "Epoch 20 , step 150 , loss= 0.19249615 , acc = 0.95 \n",
      "Epoch 20 , step 250 , loss= 0.35663086 , acc = 0.88 \n",
      "Epoch 20 , step 350 , loss= 0.30582547 , acc = 0.89 \n",
      "Epoch 20 , step 450 , loss= 0.39241 , acc = 0.94 \n",
      "Epoch 20 , step 549 , loss= 0.254359 val_loss= 0.2564925 , acc = 0.95 val acc = 0.9276 \n",
      "Epoch 20 finished, loss= 0.48975912 \n",
      "Epoch 21 , step 0 , loss= 0.21079807 , acc = 0.97 \n",
      "Epoch 21 , step 100 , loss= 0.34113666 , acc = 0.94 \n",
      "Epoch 21 , step 200 , loss= 0.17077902 , acc = 0.95 \n",
      "Epoch 21 , step 300 , loss= 0.22666787 , acc = 0.93 \n",
      "Epoch 21 , step 400 , loss= 0.24712448 , acc = 0.94 \n",
      "Epoch 21 , step 500 , loss= 0.22397342 , acc = 0.92 \n",
      "Epoch 21 , step 549 , loss= 0.15390025 val_loss= 0.25325578 , acc = 0.98 val acc = 0.9292 \n",
      "Epoch 21 finished, loss= 0.47622675 \n",
      "Epoch 22 , step 50 , loss= 0.24869269 , acc = 0.93 \n",
      "Epoch 22 , step 150 , loss= 0.22380745 , acc = 0.96 \n",
      "Epoch 22 , step 250 , loss= 0.16358873 , acc = 0.96 \n",
      "Epoch 22 , step 350 , loss= 0.32080376 , acc = 0.89 \n",
      "Epoch 22 , step 450 , loss= 0.25926718 , acc = 0.95 \n",
      "Epoch 22 , step 549 , loss= 0.40951732 val_loss= 0.24982083 , acc = 0.86 val acc = 0.9292 \n",
      "Epoch 22 finished, loss= 0.4676136 \n",
      "Epoch 23 , step 0 , loss= 0.2164496 , acc = 0.92 \n",
      "Epoch 23 , step 100 , loss= 0.16840608 , acc = 0.95 \n",
      "Epoch 23 , step 200 , loss= 0.2611185 , acc = 0.92 \n",
      "Epoch 23 , step 300 , loss= 0.1404316 , acc = 0.95 \n",
      "Epoch 23 , step 400 , loss= 0.26826385 , acc = 0.94 \n",
      "Epoch 23 , step 500 , loss= 0.23434158 , acc = 0.94 \n",
      "Epoch 23 , step 549 , loss= 0.20560353 val_loss= 0.24697693 , acc = 0.95 val acc = 0.9296 \n",
      "Epoch 23 finished, loss= 0.4557557 \n",
      "Epoch 24 , step 50 , loss= 0.21823162 , acc = 0.92 \n",
      "Epoch 24 , step 150 , loss= 0.22524212 , acc = 0.95 \n",
      "Epoch 24 , step 250 , loss= 0.21887137 , acc = 0.95 \n",
      "Epoch 24 , step 350 , loss= 0.2002394 , acc = 0.92 \n",
      "Epoch 24 , step 450 , loss= 0.27394292 , acc = 0.95 \n",
      "Epoch 24 , step 549 , loss= 0.30578354 val_loss= 0.24457243 , acc = 0.9 val acc = 0.9312 \n",
      "Epoch 24 finished, loss= 0.44747224 \n",
      "Epoch 25 , step 0 , loss= 0.24680108 , acc = 0.91 \n",
      "Epoch 25 , step 100 , loss= 0.25658306 , acc = 0.93 \n",
      "Epoch 25 , step 200 , loss= 0.20494877 , acc = 0.96 \n",
      "Epoch 25 , step 300 , loss= 0.31076407 , acc = 0.91 \n",
      "Epoch 25 , step 400 , loss= 0.28199247 , acc = 0.94 \n",
      "Epoch 25 , step 500 , loss= 0.24945047 , acc = 0.94 \n",
      "Epoch 25 , step 549 , loss= 0.20037353 val_loss= 0.24158365 , acc = 0.94 val acc = 0.9322 \n",
      "Epoch 25 finished, loss= 0.43899742 \n",
      "Epoch 26 , step 50 , loss= 0.21358089 , acc = 0.95 \n",
      "Epoch 26 , step 150 , loss= 0.21721342 , acc = 0.94 \n",
      "Epoch 26 , step 250 , loss= 0.23914394 , acc = 0.93 \n",
      "Epoch 26 , step 350 , loss= 0.2075513 , acc = 0.95 \n",
      "Epoch 26 , step 450 , loss= 0.25053176 , acc = 0.95 \n",
      "Epoch 26 , step 549 , loss= 0.22462986 val_loss= 0.23854211 , acc = 0.93 val acc = 0.9318 \n",
      "Epoch 26 finished, loss= 0.4314156 \n",
      "Epoch 27 , step 0 , loss= 0.20178358 , acc = 0.96 \n",
      "Epoch 27 , step 100 , loss= 0.33062378 , acc = 0.91 \n",
      "Epoch 27 , step 200 , loss= 0.19444922 , acc = 0.93 \n",
      "Epoch 27 , step 300 , loss= 0.2705609 , acc = 0.92 \n",
      "Epoch 27 , step 400 , loss= 0.22631745 , acc = 0.92 \n",
      "Epoch 27 , step 500 , loss= 0.13980341 , acc = 0.97 \n",
      "Epoch 27 , step 549 , loss= 0.27089643 val_loss= 0.23660713 , acc = 0.92 val acc = 0.9326 \n",
      "Epoch 27 finished, loss= 0.42354354 \n",
      "Epoch 28 , step 50 , loss= 0.21071313 , acc = 0.92 \n",
      "Epoch 28 , step 150 , loss= 0.33647767 , acc = 0.95 \n",
      "Epoch 28 , step 250 , loss= 0.30661544 , acc = 0.89 \n",
      "Epoch 28 , step 350 , loss= 0.20565085 , acc = 0.95 \n",
      "Epoch 28 , step 450 , loss= 0.18585731 , acc = 0.93 \n",
      "Epoch 28 , step 549 , loss= 0.25906575 val_loss= 0.23403123 , acc = 0.92 val acc = 0.9344 \n",
      "Epoch 28 finished, loss= 0.41784638 \n",
      "Epoch 29 , step 0 , loss= 0.25839943 , acc = 0.92 \n",
      "Epoch 29 , step 100 , loss= 0.19721997 , acc = 0.94 \n",
      "Epoch 29 , step 200 , loss= 0.19390479 , acc = 0.97 \n",
      "Epoch 29 , step 300 , loss= 0.22609302 , acc = 0.93 \n",
      "Epoch 29 , step 400 , loss= 0.27759165 , acc = 0.92 \n",
      "Epoch 29 , step 500 , loss= 0.21865721 , acc = 0.95 \n",
      "Epoch 29 , step 549 , loss= 0.22311524 val_loss= 0.23126401 , acc = 0.94 val acc = 0.9356 \n",
      "Epoch 29 finished, loss= 0.41080967 \n",
      "Epoch 30 , step 50 , loss= 0.1855763 , acc = 0.95 \n",
      "Epoch 30 , step 150 , loss= 0.24517319 , acc = 0.89 \n",
      "Epoch 30 , step 250 , loss= 0.16767432 , acc = 0.94 \n",
      "Epoch 30 , step 350 , loss= 0.22094713 , acc = 0.95 \n",
      "Epoch 30 , step 450 , loss= 0.22410841 , acc = 0.96 \n",
      "Epoch 30 , step 549 , loss= 0.23308592 val_loss= 0.22867322 , acc = 0.92 val acc = 0.9366 \n",
      "Epoch 30 finished, loss= 0.40471587 \n",
      "Student performance with temperature = 2 , coef = 1.0 .\n",
      "Plotting loss...\n"
     ]
    },
    {
     "data": {
      "image/png": "[encoded data removed]",
      "text/plain": [
       "<Figure size 432x288 with 1 Axes>"
      ]
     },
     "metadata": {
      "needs_background": "light"
     },
     "output_type": "display_data"
    },
    {
     "name": "stdout",
     "output_type": "stream",
     "text": [
      "Plotting metrics...\n"
     ]
    },
    {
     "data": {
      "image/png": "[encoded data removed]",
      "text/plain": [
       "<Figure size 432x288 with 1 Axes>"
      ]
     },
     "metadata": {
      "needs_background": "light"
     },
     "output_type": "display_data"
    },
    {
     "name": "stdout",
     "output_type": "stream",
     "text": [
      "train {'acc': 0.9342}\n",
      "test {'acc': 0.933}\n",
      "\n"
     ]
    },
    {
     "data": {
      "image/png": "[encoded data removed]",
      "text/plain": [
       "<Figure size 432x288 with 1 Axes>"
      ]
     },
     "metadata": {
      "needs_background": "light"
     },
     "output_type": "display_data"
    },
    {
     "name": "stdout",
     "output_type": "stream",
     "text": [
      "[0. 0. 0. 0. 0. 0. 0. 1. 0. 0.]\n",
      "[1.2416029e-24 2.0141148e-23 8.2136368e-17 1.6127624e-20 2.1509384e-21\n",
      " 5.8212543e-24 1.9801792e-34 1.0000000e+00 4.9459207e-32 7.0513298e-23]\n"
     ]
    },
    {
     "data": {
      "image/png": "[encoded data removed]",
      "text/plain": [
       "<Figure size 432x288 with 1 Axes>"
      ]
     },
     "metadata": {
      "needs_background": "light"
     },
     "output_type": "display_data"
    },
    {
     "name": "stdout",
     "output_type": "stream",
     "text": [
      "[0. 0. 0. 1. 0. 0. 0. 0. 0. 0.]\n",
      "[5.7509041e-34 3.9930926e-25 1.4881000e-28 1.0000000e+00 7.6027495e-32\n",
      " 7.6615994e-22 6.1548890e-35 3.2974195e-26 6.4190730e-19 3.8242697e-19]\n"
     ]
    },
    {
     "data": {
      "image/png": "[encoded data removed]",
      "text/plain": [
       "<Figure size 432x288 with 1 Axes>"
      ]
     },
     "metadata": {
      "needs_background": "light"
     },
     "output_type": "display_data"
    },
    {
     "name": "stdout",
     "output_type": "stream",
     "text": [
      "[0. 0. 0. 0. 1. 0. 0. 0. 0. 0.]\n",
      "[2.8555000e-24 2.8591057e-18 1.2476768e-22 6.9886777e-20 1.0000000e+00\n",
      " 7.4656734e-21 9.3882369e-20 1.9155875e-15 3.3616111e-17 1.7457487e-09]\n"
     ]
    },
    {
     "data": {
      "image/png": "[encoded data removed]",
      "text/plain": [
       "<Figure size 432x288 with 1 Axes>"
      ]
     },
     "metadata": {
      "needs_background": "light"
     },
     "output_type": "display_data"
    },
    {
     "name": "stdout",
     "output_type": "stream",
     "text": [
      "[0. 0. 0. 0. 0. 0. 1. 0. 0. 0.]\n",
      "[2.1652412e-18 1.7309603e-21 1.1219523e-15 6.4232488e-23 7.6937012e-14\n",
      " 5.1349827e-14 1.0000000e+00 7.6978010e-24 6.4409100e-17 6.0597468e-19]\n"
     ]
    },
    {
     "data": {
      "image/png": "[encoded data removed]",
      "text/plain": [
       "<Figure size 432x288 with 1 Axes>"
      ]
     },
     "metadata": {
      "needs_background": "light"
     },
     "output_type": "display_data"
    },
    {
     "name": "stdout",
     "output_type": "stream",
     "text": [
      "[0. 1. 0. 0. 0. 0. 0. 0. 0. 0.]\n",
      "[3.9326511e-12 1.0000000e+00 1.1109205e-10 1.3408114e-13 1.0015258e-10\n",
      " 1.0042257e-12 9.1037025e-11 1.4584299e-09 3.0470939e-09 7.8793005e-12]\n"
     ]
    },
    {
     "data": {
      "image/png": "[encoded data removed]",
      "text/plain": [
       "<Figure size 432x288 with 1 Axes>"
      ]
     },
     "metadata": {
      "needs_background": "light"
     },
     "output_type": "display_data"
    },
    {
     "name": "stdout",
     "output_type": "stream",
     "text": [
      "[0. 0. 0. 0. 0. 0. 0. 0. 1. 0.]\n",
      "[2.3748809e-17 1.9040459e-13 3.8159809e-10 9.2701064e-12 8.2114164e-16\n",
      " 3.4607948e-20 1.7056811e-18 5.4617619e-18 1.0000000e+00 1.3912499e-14]\n",
      "Training student with temperature = 4 , coef = 1.0 .\n",
      "[name: \"/device:CPU:0\"\n",
      "device_type: \"CPU\"\n",
      "memory_limit: 268435456\n",
      "locality {\n",
      "}\n",
      "incarnation: 4759542314538642645\n",
      ", name: \"/device:GPU:0\"\n",
      "device_type: \"GPU\"\n",
      "memory_limit: 8118039348\n",
      "locality {\n",
      "  bus_id: 1\n",
      "}\n",
      "incarnation: 9623352870021093835\n",
      "physical_device_desc: \"device: 0, name: GeForce GTX 1080 Ti, pci bus id: 0000:03:00.0, compute capability: 6.1\"\n",
      "]\n",
      "Epoch 1 , step 0 , loss= 2.300851 , acc = 0.14 \n",
      "Epoch 1 , step 100 , loss= 2.249257 , acc = 0.32 \n",
      "Epoch 1 , step 200 , loss= 2.1500354 , acc = 0.48 \n",
      "Epoch 1 , step 300 , loss= 2.0407798 , acc = 0.62 \n",
      "Epoch 1 , step 400 , loss= 1.9308689 , acc = 0.64 \n",
      "Epoch 1 , step 500 , loss= 1.8229254 , acc = 0.75 \n",
      "Epoch 1 , step 549 , loss= 1.6902472 val_loss= 1.7216277 , acc = 0.78 val acc = 0.7344 \n",
      "Epoch 1 finished, loss= 2.0264237 \n",
      "Epoch 2 , step 50 , loss= 1.6925557 , acc = 0.67 \n",
      "Epoch 2 , step 150 , loss= 1.5772365 , acc = 0.75 \n",
      "Epoch 2 , step 250 , loss= 1.4294657 , acc = 0.78 \n",
      "Epoch 2 , step 350 , loss= 1.3126982 , acc = 0.79 \n",
      "Epoch 2 , step 450 , loss= 1.2576982 , acc = 0.83 \n",
      "Epoch 2 , step 549 , loss= 1.219069 val_loss= 1.1429616 , acc = 0.78 val acc = 0.8006 \n",
      "Epoch 2 finished, loss= 1.7441298 \n",
      "Epoch 3 , step 0 , loss= 1.1589926 , acc = 0.8 \n",
      "Epoch 3 , step 100 , loss= 0.9615799 , acc = 0.91 \n",
      "Epoch 3 , step 200 , loss= 0.9955103 , acc = 0.85 \n",
      "Epoch 3 , step 300 , loss= 1.1087737 , acc = 0.75 \n",
      "Epoch 3 , step 400 , loss= 0.946767 , acc = 0.8 \n",
      "Epoch 3 , step 500 , loss= 0.814152 , acc = 0.85 \n",
      "Epoch 3 , step 549 , loss= 0.88879466 val_loss= 0.84356815 , acc = 0.78 val acc = 0.8352 \n",
      "Epoch 3 finished, loss= 1.4774129 \n",
      "Epoch 4 , step 50 , loss= 0.88307273 , acc = 0.82 \n",
      "Epoch 4 , step 150 , loss= 0.7453927 , acc = 0.88 \n",
      "Epoch 4 , step 250 , loss= 0.81913066 , acc = 0.84 \n",
      "Epoch 4 , step 350 , loss= 0.69785607 , acc = 0.89 \n",
      "Epoch 4 , step 450 , loss= 0.7268393 , acc = 0.83 \n",
      "Epoch 4 , step 549 , loss= 0.77035606 val_loss= 0.68999934 , acc = 0.85 val acc = 0.8588 \n",
      "Epoch 4 finished, loss= 1.3150349 \n",
      "Epoch 5 , step 0 , loss= 0.5760115 , acc = 0.89 \n",
      "Epoch 5 , step 100 , loss= 0.5918333 , acc = 0.9 \n",
      "Epoch 5 , step 200 , loss= 0.76221603 , acc = 0.82 \n",
      "Epoch 5 , step 300 , loss= 0.61461335 , acc = 0.86 \n",
      "Epoch 5 , step 400 , loss= 0.71753573 , acc = 0.87 \n",
      "Epoch 5 , step 500 , loss= 0.6360414 , acc = 0.87 \n",
      "Epoch 5 , step 549 , loss= 0.61470485 val_loss= 0.6016479 , acc = 0.87 val acc = 0.8752 \n",
      "Epoch 5 finished, loss= 1.1728443 \n",
      "Epoch 6 , step 50 , loss= 0.5111208 , acc = 0.93 \n",
      "Epoch 6 , step 150 , loss= 0.4127803 , acc = 0.95 \n",
      "Epoch 6 , step 250 , loss= 0.5477099 , acc = 0.87 \n",
      "Epoch 6 , step 350 , loss= 0.7044253 , acc = 0.83 \n",
      "Epoch 6 , step 450 , loss= 0.57891333 , acc = 0.89 \n",
      "Epoch 6 , step 549 , loss= 0.5415399 val_loss= 0.54504484 , acc = 0.91 val acc = 0.885 \n",
      "Epoch 6 finished, loss= 1.0769321 \n",
      "Epoch 7 , step 0 , loss= 0.5676478 , acc = 0.85 \n",
      "Epoch 7 , step 100 , loss= 0.5996036 , acc = 0.87 \n",
      "Epoch 7 , step 200 , loss= 0.42487127 , acc = 0.9 \n",
      "Epoch 7 , step 300 , loss= 0.51118505 , acc = 0.89 \n",
      "Epoch 7 , step 400 , loss= 0.554149 , acc = 0.9 \n",
      "Epoch 7 , step 500 , loss= 0.56772935 , acc = 0.86 \n",
      "Epoch 7 , step 549 , loss= 0.4841596 val_loss= 0.50638413 , acc = 0.92 val acc = 0.8912 \n",
      "Epoch 7 finished, loss= 0.99368906 \n",
      "Epoch 8 , step 50 , loss= 0.539416 , acc = 0.89 \n",
      "Epoch 8 , step 150 , loss= 0.5954722 , acc = 0.86 \n",
      "Epoch 8 , step 250 , loss= 0.5329547 , acc = 0.89 \n",
      "Epoch 8 , step 350 , loss= 0.5710314 , acc = 0.87 \n",
      "Epoch 8 , step 450 , loss= 0.3819366 , acc = 0.91 \n",
      "Epoch 8 , step 549 , loss= 0.45559955 val_loss= 0.47900254 , acc = 0.91 val acc = 0.8974 \n",
      "Epoch 8 finished, loss= 0.93819433 \n",
      "Epoch 9 , step 0 , loss= 0.5491734 , acc = 0.87 \n",
      "Epoch 9 , step 100 , loss= 0.4836805 , acc = 0.91 \n",
      "Epoch 9 , step 200 , loss= 0.47314233 , acc = 0.9 \n",
      "Epoch 9 , step 300 , loss= 0.5331522 , acc = 0.89 \n",
      "Epoch 9 , step 400 , loss= 0.5353442 , acc = 0.86 \n",
      "Epoch 9 , step 500 , loss= 0.5013039 , acc = 0.9 \n",
      "Epoch 9 , step 549 , loss= 0.5116797 val_loss= 0.4586093 , acc = 0.89 val acc = 0.903 \n",
      "Epoch 9 finished, loss= 0.88768786 \n",
      "Epoch 10 , step 50 , loss= 0.48575428 , acc = 0.88 \n",
      "Epoch 10 , step 150 , loss= 0.46638423 , acc = 0.9 \n",
      "Epoch 10 , step 250 , loss= 0.49244776 , acc = 0.91 \n",
      "Epoch 10 , step 350 , loss= 0.4088488 , acc = 0.9 \n",
      "Epoch 10 , step 450 , loss= 0.44981357 , acc = 0.94 \n",
      "Epoch 10 , step 549 , loss= 0.46680695 val_loss= 0.44348887 , acc = 0.9 val acc = 0.9052 \n",
      "Epoch 10 finished, loss= 0.84836376 \n",
      "Epoch 11 , step 0 , loss= 0.43286347 , acc = 0.91 \n",
      "Epoch 11 , step 100 , loss= 0.5245981 , acc = 0.93 \n",
      "Epoch 11 , step 200 , loss= 0.4526048 , acc = 0.91 \n",
      "Epoch 11 , step 300 , loss= 0.46960777 , acc = 0.91 \n",
      "Epoch 11 , step 400 , loss= 0.40620697 , acc = 0.88 \n",
      "Epoch 11 , step 500 , loss= 0.43792877 , acc = 0.94 \n",
      "Epoch 11 , step 549 , loss= 0.38127244 val_loss= 0.4317704 , acc = 0.92 val acc = 0.9076 \n",
      "Epoch 11 finished, loss= 0.8090101 \n",
      "Epoch 12 , step 50 , loss= 0.6108127 , acc = 0.85 \n",
      "Epoch 12 , step 150 , loss= 0.50841796 , acc = 0.88 \n",
      "Epoch 12 , step 250 , loss= 0.4711171 , acc = 0.89 \n",
      "Epoch 12 , step 350 , loss= 0.45171824 , acc = 0.91 \n",
      "Epoch 12 , step 450 , loss= 0.3335852 , acc = 0.94 \n",
      "Epoch 12 , step 549 , loss= 0.3458255 val_loss= 0.4224165 , acc = 0.95 val acc = 0.9112 \n",
      "Epoch 12 finished, loss= 0.78166926 \n",
      "Epoch 13 , step 0 , loss= 0.5718984 , acc = 0.84 \n",
      "Epoch 13 , step 100 , loss= 0.42870662 , acc = 0.91 \n",
      "Epoch 13 , step 200 , loss= 0.41838914 , acc = 0.91 \n",
      "Epoch 13 , step 300 , loss= 0.51369834 , acc = 0.87 \n",
      "Epoch 13 , step 400 , loss= 0.4646608 , acc = 0.91 \n",
      "Epoch 13 , step 500 , loss= 0.41080654 , acc = 0.94 \n",
      "Epoch 13 , step 549 , loss= 0.2976122 val_loss= 0.41421163 , acc = 0.95 val acc = 0.914 \n",
      "Epoch 13 finished, loss= 0.75383496 \n",
      "Epoch 14 , step 50 , loss= 0.46180168 , acc = 0.89 \n",
      "Epoch 14 , step 150 , loss= 0.39960793 , acc = 0.91 \n",
      "Epoch 14 , step 250 , loss= 0.53964335 , acc = 0.88 \n",
      "Epoch 14 , step 350 , loss= 0.34621623 , acc = 0.91 \n",
      "Epoch 14 , step 450 , loss= 0.46810642 , acc = 0.91 \n",
      "Epoch 14 , step 549 , loss= 0.5089671 val_loss= 0.407894 , acc = 0.86 val acc = 0.9146 \n",
      "Epoch 14 finished, loss= 0.73406935 \n",
      "Epoch 15 , step 0 , loss= 0.48423675 , acc = 0.89 \n",
      "Epoch 15 , step 100 , loss= 0.43721515 , acc = 0.93 \n",
      "Epoch 15 , step 200 , loss= 0.29348838 , acc = 0.95 \n",
      "Epoch 15 , step 300 , loss= 0.42628998 , acc = 0.87 \n",
      "Epoch 15 , step 400 , loss= 0.48238492 , acc = 0.9 \n",
      "Epoch 15 , step 500 , loss= 0.42566454 , acc = 0.93 \n",
      "Epoch 15 , step 549 , loss= 0.3228192 val_loss= 0.4019822 , acc = 0.93 val acc = 0.9168 \n",
      "Epoch 15 finished, loss= 0.7109431 \n",
      "Epoch 16 , step 50 , loss= 0.40152228 , acc = 0.89 \n",
      "Epoch 16 , step 150 , loss= 0.41340873 , acc = 0.89 \n",
      "Epoch 16 , step 250 , loss= 0.45523548 , acc = 0.9 \n",
      "Epoch 16 , step 350 , loss= 0.36542407 , acc = 0.92 \n",
      "Epoch 16 , step 450 , loss= 0.4429843 , acc = 0.94 \n",
      "Epoch 16 , step 549 , loss= 0.4549469 val_loss= 0.39669263 , acc = 0.89 val acc = 0.9164 \n",
      "Epoch 16 finished, loss= 0.69428784 \n",
      "Epoch 17 , step 0 , loss= 0.48172012 , acc = 0.9 \n",
      "Epoch 17 , step 100 , loss= 0.37803096 , acc = 0.89 \n",
      "Epoch 17 , step 200 , loss= 0.43088168 , acc = 0.89 \n",
      "Epoch 17 , step 300 , loss= 0.32691696 , acc = 0.97 \n",
      "Epoch 17 , step 400 , loss= 0.38879773 , acc = 0.89 \n",
      "Epoch 17 , step 500 , loss= 0.30348882 , acc = 0.95 \n",
      "Epoch 17 , step 549 , loss= 0.28819838 val_loss= 0.39195868 , acc = 0.95 val acc = 0.9182 \n",
      "Epoch 17 finished, loss= 0.67390966 \n",
      "Epoch 18 , step 50 , loss= 0.40031806 , acc = 0.89 \n",
      "Epoch 18 , step 150 , loss= 0.30517572 , acc = 0.95 \n",
      "Epoch 18 , step 250 , loss= 0.39008892 , acc = 0.89 \n",
      "Epoch 18 , step 350 , loss= 0.42430794 , acc = 0.9 \n",
      "Epoch 18 , step 450 , loss= 0.34573564 , acc = 0.94 \n",
      "Epoch 18 , step 549 , loss= 0.40737504 val_loss= 0.38861006 , acc = 0.92 val acc = 0.919 \n",
      "Epoch 18 finished, loss= 0.65877753 \n",
      "Epoch 19 , step 0 , loss= 0.30461225 , acc = 0.95 \n",
      "Epoch 19 , step 100 , loss= 0.41297492 , acc = 0.94 \n",
      "Epoch 19 , step 200 , loss= 0.4815047 , acc = 0.88 \n",
      "Epoch 19 , step 300 , loss= 0.49490398 , acc = 0.89 \n",
      "Epoch 19 , step 400 , loss= 0.5213004 , acc = 0.85 \n"
     ]
    },
    {
     "name": "stdout",
     "output_type": "stream",
     "text": [
      "Epoch 19 , step 500 , loss= 0.32734108 , acc = 0.93 \n",
      "Epoch 19 , step 549 , loss= 0.331175 val_loss= 0.38424313 , acc = 0.96 val acc = 0.9202 \n",
      "Epoch 19 finished, loss= 0.64476436 \n",
      "Epoch 20 , step 50 , loss= 0.333245 , acc = 0.93 \n",
      "Epoch 20 , step 150 , loss= 0.40890977 , acc = 0.9 \n",
      "Epoch 20 , step 250 , loss= 0.51375103 , acc = 0.92 \n",
      "Epoch 20 , step 350 , loss= 0.5529349 , acc = 0.89 \n",
      "Epoch 20 , step 450 , loss= 0.5382238 , acc = 0.88 \n",
      "Epoch 20 , step 549 , loss= 0.3961762 val_loss= 0.38119298 , acc = 0.92 val acc = 0.9196 \n",
      "Epoch 20 finished, loss= 0.63610786 \n",
      "Epoch 21 , step 0 , loss= 0.37291926 , acc = 0.93 \n",
      "Epoch 21 , step 100 , loss= 0.3850278 , acc = 0.92 \n",
      "Epoch 21 , step 200 , loss= 0.45173186 , acc = 0.91 \n",
      "Epoch 21 , step 300 , loss= 0.47647533 , acc = 0.89 \n",
      "Epoch 21 , step 400 , loss= 0.3224286 , acc = 0.92 \n",
      "Epoch 21 , step 500 , loss= 0.3581343 , acc = 0.91 \n",
      "Epoch 21 , step 549 , loss= 0.42791873 val_loss= 0.37787965 , acc = 0.93 val acc = 0.9204 \n",
      "Epoch 21 finished, loss= 0.62400484 \n",
      "Epoch 22 , step 50 , loss= 0.35059148 , acc = 0.95 \n",
      "Epoch 22 , step 150 , loss= 0.48214749 , acc = 0.9 \n",
      "Epoch 22 , step 250 , loss= 0.3404097 , acc = 0.92 \n",
      "Epoch 22 , step 350 , loss= 0.5327863 , acc = 0.88 \n",
      "Epoch 22 , step 450 , loss= 0.5020285 , acc = 0.9 \n",
      "Epoch 22 , step 549 , loss= 0.3115569 val_loss= 0.37491328 , acc = 0.94 val acc = 0.922 \n",
      "Epoch 22 finished, loss= 0.61544186 \n",
      "Epoch 23 , step 0 , loss= 0.36647308 , acc = 0.93 \n",
      "Epoch 23 , step 100 , loss= 0.31320202 , acc = 0.93 \n",
      "Epoch 23 , step 200 , loss= 0.40931025 , acc = 0.93 \n",
      "Epoch 23 , step 300 , loss= 0.4677342 , acc = 0.92 \n",
      "Epoch 23 , step 400 , loss= 0.49021146 , acc = 0.91 \n",
      "Epoch 23 , step 500 , loss= 0.45148087 , acc = 0.93 \n",
      "Epoch 23 , step 549 , loss= 0.3073292 val_loss= 0.37230843 , acc = 0.96 val acc = 0.9226 \n",
      "Epoch 23 finished, loss= 0.60542613 \n",
      "Epoch 24 , step 50 , loss= 0.29616207 , acc = 0.96 \n",
      "Epoch 24 , step 150 , loss= 0.45459002 , acc = 0.92 \n",
      "Epoch 24 , step 250 , loss= 0.33988857 , acc = 0.95 \n",
      "Epoch 24 , step 350 , loss= 0.25374082 , acc = 0.97 \n",
      "Epoch 24 , step 450 , loss= 0.47620708 , acc = 0.86 \n",
      "Epoch 24 , step 549 , loss= 0.41394448 val_loss= 0.36942753 , acc = 0.89 val acc = 0.9232 \n",
      "Epoch 24 finished, loss= 0.5964645 \n",
      "Epoch 25 , step 0 , loss= 0.37709233 , acc = 0.95 \n",
      "Epoch 25 , step 100 , loss= 0.41016835 , acc = 0.88 \n",
      "Epoch 25 , step 200 , loss= 0.33947998 , acc = 0.94 \n",
      "Epoch 25 , step 300 , loss= 0.35284346 , acc = 0.91 \n",
      "Epoch 25 , step 400 , loss= 0.31337115 , acc = 0.92 \n",
      "Epoch 25 , step 500 , loss= 0.30943254 , acc = 0.91 \n",
      "Epoch 25 , step 549 , loss= 0.41318834 val_loss= 0.36699095 , acc = 0.92 val acc = 0.9242 \n",
      "Epoch 25 finished, loss= 0.58628243 \n",
      "Epoch 26 , step 50 , loss= 0.47291562 , acc = 0.91 \n",
      "Epoch 26 , step 150 , loss= 0.33505613 , acc = 0.92 \n",
      "Epoch 26 , step 250 , loss= 0.39265364 , acc = 0.96 \n",
      "Epoch 26 , step 350 , loss= 0.4098876 , acc = 0.91 \n",
      "Epoch 26 , step 450 , loss= 0.38821858 , acc = 0.93 \n",
      "Epoch 26 , step 549 , loss= 0.36316013 val_loss= 0.36466968 , acc = 0.96 val acc = 0.9238 \n",
      "Epoch 26 finished, loss= 0.57944334 \n",
      "Epoch 27 , step 0 , loss= 0.48771235 , acc = 0.9 \n",
      "Epoch 27 , step 100 , loss= 0.38860366 , acc = 0.92 \n",
      "Epoch 27 , step 200 , loss= 0.27937785 , acc = 0.98 \n",
      "Epoch 27 , step 300 , loss= 0.40634033 , acc = 0.91 \n",
      "Epoch 27 , step 400 , loss= 0.38115296 , acc = 0.94 \n",
      "Epoch 27 , step 500 , loss= 0.49029717 , acc = 0.91 \n",
      "Epoch 27 , step 549 , loss= 0.36315024 val_loss= 0.36240634 , acc = 0.9 val acc = 0.9252 \n",
      "Epoch 27 finished, loss= 0.5722872 \n",
      "Epoch 28 , step 50 , loss= 0.38774112 , acc = 0.94 \n",
      "Epoch 28 , step 150 , loss= 0.31534263 , acc = 0.96 \n",
      "Epoch 28 , step 250 , loss= 0.37408245 , acc = 0.94 \n",
      "Epoch 28 , step 350 , loss= 0.42506585 , acc = 0.91 \n",
      "Epoch 28 , step 450 , loss= 0.31355134 , acc = 0.93 \n",
      "Epoch 28 , step 549 , loss= 0.4271864 val_loss= 0.3600398 , acc = 0.89 val acc = 0.9268 \n",
      "Epoch 28 finished, loss= 0.5657446 \n",
      "Epoch 29 , step 0 , loss= 0.4061635 , acc = 0.91 \n",
      "Epoch 29 , step 100 , loss= 0.46887866 , acc = 0.9 \n",
      "Epoch 29 , step 200 , loss= 0.30890265 , acc = 0.96 \n",
      "Epoch 29 , step 300 , loss= 0.34534946 , acc = 0.93 \n",
      "Epoch 29 , step 400 , loss= 0.28199765 , acc = 0.96 \n",
      "Epoch 29 , step 500 , loss= 0.32095614 , acc = 0.93 \n",
      "Epoch 29 , step 549 , loss= 0.29190478 val_loss= 0.35797605 , acc = 0.94 val acc = 0.928 \n",
      "Epoch 29 finished, loss= 0.55761737 \n",
      "Epoch 30 , step 50 , loss= 0.32497394 , acc = 0.92 \n",
      "Epoch 30 , step 150 , loss= 0.37515536 , acc = 0.93 \n",
      "Epoch 30 , step 250 , loss= 0.29538622 , acc = 0.94 \n",
      "Epoch 30 , step 350 , loss= 0.46191108 , acc = 0.92 \n",
      "Epoch 30 , step 450 , loss= 0.32919198 , acc = 0.95 \n",
      "Epoch 30 , step 549 , loss= 0.46709535 val_loss= 0.35639825 , acc = 0.87 val acc = 0.9272 \n",
      "Epoch 30 finished, loss= 0.55201745 \n",
      "Student performance with temperature = 4 , coef = 1.0 .\n",
      "Plotting loss...\n"
     ]
    },
    {
     "data": {
      "image/png": "[encoded data removed]",
      "text/plain": [
       "<Figure size 432x288 with 1 Axes>"
      ]
     },
     "metadata": {
      "needs_background": "light"
     },
     "output_type": "display_data"
    },
    {
     "name": "stdout",
     "output_type": "stream",
     "text": [
      "Plotting metrics...\n"
     ]
    },
    {
     "data": {
      "image/png": "[encoded data removed]",
      "text/plain": [
       "<Figure size 432x288 with 1 Axes>"
      ]
     },
     "metadata": {
      "needs_background": "light"
     },
     "output_type": "display_data"
    },
    {
     "name": "stdout",
     "output_type": "stream",
     "text": [
      "train {'acc': 0.9250364}\n",
      "test {'acc': 0.9273}\n",
      "\n"
     ]
    },
    {
     "data": {
      "image/png": "[encoded data removed]",
      "text/plain": [
       "<Figure size 432x288 with 1 Axes>"
      ]
     },
     "metadata": {
      "needs_background": "light"
     },
     "output_type": "display_data"
    },
    {
     "name": "stdout",
     "output_type": "stream",
     "text": [
      "[0. 0. 0. 0. 0. 0. 0. 1. 0. 0.]\n",
      "[1.2416029e-24 2.0141148e-23 8.2136368e-17 1.6127624e-20 2.1509384e-21\n",
      " 5.8212543e-24 1.9801792e-34 1.0000000e+00 4.9459207e-32 7.0513298e-23]\n"
     ]
    },
    {
     "data": {
      "image/png": "[encoded data removed]",
      "text/plain": [
       "<Figure size 432x288 with 1 Axes>"
      ]
     },
     "metadata": {
      "needs_background": "light"
     },
     "output_type": "display_data"
    },
    {
     "name": "stdout",
     "output_type": "stream",
     "text": [
      "[0. 0. 0. 1. 0. 0. 0. 0. 0. 0.]\n",
      "[5.7509041e-34 3.9930926e-25 1.4881000e-28 1.0000000e+00 7.6027495e-32\n",
      " 7.6615994e-22 6.1548890e-35 3.2974195e-26 6.4190730e-19 3.8242697e-19]\n"
     ]
    },
    {
     "data": {
      "image/png": "[encoded data removed]",
      "text/plain": [
       "<Figure size 432x288 with 1 Axes>"
      ]
     },
     "metadata": {
      "needs_background": "light"
     },
     "output_type": "display_data"
    },
    {
     "name": "stdout",
     "output_type": "stream",
     "text": [
      "[0. 0. 0. 0. 1. 0. 0. 0. 0. 0.]\n",
      "[2.8555000e-24 2.8591057e-18 1.2476768e-22 6.9886777e-20 1.0000000e+00\n",
      " 7.4656734e-21 9.3882369e-20 1.9155875e-15 3.3616111e-17 1.7457487e-09]\n"
     ]
    },
    {
     "data": {
      "image/png": "[encoded data removed]",
      "text/plain": [
       "<Figure size 432x288 with 1 Axes>"
      ]
     },
     "metadata": {
      "needs_background": "light"
     },
     "output_type": "display_data"
    },
    {
     "name": "stdout",
     "output_type": "stream",
     "text": [
      "[0. 0. 0. 0. 0. 0. 1. 0. 0. 0.]\n",
      "[2.1652412e-18 1.7309603e-21 1.1219523e-15 6.4232488e-23 7.6937012e-14\n",
      " 5.1349827e-14 1.0000000e+00 7.6978010e-24 6.4409100e-17 6.0597468e-19]\n"
     ]
    },
    {
     "data": {
      "image/png": "[encoded data removed]",
      "text/plain": [
       "<Figure size 432x288 with 1 Axes>"
      ]
     },
     "metadata": {
      "needs_background": "light"
     },
     "output_type": "display_data"
    },
    {
     "name": "stdout",
     "output_type": "stream",
     "text": [
      "[0. 1. 0. 0. 0. 0. 0. 0. 0. 0.]\n",
      "[3.9326511e-12 1.0000000e+00 1.1109205e-10 1.3408114e-13 1.0015258e-10\n",
      " 1.0042257e-12 9.1037025e-11 1.4584299e-09 3.0470939e-09 7.8793005e-12]\n"
     ]
    },
    {
     "data": {
      "image/png": "[encoded data removed]",
      "text/plain": [
       "<Figure size 432x288 with 1 Axes>"
      ]
     },
     "metadata": {
      "needs_background": "light"
     },
     "output_type": "display_data"
    },
    {
     "name": "stdout",
     "output_type": "stream",
     "text": [
      "[0. 0. 0. 0. 0. 0. 0. 0. 1. 0.]\n",
      "[2.3748809e-17 1.9040459e-13 3.8159809e-10 9.2701064e-12 8.2114164e-16\n",
      " 3.4607948e-20 1.7056811e-18 5.4617619e-18 1.0000000e+00 1.3912499e-14]\n",
      "Training student with temperature = 8 , coef = 1.0 .\n",
      "[name: \"/device:CPU:0\"\n",
      "device_type: \"CPU\"\n",
      "memory_limit: 268435456\n",
      "locality {\n",
      "}\n",
      "incarnation: 13515641025037099352\n",
      ", name: \"/device:GPU:0\"\n",
      "device_type: \"GPU\"\n",
      "memory_limit: 8118039348\n",
      "locality {\n",
      "  bus_id: 1\n",
      "}\n",
      "incarnation: 9301335854053535432\n",
      "physical_device_desc: \"device: 0, name: GeForce GTX 1080 Ti, pci bus id: 0000:03:00.0, compute capability: 6.1\"\n",
      "]\n",
      "Epoch 1 , step 0 , loss= 2.3056684 , acc = 0.12 \n",
      "Epoch 1 , step 100 , loss= 2.2817109 , acc = 0.22 \n",
      "Epoch 1 , step 200 , loss= 2.236415 , acc = 0.35 \n",
      "Epoch 1 , step 300 , loss= 2.181921 , acc = 0.43 \n",
      "Epoch 1 , step 400 , loss= 2.128252 , acc = 0.47 \n",
      "Epoch 1 , step 500 , loss= 2.0843377 , acc = 0.54 \n",
      "Epoch 1 , step 549 , loss= 2.0513167 val_loss= 2.0364304 , acc = 0.51 val acc = 0.6028 \n",
      "Epoch 1 finished, loss= 2.1813748 \n",
      "Epoch 2 , step 50 , loss= 2.0092504 , acc = 0.63 \n",
      "Epoch 2 , step 150 , loss= 1.9456542 , acc = 0.66 \n",
      "Epoch 2 , step 250 , loss= 1.8551499 , acc = 0.66 \n",
      "Epoch 2 , step 350 , loss= 1.8071233 , acc = 0.67 \n",
      "Epoch 2 , step 450 , loss= 1.7063899 , acc = 0.71 \n",
      "Epoch 2 , step 549 , loss= 1.6287532 val_loss= 1.6491476 , acc = 0.76 val acc = 0.77 \n",
      "Epoch 2 finished, loss= 2.0170727 \n",
      "Epoch 3 , step 0 , loss= 1.7346132 , acc = 0.7 \n",
      "Epoch 3 , step 100 , loss= 1.5939146 , acc = 0.77 \n",
      "Epoch 3 , step 200 , loss= 1.5846758 , acc = 0.8 \n",
      "Epoch 3 , step 300 , loss= 1.5700885 , acc = 0.75 \n",
      "Epoch 3 , step 400 , loss= 1.4087449 , acc = 0.81 \n",
      "Epoch 3 , step 500 , loss= 1.3859115 , acc = 0.78 \n",
      "Epoch 3 , step 549 , loss= 1.3460997 val_loss= 1.357645 , acc = 0.83 val acc = 0.8084 \n",
      "Epoch 3 finished, loss= 1.8422995 \n",
      "Epoch 4 , step 50 , loss= 1.2885654 , acc = 0.84 \n",
      "Epoch 4 , step 150 , loss= 1.3691664 , acc = 0.84 \n",
      "Epoch 4 , step 250 , loss= 1.3520893 , acc = 0.75 \n",
      "Epoch 4 , step 350 , loss= 1.2539405 , acc = 0.83 \n",
      "Epoch 4 , step 450 , loss= 1.3333706 , acc = 0.77 \n",
      "Epoch 4 , step 549 , loss= 1.2752473 val_loss= 1.1842127 , acc = 0.78 val acc = 0.8396 \n",
      "Epoch 4 finished, loss= 1.7199371 \n",
      "Epoch 5 , step 0 , loss= 1.1687136 , acc = 0.86 \n",
      "Epoch 5 , step 100 , loss= 1.2557974 , acc = 0.82 \n",
      "Epoch 5 , step 200 , loss= 1.1451399 , acc = 0.83 \n",
      "Epoch 5 , step 300 , loss= 1.1697813 , acc = 0.86 \n",
      "Epoch 5 , step 400 , loss= 1.1001681 , acc = 0.87 \n",
      "Epoch 5 , step 500 , loss= 1.1205574 , acc = 0.86 \n",
      "Epoch 5 , step 549 , loss= 1.1551725 val_loss= 1.0883964 , acc = 0.86 val acc = 0.8554 \n",
      "Epoch 5 finished, loss= 1.6010213 \n",
      "Epoch 6 , step 50 , loss= 1.1117527 , acc = 0.84 \n",
      "Epoch 6 , step 150 , loss= 1.072491 , acc = 0.84 \n",
      "Epoch 6 , step 250 , loss= 1.0404277 , acc = 0.86 \n",
      "Epoch 6 , step 350 , loss= 1.0260555 , acc = 0.86 \n",
      "Epoch 6 , step 450 , loss= 1.1990274 , acc = 0.83 \n",
      "Epoch 6 , step 549 , loss= 1.0418994 val_loss= 1.031738 , acc = 0.87 val acc = 0.8704 \n",
      "Epoch 6 finished, loss= 1.521163 \n",
      "Epoch 7 , step 0 , loss= 1.0363135 , acc = 0.93 \n",
      "Epoch 7 , step 100 , loss= 1.1212865 , acc = 0.91 \n",
      "Epoch 7 , step 200 , loss= 1.0391344 , acc = 0.83 \n",
      "Epoch 7 , step 300 , loss= 1.0741999 , acc = 0.89 \n",
      "Epoch 7 , step 400 , loss= 1.0618815 , acc = 0.87 \n",
      "Epoch 7 , step 500 , loss= 1.0250384 , acc = 0.88 \n",
      "Epoch 7 , step 549 , loss= 1.0116229 val_loss= 0.995199 , acc = 0.88 val acc = 0.8812 \n",
      "Epoch 7 finished, loss= 1.4498876 \n",
      "Epoch 8 , step 50 , loss= 0.962574 , acc = 0.88 \n",
      "Epoch 8 , step 150 , loss= 1.0113825 , acc = 0.9 \n",
      "Epoch 8 , step 250 , loss= 1.0406265 , acc = 0.92 \n",
      "Epoch 8 , step 350 , loss= 1.1474376 , acc = 0.81 \n",
      "Epoch 8 , step 450 , loss= 0.983999 , acc = 0.87 \n",
      "Epoch 8 , step 549 , loss= 1.1528629 val_loss= 0.97045153 , acc = 0.84 val acc = 0.8888 \n",
      "Epoch 8 finished, loss= 1.4037254 \n",
      "Epoch 9 , step 0 , loss= 1.0265801 , acc = 0.89 \n",
      "Epoch 9 , step 100 , loss= 0.92152846 , acc = 0.91 \n",
      "Epoch 9 , step 200 , loss= 0.96422213 , acc = 0.92 \n",
      "Epoch 9 , step 300 , loss= 1.0367659 , acc = 0.85 \n",
      "Epoch 9 , step 400 , loss= 1.1018257 , acc = 0.85 \n",
      "Epoch 9 , step 500 , loss= 0.9959337 , acc = 0.87 \n",
      "Epoch 9 , step 549 , loss= 1.0210049 val_loss= 0.95250213 , acc = 0.89 val acc = 0.8928 \n",
      "Epoch 9 finished, loss= 1.3569758 \n",
      "Epoch 10 , step 50 , loss= 0.9888469 , acc = 0.9 \n",
      "Epoch 10 , step 150 , loss= 0.95264727 , acc = 0.9 \n",
      "Epoch 10 , step 250 , loss= 1.0066825 , acc = 0.93 \n",
      "Epoch 10 , step 350 , loss= 1.0104576 , acc = 0.92 \n",
      "Epoch 10 , step 450 , loss= 1.0557771 , acc = 0.85 \n",
      "Epoch 10 , step 549 , loss= 0.93994635 val_loss= 0.9392465 , acc = 0.89 val acc = 0.8958 \n",
      "Epoch 10 finished, loss= 1.3233222 \n",
      "Epoch 11 , step 0 , loss= 1.0054994 , acc = 0.9 \n",
      "Epoch 11 , step 100 , loss= 0.9076122 , acc = 0.91 \n",
      "Epoch 11 , step 200 , loss= 0.9637863 , acc = 0.87 \n",
      "Epoch 11 , step 300 , loss= 0.8647148 , acc = 0.89 \n",
      "Epoch 11 , step 400 , loss= 0.9139134 , acc = 0.88 \n",
      "Epoch 11 , step 500 , loss= 1.012308 , acc = 0.84 \n",
      "Epoch 11 , step 549 , loss= 0.8939022 val_loss= 0.92908204 , acc = 0.96 val acc = 0.8978 \n",
      "Epoch 11 finished, loss= 1.2858009 \n",
      "Epoch 12 , step 50 , loss= 1.0456986 , acc = 0.83 \n",
      "Epoch 12 , step 150 , loss= 1.0673089 , acc = 0.86 \n",
      "Epoch 12 , step 250 , loss= 0.9664023 , acc = 0.87 \n",
      "Epoch 12 , step 350 , loss= 0.8750374 , acc = 0.92 \n",
      "Epoch 12 , step 450 , loss= 0.961622 , acc = 0.9 \n",
      "Epoch 12 , step 549 , loss= 0.9285456 val_loss= 0.92105186 , acc = 0.93 val acc = 0.8996 \n",
      "Epoch 12 finished, loss= 1.2618241 \n",
      "Epoch 13 , step 0 , loss= 0.9413956 , acc = 0.91 \n",
      "Epoch 13 , step 100 , loss= 0.9402584 , acc = 0.91 \n",
      "Epoch 13 , step 200 , loss= 0.9942439 , acc = 0.89 \n",
      "Epoch 13 , step 300 , loss= 0.89037025 , acc = 0.94 \n",
      "Epoch 13 , step 400 , loss= 1.1301451 , acc = 0.83 \n",
      "Epoch 13 , step 500 , loss= 0.9628587 , acc = 0.85 \n",
      "Epoch 13 , step 549 , loss= 0.91511613 val_loss= 0.91430724 , acc = 0.85 val acc = 0.9032 \n",
      "Epoch 13 finished, loss= 1.2376078 \n",
      "Epoch 14 , step 50 , loss= 0.89747286 , acc = 0.89 \n",
      "Epoch 14 , step 150 , loss= 1.0520533 , acc = 0.85 \n",
      "Epoch 14 , step 250 , loss= 0.88444597 , acc = 0.89 \n",
      "Epoch 14 , step 350 , loss= 0.94497836 , acc = 0.87 \n",
      "Epoch 14 , step 450 , loss= 0.9360589 , acc = 0.89 \n",
      "Epoch 14 , step 549 , loss= 0.9517491 val_loss= 0.90846306 , acc = 0.83 val acc = 0.9042 \n",
      "Epoch 14 finished, loss= 1.2182794 \n",
      "Epoch 15 , step 0 , loss= 0.88523537 , acc = 0.91 \n",
      "Epoch 15 , step 100 , loss= 0.9307567 , acc = 0.94 \n",
      "Epoch 15 , step 200 , loss= 0.8917337 , acc = 0.9 \n",
      "Epoch 15 , step 300 , loss= 1.0645331 , acc = 0.89 \n",
      "Epoch 15 , step 400 , loss= 0.7538796 , acc = 0.95 \n",
      "Epoch 15 , step 500 , loss= 0.9752497 , acc = 0.92 \n",
      "Epoch 15 , step 549 , loss= 0.9512888 val_loss= 0.9035842 , acc = 0.89 val acc = 0.906 \n",
      "Epoch 15 finished, loss= 1.197103 \n",
      "Epoch 16 , step 50 , loss= 1.1399304 , acc = 0.84 \n",
      "Epoch 16 , step 150 , loss= 1.0079142 , acc = 0.87 \n",
      "Epoch 16 , step 250 , loss= 1.0023577 , acc = 0.84 \n",
      "Epoch 16 , step 350 , loss= 0.89105004 , acc = 0.91 \n",
      "Epoch 16 , step 450 , loss= 0.80638695 , acc = 0.92 \n",
      "Epoch 16 , step 549 , loss= 1.008708 val_loss= 0.8990924 , acc = 0.92 val acc = 0.9064 \n",
      "Epoch 16 finished, loss= 1.1843505 \n",
      "Epoch 17 , step 0 , loss= 0.91840875 , acc = 0.91 \n",
      "Epoch 17 , step 100 , loss= 0.9646996 , acc = 0.9 \n",
      "Epoch 17 , step 200 , loss= 1.0419658 , acc = 0.86 \n",
      "Epoch 17 , step 300 , loss= 0.9156507 , acc = 0.91 \n",
      "Epoch 17 , step 400 , loss= 0.973358 , acc = 0.91 \n",
      "Epoch 17 , step 500 , loss= 0.8919898 , acc = 0.89 \n",
      "Epoch 17 , step 549 , loss= 1.0281727 val_loss= 0.8953325 , acc = 0.9 val acc = 0.9084 \n",
      "Epoch 17 finished, loss= 1.1703305 \n",
      "Epoch 18 , step 50 , loss= 0.92161185 , acc = 0.91 \n",
      "Epoch 18 , step 150 , loss= 0.9779812 , acc = 0.86 \n",
      "Epoch 18 , step 250 , loss= 0.9204091 , acc = 0.92 \n",
      "Epoch 18 , step 350 , loss= 0.9207634 , acc = 0.92 \n",
      "Epoch 18 , step 450 , loss= 0.85240805 , acc = 0.94 \n",
      "Epoch 18 , step 549 , loss= 0.96447635 val_loss= 0.89131737 , acc = 0.87 val acc = 0.909 \n",
      "Epoch 18 finished, loss= 1.1578149 \n",
      "Epoch 19 , step 0 , loss= 0.9590926 , acc = 0.87 \n",
      "Epoch 19 , step 100 , loss= 0.8890951 , acc = 0.98 \n",
      "Epoch 19 , step 200 , loss= 0.90067434 , acc = 0.93 \n",
      "Epoch 19 , step 300 , loss= 0.8255721 , acc = 0.91 \n",
      "Epoch 19 , step 400 , loss= 0.986711 , acc = 0.9 \n",
      "Epoch 19 , step 500 , loss= 0.92539185 , acc = 0.88 \n",
      "Epoch 19 , step 549 , loss= 0.9488953 val_loss= 0.8881671 , acc = 0.87 val acc = 0.9116 \n",
      "Epoch 19 finished, loss= 1.1443532 \n"
     ]
    },
    {
     "name": "stdout",
     "output_type": "stream",
     "text": [
      "Epoch 20 , step 50 , loss= 0.9279711 , acc = 0.9 \n",
      "Epoch 20 , step 150 , loss= 0.887609 , acc = 0.91 \n",
      "Epoch 20 , step 250 , loss= 0.9307682 , acc = 0.92 \n",
      "Epoch 20 , step 350 , loss= 0.8971323 , acc = 0.93 \n",
      "Epoch 20 , step 450 , loss= 0.91430944 , acc = 0.94 \n",
      "Epoch 20 , step 549 , loss= 0.848839 val_loss= 0.8849529 , acc = 0.9 val acc = 0.9118 \n",
      "Epoch 20 finished, loss= 1.1331263 \n",
      "Epoch 21 , step 0 , loss= 0.998067 , acc = 0.89 \n",
      "Epoch 21 , step 100 , loss= 0.9804979 , acc = 0.9 \n",
      "Epoch 21 , step 200 , loss= 0.9453468 , acc = 0.86 \n",
      "Epoch 21 , step 300 , loss= 0.88530177 , acc = 0.9 \n",
      "Epoch 21 , step 400 , loss= 1.0253404 , acc = 0.91 \n",
      "Epoch 21 , step 500 , loss= 0.851035 , acc = 0.94 \n",
      "Epoch 21 , step 549 , loss= 0.85474104 val_loss= 0.881969 , acc = 0.95 val acc = 0.9118 \n",
      "Epoch 21 finished, loss= 1.1229689 \n",
      "Epoch 22 , step 50 , loss= 0.762709 , acc = 0.93 \n",
      "Epoch 22 , step 150 , loss= 0.95395845 , acc = 0.87 \n",
      "Epoch 22 , step 250 , loss= 0.9416002 , acc = 0.91 \n",
      "Epoch 22 , step 350 , loss= 0.9413487 , acc = 0.88 \n",
      "Epoch 22 , step 450 , loss= 0.87888646 , acc = 0.89 \n",
      "Epoch 22 , step 549 , loss= 0.86423355 val_loss= 0.87928313 , acc = 0.9 val acc = 0.913 \n",
      "Epoch 22 finished, loss= 1.1132132 \n",
      "Epoch 23 , step 0 , loss= 0.8969004 , acc = 0.9 \n",
      "Epoch 23 , step 100 , loss= 0.90618455 , acc = 0.89 \n",
      "Epoch 23 , step 200 , loss= 1.031615 , acc = 0.82 \n",
      "Epoch 23 , step 300 , loss= 0.89907193 , acc = 0.89 \n",
      "Epoch 23 , step 400 , loss= 0.8696955 , acc = 0.91 \n",
      "Epoch 23 , step 500 , loss= 0.9062601 , acc = 0.88 \n",
      "Epoch 23 , step 549 , loss= 0.93784404 val_loss= 0.87650466 , acc = 0.9 val acc = 0.9146 \n",
      "Epoch 23 finished, loss= 1.104247 \n",
      "Epoch 24 , step 50 , loss= 0.95505196 , acc = 0.93 \n",
      "Epoch 24 , step 150 , loss= 0.8279484 , acc = 0.95 \n",
      "Epoch 24 , step 250 , loss= 0.8500953 , acc = 0.9 \n",
      "Epoch 24 , step 350 , loss= 0.8728807 , acc = 0.93 \n",
      "Epoch 24 , step 450 , loss= 0.90682846 , acc = 0.91 \n",
      "Epoch 24 , step 549 , loss= 0.8849496 val_loss= 0.8739245 , acc = 0.9 val acc = 0.9154 \n",
      "Epoch 24 finished, loss= 1.0957359 \n",
      "Epoch 25 , step 0 , loss= 1.0126704 , acc = 0.89 \n",
      "Epoch 25 , step 100 , loss= 0.9158875 , acc = 0.91 \n",
      "Epoch 25 , step 200 , loss= 0.9094671 , acc = 0.89 \n",
      "Epoch 25 , step 300 , loss= 0.86940634 , acc = 0.91 \n",
      "Epoch 25 , step 400 , loss= 0.8974473 , acc = 0.91 \n",
      "Epoch 25 , step 500 , loss= 0.8226176 , acc = 0.94 \n",
      "Epoch 25 , step 549 , loss= 0.8811273 val_loss= 0.87139934 , acc = 0.91 val acc = 0.9154 \n",
      "Epoch 25 finished, loss= 1.0873829 \n",
      "Epoch 26 , step 50 , loss= 0.93534714 , acc = 0.91 \n",
      "Epoch 26 , step 150 , loss= 0.88342917 , acc = 0.93 \n",
      "Epoch 26 , step 250 , loss= 0.94151366 , acc = 0.88 \n",
      "Epoch 26 , step 350 , loss= 1.0437939 , acc = 0.87 \n",
      "Epoch 26 , step 450 , loss= 0.8429679 , acc = 0.92 \n",
      "Epoch 26 , step 549 , loss= 0.7770917 val_loss= 0.86909676 , acc = 0.94 val acc = 0.9168 \n",
      "Epoch 26 finished, loss= 1.0808733 \n",
      "Epoch 27 , step 0 , loss= 0.95176065 , acc = 0.89 \n",
      "Epoch 27 , step 100 , loss= 0.91980445 , acc = 0.9 \n",
      "Epoch 27 , step 200 , loss= 0.83819413 , acc = 0.96 \n",
      "Epoch 27 , step 300 , loss= 1.0241835 , acc = 0.9 \n",
      "Epoch 27 , step 400 , loss= 0.82930475 , acc = 0.9 \n",
      "Epoch 27 , step 500 , loss= 0.84342176 , acc = 0.93 \n",
      "Epoch 27 , step 549 , loss= 0.96548384 val_loss= 0.8667257 , acc = 0.9 val acc = 0.9168 \n",
      "Epoch 27 finished, loss= 1.0740894 \n",
      "Epoch 28 , step 50 , loss= 0.886472 , acc = 0.96 \n",
      "Epoch 28 , step 150 , loss= 0.85392463 , acc = 0.97 \n",
      "Epoch 28 , step 250 , loss= 0.8528884 , acc = 0.92 \n",
      "Epoch 28 , step 350 , loss= 0.89554507 , acc = 0.93 \n",
      "Epoch 28 , step 450 , loss= 0.8983824 , acc = 0.92 \n",
      "Epoch 28 , step 549 , loss= 0.9514106 val_loss= 0.86462677 , acc = 0.89 val acc = 0.9176 \n",
      "Epoch 28 finished, loss= 1.068013 \n",
      "Epoch 29 , step 0 , loss= 0.91477966 , acc = 0.92 \n",
      "Epoch 29 , step 100 , loss= 0.78893226 , acc = 0.95 \n",
      "Epoch 29 , step 200 , loss= 0.9009582 , acc = 0.92 \n",
      "Epoch 29 , step 300 , loss= 0.8414324 , acc = 0.92 \n",
      "Epoch 29 , step 400 , loss= 0.8368108 , acc = 0.94 \n",
      "Epoch 29 , step 500 , loss= 0.87807214 , acc = 0.93 \n",
      "Epoch 29 , step 549 , loss= 0.95364815 val_loss= 0.86236155 , acc = 0.96 val acc = 0.9184 \n",
      "Epoch 29 finished, loss= 1.0608094 \n",
      "Epoch 30 , step 50 , loss= 0.873508 , acc = 0.92 \n",
      "Epoch 30 , step 150 , loss= 0.8915511 , acc = 0.89 \n",
      "Epoch 30 , step 250 , loss= 0.9198971 , acc = 0.91 \n",
      "Epoch 30 , step 350 , loss= 0.8868985 , acc = 0.88 \n",
      "Epoch 30 , step 450 , loss= 0.8855297 , acc = 0.9 \n",
      "Epoch 30 , step 549 , loss= 0.8710188 val_loss= 0.8602789 , acc = 0.93 val acc = 0.9188 \n",
      "Epoch 30 finished, loss= 1.0554943 \n",
      "Student performance with temperature = 8 , coef = 1.0 .\n",
      "Plotting loss...\n"
     ]
    },
    {
     "data": {
      "image/png": "[encoded data removed]",
      "text/plain": [
       "<Figure size 432x288 with 1 Axes>"
      ]
     },
     "metadata": {
      "needs_background": "light"
     },
     "output_type": "display_data"
    },
    {
     "name": "stdout",
     "output_type": "stream",
     "text": [
      "Plotting metrics...\n"
     ]
    },
    {
     "data": {
      "image/png": "[encoded data removed]",
      "text/plain": [
       "<Figure size 432x288 with 1 Axes>"
      ]
     },
     "metadata": {
      "needs_background": "light"
     },
     "output_type": "display_data"
    },
    {
     "name": "stdout",
     "output_type": "stream",
     "text": [
      "train {'acc': 0.9122364}\n",
      "test {'acc': 0.9174}\n",
      "\n"
     ]
    }
   ],
   "source": [
    "# BUGFIX: already misorder\n",
    "temperatures = [2,4,8]#,16,32,64]\n",
    "train_metrics = {}\n",
    "test_metrics = {}\n",
    "for temperature in temperatures:\n",
    "    # initialize metrics\n",
    "    train_metrics[temperature] = []\n",
    "    test_metrics[temperature] = []\n",
    "    # prepare softened data\n",
    "    y_train_soft = teacher.predict_softened(X_train, temperature)\n",
    "    y_val_soft = teacher.predict_softened(X_val, temperature)\n",
    "    y_test_soft = teacher.predict_softened(X_test, temperature)\n",
    "    \n",
    "    X_show, y_show = X_train.copy(), y_train.copy()\n",
    "    y_pred = teacher.predict(X_show)\n",
    "    plot_mnist(X_show, y_show, y_pred)\n",
    "    for coef_softloss in [1.0]:\n",
    "#     for coef_softloss in [1/(temperature**2), 1, temperature**2]:\n",
    "        print('Training student with temperature =',temperature,', coef =',coef_softloss,'.')\n",
    "        # build network architecture\n",
    "#         student = build_small_model(input_dims, output_dims, session, is_student=True)\n",
    "        student = build_small_model(input_dims, output_dims, is_student=True)\n",
    "        # train network\n",
    "        student.soft_train(\n",
    "            X=X_train\n",
    "            ,y=y_train\n",
    "            ,y_soft=y_train_soft\n",
    "            ,temperature=temperature\n",
    "            ,coef_softloss= coef_softloss# * temperature**2\n",
    "            ,val_set=[X_val,y_val,y_val_soft]\n",
    "            ,batch_size=100\n",
    "            ,n_epochs=30\n",
    "            ,display_steps=100)\n",
    "        # show result\n",
    "        print('Student performance with temperature =',temperature,', coef =',coef_softloss,'.')\n",
    "        student.plt_loss()\n",
    "        student.plt_metrics()\n",
    "        train_metric = student.get_metrics(X_train, y_train)\n",
    "        test_metric = student.get_metrics(X_test, y_test)\n",
    "        print('train',train_metric)\n",
    "        print('test',test_metric)\n",
    "        print()\n",
    "        train_metrics[temperature].append(train_metric)\n",
    "        test_metrics[temperature].append(test_metric)\n",
    "#         gc.collect()"
   ]
  },
  {
   "cell_type": "code",
   "execution_count": 18,
   "metadata": {
    "ExecuteTime": {
     "end_time": "2018-11-22T14:25:13.591099Z",
     "start_time": "2018-11-22T14:25:13.570290Z"
    }
   },
   "outputs": [
    {
     "name": "stdout",
     "output_type": "stream",
     "text": [
      "{2: [{'acc': 0.933}], 4: [{'acc': 0.9273}], 8: [{'acc': 0.9174}]}\n"
     ]
    }
   ],
   "source": [
    "print(test_metrics)"
   ]
  },
  {
   "cell_type": "code",
   "execution_count": null,
   "metadata": {
    "ExecuteTime": {
     "start_time": "2018-11-22T14:11:26.034Z"
    }
   },
   "outputs": [],
   "source": [
    "# close_session(session)"
   ]
  },
  {
   "cell_type": "code",
   "execution_count": null,
   "metadata": {},
   "outputs": [],
   "source": []
  }
 ],
 "metadata": {
  "kernelspec": {
   "display_name": "Python [conda env:tu36]",
   "language": "python",
   "name": "conda-env-tu36-py"
  },
  "language_info": {
   "codemirror_mode": {
    "name": "ipython",
    "version": 3
   },
   "file_extension": ".py",
   "mimetype": "text/x-python",
   "name": "python",
   "nbconvert_exporter": "python",
   "pygments_lexer": "ipython3",
   "version": "3.6.6"
  },
  "widgets": {
   "state": {},
   "version": "1.1.2"
  }
 },
 "nbformat": 4,
 "nbformat_minor": 2
}
