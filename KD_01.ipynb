{
 "cells": [
  {
   "cell_type": "code",
   "execution_count": 1,
   "metadata": {
    "ExecuteTime": {
     "end_time": "2018-11-16T06:28:07.726824Z",
     "start_time": "2018-11-16T06:28:07.696078Z"
    }
   },
   "outputs": [],
   "source": [
    "# to auto reload the modified module\n",
    "% load_ext autoreload\n",
    "% autoreload 2"
   ]
  },
  {
   "cell_type": "code",
   "execution_count": 13,
   "metadata": {
    "ExecuteTime": {
     "end_time": "2018-11-16T06:54:37.002695Z",
     "start_time": "2018-11-16T06:54:36.893498Z"
    }
   },
   "outputs": [],
   "source": [
    "import tensorflow as tf\n",
    "import numpy as np\n",
    "import random\n",
    "import os\n",
    "from sklearn.model_selection import train_test_split\n",
    "import matplotlib.pyplot as plt\n",
    "import gc\n",
    "\n",
    "from utils import *\n",
    "from data import MnistTF\n",
    "from nn_kd import *\n",
    "from layers import *\n",
    "# from models import *"
   ]
  },
  {
   "cell_type": "code",
   "execution_count": 3,
   "metadata": {
    "ExecuteTime": {
     "end_time": "2018-11-16T06:35:59.383360Z",
     "start_time": "2018-11-16T06:35:59.140482Z"
    }
   },
   "outputs": [],
   "source": [
    "# session settings\n",
    "session = create_session(gpu_id='1')\n",
    "# seed settings\n",
    "set_rand_seed(0)"
   ]
  },
  {
   "cell_type": "code",
   "execution_count": 5,
   "metadata": {
    "ExecuteTime": {
     "end_time": "2018-11-16T06:37:25.793900Z",
     "start_time": "2018-11-16T06:37:25.292949Z"
    },
    "scrolled": true
   },
   "outputs": [
    {
     "name": "stdout",
     "output_type": "stream",
     "text": [
      "Extracting /tmp/data/train-images-idx3-ubyte.gz\n",
      "Extracting /tmp/data/train-labels-idx1-ubyte.gz\n",
      "Extracting /tmp/data/t10k-images-idx3-ubyte.gz\n",
      "Extracting /tmp/data/t10k-labels-idx1-ubyte.gz\n",
      "X_train <class 'numpy.ndarray'> (55000, 784)\n",
      "y_train <class 'numpy.ndarray'> (55000, 10)\n",
      "X_val <class 'numpy.ndarray'> (5000, 784)\n",
      "y_val <class 'numpy.ndarray'> (5000, 10)\n",
      "X_test <class 'numpy.ndarray'> (10000, 784)\n",
      "y_test <class 'numpy.ndarray'> (10000, 10)\n",
      "input_dims <class 'int'> 784\n",
      "output_dims <class 'int'> 10\n"
     ]
    }
   ],
   "source": [
    "# read Mnist data\n",
    "try_cls2 = True\n",
    "if try_cls2:\n",
    "    mnist = MnistTF()\n",
    "    X_train, y_train = mnist.get_train_data()\n",
    "    X_val, y_val = mnist.get_validation_data()\n",
    "    X_test, y_test = mnist.get_test_data()\n",
    "    print_obj(X_train, 'X_train')\n",
    "    print_obj(y_train, 'y_train')\n",
    "    print_obj(X_val, 'X_val')\n",
    "    print_obj(y_val, 'y_val')\n",
    "    print_obj(X_test, 'X_test')\n",
    "    print_obj(y_test, 'y_test')\n",
    "    input_dims = X_train.shape[1]\n",
    "    output_dims = y_train.shape[1]\n",
    "    print_obj(input_dims, 'input_dims')\n",
    "    print_obj(output_dims, 'output_dims')\n"
   ]
  },
  {
   "cell_type": "code",
   "execution_count": 7,
   "metadata": {
    "ExecuteTime": {
     "end_time": "2018-11-16T06:38:26.379686Z",
     "start_time": "2018-11-16T06:38:26.317712Z"
    }
   },
   "outputs": [],
   "source": [
    "def build_big_model(input_dims, output_dims, session):\n",
    "\n",
    "    bigmodel = SoftenedNN(\n",
    "        input_dims=input_dims\n",
    "        , output_dims=output_dims\n",
    "        , session=session\n",
    "        , dtype_X=tf.float32\n",
    "        , dtype_y=tf.float32)\n",
    "\n",
    "    bigmodel.add_layer(\n",
    "        FC(inputs=bigmodel.h[-1],out_dims=512, activation_fn=tf.nn.relu))\n",
    "    bigmodel.add_layer(\n",
    "        Dropout(inputs=bigmodel.h[-1], keep_prob=0.7))\n",
    "    bigmodel.add_layer(\n",
    "        FC(inputs=bigmodel.h[-1],out_dims=512, activation_fn=tf.nn.relu))\n",
    "    bigmodel.add_layer(\n",
    "        Dropout(inputs=bigmodel.h[-1], keep_prob=0.7))\n",
    "    bigmodel.add_layer(\n",
    "        FC(inputs=bigmodel.h[-1],out_dims=output_dims, activation_fn=tf.nn.softmax))\n",
    "\n",
    "    bigmodel.compile_nn(\n",
    "        loss=tf.losses.softmax_cross_entropy(bigmodel.ys,bigmodel.logits)\n",
    "        , opt=tf.train.AdamOptimizer(learning_rate=1e-3)\n",
    "        , metrics = ['acc'])\n",
    "\n",
    "    return bigmodel"
   ]
  },
  {
   "cell_type": "code",
   "execution_count": 16,
   "metadata": {
    "ExecuteTime": {
     "end_time": "2018-11-16T07:11:26.142659Z",
     "start_time": "2018-11-16T07:11:25.906681Z"
    }
   },
   "outputs": [],
   "source": [
    "def build_small_model(input_dims, output_dims, session, is_student):\n",
    "\n",
    "    smallmodel = StudentNN(\n",
    "        input_dims=input_dims\n",
    "        , output_dims=output_dims\n",
    "        , session=session\n",
    "        , dtype_X=tf.float32\n",
    "        , dtype_y=tf.float32)\n",
    "\n",
    "    smallmodel.add_layer(\n",
    "        FC(inputs=smallmodel.h[-1],out_dims=4,activation_fn=tf.nn.relu))\n",
    "    smallmodel.add_layer(\n",
    "        FC(inputs=smallmodel.h[-1],out_dims=output_dims, activation_fn=tf.nn.softmax))\n",
    "\n",
    "    if is_student:\n",
    "        smallmodel.compile_student(\n",
    "            loss_standard=tf.losses.softmax_cross_entropy(smallmodel.ys,smallmodel.logits)\n",
    "            , opt=tf.train.AdamOptimizer(learning_rate=1e-3) #TODO: higher learning rate\n",
    "            , metrics = ['acc']) # BUGFIX: logits_with_T still None currently\n",
    "    else:\n",
    "        smallmodel.compile_nn(\n",
    "            loss=tf.losses.softmax_cross_entropy(smallmodel.ys,smallmodel.logits)\n",
    "            , opt=tf.train.AdamOptimizer(learning_rate=1e-3)\n",
    "            , metrics = ['acc']) # BUGFIX: logits_with_T still None currently\n",
    "    return smallmodel"
   ]
  },
  {
   "cell_type": "code",
   "execution_count": 14,
   "metadata": {
    "ExecuteTime": {
     "end_time": "2018-11-16T06:57:32.947710Z",
     "start_time": "2018-11-16T06:54:41.081010Z"
    }
   },
   "outputs": [
    {
     "name": "stdout",
     "output_type": "stream",
     "text": [
      "Epoch 1 , step 0 , loss= 3.2116785 val_loss= 3.881226 , acc = 0.25 val acc = 0.132 \n",
      "Epoch 1 , step 100 , loss= 0.55827373 val_loss= 0.5321431 , acc = 0.78125 val acc = 0.8344 \n",
      "Epoch 1 , step 200 , loss= 0.32872888 val_loss= 0.39927116 , acc = 0.84375 val acc = 0.8814 \n",
      "Epoch 1 , step 300 , loss= 0.21233639 val_loss= 0.32993823 , acc = 0.8125 val acc = 0.9038 \n",
      "Epoch 1 , step 400 , loss= 0.062278226 val_loss= 0.3002664 , acc = 0.9375 val acc = 0.9048 \n",
      "Epoch 1 , step 500 , loss= 0.16812035 val_loss= 0.23371948 , acc = 0.875 val acc = 0.9298 \n",
      "Epoch 1 , step 600 , loss= 0.11664678 val_loss= 0.25269958 , acc = 0.96875 val acc = 0.9194 \n",
      "Epoch 1 , step 700 , loss= 0.28729898 val_loss= 0.22845982 , acc = 0.9375 val acc = 0.9294 \n",
      "Epoch 1 , step 800 , loss= 0.28952372 val_loss= 0.1999355 , acc = 0.90625 val acc = 0.935 \n",
      "Epoch 1 , step 900 , loss= 0.25255567 val_loss= 0.19905607 , acc = 0.90625 val acc = 0.9388 \n",
      "Epoch 1 , step 1000 , loss= 0.04767844 val_loss= 0.18965137 , acc = 1.0 val acc = 0.9448 \n",
      "Epoch 1 , step 1100 , loss= 0.037732556 val_loss= 0.18925953 , acc = 1.0 val acc = 0.9422 \n",
      "Epoch 1 , step 1200 , loss= 0.09345702 val_loss= 0.20297953 , acc = 1.0 val acc = 0.9438 \n",
      "Epoch 1 , step 1300 , loss= 0.03288378 val_loss= 0.17596628 , acc = 1.0 val acc = 0.9516 \n",
      "Epoch 1 , step 1400 , loss= 0.19778731 val_loss= 0.17978701 , acc = 1.0 val acc = 0.9464 \n",
      "Epoch 1 , step 1500 , loss= 0.2717634 val_loss= 0.16049382 , acc = 0.9375 val acc = 0.95 \n",
      "Epoch 1 , step 1600 , loss= 0.073082656 val_loss= 0.15520534 , acc = 0.90625 val acc = 0.9554 \n",
      "Epoch 1 , step 1700 , loss= 0.2372112 val_loss= 0.15424922 , acc = 0.9375 val acc = 0.953 \n",
      "Epoch 2 , step 82 , loss= 0.27461132 val_loss= 0.14981575 , acc = 0.9375 val acc = 0.956 \n",
      "Epoch 2 , step 182 , loss= 0.07833981 val_loss= 0.1455495 , acc = 1.0 val acc = 0.9548 \n",
      "Epoch 2 , step 282 , loss= 0.49498713 val_loss= 0.13830435 , acc = 0.875 val acc = 0.9578 \n",
      "Epoch 2 , step 382 , loss= 0.07344056 val_loss= 0.1644068 , acc = 1.0 val acc = 0.9548 \n",
      "Epoch 2 , step 482 , loss= 0.13066128 val_loss= 0.15652554 , acc = 0.96875 val acc = 0.9546 \n",
      "Epoch 2 , step 582 , loss= 0.004846012 val_loss= 0.14042944 , acc = 1.0 val acc = 0.9562 \n",
      "Epoch 2 , step 682 , loss= 0.30945942 val_loss= 0.16011733 , acc = 0.875 val acc = 0.9546 \n",
      "Epoch 2 , step 782 , loss= 0.13367957 val_loss= 0.14796622 , acc = 0.90625 val acc = 0.955 \n",
      "Epoch 2 , step 882 , loss= 0.22916289 val_loss= 0.1345297 , acc = 0.9375 val acc = 0.962 \n",
      "Epoch 2 , step 982 , loss= 0.21082874 val_loss= 0.14291298 , acc = 0.9375 val acc = 0.954 \n",
      "Epoch 2 , step 1082 , loss= 0.037087 val_loss= 0.14107388 , acc = 1.0 val acc = 0.9568 \n",
      "Epoch 2 , step 1182 , loss= 0.18736443 val_loss= 0.12990572 , acc = 0.9375 val acc = 0.9662 \n",
      "Epoch 2 , step 1282 , loss= 0.11122117 val_loss= 0.12772533 , acc = 0.9375 val acc = 0.9624 \n",
      "Epoch 2 , step 1382 , loss= 0.050900422 val_loss= 0.1198501 , acc = 1.0 val acc = 0.9622 \n",
      "Epoch 2 , step 1482 , loss= 0.12611364 val_loss= 0.1338579 , acc = 0.9375 val acc = 0.9568 \n",
      "Epoch 2 , step 1582 , loss= 0.04644077 val_loss= 0.123510756 , acc = 1.0 val acc = 0.9624 \n",
      "Epoch 2 , step 1682 , loss= 0.086013265 val_loss= 0.13981268 , acc = 1.0 val acc = 0.962 \n",
      "Epoch 3 , step 64 , loss= 0.04370327 val_loss= 0.13104187 , acc = 0.96875 val acc = 0.962 \n",
      "Epoch 3 , step 164 , loss= 0.33510852 val_loss= 0.12801538 , acc = 0.90625 val acc = 0.9654 \n",
      "Epoch 3 , step 264 , loss= 0.04470431 val_loss= 0.11608038 , acc = 0.96875 val acc = 0.968 \n",
      "Epoch 3 , step 364 , loss= 0.1204215 val_loss= 0.12997663 , acc = 0.96875 val acc = 0.9622 \n",
      "Epoch 3 , step 464 , loss= 0.11846285 val_loss= 0.11339655 , acc = 0.9375 val acc = 0.9672 \n",
      "Epoch 3 , step 564 , loss= 0.10964048 val_loss= 0.120276146 , acc = 0.9375 val acc = 0.964 \n",
      "Epoch 3 , step 664 , loss= 0.017050069 val_loss= 0.12140755 , acc = 1.0 val acc = 0.9668 \n",
      "Epoch 3 , step 764 , loss= 0.14007317 val_loss= 0.110323645 , acc = 0.96875 val acc = 0.968 \n",
      "Epoch 3 , step 864 , loss= 0.028777247 val_loss= 0.1196683 , acc = 0.96875 val acc = 0.966 \n",
      "Epoch 3 , step 964 , loss= 0.07427722 val_loss= 0.11198188 , acc = 1.0 val acc = 0.9692 \n",
      "Epoch 3 , step 1064 , loss= 0.05103866 val_loss= 0.116553634 , acc = 0.96875 val acc = 0.9652 \n",
      "Epoch 3 , step 1164 , loss= 0.20028365 val_loss= 0.13188276 , acc = 1.0 val acc = 0.9634 \n",
      "Epoch 3 , step 1264 , loss= 0.06777702 val_loss= 0.106417514 , acc = 0.96875 val acc = 0.967 \n",
      "Epoch 3 , step 1364 , loss= 0.19771212 val_loss= 0.133476 , acc = 0.9375 val acc = 0.9616 \n",
      "Epoch 3 , step 1464 , loss= 0.016056262 val_loss= 0.13823509 , acc = 0.96875 val acc = 0.9638 \n",
      "Epoch 3 , step 1564 , loss= 0.032491114 val_loss= 0.12173351 , acc = 0.96875 val acc = 0.9644 \n",
      "Epoch 3 , step 1664 , loss= 0.018436795 val_loss= 0.11857035 , acc = 1.0 val acc = 0.964 \n",
      "Epoch 4 , step 46 , loss= 0.05528234 val_loss= 0.13791099 , acc = 1.0 val acc = 0.963 \n",
      "Epoch 4 , step 146 , loss= 0.100395836 val_loss= 0.11628407 , acc = 1.0 val acc = 0.969 \n",
      "Epoch 4 , step 246 , loss= 0.028258879 val_loss= 0.11797782 , acc = 1.0 val acc = 0.9642 \n",
      "Epoch 4 , step 346 , loss= 0.007332055 val_loss= 0.11400449 , acc = 0.96875 val acc = 0.9682 \n",
      "Epoch 4 , step 446 , loss= 0.050866473 val_loss= 0.13677202 , acc = 1.0 val acc = 0.9652 \n",
      "Epoch 4 , step 546 , loss= 0.0048677125 val_loss= 0.10970852 , acc = 1.0 val acc = 0.972 \n",
      "Epoch 4 , step 646 , loss= 0.039771546 val_loss= 0.10221903 , acc = 1.0 val acc = 0.9708 \n",
      "Epoch 4 , step 746 , loss= 0.25748718 val_loss= 0.108836204 , acc = 0.9375 val acc = 0.97 \n",
      "Epoch 4 , step 846 , loss= 0.2861649 val_loss= 0.123304434 , acc = 0.96875 val acc = 0.9686 \n",
      "Epoch 4 , step 946 , loss= 0.008753298 val_loss= 0.110242 , acc = 1.0 val acc = 0.9692 \n",
      "Epoch 4 , step 1046 , loss= 0.02821757 val_loss= 0.121465966 , acc = 0.9375 val acc = 0.9672 \n",
      "Epoch 4 , step 1146 , loss= 0.21174033 val_loss= 0.11938553 , acc = 1.0 val acc = 0.964 \n",
      "Epoch 4 , step 1246 , loss= 0.23184042 val_loss= 0.10551514 , acc = 0.96875 val acc = 0.9716 \n",
      "Epoch 4 , step 1346 , loss= 0.014699919 val_loss= 0.12239683 , acc = 0.96875 val acc = 0.9674 \n",
      "Epoch 4 , step 1446 , loss= 0.036462456 val_loss= 0.12052531 , acc = 1.0 val acc = 0.9674 \n",
      "Epoch 4 , step 1546 , loss= 0.11643828 val_loss= 0.113304324 , acc = 0.9375 val acc = 0.9696 \n",
      "Epoch 4 , step 1646 , loss= 0.14239332 val_loss= 0.11278457 , acc = 0.9375 val acc = 0.9684 \n",
      "Epoch 5 , step 28 , loss= 0.025509177 val_loss= 0.11825577 , acc = 1.0 val acc = 0.9686 \n",
      "Epoch 5 , step 128 , loss= 0.02185788 val_loss= 0.10760419 , acc = 1.0 val acc = 0.9654 \n",
      "Epoch 5 , step 228 , loss= 0.13326702 val_loss= 0.121616505 , acc = 0.96875 val acc = 0.965 \n",
      "Epoch 5 , step 328 , loss= 0.008460333 val_loss= 0.11218003 , acc = 0.96875 val acc = 0.9734 \n",
      "Epoch 5 , step 428 , loss= 0.0929191 val_loss= 0.10799635 , acc = 0.96875 val acc = 0.9724 \n",
      "Epoch 5 , step 528 , loss= 0.0692284 val_loss= 0.11966784 , acc = 1.0 val acc = 0.9678 \n",
      "Epoch 5 , step 628 , loss= 0.003797258 val_loss= 0.10417743 , acc = 1.0 val acc = 0.972 \n",
      "Epoch 5 , step 728 , loss= 0.0072340146 val_loss= 0.10985995 , acc = 1.0 val acc = 0.9704 \n",
      "Epoch 5 , step 828 , loss= 0.020664187 val_loss= 0.11757256 , acc = 1.0 val acc = 0.97 \n",
      "Epoch 5 , step 928 , loss= 0.009430467 val_loss= 0.12675478 , acc = 1.0 val acc = 0.9658 \n",
      "Epoch 5 , step 1028 , loss= 0.0092236055 val_loss= 0.11997401 , acc = 1.0 val acc = 0.9714 \n",
      "Epoch 5 , step 1128 , loss= 0.0035173246 val_loss= 0.1252607 , acc = 1.0 val acc = 0.9686 \n",
      "Epoch 5 , step 1228 , loss= 0.13221584 val_loss= 0.12770107 , acc = 0.96875 val acc = 0.9654 \n",
      "Epoch 5 , step 1328 , loss= 0.0448334 val_loss= 0.10859732 , acc = 0.96875 val acc = 0.9702 \n",
      "Epoch 5 , step 1428 , loss= 0.32373998 val_loss= 0.12431725 , acc = 0.96875 val acc = 0.9698 \n",
      "Epoch 5 , step 1528 , loss= 0.04130278 val_loss= 0.107015684 , acc = 1.0 val acc = 0.9692 \n",
      "Epoch 5 , step 1628 , loss= 0.04105315 val_loss= 0.11939794 , acc = 0.96875 val acc = 0.9702 \n",
      "Epoch 6 , step 10 , loss= 0.05422606 val_loss= 0.11188578 , acc = 0.96875 val acc = 0.9726 \n",
      "Epoch 6 , step 110 , loss= 0.004466105 val_loss= 0.116515964 , acc = 0.96875 val acc = 0.975 \n",
      "Epoch 6 , step 210 , loss= 0.31017014 val_loss= 0.10637079 , acc = 0.96875 val acc = 0.969 \n",
      "Epoch 6 , step 310 , loss= 0.09021306 val_loss= 0.12255254 , acc = 0.96875 val acc = 0.9666 \n"
     ]
    },
    {
     "name": "stdout",
     "output_type": "stream",
     "text": [
      "Epoch 6 , step 410 , loss= 0.04178184 val_loss= 0.10393043 , acc = 0.96875 val acc = 0.9706 \n",
      "Epoch 6 , step 510 , loss= 0.005021206 val_loss= 0.117627956 , acc = 1.0 val acc = 0.9692 \n",
      "Epoch 6 , step 610 , loss= 0.044863675 val_loss= 0.11063984 , acc = 1.0 val acc = 0.9732 \n",
      "Epoch 6 , step 710 , loss= 0.035820812 val_loss= 0.12887576 , acc = 1.0 val acc = 0.9668 \n",
      "Epoch 6 , step 810 , loss= 0.054748848 val_loss= 0.09193783 , acc = 1.0 val acc = 0.9724 \n",
      "Epoch 6 , step 910 , loss= 0.0031226068 val_loss= 0.10736117 , acc = 1.0 val acc = 0.972 \n",
      "Epoch 6 , step 1010 , loss= 0.04426768 val_loss= 0.12167112 , acc = 1.0 val acc = 0.9736 \n",
      "Epoch 6 , step 1110 , loss= 0.018514195 val_loss= 0.10377628 , acc = 0.96875 val acc = 0.9734 \n",
      "Epoch 6 , step 1210 , loss= 0.005282606 val_loss= 0.10895442 , acc = 1.0 val acc = 0.974 \n",
      "Epoch 6 , step 1310 , loss= 0.22209463 val_loss= 0.12905267 , acc = 0.96875 val acc = 0.9674 \n",
      "Epoch 6 , step 1410 , loss= 0.023260722 val_loss= 0.110064134 , acc = 1.0 val acc = 0.9746 \n",
      "Epoch 6 , step 1510 , loss= 0.024764713 val_loss= 0.12629516 , acc = 1.0 val acc = 0.9684 \n",
      "Epoch 6 , step 1610 , loss= 0.042938285 val_loss= 0.11386778 , acc = 1.0 val acc = 0.9712 \n",
      "Epoch 6 , step 1710 , loss= 0.037829015 val_loss= 0.12558292 , acc = 0.96875 val acc = 0.9698 \n",
      "Epoch 7 , step 92 , loss= 0.044744287 val_loss= 0.11131275 , acc = 0.96875 val acc = 0.9678 \n",
      "Epoch 7 , step 192 , loss= 0.00055691064 val_loss= 0.113309085 , acc = 1.0 val acc = 0.9718 \n",
      "Epoch 7 , step 292 , loss= 0.042013615 val_loss= 0.11438987 , acc = 1.0 val acc = 0.9688 \n",
      "Epoch 7 , step 392 , loss= 0.038063258 val_loss= 0.11484694 , acc = 0.9375 val acc = 0.975 \n",
      "Epoch 7 , step 492 , loss= 0.08945226 val_loss= 0.11164652 , acc = 1.0 val acc = 0.9726 \n",
      "Epoch 7 , step 592 , loss= 0.124436885 val_loss= 0.11470476 , acc = 1.0 val acc = 0.9704 \n",
      "Epoch 7 , step 692 , loss= 0.024297513 val_loss= 0.11839677 , acc = 0.96875 val acc = 0.971 \n",
      "Epoch 7 , step 792 , loss= 0.12643361 val_loss= 0.12115221 , acc = 0.90625 val acc = 0.9704 \n",
      "Epoch 7 , step 892 , loss= 0.0005428084 val_loss= 0.11611426 , acc = 1.0 val acc = 0.9702 \n",
      "Epoch 7 , step 992 , loss= 0.09300356 val_loss= 0.1136875 , acc = 0.96875 val acc = 0.9736 \n",
      "Epoch 7 , step 1092 , loss= 0.036803663 val_loss= 0.13312177 , acc = 1.0 val acc = 0.9694 \n",
      "Epoch 7 , step 1192 , loss= 0.018456448 val_loss= 0.10414141 , acc = 0.96875 val acc = 0.9726 \n",
      "Epoch 7 , step 1292 , loss= 0.0023674816 val_loss= 0.11134176 , acc = 1.0 val acc = 0.9692 \n",
      "Epoch 7 , step 1392 , loss= 0.13169633 val_loss= 0.11949326 , acc = 0.96875 val acc = 0.9716 \n",
      "Epoch 7 , step 1492 , loss= 0.03304152 val_loss= 0.104287356 , acc = 0.96875 val acc = 0.973 \n",
      "Epoch 7 , step 1592 , loss= 0.00035639424 val_loss= 0.10623733 , acc = 1.0 val acc = 0.973 \n",
      "Epoch 7 , step 1692 , loss= 0.038806412 val_loss= 0.10591724 , acc = 1.0 val acc = 0.9726 \n",
      "Epoch 8 , step 74 , loss= 0.015224871 val_loss= 0.12284694 , acc = 1.0 val acc = 0.9716 \n",
      "Epoch 8 , step 174 , loss= 0.0003198369 val_loss= 0.13421212 , acc = 1.0 val acc = 0.9712 \n",
      "Epoch 8 , step 274 , loss= 0.00036841416 val_loss= 0.12488919 , acc = 1.0 val acc = 0.9722 \n",
      "Epoch 8 , step 374 , loss= 0.00066013896 val_loss= 0.114231534 , acc = 1.0 val acc = 0.9714 \n",
      "Epoch 8 , step 474 , loss= 0.00585219 val_loss= 0.11456871 , acc = 1.0 val acc = 0.9724 \n",
      "Epoch 8 , step 574 , loss= 0.048373215 val_loss= 0.11212095 , acc = 0.90625 val acc = 0.9758 \n",
      "Epoch 8 , step 674 , loss= 0.0005130125 val_loss= 0.13290685 , acc = 1.0 val acc = 0.9668 \n",
      "Epoch 8 , step 774 , loss= 0.00012613012 val_loss= 0.14096057 , acc = 1.0 val acc = 0.9712 \n",
      "Epoch 8 , step 874 , loss= 0.01259846 val_loss= 0.11642627 , acc = 0.96875 val acc = 0.9704 \n",
      "Epoch 8 , step 974 , loss= 0.04725879 val_loss= 0.10087685 , acc = 1.0 val acc = 0.974 \n",
      "Epoch 8 , step 1074 , loss= 0.004784393 val_loss= 0.1185514 , acc = 1.0 val acc = 0.9708 \n",
      "Epoch 8 , step 1174 , loss= 0.009881392 val_loss= 0.11902816 , acc = 1.0 val acc = 0.9686 \n",
      "Epoch 8 , step 1274 , loss= 0.0012890119 val_loss= 0.10477904 , acc = 1.0 val acc = 0.9752 \n",
      "Epoch 8 , step 1374 , loss= 0.09703252 val_loss= 0.13745657 , acc = 0.96875 val acc = 0.9676 \n",
      "Epoch 8 , step 1474 , loss= 0.03896751 val_loss= 0.12752034 , acc = 0.96875 val acc = 0.9678 \n",
      "Epoch 8 , step 1574 , loss= 0.000728895 val_loss= 0.12184755 , acc = 1.0 val acc = 0.9716 \n",
      "Epoch 8 , step 1674 , loss= 0.05668659 val_loss= 0.12174469 , acc = 1.0 val acc = 0.9746 \n",
      "Epoch 9 , step 56 , loss= 0.04385875 val_loss= 0.12275841 , acc = 1.0 val acc = 0.974 \n",
      "Epoch 9 , step 156 , loss= 0.0764106 val_loss= 0.10010869 , acc = 0.96875 val acc = 0.9762 \n",
      "Epoch 9 , step 256 , loss= 0.0151838735 val_loss= 0.10110023 , acc = 1.0 val acc = 0.9728 \n",
      "Epoch 9 , step 356 , loss= 0.011433449 val_loss= 0.102817506 , acc = 1.0 val acc = 0.9742 \n",
      "Epoch 9 , step 456 , loss= 0.0041766507 val_loss= 0.10803561 , acc = 1.0 val acc = 0.974 \n",
      "Epoch 9 , step 556 , loss= 0.50037706 val_loss= 0.11015953 , acc = 0.9375 val acc = 0.9708 \n",
      "Epoch 9 , step 656 , loss= 0.008118813 val_loss= 0.12123412 , acc = 0.96875 val acc = 0.9726 \n",
      "Epoch 9 , step 756 , loss= 0.009281548 val_loss= 0.12218716 , acc = 1.0 val acc = 0.9738 \n",
      "Epoch 9 , step 856 , loss= 0.0027407105 val_loss= 0.10942994 , acc = 0.96875 val acc = 0.971 \n",
      "Epoch 9 , step 956 , loss= 0.032287285 val_loss= 0.10714746 , acc = 1.0 val acc = 0.9746 \n",
      "Epoch 9 , step 1056 , loss= 0.073865324 val_loss= 0.103050195 , acc = 1.0 val acc = 0.9708 \n",
      "Epoch 9 , step 1156 , loss= 0.06256541 val_loss= 0.11286022 , acc = 1.0 val acc = 0.975 \n",
      "Epoch 9 , step 1256 , loss= 0.090461686 val_loss= 0.1091574 , acc = 1.0 val acc = 0.9728 \n",
      "Epoch 9 , step 1356 , loss= 0.24886063 val_loss= 0.10758822 , acc = 0.9375 val acc = 0.9694 \n",
      "Epoch 9 , step 1456 , loss= 0.022321625 val_loss= 0.12286328 , acc = 1.0 val acc = 0.9732 \n",
      "Epoch 9 , step 1556 , loss= 0.0024702996 val_loss= 0.10956214 , acc = 1.0 val acc = 0.9746 \n",
      "Epoch 9 , step 1656 , loss= 0.23488227 val_loss= 0.1235669 , acc = 0.96875 val acc = 0.9712 \n",
      "Epoch 10 , step 38 , loss= 0.022449248 val_loss= 0.13159306 , acc = 1.0 val acc = 0.9736 \n",
      "Epoch 10 , step 138 , loss= 0.0022227373 val_loss= 0.12641937 , acc = 0.96875 val acc = 0.973 \n",
      "Epoch 10 , step 238 , loss= 0.0017520942 val_loss= 0.12714002 , acc = 0.96875 val acc = 0.9704 \n",
      "Epoch 10 , step 338 , loss= 8.263154e-05 val_loss= 0.11053784 , acc = 1.0 val acc = 0.9738 \n",
      "Epoch 10 , step 438 , loss= 0.017846474 val_loss= 0.12195147 , acc = 1.0 val acc = 0.9728 \n",
      "Epoch 10 , step 538 , loss= 0.10895306 val_loss= 0.1204721 , acc = 0.96875 val acc = 0.974 \n",
      "Epoch 10 , step 638 , loss= 0.021121105 val_loss= 0.12921605 , acc = 0.96875 val acc = 0.9736 \n",
      "Epoch 10 , step 738 , loss= 0.07339236 val_loss= 0.11388523 , acc = 0.96875 val acc = 0.9702 \n",
      "Epoch 10 , step 838 , loss= 0.02012885 val_loss= 0.11907108 , acc = 0.96875 val acc = 0.973 \n",
      "Epoch 10 , step 938 , loss= 0.0018285688 val_loss= 0.12082345 , acc = 1.0 val acc = 0.9728 \n",
      "Epoch 10 , step 1038 , loss= 0.0005199154 val_loss= 0.11694946 , acc = 1.0 val acc = 0.9738 \n",
      "Epoch 10 , step 1138 , loss= 0.03176146 val_loss= 0.119541004 , acc = 1.0 val acc = 0.9746 \n",
      "Epoch 10 , step 1238 , loss= 0.00209832 val_loss= 0.13490447 , acc = 1.0 val acc = 0.9724 \n",
      "Epoch 10 , step 1338 , loss= 0.009088514 val_loss= 0.16048624 , acc = 1.0 val acc = 0.9658 \n",
      "Epoch 10 , step 1438 , loss= 0.00023393409 val_loss= 0.13008757 , acc = 1.0 val acc = 0.9722 \n",
      "Epoch 10 , step 1538 , loss= 0.03859406 val_loss= 0.13492277 , acc = 0.96875 val acc = 0.9686 \n",
      "Epoch 10 , step 1638 , loss= 0.011966734 val_loss= 0.13793147 , acc = 0.96875 val acc = 0.9722 \n",
      "Epoch 11 , step 20 , loss= 1.8147904e-05 val_loss= 0.13217567 , acc = 1.0 val acc = 0.9718 \n",
      "Epoch 11 , step 120 , loss= 0.025820924 val_loss= 0.12575972 , acc = 1.0 val acc = 0.9744 \n",
      "Epoch 11 , step 220 , loss= 3.0304227e-05 val_loss= 0.119798206 , acc = 1.0 val acc = 0.9748 \n",
      "Epoch 11 , step 320 , loss= 0.067825645 val_loss= 0.12964748 , acc = 1.0 val acc = 0.973 \n",
      "Epoch 11 , step 420 , loss= 0.12140895 val_loss= 0.12721466 , acc = 0.96875 val acc = 0.9746 \n",
      "Epoch 11 , step 520 , loss= 0.22821827 val_loss= 0.1297331 , acc = 0.96875 val acc = 0.9756 \n",
      "Epoch 11 , step 620 , loss= 0.0008049367 val_loss= 0.1326545 , acc = 1.0 val acc = 0.974 \n"
     ]
    },
    {
     "name": "stdout",
     "output_type": "stream",
     "text": [
      "Epoch 11 , step 720 , loss= 0.08203596 val_loss= 0.13095781 , acc = 1.0 val acc = 0.9738 \n",
      "Epoch 11 , step 820 , loss= 0.0017845302 val_loss= 0.12683447 , acc = 1.0 val acc = 0.9736 \n",
      "Epoch 11 , step 920 , loss= 0.00096724764 val_loss= 0.10578601 , acc = 1.0 val acc = 0.97 \n",
      "Epoch 11 , step 1020 , loss= 0.004149238 val_loss= 0.108662926 , acc = 1.0 val acc = 0.9748 \n",
      "Epoch 11 , step 1120 , loss= 0.00067636144 val_loss= 0.13855493 , acc = 1.0 val acc = 0.9752 \n",
      "Epoch 11 , step 1220 , loss= 0.0025630642 val_loss= 0.14871517 , acc = 1.0 val acc = 0.9702 \n",
      "Epoch 11 , step 1320 , loss= 0.00015734845 val_loss= 0.13305509 , acc = 0.96875 val acc = 0.972 \n",
      "Epoch 11 , step 1420 , loss= 0.10959652 val_loss= 0.12665345 , acc = 0.96875 val acc = 0.9738 \n",
      "Epoch 11 , step 1520 , loss= 0.0047371234 val_loss= 0.11201001 , acc = 1.0 val acc = 0.9744 \n",
      "Epoch 11 , step 1620 , loss= 0.17331074 val_loss= 0.116804115 , acc = 0.96875 val acc = 0.9734 \n",
      "Epoch 12 , step 2 , loss= 0.020157916 val_loss= 0.119692154 , acc = 0.9375 val acc = 0.971 \n",
      "Epoch 12 , step 102 , loss= 0.009942867 val_loss= 0.1536336 , acc = 1.0 val acc = 0.9666 \n",
      "Epoch 12 , step 202 , loss= 0.33427247 val_loss= 0.11795663 , acc = 0.96875 val acc = 0.9722 \n",
      "Epoch 12 , step 302 , loss= 0.037492618 val_loss= 0.12844194 , acc = 1.0 val acc = 0.9746 \n",
      "Epoch 12 , step 402 , loss= 0.0011636975 val_loss= 0.12747297 , acc = 0.96875 val acc = 0.973 \n",
      "Epoch 12 , step 502 , loss= 0.0661377 val_loss= 0.1294629 , acc = 0.96875 val acc = 0.9686 \n",
      "Epoch 12 , step 602 , loss= 0.074509986 val_loss= 0.120972775 , acc = 0.9375 val acc = 0.9738 \n",
      "Epoch 12 , step 702 , loss= 0.4581425 val_loss= 0.13996008 , acc = 1.0 val acc = 0.9718 \n",
      "Epoch 12 , step 802 , loss= 0.004018589 val_loss= 0.1474258 , acc = 1.0 val acc = 0.9708 \n",
      "Epoch 12 , step 902 , loss= 0.010512788 val_loss= 0.13519731 , acc = 1.0 val acc = 0.975 \n",
      "Epoch 12 , step 1002 , loss= 0.003219169 val_loss= 0.14093617 , acc = 1.0 val acc = 0.974 \n",
      "Epoch 12 , step 1102 , loss= 2.4270732e-05 val_loss= 0.14615555 , acc = 1.0 val acc = 0.969 \n",
      "Epoch 12 , step 1202 , loss= 0.012964802 val_loss= 0.14565687 , acc = 0.96875 val acc = 0.9742 \n",
      "Epoch 12 , step 1302 , loss= 0.016627543 val_loss= 0.1351026 , acc = 0.96875 val acc = 0.971 \n",
      "Epoch 12 , step 1402 , loss= 0.06536936 val_loss= 0.14127389 , acc = 0.96875 val acc = 0.9738 \n",
      "Epoch 12 , step 1502 , loss= 0.0007923898 val_loss= 0.12923546 , acc = 0.9375 val acc = 0.9764 \n",
      "Epoch 12 , step 1602 , loss= 0.004425387 val_loss= 0.1242626 , acc = 0.96875 val acc = 0.9712 \n",
      "Epoch 12 , step 1702 , loss= 0.00019399227 val_loss= 0.12405917 , acc = 1.0 val acc = 0.9722 \n",
      "Epoch 13 , step 84 , loss= 0.0032013287 val_loss= 0.109473266 , acc = 1.0 val acc = 0.9752 \n",
      "Epoch 13 , step 184 , loss= 0.0007421661 val_loss= 0.12361277 , acc = 1.0 val acc = 0.9742 \n",
      "Epoch 13 , step 284 , loss= 0.0020367075 val_loss= 0.13968591 , acc = 1.0 val acc = 0.9706 \n",
      "Epoch 13 , step 384 , loss= 0.016436059 val_loss= 0.12041108 , acc = 0.96875 val acc = 0.9718 \n",
      "Epoch 13 , step 484 , loss= 0.00064528256 val_loss= 0.11708203 , acc = 0.96875 val acc = 0.9762 \n",
      "Epoch 13 , step 584 , loss= 0.0021267734 val_loss= 0.13572472 , acc = 0.9375 val acc = 0.9744 \n",
      "Epoch 13 , step 684 , loss= 0.026914973 val_loss= 0.14784893 , acc = 1.0 val acc = 0.9734 \n",
      "Epoch 13 , step 784 , loss= 0.07469522 val_loss= 0.14001316 , acc = 0.96875 val acc = 0.9752 \n",
      "Epoch 13 , step 884 , loss= 0.0023157536 val_loss= 0.11919352 , acc = 1.0 val acc = 0.9758 \n",
      "Epoch 13 , step 984 , loss= 0.0075644297 val_loss= 0.12492771 , acc = 0.96875 val acc = 0.9746 \n",
      "Epoch 13 , step 1084 , loss= 0.16836654 val_loss= 0.1329481 , acc = 1.0 val acc = 0.9758 \n",
      "Epoch 13 , step 1184 , loss= 0.0013042048 val_loss= 0.118226536 , acc = 1.0 val acc = 0.973 \n",
      "Epoch 13 , step 1284 , loss= 2.0387855e-05 val_loss= 0.12817742 , acc = 1.0 val acc = 0.9762 \n",
      "Epoch 13 , step 1384 , loss= 0.0015979479 val_loss= 0.16026135 , acc = 1.0 val acc = 0.973 \n",
      "Epoch 13 , step 1484 , loss= 0.007116303 val_loss= 0.16579463 , acc = 0.96875 val acc = 0.9714 \n",
      "Epoch 13 , step 1584 , loss= 0.15309313 val_loss= 0.15127651 , acc = 0.96875 val acc = 0.9722 \n",
      "Epoch 13 , step 1684 , loss= 0.011184469 val_loss= 0.11607926 , acc = 1.0 val acc = 0.975 \n",
      "Epoch 14 , step 66 , loss= 0.10924524 val_loss= 0.13161552 , acc = 1.0 val acc = 0.9746 \n",
      "Epoch 14 , step 166 , loss= 0.08045633 val_loss= 0.13138807 , acc = 0.9375 val acc = 0.9706 \n",
      "Epoch 14 , step 266 , loss= 0.058009356 val_loss= 0.123300634 , acc = 0.96875 val acc = 0.972 \n",
      "Epoch 14 , step 366 , loss= 0.08399919 val_loss= 0.14221099 , acc = 1.0 val acc = 0.9752 \n",
      "Epoch 14 , step 466 , loss= 0.0012278054 val_loss= 0.13269651 , acc = 0.96875 val acc = 0.973 \n",
      "Epoch 14 , step 566 , loss= 0.007176803 val_loss= 0.15208136 , acc = 0.96875 val acc = 0.971 \n",
      "Epoch 14 , step 666 , loss= 0.012604347 val_loss= 0.14313734 , acc = 0.96875 val acc = 0.9698 \n",
      "Epoch 14 , step 766 , loss= 0.010025194 val_loss= 0.14495325 , acc = 1.0 val acc = 0.973 \n",
      "Epoch 14 , step 866 , loss= 0.002420369 val_loss= 0.1396037 , acc = 1.0 val acc = 0.973 \n",
      "Epoch 14 , step 966 , loss= 0.006811479 val_loss= 0.14232972 , acc = 1.0 val acc = 0.9758 \n",
      "Epoch 14 , step 1066 , loss= 2.7738963e-05 val_loss= 0.13101159 , acc = 1.0 val acc = 0.974 \n",
      "Epoch 14 , step 1166 , loss= 0.0015056229 val_loss= 0.13200127 , acc = 1.0 val acc = 0.976 \n",
      "Epoch 14 , step 1266 , loss= 0.022738557 val_loss= 0.1764499 , acc = 0.96875 val acc = 0.9694 \n",
      "Epoch 14 , step 1366 , loss= 0.24152803 val_loss= 0.11942106 , acc = 0.96875 val acc = 0.9714 \n",
      "Epoch 14 , step 1466 , loss= 0.12451023 val_loss= 0.127889 , acc = 0.96875 val acc = 0.9722 \n",
      "Epoch 14 , step 1566 , loss= 0.0026215217 val_loss= 0.14489329 , acc = 1.0 val acc = 0.972 \n",
      "Epoch 14 , step 1666 , loss= 0.001336829 val_loss= 0.13340396 , acc = 0.96875 val acc = 0.976 \n",
      "Epoch 15 , step 48 , loss= 0.019751297 val_loss= 0.12158285 , acc = 1.0 val acc = 0.972 \n",
      "Epoch 15 , step 148 , loss= 0.008914422 val_loss= 0.12395693 , acc = 1.0 val acc = 0.9738 \n",
      "Epoch 15 , step 248 , loss= 0.21747406 val_loss= 0.13335216 , acc = 0.96875 val acc = 0.973 \n",
      "Epoch 15 , step 348 , loss= 0.02634227 val_loss= 0.11888759 , acc = 1.0 val acc = 0.9744 \n",
      "Epoch 15 , step 448 , loss= 0.056619335 val_loss= 0.13952695 , acc = 1.0 val acc = 0.9742 \n",
      "Epoch 15 , step 548 , loss= 0.113989614 val_loss= 0.13075733 , acc = 0.96875 val acc = 0.976 \n",
      "Epoch 15 , step 648 , loss= 0.00598033 val_loss= 0.1470334 , acc = 0.96875 val acc = 0.9728 \n",
      "Epoch 15 , step 748 , loss= 0.024373887 val_loss= 0.1121034 , acc = 1.0 val acc = 0.9784 \n",
      "Epoch 15 , step 848 , loss= 0.010684875 val_loss= 0.11862296 , acc = 1.0 val acc = 0.9764 \n",
      "Epoch 15 , step 948 , loss= 0.11823027 val_loss= 0.13675249 , acc = 0.96875 val acc = 0.9758 \n",
      "Epoch 15 , step 1048 , loss= 0.15390855 val_loss= 0.14735976 , acc = 0.96875 val acc = 0.9716 \n",
      "Epoch 15 , step 1148 , loss= 0.00086390384 val_loss= 0.13171689 , acc = 1.0 val acc = 0.9754 \n",
      "Epoch 15 , step 1248 , loss= 0.009233998 val_loss= 0.166102 , acc = 0.96875 val acc = 0.9698 \n",
      "Epoch 15 , step 1348 , loss= 0.0008008295 val_loss= 0.12858811 , acc = 1.0 val acc = 0.9732 \n",
      "Epoch 15 , step 1448 , loss= 0.0030313595 val_loss= 0.13704894 , acc = 1.0 val acc = 0.9748 \n",
      "Epoch 15 , step 1548 , loss= 0.073855795 val_loss= 0.14021504 , acc = 0.96875 val acc = 0.9734 \n",
      "Epoch 15 , step 1648 , loss= 0.0010279277 val_loss= 0.121439405 , acc = 1.0 val acc = 0.9744 \n",
      "Epoch 16 , step 30 , loss= 0.03729598 val_loss= 0.11782887 , acc = 0.96875 val acc = 0.9728 \n",
      "Epoch 16 , step 130 , loss= 0.0025947369 val_loss= 0.13805582 , acc = 1.0 val acc = 0.9756 \n",
      "Epoch 16 , step 230 , loss= 0.0046424256 val_loss= 0.15792003 , acc = 0.96875 val acc = 0.9738 \n",
      "Epoch 16 , step 330 , loss= 0.00040778622 val_loss= 0.1487711 , acc = 1.0 val acc = 0.9754 \n",
      "Epoch 16 , step 430 , loss= 0.07666546 val_loss= 0.15145417 , acc = 0.9375 val acc = 0.9742 \n",
      "Epoch 16 , step 530 , loss= 0.0008127519 val_loss= 0.14693858 , acc = 0.9375 val acc = 0.9718 \n",
      "Epoch 16 , step 630 , loss= 0.00735472 val_loss= 0.15864292 , acc = 1.0 val acc = 0.975 \n",
      "Epoch 16 , step 730 , loss= 0.20525019 val_loss= 0.14509055 , acc = 1.0 val acc = 0.9704 \n",
      "Epoch 16 , step 830 , loss= 0.00048467165 val_loss= 0.14000219 , acc = 1.0 val acc = 0.973 \n"
     ]
    },
    {
     "name": "stdout",
     "output_type": "stream",
     "text": [
      "Epoch 16 , step 930 , loss= 0.0010220277 val_loss= 0.14183317 , acc = 1.0 val acc = 0.9772 \n",
      "Epoch 16 , step 1030 , loss= 0.06660774 val_loss= 0.12866041 , acc = 1.0 val acc = 0.9764 \n",
      "Epoch 16 , step 1130 , loss= 0.010118503 val_loss= 0.12615584 , acc = 1.0 val acc = 0.9726 \n",
      "Epoch 16 , step 1230 , loss= 0.00047794526 val_loss= 0.13844675 , acc = 1.0 val acc = 0.972 \n",
      "Epoch 16 , step 1330 , loss= 0.0022551313 val_loss= 0.15172455 , acc = 1.0 val acc = 0.9706 \n",
      "Epoch 16 , step 1430 , loss= 0.018910449 val_loss= 0.13019429 , acc = 1.0 val acc = 0.972 \n",
      "Epoch 16 , step 1530 , loss= 0.00077349786 val_loss= 0.13868171 , acc = 1.0 val acc = 0.9746 \n",
      "Epoch 16 , step 1630 , loss= 0.0009118201 val_loss= 0.13742769 , acc = 1.0 val acc = 0.9756 \n",
      "Epoch 17 , step 12 , loss= 0.002131867 val_loss= 0.15033408 , acc = 1.0 val acc = 0.9744 \n",
      "Epoch 17 , step 112 , loss= 0.0047082365 val_loss= 0.13236538 , acc = 1.0 val acc = 0.9766 \n",
      "Epoch 17 , step 212 , loss= 0.009662617 val_loss= 0.123483546 , acc = 1.0 val acc = 0.9752 \n",
      "Epoch 17 , step 312 , loss= 0.016486712 val_loss= 0.13426699 , acc = 0.96875 val acc = 0.976 \n",
      "Epoch 17 , step 412 , loss= 9.8455625e-05 val_loss= 0.14150952 , acc = 1.0 val acc = 0.9724 \n",
      "Epoch 17 , step 512 , loss= 0.013675962 val_loss= 0.15016997 , acc = 1.0 val acc = 0.974 \n",
      "Epoch 17 , step 612 , loss= 0.004636404 val_loss= 0.15365432 , acc = 0.96875 val acc = 0.973 \n",
      "Epoch 17 , step 712 , loss= 0.010854589 val_loss= 0.1359414 , acc = 1.0 val acc = 0.9738 \n",
      "Epoch 17 , step 812 , loss= 0.0006086438 val_loss= 0.16528535 , acc = 1.0 val acc = 0.9746 \n",
      "Epoch 17 , step 912 , loss= 0.007784075 val_loss= 0.1378764 , acc = 0.96875 val acc = 0.9748 \n",
      "Epoch 17 , step 1012 , loss= 0.0010510442 val_loss= 0.14723074 , acc = 1.0 val acc = 0.9782 \n",
      "Epoch 17 , step 1112 , loss= 0.0002882696 val_loss= 0.1276469 , acc = 1.0 val acc = 0.975 \n",
      "Epoch 17 , step 1212 , loss= 0.00019745102 val_loss= 0.14940964 , acc = 1.0 val acc = 0.9732 \n",
      "Epoch 17 , step 1312 , loss= 0.11394127 val_loss= 0.14639238 , acc = 0.96875 val acc = 0.9756 \n",
      "Epoch 17 , step 1412 , loss= 0.002664001 val_loss= 0.1437187 , acc = 1.0 val acc = 0.9766 \n",
      "Epoch 17 , step 1512 , loss= 0.032380354 val_loss= 0.14058657 , acc = 1.0 val acc = 0.9736 \n",
      "Epoch 17 , step 1612 , loss= 4.1750307e-05 val_loss= 0.1326411 , acc = 1.0 val acc = 0.9762 \n",
      "Epoch 17 , step 1712 , loss= 0.044357326 val_loss= 0.13707873 , acc = 1.0 val acc = 0.9762 \n",
      "Epoch 18 , step 94 , loss= 0.018114826 val_loss= 0.14234039 , acc = 0.96875 val acc = 0.9766 \n",
      "Epoch 18 , step 194 , loss= 0.000121197925 val_loss= 0.1604722 , acc = 1.0 val acc = 0.9764 \n",
      "Epoch 18 , step 294 , loss= 0.034058657 val_loss= 0.14663777 , acc = 1.0 val acc = 0.974 \n",
      "Epoch 18 , step 394 , loss= 0.0018448161 val_loss= 0.13164155 , acc = 1.0 val acc = 0.9788 \n",
      "Epoch 18 , step 494 , loss= 0.00039874378 val_loss= 0.14981467 , acc = 0.96875 val acc = 0.9768 \n",
      "Epoch 18 , step 594 , loss= 0.02936462 val_loss= 0.13187575 , acc = 1.0 val acc = 0.9738 \n",
      "Epoch 18 , step 694 , loss= 0.00011479079 val_loss= 0.12849608 , acc = 1.0 val acc = 0.9748 \n",
      "Epoch 18 , step 794 , loss= 3.872882e-05 val_loss= 0.13282074 , acc = 1.0 val acc = 0.9762 \n",
      "Epoch 18 , step 894 , loss= 0.0009273649 val_loss= 0.122121975 , acc = 1.0 val acc = 0.9794 \n",
      "Epoch 18 , step 994 , loss= 0.08939917 val_loss= 0.12993598 , acc = 1.0 val acc = 0.9768 \n",
      "Epoch 18 , step 1094 , loss= 0.022791073 val_loss= 0.14032291 , acc = 1.0 val acc = 0.979 \n",
      "Epoch 18 , step 1194 , loss= 0.001703747 val_loss= 0.1536315 , acc = 1.0 val acc = 0.9746 \n",
      "Epoch 18 , step 1294 , loss= 0.00022796646 val_loss= 0.12560269 , acc = 1.0 val acc = 0.977 \n",
      "Epoch 18 , step 1394 , loss= 0.004169966 val_loss= 0.13954231 , acc = 0.96875 val acc = 0.975 \n",
      "Epoch 18 , step 1494 , loss= 8.285629e-05 val_loss= 0.14289448 , acc = 1.0 val acc = 0.9772 \n",
      "Epoch 18 , step 1594 , loss= 0.034322653 val_loss= 0.14496945 , acc = 1.0 val acc = 0.9742 \n",
      "Epoch 18 , step 1694 , loss= 0.0133805685 val_loss= 0.14638725 , acc = 0.96875 val acc = 0.973 \n",
      "Epoch 19 , step 76 , loss= 0.010322873 val_loss= 0.13892844 , acc = 1.0 val acc = 0.9758 \n",
      "Epoch 19 , step 176 , loss= 0.037223678 val_loss= 0.13715123 , acc = 0.96875 val acc = 0.9752 \n",
      "Epoch 19 , step 276 , loss= 0.00031134413 val_loss= 0.15970062 , acc = 1.0 val acc = 0.9762 \n",
      "Epoch 19 , step 376 , loss= 0.0022239662 val_loss= 0.15455924 , acc = 0.96875 val acc = 0.9736 \n",
      "Epoch 19 , step 476 , loss= 0.08351826 val_loss= 0.14015406 , acc = 0.96875 val acc = 0.9756 \n",
      "Epoch 19 , step 576 , loss= 0.05753336 val_loss= 0.1488064 , acc = 0.96875 val acc = 0.976 \n",
      "Epoch 19 , step 676 , loss= 0.00023124694 val_loss= 0.13783118 , acc = 1.0 val acc = 0.9764 \n",
      "Epoch 19 , step 776 , loss= 0.00024099705 val_loss= 0.14958148 , acc = 1.0 val acc = 0.975 \n",
      "Epoch 19 , step 876 , loss= 0.23788704 val_loss= 0.1425625 , acc = 0.96875 val acc = 0.9766 \n",
      "Epoch 19 , step 976 , loss= 0.00026784212 val_loss= 0.14002424 , acc = 0.96875 val acc = 0.9778 \n",
      "Epoch 19 , step 1076 , loss= 0.0023880163 val_loss= 0.15557514 , acc = 1.0 val acc = 0.9782 \n",
      "Epoch 19 , step 1176 , loss= 0.005338439 val_loss= 0.137662 , acc = 0.96875 val acc = 0.9748 \n",
      "Epoch 19 , step 1276 , loss= 0.17166963 val_loss= 0.15590538 , acc = 0.96875 val acc = 0.9774 \n",
      "Epoch 19 , step 1376 , loss= 0.0039621317 val_loss= 0.18800062 , acc = 1.0 val acc = 0.9736 \n",
      "Epoch 19 , step 1476 , loss= 0.011155913 val_loss= 0.15920213 , acc = 1.0 val acc = 0.9734 \n",
      "Epoch 19 , step 1576 , loss= 0.049822804 val_loss= 0.13928273 , acc = 1.0 val acc = 0.9742 \n",
      "Epoch 19 , step 1676 , loss= 0.008266806 val_loss= 0.16812555 , acc = 1.0 val acc = 0.9736 \n",
      "Epoch 20 , step 58 , loss= 2.1246487e-05 val_loss= 0.13993703 , acc = 1.0 val acc = 0.9754 \n",
      "Epoch 20 , step 158 , loss= 0.0021478601 val_loss= 0.12720747 , acc = 1.0 val acc = 0.9716 \n",
      "Epoch 20 , step 258 , loss= 0.0029899317 val_loss= 0.14495178 , acc = 1.0 val acc = 0.9748 \n",
      "Epoch 20 , step 358 , loss= 4.1943684e-05 val_loss= 0.13960971 , acc = 1.0 val acc = 0.9746 \n",
      "Epoch 20 , step 458 , loss= 0.17313688 val_loss= 0.15775596 , acc = 1.0 val acc = 0.9758 \n",
      "Epoch 20 , step 558 , loss= 9.039191e-05 val_loss= 0.15385163 , acc = 1.0 val acc = 0.9762 \n",
      "Epoch 20 , step 658 , loss= 0.0226723 val_loss= 0.124455556 , acc = 0.96875 val acc = 0.9726 \n",
      "Epoch 20 , step 758 , loss= 0.00045579896 val_loss= 0.128399 , acc = 0.96875 val acc = 0.9778 \n",
      "Epoch 20 , step 858 , loss= 0.05243749 val_loss= 0.12950508 , acc = 0.9375 val acc = 0.9752 \n",
      "Epoch 20 , step 958 , loss= 0.00029084086 val_loss= 0.12875412 , acc = 1.0 val acc = 0.9784 \n",
      "Epoch 20 , step 1058 , loss= 0.009417705 val_loss= 0.12136975 , acc = 0.96875 val acc = 0.9774 \n",
      "Epoch 20 , step 1158 , loss= 0.00035068367 val_loss= 0.14109603 , acc = 1.0 val acc = 0.9736 \n",
      "Epoch 20 , step 1258 , loss= 0.00307066 val_loss= 0.13627243 , acc = 0.96875 val acc = 0.9754 \n",
      "Epoch 20 , step 1358 , loss= 2.150712e-05 val_loss= 0.16157886 , acc = 1.0 val acc = 0.9736 \n",
      "Epoch 20 , step 1458 , loss= 6.278757e-05 val_loss= 0.1607355 , acc = 1.0 val acc = 0.9706 \n",
      "Epoch 20 , step 1558 , loss= 6.7339875e-05 val_loss= 0.12565698 , acc = 1.0 val acc = 0.9764 \n",
      "Epoch 20 , step 1658 , loss= 0.0018209855 val_loss= 0.1359848 , acc = 1.0 val acc = 0.9732 \n",
      "Epoch 20 , step 1717 , loss= 0.028033793 val_loss= 0.14745373 , acc = 0.98214287 val acc = 0.9754 \n"
     ]
    }
   ],
   "source": [
    "if try_cls2:\n",
    "    teacher = build_big_model(input_dims, output_dims, session)\n",
    "    teacher.train(\n",
    "        X=X_train\n",
    "        ,y=y_train\n",
    "        ,val_set=[X_val,y_val]\n",
    "        ,batch_size=32\n",
    "        ,n_epochs=20\n",
    "        ,display_steps=100)"
   ]
  },
  {
   "cell_type": "code",
   "execution_count": 15,
   "metadata": {
    "ExecuteTime": {
     "end_time": "2018-11-16T07:06:15.984826Z",
     "start_time": "2018-11-16T07:05:58.119969Z"
    }
   },
   "outputs": [
    {
     "name": "stdout",
     "output_type": "stream",
     "text": [
      "Plotting loss...\n"
     ]
    },
    {
     "data": {
      "image/png": "[encoded data removed]",
      "text/plain": [
       "<Figure size 432x288 with 1 Axes>"
      ]
     },
     "metadata": {
      "needs_background": "light"
     },
     "output_type": "display_data"
    },
    {
     "name": "stdout",
     "output_type": "stream",
     "text": [
      "Plotting metrics...\n"
     ]
    },
    {
     "data": {
      "image/png": "[encoded data removed]",
      "text/plain": [
       "<Figure size 432x288 with 1 Axes>"
      ]
     },
     "metadata": {
      "needs_background": "light"
     },
     "output_type": "display_data"
    },
    {
     "name": "stdout",
     "output_type": "stream",
     "text": [
      "train {'acc': 0.98972726}\n",
      "test {'acc': 0.9722}\n",
      "{'acc': 0.9722}\n"
     ]
    }
   ],
   "source": [
    "if try_cls2:\n",
    "    teacher.plt_loss()\n",
    "    teacher.plt_metrics()\n",
    "    train_metric = teacher.get_metrics(X_train, y_train)\n",
    "    test_metric = teacher.get_metrics(X_test, y_test)\n",
    "    print('train',train_metric)\n",
    "    print('test',test_metric)\n",
    "    print(test_metric)"
   ]
  },
  {
   "cell_type": "code",
   "execution_count": 22,
   "metadata": {
    "ExecuteTime": {
     "end_time": "2018-11-16T07:15:42.730955Z",
     "start_time": "2018-11-16T07:15:42.068928Z"
    }
   },
   "outputs": [
    {
     "data": {
      "image/png": "[encoded data removed]",
      "text/plain": [
       "<Figure size 432x288 with 1 Axes>"
      ]
     },
     "metadata": {
      "needs_background": "light"
     },
     "output_type": "display_data"
    },
    {
     "name": "stdout",
     "output_type": "stream",
     "text": [
      "sample.max() 1.0\n",
      "label [0. 0. 0. 0. 0. 0. 0. 0. 1. 0.]\n",
      "teacher.predict [[0. 0. 0. 0. 0. 0. 0. 0. 1. 0.]]\n",
      "teacher.predict_softened [[0.0049 0.0086 0.0224 0.0514 0.0037 0.013  0.0043 0.0078 0.8664 0.0176]]\n"
     ]
    },
    {
     "data": {
      "image/png": "[encoded data removed]",
      "text/plain": [
       "<Figure size 432x288 with 1 Axes>"
      ]
     },
     "metadata": {
      "needs_background": "light"
     },
     "output_type": "display_data"
    },
    {
     "name": "stdout",
     "output_type": "stream",
     "text": [
      "sample.max() 1.0\n",
      "label [0. 1. 0. 0. 0. 0. 0. 0. 0. 0.]\n",
      "teacher.predict [[0. 1. 0. 0. 0. 0. 0. 0. 0. 0.]]\n",
      "teacher.predict_softened [[0.0062 0.8216 0.015  0.0092 0.011  0.0061 0.0048 0.0674 0.0289 0.0298]]\n"
     ]
    },
    {
     "data": {
      "image/png": "[encoded data removed]",
      "text/plain": [
       "<Figure size 432x288 with 1 Axes>"
      ]
     },
     "metadata": {
      "needs_background": "light"
     },
     "output_type": "display_data"
    },
    {
     "name": "stdout",
     "output_type": "stream",
     "text": [
      "sample.max() 1.0\n",
      "label [0. 0. 0. 0. 0. 1. 0. 0. 0. 0.]\n",
      "teacher.predict [[0. 0. 0. 0. 0. 1. 0. 0. 0. 0.]]\n",
      "teacher.predict_softened [[0.0031 0.0071 0.0067 0.1179 0.0014 0.6881 0.0194 0.0033 0.0397 0.1134]]\n"
     ]
    },
    {
     "data": {
      "image/png": "[encoded data removed]",
      "text/plain": [
       "<Figure size 432x288 with 1 Axes>"
      ]
     },
     "metadata": {
      "needs_background": "light"
     },
     "output_type": "display_data"
    },
    {
     "name": "stdout",
     "output_type": "stream",
     "text": [
      "sample.max() 1.0\n",
      "label [0. 0. 0. 0. 0. 0. 0. 1. 0. 0.]\n",
      "teacher.predict [[0. 0. 0. 0. 0. 0. 0. 1. 0. 0.]]\n",
      "teacher.predict_softened [[2.000e-04 5.400e-03 6.000e-03 3.400e-03 9.000e-04 1.000e-04 0.000e+00\n",
      "  9.765e-01 4.000e-04 7.300e-03]]\n"
     ]
    },
    {
     "data": {
      "image/png": "[encoded data removed]",
      "text/plain": [
       "<Figure size 432x288 with 1 Axes>"
      ]
     },
     "metadata": {
      "needs_background": "light"
     },
     "output_type": "display_data"
    },
    {
     "name": "stdout",
     "output_type": "stream",
     "text": [
      "sample.max() 1.0\n",
      "label [0. 0. 0. 0. 0. 0. 0. 1. 0. 0.]\n",
      "teacher.predict [[0. 0. 0. 0. 0. 0. 0. 1. 0. 0.]]\n",
      "teacher.predict_softened [[0.0256 0.1874 0.0735 0.0565 0.0528 0.0225 0.0166 0.4019 0.0335 0.1298]]\n"
     ]
    },
    {
     "data": {
      "image/png": "[encoded data removed]",
      "text/plain": [
       "<Figure size 432x288 with 1 Axes>"
      ]
     },
     "metadata": {
      "needs_background": "light"
     },
     "output_type": "display_data"
    },
    {
     "name": "stdout",
     "output_type": "stream",
     "text": [
      "sample.max() 1.0\n",
      "label [0. 1. 0. 0. 0. 0. 0. 0. 0. 0.]\n",
      "teacher.predict [[0. 1. 0. 0. 0. 0. 0. 0. 0. 0.]]\n",
      "teacher.predict_softened [[0.0472 0.6186 0.0351 0.0322 0.0432 0.0155 0.055  0.0613 0.0691 0.0228]]\n"
     ]
    }
   ],
   "source": [
    "# plot and show sample\n",
    "if try_cls2:\n",
    "    n_samples = 6\n",
    "    round_show = 4\n",
    "    t = 10\n",
    "    X_show = X_train\n",
    "    n_data = X_show.shape[0]\n",
    "    indices = np.random.choice(n_data,n_samples)\n",
    "    for i in range(n_samples):\n",
    "        sample = X_show[[indices[i]]]\n",
    "        label = y_train[indices[i]]\n",
    "        plt.imshow(sample.reshape((28,28)), cmap='gray')\n",
    "        plt.show()\n",
    "        pred = teacher.predict(sample)\n",
    "        pred_t = teacher.predict_softened(sample, temperature=t)\n",
    "#         pred_t2 = y_train_soft[indices[i]]\n",
    "        print('sample.max()',sample.max())\n",
    "        print('label',label)\n",
    "        print('teacher.predict',np.round(pred,round_show))\n",
    "        print('teacher.predict_softened',np.round(pred_t,round_show))\n",
    "#         print('y_soft',np.round(pred_t2,round_show))\n",
    "        #     teacher.predict()"
   ]
  },
  {
   "cell_type": "code",
   "execution_count": 23,
   "metadata": {
    "ExecuteTime": {
     "end_time": "2018-11-16T07:20:14.135960Z",
     "start_time": "2018-11-16T07:16:24.532228Z"
    }
   },
   "outputs": [
    {
     "name": "stdout",
     "output_type": "stream",
     "text": [
      "Epoch 1 , step 0 , loss= 2.2684417 val_loss= 2.2962227 , acc = 0.15625 val acc = 0.115 \n",
      "Epoch 1 , step 100 , loss= 2.0082717 val_loss= 1.9693882 , acc = 0.34375 val acc = 0.3722 \n",
      "Epoch 1 , step 200 , loss= 1.5610089 val_loss= 1.6033334 , acc = 0.46875 val acc = 0.4314 \n",
      "Epoch 1 , step 300 , loss= 1.476911 val_loss= 1.3228816 , acc = 0.4375 val acc = 0.5482 \n",
      "Epoch 1 , step 400 , loss= 0.8937344 val_loss= 1.1335009 , acc = 0.625 val acc = 0.621 \n",
      "Epoch 1 , step 500 , loss= 0.93324906 val_loss= 1.026631 , acc = 0.75 val acc = 0.6718 \n",
      "Epoch 1 , step 600 , loss= 0.92898875 val_loss= 0.94880134 , acc = 0.71875 val acc = 0.7096 \n",
      "Epoch 1 , step 700 , loss= 1.1052141 val_loss= 0.9042365 , acc = 0.59375 val acc = 0.726 \n",
      "Epoch 1 , step 800 , loss= 0.9844855 val_loss= 0.8657236 , acc = 0.65625 val acc = 0.7368 \n",
      "Epoch 1 , step 900 , loss= 0.8636811 val_loss= 0.84862345 , acc = 0.78125 val acc = 0.7342 \n",
      "Epoch 1 , step 1000 , loss= 0.5746373 val_loss= 0.82830936 , acc = 0.90625 val acc = 0.7478 \n",
      "Epoch 1 , step 1100 , loss= 0.92361724 val_loss= 0.796446 , acc = 0.65625 val acc = 0.7536 \n",
      "Epoch 1 , step 1200 , loss= 0.7567363 val_loss= 0.77983195 , acc = 0.71875 val acc = 0.7612 \n",
      "Epoch 1 , step 1300 , loss= 0.4758069 val_loss= 0.7683293 , acc = 0.84375 val acc = 0.77 \n",
      "Epoch 1 , step 1400 , loss= 1.0794016 val_loss= 0.7568223 , acc = 0.6875 val acc = 0.7664 \n",
      "Epoch 1 , step 1500 , loss= 0.75827706 val_loss= 0.74343073 , acc = 0.6875 val acc = 0.7764 \n",
      "Epoch 1 , step 1600 , loss= 1.1823342 val_loss= 0.73491925 , acc = 0.75 val acc = 0.7822 \n",
      "Epoch 1 , step 1700 , loss= 0.9981586 val_loss= 0.7210989 , acc = 0.625 val acc = 0.7908 \n",
      "Epoch 2 , step 82 , loss= 0.6078329 val_loss= 0.71740115 , acc = 0.875 val acc = 0.7924 \n",
      "Epoch 2 , step 182 , loss= 0.6860999 val_loss= 0.7082123 , acc = 0.8125 val acc = 0.7968 \n",
      "Epoch 2 , step 282 , loss= 0.56341934 val_loss= 0.70062596 , acc = 0.75 val acc = 0.79 \n",
      "Epoch 2 , step 382 , loss= 0.7221533 val_loss= 0.6958098 , acc = 0.71875 val acc = 0.7906 \n",
      "Epoch 2 , step 482 , loss= 0.65802777 val_loss= 0.69226766 , acc = 0.6875 val acc = 0.7886 \n",
      "Epoch 2 , step 582 , loss= 0.4935345 val_loss= 0.68248844 , acc = 0.875 val acc = 0.7982 \n",
      "Epoch 2 , step 682 , loss= 0.72660464 val_loss= 0.67924774 , acc = 0.84375 val acc = 0.8052 \n",
      "Epoch 2 , step 782 , loss= 0.59802675 val_loss= 0.67435765 , acc = 0.875 val acc = 0.7982 \n",
      "Epoch 2 , step 882 , loss= 0.9000046 val_loss= 0.6733982 , acc = 0.8125 val acc = 0.7936 \n",
      "Epoch 2 , step 982 , loss= 0.860192 val_loss= 0.66752076 , acc = 0.75 val acc = 0.8008 \n",
      "Epoch 2 , step 1082 , loss= 0.7548484 val_loss= 0.65797955 , acc = 0.6875 val acc = 0.8006 \n",
      "Epoch 2 , step 1182 , loss= 1.2474097 val_loss= 0.6511048 , acc = 0.78125 val acc = 0.8104 \n",
      "Epoch 2 , step 1282 , loss= 0.5693928 val_loss= 0.65111506 , acc = 0.84375 val acc = 0.808 \n",
      "Epoch 2 , step 1382 , loss= 0.67771983 val_loss= 0.640418 , acc = 0.75 val acc = 0.8156 \n",
      "Epoch 2 , step 1482 , loss= 0.383767 val_loss= 0.63600165 , acc = 0.90625 val acc = 0.8154 \n",
      "Epoch 2 , step 1582 , loss= 0.79921806 val_loss= 0.6375688 , acc = 0.78125 val acc = 0.8166 \n",
      "Epoch 2 , step 1682 , loss= 0.71552217 val_loss= 0.63165367 , acc = 0.84375 val acc = 0.816 \n",
      "Epoch 3 , step 64 , loss= 0.81725085 val_loss= 0.626404 , acc = 0.8125 val acc = 0.8218 \n",
      "Epoch 3 , step 164 , loss= 0.79838496 val_loss= 0.62753516 , acc = 0.8125 val acc = 0.8142 \n",
      "Epoch 3 , step 264 , loss= 0.629012 val_loss= 0.61900085 , acc = 0.75 val acc = 0.8184 \n",
      "Epoch 3 , step 364 , loss= 0.7104662 val_loss= 0.6144604 , acc = 0.84375 val acc = 0.8246 \n",
      "Epoch 3 , step 464 , loss= 0.5466393 val_loss= 0.6092375 , acc = 0.8125 val acc = 0.8208 \n",
      "Epoch 3 , step 564 , loss= 0.3711596 val_loss= 0.6094926 , acc = 0.84375 val acc = 0.819 \n",
      "Epoch 3 , step 664 , loss= 0.7628163 val_loss= 0.60619664 , acc = 0.8125 val acc = 0.8208 \n",
      "Epoch 3 , step 764 , loss= 0.56208414 val_loss= 0.60247505 , acc = 0.84375 val acc = 0.8286 \n",
      "Epoch 3 , step 864 , loss= 0.4068458 val_loss= 0.6012351 , acc = 0.875 val acc = 0.824 \n",
      "Epoch 3 , step 964 , loss= 0.73961467 val_loss= 0.598486 , acc = 0.84375 val acc = 0.825 \n",
      "Epoch 3 , step 1064 , loss= 0.44835484 val_loss= 0.5946543 , acc = 0.90625 val acc = 0.8262 \n",
      "Epoch 3 , step 1164 , loss= 0.611399 val_loss= 0.59370404 , acc = 0.84375 val acc = 0.8288 \n",
      "Epoch 3 , step 1264 , loss= 1.0321863 val_loss= 0.5871886 , acc = 0.75 val acc = 0.8268 \n",
      "Epoch 3 , step 1364 , loss= 0.4678251 val_loss= 0.5853837 , acc = 0.84375 val acc = 0.8298 \n",
      "Epoch 3 , step 1464 , loss= 0.84666383 val_loss= 0.5847369 , acc = 0.78125 val acc = 0.8286 \n",
      "Epoch 3 , step 1564 , loss= 0.5232737 val_loss= 0.58118445 , acc = 0.875 val acc = 0.8346 \n",
      "Epoch 3 , step 1664 , loss= 0.86436784 val_loss= 0.5752003 , acc = 0.78125 val acc = 0.838 \n",
      "Epoch 4 , step 46 , loss= 0.7043319 val_loss= 0.57536703 , acc = 0.8125 val acc = 0.8368 \n",
      "Epoch 4 , step 146 , loss= 0.6000891 val_loss= 0.5784952 , acc = 0.84375 val acc = 0.8326 \n",
      "Epoch 4 , step 246 , loss= 0.46316245 val_loss= 0.5718693 , acc = 0.84375 val acc = 0.8368 \n",
      "Epoch 4 , step 346 , loss= 0.28466734 val_loss= 0.5740315 , acc = 0.9375 val acc = 0.835 \n",
      "Epoch 4 , step 446 , loss= 0.92176116 val_loss= 0.57683 , acc = 0.6875 val acc = 0.8322 \n",
      "Epoch 4 , step 546 , loss= 0.23682094 val_loss= 0.5629288 , acc = 0.9375 val acc = 0.8392 \n",
      "Epoch 4 , step 646 , loss= 0.39379376 val_loss= 0.56407624 , acc = 0.875 val acc = 0.8422 \n",
      "Epoch 4 , step 746 , loss= 0.6586901 val_loss= 0.56229866 , acc = 0.8125 val acc = 0.8378 \n",
      "Epoch 4 , step 846 , loss= 0.47024056 val_loss= 0.56029516 , acc = 0.875 val acc = 0.8408 \n",
      "Epoch 4 , step 946 , loss= 0.5514299 val_loss= 0.5554707 , acc = 0.75 val acc = 0.8422 \n",
      "Epoch 4 , step 1046 , loss= 0.42156625 val_loss= 0.5558308 , acc = 0.875 val acc = 0.8398 \n",
      "Epoch 4 , step 1146 , loss= 0.69302225 val_loss= 0.5572903 , acc = 0.75 val acc = 0.8424 \n",
      "Epoch 4 , step 1246 , loss= 0.26151004 val_loss= 0.5566301 , acc = 0.90625 val acc = 0.843 \n",
      "Epoch 4 , step 1346 , loss= 0.53759205 val_loss= 0.54828054 , acc = 0.875 val acc = 0.8454 \n",
      "Epoch 4 , step 1446 , loss= 0.23115861 val_loss= 0.54818815 , acc = 1.0 val acc = 0.8414 \n",
      "Epoch 4 , step 1546 , loss= 0.4920802 val_loss= 0.54468584 , acc = 0.8125 val acc = 0.845 \n",
      "Epoch 4 , step 1646 , loss= 0.4362867 val_loss= 0.5443686 , acc = 0.90625 val acc = 0.8446 \n",
      "Epoch 5 , step 28 , loss= 0.7825322 val_loss= 0.54217565 , acc = 0.71875 val acc = 0.845 \n",
      "Epoch 5 , step 128 , loss= 0.41538537 val_loss= 0.54915464 , acc = 0.90625 val acc = 0.8432 \n",
      "Epoch 5 , step 228 , loss= 0.38930157 val_loss= 0.53882194 , acc = 0.875 val acc = 0.8472 \n",
      "Epoch 5 , step 328 , loss= 0.43178684 val_loss= 0.5376883 , acc = 0.90625 val acc = 0.8458 \n",
      "Epoch 5 , step 428 , loss= 0.49267113 val_loss= 0.5356203 , acc = 0.84375 val acc = 0.8462 \n",
      "Epoch 5 , step 528 , loss= 0.35385197 val_loss= 0.5360038 , acc = 0.9375 val acc = 0.8464 \n",
      "Epoch 5 , step 628 , loss= 0.53722024 val_loss= 0.5326296 , acc = 0.75 val acc = 0.8498 \n",
      "Epoch 5 , step 728 , loss= 0.4940031 val_loss= 0.5352268 , acc = 0.875 val acc = 0.8506 \n",
      "Epoch 5 , step 828 , loss= 0.30519682 val_loss= 0.5390249 , acc = 0.875 val acc = 0.8426 \n",
      "Epoch 5 , step 928 , loss= 0.62309015 val_loss= 0.52817047 , acc = 0.78125 val acc = 0.8466 \n",
      "Epoch 5 , step 1028 , loss= 0.7657281 val_loss= 0.52855515 , acc = 0.78125 val acc = 0.8464 \n",
      "Epoch 5 , step 1128 , loss= 0.5991511 val_loss= 0.5245596 , acc = 0.875 val acc = 0.8512 \n",
      "Epoch 5 , step 1228 , loss= 0.483817 val_loss= 0.5260186 , acc = 0.71875 val acc = 0.8494 \n",
      "Epoch 5 , step 1328 , loss= 0.46158808 val_loss= 0.52498865 , acc = 0.875 val acc = 0.851 \n",
      "Epoch 5 , step 1428 , loss= 0.25872973 val_loss= 0.5260665 , acc = 0.9375 val acc = 0.8538 \n",
      "Epoch 5 , step 1528 , loss= 0.36940917 val_loss= 0.5219842 , acc = 0.84375 val acc = 0.8528 \n",
      "Epoch 5 , step 1628 , loss= 0.826948 val_loss= 0.52421004 , acc = 0.71875 val acc = 0.8522 \n",
      "Epoch 6 , step 10 , loss= 0.19538362 val_loss= 0.5226339 , acc = 1.0 val acc = 0.849 \n",
      "Epoch 6 , step 110 , loss= 0.4258786 val_loss= 0.5199101 , acc = 0.90625 val acc = 0.8522 \n",
      "Epoch 6 , step 210 , loss= 0.26736018 val_loss= 0.52217335 , acc = 0.9375 val acc = 0.8492 \n",
      "Epoch 6 , step 310 , loss= 0.6690303 val_loss= 0.5256531 , acc = 0.8125 val acc = 0.8464 \n"
     ]
    },
    {
     "name": "stdout",
     "output_type": "stream",
     "text": [
      "Epoch 6 , step 410 , loss= 0.61745024 val_loss= 0.5191342 , acc = 0.84375 val acc = 0.851 \n",
      "Epoch 6 , step 510 , loss= 0.54395366 val_loss= 0.51358604 , acc = 0.78125 val acc = 0.851 \n",
      "Epoch 6 , step 610 , loss= 0.34564498 val_loss= 0.5222274 , acc = 0.90625 val acc = 0.85 \n",
      "Epoch 6 , step 710 , loss= 0.29883972 val_loss= 0.51577413 , acc = 0.84375 val acc = 0.8526 \n",
      "Epoch 6 , step 810 , loss= 0.59374714 val_loss= 0.51170874 , acc = 0.8125 val acc = 0.8526 \n",
      "Epoch 6 , step 910 , loss= 0.5824354 val_loss= 0.51413864 , acc = 0.84375 val acc = 0.8514 \n",
      "Epoch 6 , step 1010 , loss= 0.38279942 val_loss= 0.50864774 , acc = 0.875 val acc = 0.853 \n",
      "Epoch 6 , step 1110 , loss= 0.45132133 val_loss= 0.51041204 , acc = 0.90625 val acc = 0.8546 \n",
      "Epoch 6 , step 1210 , loss= 0.47122058 val_loss= 0.5131209 , acc = 0.84375 val acc = 0.8544 \n",
      "Epoch 6 , step 1310 , loss= 0.5535715 val_loss= 0.5066236 , acc = 0.84375 val acc = 0.8568 \n",
      "Epoch 6 , step 1410 , loss= 0.4556346 val_loss= 0.50463873 , acc = 0.875 val acc = 0.8554 \n",
      "Epoch 6 , step 1510 , loss= 0.6238304 val_loss= 0.5022604 , acc = 0.6875 val acc = 0.8564 \n",
      "Epoch 6 , step 1610 , loss= 0.59047025 val_loss= 0.50566345 , acc = 0.9375 val acc = 0.856 \n",
      "Epoch 6 , step 1710 , loss= 0.31552908 val_loss= 0.50594246 , acc = 0.9375 val acc = 0.854 \n",
      "Epoch 7 , step 92 , loss= 0.2593122 val_loss= 0.5040568 , acc = 0.9375 val acc = 0.8554 \n",
      "Epoch 7 , step 192 , loss= 1.0143872 val_loss= 0.5028936 , acc = 0.8125 val acc = 0.8564 \n",
      "Epoch 7 , step 292 , loss= 0.563401 val_loss= 0.5060058 , acc = 0.84375 val acc = 0.8598 \n",
      "Epoch 7 , step 392 , loss= 0.50017875 val_loss= 0.5045124 , acc = 0.8125 val acc = 0.8564 \n",
      "Epoch 7 , step 492 , loss= 0.7026112 val_loss= 0.5037986 , acc = 0.75 val acc = 0.8582 \n",
      "Epoch 7 , step 592 , loss= 0.63421655 val_loss= 0.5038591 , acc = 0.875 val acc = 0.854 \n",
      "Epoch 7 , step 692 , loss= 0.3647103 val_loss= 0.50142246 , acc = 0.875 val acc = 0.8546 \n",
      "Epoch 7 , step 792 , loss= 0.32303974 val_loss= 0.49894902 , acc = 0.9375 val acc = 0.8562 \n",
      "Epoch 7 , step 892 , loss= 0.8724482 val_loss= 0.49625897 , acc = 0.8125 val acc = 0.8574 \n",
      "Epoch 7 , step 992 , loss= 0.16773288 val_loss= 0.49860635 , acc = 1.0 val acc = 0.8578 \n",
      "Epoch 7 , step 1092 , loss= 0.401205 val_loss= 0.4958164 , acc = 0.84375 val acc = 0.8568 \n",
      "Epoch 7 , step 1192 , loss= 0.46680444 val_loss= 0.49769312 , acc = 0.875 val acc = 0.8576 \n",
      "Epoch 7 , step 1292 , loss= 0.20868732 val_loss= 0.49562138 , acc = 0.96875 val acc = 0.8604 \n",
      "Epoch 7 , step 1392 , loss= 0.6174134 val_loss= 0.49351475 , acc = 0.75 val acc = 0.8584 \n",
      "Epoch 7 , step 1492 , loss= 0.41465878 val_loss= 0.49376202 , acc = 0.8125 val acc = 0.8582 \n",
      "Epoch 7 , step 1592 , loss= 0.28944087 val_loss= 0.49140796 , acc = 0.875 val acc = 0.8612 \n",
      "Epoch 7 , step 1692 , loss= 0.6433058 val_loss= 0.49298617 , acc = 0.84375 val acc = 0.8592 \n",
      "Epoch 8 , step 74 , loss= 0.3385656 val_loss= 0.49363706 , acc = 0.9375 val acc = 0.86 \n",
      "Epoch 8 , step 174 , loss= 0.34078404 val_loss= 0.49334374 , acc = 0.96875 val acc = 0.862 \n",
      "Epoch 8 , step 274 , loss= 0.26394767 val_loss= 0.49296758 , acc = 0.875 val acc = 0.8588 \n",
      "Epoch 8 , step 374 , loss= 0.47316286 val_loss= 0.49264464 , acc = 0.8125 val acc = 0.8634 \n",
      "Epoch 8 , step 474 , loss= 0.38386688 val_loss= 0.49126232 , acc = 0.84375 val acc = 0.8622 \n",
      "Epoch 8 , step 574 , loss= 0.6405213 val_loss= 0.49574772 , acc = 0.8125 val acc = 0.8586 \n",
      "Epoch 8 , step 674 , loss= 0.49780217 val_loss= 0.48778892 , acc = 0.78125 val acc = 0.8616 \n",
      "Epoch 8 , step 774 , loss= 0.67192566 val_loss= 0.49170518 , acc = 0.75 val acc = 0.8618 \n",
      "Epoch 8 , step 874 , loss= 0.66266847 val_loss= 0.48767677 , acc = 0.875 val acc = 0.8602 \n",
      "Epoch 8 , step 974 , loss= 0.7081205 val_loss= 0.49408573 , acc = 0.75 val acc = 0.8584 \n",
      "Epoch 8 , step 1074 , loss= 0.38510582 val_loss= 0.49131188 , acc = 0.90625 val acc = 0.8638 \n",
      "Epoch 8 , step 1174 , loss= 0.60360307 val_loss= 0.48538452 , acc = 0.84375 val acc = 0.8628 \n",
      "Epoch 8 , step 1274 , loss= 0.5728071 val_loss= 0.49126607 , acc = 0.71875 val acc = 0.8626 \n",
      "Epoch 8 , step 1374 , loss= 0.48703104 val_loss= 0.49012363 , acc = 0.78125 val acc = 0.863 \n",
      "Epoch 8 , step 1474 , loss= 0.2760331 val_loss= 0.48489204 , acc = 0.875 val acc = 0.8662 \n",
      "Epoch 8 , step 1574 , loss= 0.42220122 val_loss= 0.4848875 , acc = 0.90625 val acc = 0.8632 \n",
      "Epoch 8 , step 1674 , loss= 0.655208 val_loss= 0.48376837 , acc = 0.8125 val acc = 0.8628 \n",
      "Epoch 9 , step 56 , loss= 0.29549527 val_loss= 0.48215815 , acc = 0.90625 val acc = 0.8664 \n",
      "Epoch 9 , step 156 , loss= 0.33795467 val_loss= 0.48112452 , acc = 0.90625 val acc = 0.864 \n",
      "Epoch 9 , step 256 , loss= 0.2985024 val_loss= 0.4807838 , acc = 0.9375 val acc = 0.8624 \n",
      "Epoch 9 , step 356 , loss= 0.4602663 val_loss= 0.48551503 , acc = 0.8125 val acc = 0.8632 \n",
      "Epoch 9 , step 456 , loss= 0.4251302 val_loss= 0.4855118 , acc = 0.90625 val acc = 0.8612 \n",
      "Epoch 9 , step 556 , loss= 0.18500304 val_loss= 0.4831373 , acc = 0.96875 val acc = 0.8638 \n",
      "Epoch 9 , step 656 , loss= 0.48972455 val_loss= 0.47999278 , acc = 0.90625 val acc = 0.8648 \n",
      "Epoch 9 , step 756 , loss= 0.21290317 val_loss= 0.4786016 , acc = 0.9375 val acc = 0.8662 \n",
      "Epoch 9 , step 856 , loss= 0.42327598 val_loss= 0.4822771 , acc = 0.84375 val acc = 0.862 \n",
      "Epoch 9 , step 956 , loss= 0.6151372 val_loss= 0.48928842 , acc = 0.8125 val acc = 0.8614 \n",
      "Epoch 9 , step 1056 , loss= 0.41870022 val_loss= 0.48577085 , acc = 0.9375 val acc = 0.8628 \n",
      "Epoch 9 , step 1156 , loss= 0.5119057 val_loss= 0.48219106 , acc = 0.8125 val acc = 0.8652 \n",
      "Epoch 9 , step 1256 , loss= 0.46333778 val_loss= 0.47908086 , acc = 0.84375 val acc = 0.8636 \n",
      "Epoch 9 , step 1356 , loss= 0.5484795 val_loss= 0.4815228 , acc = 0.90625 val acc = 0.8656 \n",
      "Epoch 9 , step 1456 , loss= 0.3685153 val_loss= 0.48184833 , acc = 0.90625 val acc = 0.8676 \n",
      "Epoch 9 , step 1556 , loss= 0.38054994 val_loss= 0.4788149 , acc = 0.9375 val acc = 0.866 \n",
      "Epoch 9 , step 1656 , loss= 0.7867249 val_loss= 0.475708 , acc = 0.8125 val acc = 0.869 \n",
      "Epoch 10 , step 38 , loss= 0.97757894 val_loss= 0.4751899 , acc = 0.65625 val acc = 0.8648 \n",
      "Epoch 10 , step 138 , loss= 0.54037994 val_loss= 0.47976592 , acc = 0.8125 val acc = 0.8706 \n",
      "Epoch 10 , step 238 , loss= 0.68126565 val_loss= 0.4754562 , acc = 0.84375 val acc = 0.8668 \n",
      "Epoch 10 , step 338 , loss= 0.35404962 val_loss= 0.47500873 , acc = 0.875 val acc = 0.871 \n",
      "Epoch 10 , step 438 , loss= 0.70428824 val_loss= 0.47277862 , acc = 0.75 val acc = 0.8672 \n",
      "Epoch 10 , step 538 , loss= 0.28026122 val_loss= 0.48342627 , acc = 0.875 val acc = 0.8594 \n",
      "Epoch 10 , step 638 , loss= 0.67823017 val_loss= 0.4738816 , acc = 0.84375 val acc = 0.8694 \n",
      "Epoch 10 , step 738 , loss= 0.6593789 val_loss= 0.4731078 , acc = 0.78125 val acc = 0.8688 \n",
      "Epoch 10 , step 838 , loss= 0.38604274 val_loss= 0.47270453 , acc = 0.90625 val acc = 0.8708 \n",
      "Epoch 10 , step 938 , loss= 0.45543712 val_loss= 0.4736458 , acc = 0.75 val acc = 0.8664 \n",
      "Epoch 10 , step 1038 , loss= 0.31579575 val_loss= 0.47099486 , acc = 0.90625 val acc = 0.8652 \n",
      "Epoch 10 , step 1138 , loss= 0.26980448 val_loss= 0.47186503 , acc = 0.90625 val acc = 0.867 \n",
      "Epoch 10 , step 1238 , loss= 0.41662076 val_loss= 0.47601366 , acc = 0.9375 val acc = 0.8662 \n",
      "Epoch 10 , step 1338 , loss= 0.5135718 val_loss= 0.47614247 , acc = 0.9375 val acc = 0.8662 \n",
      "Epoch 10 , step 1438 , loss= 0.46481067 val_loss= 0.47133946 , acc = 0.84375 val acc = 0.8704 \n",
      "Epoch 10 , step 1538 , loss= 0.71259916 val_loss= 0.47109488 , acc = 0.78125 val acc = 0.87 \n",
      "Epoch 10 , step 1638 , loss= 0.5916923 val_loss= 0.4685417 , acc = 0.90625 val acc = 0.871 \n",
      "Epoch 11 , step 20 , loss= 0.71448123 val_loss= 0.47284526 , acc = 0.75 val acc = 0.8644 \n",
      "Epoch 11 , step 120 , loss= 0.63657093 val_loss= 0.46904984 , acc = 0.78125 val acc = 0.8718 \n",
      "Epoch 11 , step 220 , loss= 0.28427264 val_loss= 0.46910098 , acc = 0.9375 val acc = 0.869 \n",
      "Epoch 11 , step 320 , loss= 0.5818349 val_loss= 0.46936938 , acc = 0.8125 val acc = 0.8716 \n",
      "Epoch 11 , step 420 , loss= 0.5289285 val_loss= 0.46548238 , acc = 0.84375 val acc = 0.8732 \n",
      "Epoch 11 , step 520 , loss= 0.4921226 val_loss= 0.47353184 , acc = 0.875 val acc = 0.8706 \n",
      "Epoch 11 , step 620 , loss= 0.24221084 val_loss= 0.46802384 , acc = 0.9375 val acc = 0.8728 \n"
     ]
    },
    {
     "name": "stdout",
     "output_type": "stream",
     "text": [
      "Epoch 11 , step 720 , loss= 0.3492756 val_loss= 0.46715045 , acc = 0.90625 val acc = 0.8742 \n",
      "Epoch 11 , step 820 , loss= 0.3305004 val_loss= 0.46584824 , acc = 0.875 val acc = 0.8698 \n",
      "Epoch 11 , step 920 , loss= 0.20350483 val_loss= 0.47843194 , acc = 0.96875 val acc = 0.8714 \n",
      "Epoch 11 , step 1020 , loss= 0.4275936 val_loss= 0.46819076 , acc = 0.90625 val acc = 0.873 \n",
      "Epoch 11 , step 1120 , loss= 0.96590996 val_loss= 0.46744463 , acc = 0.84375 val acc = 0.8728 \n",
      "Epoch 11 , step 1220 , loss= 0.65692437 val_loss= 0.46334872 , acc = 0.78125 val acc = 0.872 \n",
      "Epoch 11 , step 1320 , loss= 0.7187841 val_loss= 0.46300995 , acc = 0.78125 val acc = 0.8738 \n",
      "Epoch 11 , step 1420 , loss= 0.48312652 val_loss= 0.46642265 , acc = 0.875 val acc = 0.872 \n",
      "Epoch 11 , step 1520 , loss= 0.18523441 val_loss= 0.46750438 , acc = 0.9375 val acc = 0.8718 \n",
      "Epoch 11 , step 1620 , loss= 0.5901646 val_loss= 0.46293676 , acc = 0.84375 val acc = 0.8724 \n",
      "Epoch 12 , step 2 , loss= 0.3004681 val_loss= 0.4596188 , acc = 0.90625 val acc = 0.8754 \n",
      "Epoch 12 , step 102 , loss= 0.41415656 val_loss= 0.46491978 , acc = 0.9375 val acc = 0.8716 \n",
      "Epoch 12 , step 202 , loss= 0.48368 val_loss= 0.4625255 , acc = 0.875 val acc = 0.873 \n",
      "Epoch 12 , step 302 , loss= 0.33575845 val_loss= 0.4629541 , acc = 0.875 val acc = 0.8716 \n",
      "Epoch 12 , step 402 , loss= 0.50637496 val_loss= 0.46399277 , acc = 0.75 val acc = 0.8738 \n",
      "Epoch 12 , step 502 , loss= 0.24670672 val_loss= 0.46167588 , acc = 0.9375 val acc = 0.8748 \n",
      "Epoch 12 , step 602 , loss= 0.6858661 val_loss= 0.45885307 , acc = 0.8125 val acc = 0.873 \n",
      "Epoch 12 , step 702 , loss= 0.6790865 val_loss= 0.4593599 , acc = 0.875 val acc = 0.8736 \n",
      "Epoch 12 , step 802 , loss= 0.24624595 val_loss= 0.46224755 , acc = 0.96875 val acc = 0.8698 \n",
      "Epoch 12 , step 902 , loss= 0.17547472 val_loss= 0.4600747 , acc = 0.9375 val acc = 0.8742 \n",
      "Epoch 12 , step 1002 , loss= 0.44164667 val_loss= 0.46594262 , acc = 0.875 val acc = 0.8692 \n",
      "Epoch 12 , step 1102 , loss= 0.72101545 val_loss= 0.45856538 , acc = 0.78125 val acc = 0.8744 \n",
      "Epoch 12 , step 1202 , loss= 0.25527316 val_loss= 0.45746234 , acc = 0.9375 val acc = 0.8754 \n",
      "Epoch 12 , step 1302 , loss= 0.41361764 val_loss= 0.4613559 , acc = 0.875 val acc = 0.874 \n",
      "Epoch 12 , step 1402 , loss= 0.4593963 val_loss= 0.46453482 , acc = 0.8125 val acc = 0.873 \n",
      "Epoch 12 , step 1502 , loss= 0.5290139 val_loss= 0.4570995 , acc = 0.75 val acc = 0.8762 \n",
      "Epoch 12 , step 1602 , loss= 0.642382 val_loss= 0.45996073 , acc = 0.8125 val acc = 0.874 \n",
      "Epoch 12 , step 1702 , loss= 0.47700718 val_loss= 0.45590416 , acc = 0.84375 val acc = 0.8758 \n",
      "Epoch 13 , step 84 , loss= 0.32429045 val_loss= 0.45997316 , acc = 0.90625 val acc = 0.8724 \n",
      "Epoch 13 , step 184 , loss= 0.40935108 val_loss= 0.45757076 , acc = 0.875 val acc = 0.8752 \n",
      "Epoch 13 , step 284 , loss= 0.45809716 val_loss= 0.4524576 , acc = 0.84375 val acc = 0.8766 \n",
      "Epoch 13 , step 384 , loss= 0.64698887 val_loss= 0.455705 , acc = 0.84375 val acc = 0.8754 \n",
      "Epoch 13 , step 484 , loss= 0.4374274 val_loss= 0.4506856 , acc = 0.84375 val acc = 0.8746 \n",
      "Epoch 13 , step 584 , loss= 0.57901084 val_loss= 0.45019346 , acc = 0.8125 val acc = 0.875 \n",
      "Epoch 13 , step 684 , loss= 0.46777844 val_loss= 0.4570788 , acc = 0.90625 val acc = 0.8756 \n",
      "Epoch 13 , step 784 , loss= 0.55064267 val_loss= 0.45387924 , acc = 0.875 val acc = 0.876 \n",
      "Epoch 13 , step 884 , loss= 0.55974174 val_loss= 0.4507389 , acc = 0.8125 val acc = 0.876 \n",
      "Epoch 13 , step 984 , loss= 0.43559217 val_loss= 0.45627582 , acc = 0.875 val acc = 0.872 \n",
      "Epoch 13 , step 1084 , loss= 0.6414403 val_loss= 0.45483965 , acc = 0.84375 val acc = 0.8766 \n",
      "Epoch 13 , step 1184 , loss= 0.428177 val_loss= 0.45539087 , acc = 0.875 val acc = 0.8748 \n",
      "Epoch 13 , step 1284 , loss= 0.323634 val_loss= 0.45093203 , acc = 0.90625 val acc = 0.8764 \n",
      "Epoch 13 , step 1384 , loss= 0.43933284 val_loss= 0.46295157 , acc = 0.84375 val acc = 0.873 \n",
      "Epoch 13 , step 1484 , loss= 0.4173069 val_loss= 0.45434472 , acc = 0.8125 val acc = 0.875 \n",
      "Epoch 13 , step 1584 , loss= 0.5218034 val_loss= 0.4546105 , acc = 0.84375 val acc = 0.8742 \n",
      "Epoch 13 , step 1684 , loss= 0.29867813 val_loss= 0.45045775 , acc = 0.90625 val acc = 0.8776 \n",
      "Epoch 14 , step 66 , loss= 0.6220746 val_loss= 0.4541129 , acc = 0.84375 val acc = 0.8744 \n",
      "Epoch 14 , step 166 , loss= 0.23822428 val_loss= 0.45678872 , acc = 0.9375 val acc = 0.8752 \n",
      "Epoch 14 , step 266 , loss= 0.3801589 val_loss= 0.45374933 , acc = 0.90625 val acc = 0.8754 \n",
      "Epoch 14 , step 366 , loss= 0.66757166 val_loss= 0.45063832 , acc = 0.75 val acc = 0.8774 \n",
      "Epoch 14 , step 466 , loss= 0.19550931 val_loss= 0.44939327 , acc = 0.9375 val acc = 0.8764 \n",
      "Epoch 14 , step 566 , loss= 0.2672314 val_loss= 0.4516305 , acc = 0.90625 val acc = 0.873 \n",
      "Epoch 14 , step 666 , loss= 1.0413541 val_loss= 0.45184717 , acc = 0.84375 val acc = 0.8734 \n",
      "Epoch 14 , step 766 , loss= 0.5283365 val_loss= 0.4470897 , acc = 0.875 val acc = 0.8792 \n",
      "Epoch 14 , step 866 , loss= 0.35706648 val_loss= 0.44770333 , acc = 0.90625 val acc = 0.8784 \n",
      "Epoch 14 , step 966 , loss= 0.60571176 val_loss= 0.44813302 , acc = 0.75 val acc = 0.8782 \n",
      "Epoch 14 , step 1066 , loss= 0.34646565 val_loss= 0.44838175 , acc = 0.875 val acc = 0.8746 \n",
      "Epoch 14 , step 1166 , loss= 0.49682796 val_loss= 0.44963896 , acc = 0.875 val acc = 0.8784 \n",
      "Epoch 14 , step 1266 , loss= 0.4080432 val_loss= 0.44999012 , acc = 0.875 val acc = 0.8774 \n",
      "Epoch 14 , step 1366 , loss= 0.5812839 val_loss= 0.447948 , acc = 0.75 val acc = 0.8806 \n",
      "Epoch 14 , step 1466 , loss= 0.6053419 val_loss= 0.4473552 , acc = 0.8125 val acc = 0.8792 \n",
      "Epoch 14 , step 1566 , loss= 0.27989438 val_loss= 0.4480208 , acc = 0.9375 val acc = 0.879 \n",
      "Epoch 14 , step 1666 , loss= 0.6808628 val_loss= 0.4480626 , acc = 0.84375 val acc = 0.8784 \n",
      "Epoch 15 , step 48 , loss= 1.0764045 val_loss= 0.44861752 , acc = 0.78125 val acc = 0.88 \n",
      "Epoch 15 , step 148 , loss= 0.30192578 val_loss= 0.45104653 , acc = 0.90625 val acc = 0.8776 \n",
      "Epoch 15 , step 248 , loss= 0.35253483 val_loss= 0.44600192 , acc = 0.90625 val acc = 0.878 \n",
      "Epoch 15 , step 348 , loss= 0.41543996 val_loss= 0.44896713 , acc = 0.875 val acc = 0.8786 \n",
      "Epoch 15 , step 448 , loss= 0.5253924 val_loss= 0.44642335 , acc = 0.8125 val acc = 0.8776 \n",
      "Epoch 15 , step 548 , loss= 0.5040406 val_loss= 0.45007208 , acc = 0.84375 val acc = 0.8762 \n",
      "Epoch 15 , step 648 , loss= 0.22557253 val_loss= 0.4460267 , acc = 0.875 val acc = 0.8798 \n",
      "Epoch 15 , step 748 , loss= 0.35621142 val_loss= 0.44955978 , acc = 0.90625 val acc = 0.8776 \n",
      "Epoch 15 , step 848 , loss= 0.29660237 val_loss= 0.44639188 , acc = 0.875 val acc = 0.8814 \n",
      "Epoch 15 , step 948 , loss= 0.44118536 val_loss= 0.445021 , acc = 0.875 val acc = 0.8826 \n",
      "Epoch 15 , step 1048 , loss= 0.20971099 val_loss= 0.44552833 , acc = 0.9375 val acc = 0.8784 \n",
      "Epoch 15 , step 1148 , loss= 0.16165993 val_loss= 0.44419315 , acc = 0.90625 val acc = 0.878 \n",
      "Epoch 15 , step 1248 , loss= 0.4430524 val_loss= 0.4491478 , acc = 0.78125 val acc = 0.8756 \n",
      "Epoch 15 , step 1348 , loss= 0.8000361 val_loss= 0.44646323 , acc = 0.78125 val acc = 0.8798 \n",
      "Epoch 15 , step 1448 , loss= 0.26111704 val_loss= 0.44603252 , acc = 0.9375 val acc = 0.8762 \n",
      "Epoch 15 , step 1548 , loss= 0.5481123 val_loss= 0.44474828 , acc = 0.8125 val acc = 0.8798 \n",
      "Epoch 15 , step 1648 , loss= 0.27129996 val_loss= 0.44524395 , acc = 0.9375 val acc = 0.876 \n",
      "Epoch 16 , step 30 , loss= 0.39237502 val_loss= 0.4468524 , acc = 0.90625 val acc = 0.8784 \n",
      "Epoch 16 , step 130 , loss= 0.51754427 val_loss= 0.44259477 , acc = 0.75 val acc = 0.8756 \n",
      "Epoch 16 , step 230 , loss= 0.26640671 val_loss= 0.43997553 , acc = 0.875 val acc = 0.8792 \n",
      "Epoch 16 , step 330 , loss= 0.53533864 val_loss= 0.4500752 , acc = 0.75 val acc = 0.8774 \n",
      "Epoch 16 , step 430 , loss= 0.40868145 val_loss= 0.44462427 , acc = 0.875 val acc = 0.881 \n",
      "Epoch 16 , step 530 , loss= 0.7631618 val_loss= 0.4438128 , acc = 0.78125 val acc = 0.8812 \n",
      "Epoch 16 , step 630 , loss= 0.5185716 val_loss= 0.43983173 , acc = 0.8125 val acc = 0.8818 \n",
      "Epoch 16 , step 730 , loss= 0.48959967 val_loss= 0.44093403 , acc = 0.875 val acc = 0.8804 \n",
      "Epoch 16 , step 830 , loss= 0.321327 val_loss= 0.44291934 , acc = 0.90625 val acc = 0.8792 \n",
      "Epoch 16 , step 930 , loss= 0.25686252 val_loss= 0.439154 , acc = 0.9375 val acc = 0.881 \n"
     ]
    },
    {
     "name": "stdout",
     "output_type": "stream",
     "text": [
      "Epoch 16 , step 1030 , loss= 0.6133468 val_loss= 0.44600463 , acc = 0.84375 val acc = 0.875 \n",
      "Epoch 16 , step 1130 , loss= 0.24730703 val_loss= 0.44466683 , acc = 0.9375 val acc = 0.876 \n",
      "Epoch 16 , step 1230 , loss= 0.49314207 val_loss= 0.441977 , acc = 0.8125 val acc = 0.8794 \n",
      "Epoch 16 , step 1330 , loss= 0.624338 val_loss= 0.43891895 , acc = 0.875 val acc = 0.8786 \n",
      "Epoch 16 , step 1430 , loss= 0.30045882 val_loss= 0.44335255 , acc = 0.875 val acc = 0.8772 \n",
      "Epoch 16 , step 1530 , loss= 0.21746212 val_loss= 0.4418539 , acc = 0.9375 val acc = 0.8772 \n",
      "Epoch 16 , step 1630 , loss= 0.3938604 val_loss= 0.44510967 , acc = 0.84375 val acc = 0.8764 \n",
      "Epoch 17 , step 12 , loss= 0.33690447 val_loss= 0.4435918 , acc = 0.8125 val acc = 0.8788 \n",
      "Epoch 17 , step 112 , loss= 0.47533745 val_loss= 0.44131407 , acc = 0.90625 val acc = 0.88 \n",
      "Epoch 17 , step 212 , loss= 0.39044753 val_loss= 0.43955278 , acc = 0.9375 val acc = 0.8792 \n",
      "Epoch 17 , step 312 , loss= 0.49657595 val_loss= 0.4386985 , acc = 0.875 val acc = 0.879 \n",
      "Epoch 17 , step 412 , loss= 0.66459394 val_loss= 0.44126275 , acc = 0.8125 val acc = 0.8762 \n",
      "Epoch 17 , step 512 , loss= 0.44187617 val_loss= 0.4401789 , acc = 0.875 val acc = 0.8796 \n",
      "Epoch 17 , step 612 , loss= 0.67443794 val_loss= 0.44105938 , acc = 0.84375 val acc = 0.8808 \n",
      "Epoch 17 , step 712 , loss= 0.30054027 val_loss= 0.43820107 , acc = 0.90625 val acc = 0.8798 \n",
      "Epoch 17 , step 812 , loss= 0.230855 val_loss= 0.43748447 , acc = 0.96875 val acc = 0.8798 \n",
      "Epoch 17 , step 912 , loss= 0.2838041 val_loss= 0.44255328 , acc = 0.875 val acc = 0.8776 \n",
      "Epoch 17 , step 1012 , loss= 0.34567702 val_loss= 0.44149902 , acc = 0.84375 val acc = 0.8806 \n",
      "Epoch 17 , step 1112 , loss= 0.56380296 val_loss= 0.44233188 , acc = 0.875 val acc = 0.8802 \n",
      "Epoch 17 , step 1212 , loss= 0.25472683 val_loss= 0.4386141 , acc = 0.90625 val acc = 0.8794 \n",
      "Epoch 17 , step 1312 , loss= 0.25491074 val_loss= 0.43921053 , acc = 0.90625 val acc = 0.8758 \n",
      "Epoch 17 , step 1412 , loss= 0.24144676 val_loss= 0.44163442 , acc = 0.90625 val acc = 0.877 \n",
      "Epoch 17 , step 1512 , loss= 0.5672915 val_loss= 0.44009784 , acc = 0.90625 val acc = 0.8756 \n",
      "Epoch 17 , step 1612 , loss= 0.6738993 val_loss= 0.43902272 , acc = 0.84375 val acc = 0.8798 \n",
      "Epoch 17 , step 1712 , loss= 0.3295161 val_loss= 0.43983817 , acc = 0.90625 val acc = 0.878 \n",
      "Epoch 18 , step 94 , loss= 0.34995168 val_loss= 0.43880323 , acc = 0.9375 val acc = 0.8774 \n",
      "Epoch 18 , step 194 , loss= 0.55865324 val_loss= 0.44103897 , acc = 0.84375 val acc = 0.8762 \n",
      "Epoch 18 , step 294 , loss= 0.28867763 val_loss= 0.43898642 , acc = 0.96875 val acc = 0.8814 \n",
      "Epoch 18 , step 394 , loss= 0.49660304 val_loss= 0.44003198 , acc = 0.84375 val acc = 0.8808 \n",
      "Epoch 18 , step 494 , loss= 0.6190803 val_loss= 0.43860245 , acc = 0.75 val acc = 0.8814 \n",
      "Epoch 18 , step 594 , loss= 0.49738884 val_loss= 0.43789473 , acc = 0.8125 val acc = 0.88 \n",
      "Epoch 18 , step 694 , loss= 0.5529481 val_loss= 0.4364848 , acc = 0.875 val acc = 0.8778 \n",
      "Epoch 18 , step 794 , loss= 0.53895444 val_loss= 0.44282827 , acc = 0.875 val acc = 0.876 \n",
      "Epoch 18 , step 894 , loss= 0.35738677 val_loss= 0.4374967 , acc = 0.84375 val acc = 0.8784 \n",
      "Epoch 18 , step 994 , loss= 0.38970935 val_loss= 0.43633038 , acc = 0.90625 val acc = 0.8768 \n",
      "Epoch 18 , step 1094 , loss= 0.31910622 val_loss= 0.4450175 , acc = 0.90625 val acc = 0.8794 \n",
      "Epoch 18 , step 1194 , loss= 0.12942375 val_loss= 0.43696904 , acc = 0.96875 val acc = 0.8804 \n",
      "Epoch 18 , step 1294 , loss= 0.90535086 val_loss= 0.43402666 , acc = 0.84375 val acc = 0.8814 \n",
      "Epoch 18 , step 1394 , loss= 0.84208405 val_loss= 0.43444526 , acc = 0.6875 val acc = 0.8798 \n",
      "Epoch 18 , step 1494 , loss= 0.42038897 val_loss= 0.44063672 , acc = 0.84375 val acc = 0.8816 \n",
      "Epoch 18 , step 1594 , loss= 0.2434843 val_loss= 0.43748912 , acc = 0.90625 val acc = 0.8782 \n",
      "Epoch 18 , step 1694 , loss= 0.18635236 val_loss= 0.44165924 , acc = 0.96875 val acc = 0.88 \n",
      "Epoch 19 , step 76 , loss= 0.5170919 val_loss= 0.43606865 , acc = 0.84375 val acc = 0.8762 \n",
      "Epoch 19 , step 176 , loss= 0.48522514 val_loss= 0.43482485 , acc = 0.78125 val acc = 0.879 \n",
      "Epoch 19 , step 276 , loss= 0.26113117 val_loss= 0.43679947 , acc = 0.9375 val acc = 0.8772 \n",
      "Epoch 19 , step 376 , loss= 0.38879198 val_loss= 0.43621734 , acc = 0.9375 val acc = 0.8758 \n",
      "Epoch 19 , step 476 , loss= 0.5341022 val_loss= 0.4406001 , acc = 0.78125 val acc = 0.8768 \n",
      "Epoch 19 , step 576 , loss= 0.61711264 val_loss= 0.43904287 , acc = 0.8125 val acc = 0.877 \n",
      "Epoch 19 , step 676 , loss= 0.38884732 val_loss= 0.43613726 , acc = 0.875 val acc = 0.8788 \n",
      "Epoch 19 , step 776 , loss= 0.43481147 val_loss= 0.43622914 , acc = 0.90625 val acc = 0.8806 \n",
      "Epoch 19 , step 876 , loss= 0.22288337 val_loss= 0.43529364 , acc = 0.9375 val acc = 0.8786 \n",
      "Epoch 19 , step 976 , loss= 0.41947404 val_loss= 0.43897998 , acc = 0.84375 val acc = 0.8774 \n",
      "Epoch 19 , step 1076 , loss= 0.41379374 val_loss= 0.4345909 , acc = 0.78125 val acc = 0.8788 \n",
      "Epoch 19 , step 1176 , loss= 0.39683717 val_loss= 0.43378848 , acc = 0.9375 val acc = 0.878 \n",
      "Epoch 19 , step 1276 , loss= 0.9262137 val_loss= 0.43573233 , acc = 0.8125 val acc = 0.8814 \n",
      "Epoch 19 , step 1376 , loss= 0.32964265 val_loss= 0.43643168 , acc = 0.96875 val acc = 0.8776 \n",
      "Epoch 19 , step 1476 , loss= 0.2075324 val_loss= 0.43533468 , acc = 0.9375 val acc = 0.8784 \n",
      "Epoch 19 , step 1576 , loss= 0.8450302 val_loss= 0.43556085 , acc = 0.78125 val acc = 0.878 \n",
      "Epoch 19 , step 1676 , loss= 0.22527568 val_loss= 0.4399371 , acc = 0.9375 val acc = 0.8798 \n",
      "Epoch 20 , step 58 , loss= 0.3191542 val_loss= 0.43336576 , acc = 0.875 val acc = 0.8818 \n",
      "Epoch 20 , step 158 , loss= 0.44750786 val_loss= 0.43495 , acc = 0.84375 val acc = 0.8754 \n",
      "Epoch 20 , step 258 , loss= 0.42259407 val_loss= 0.4331315 , acc = 0.90625 val acc = 0.8816 \n",
      "Epoch 20 , step 358 , loss= 0.36825463 val_loss= 0.4318199 , acc = 0.84375 val acc = 0.8796 \n",
      "Epoch 20 , step 458 , loss= 0.3727114 val_loss= 0.4333712 , acc = 0.875 val acc = 0.8804 \n",
      "Epoch 20 , step 558 , loss= 0.8712882 val_loss= 0.44028613 , acc = 0.6875 val acc = 0.8822 \n",
      "Epoch 20 , step 658 , loss= 0.33387196 val_loss= 0.43469152 , acc = 0.9375 val acc = 0.8786 \n",
      "Epoch 20 , step 758 , loss= 0.67942685 val_loss= 0.4348689 , acc = 0.78125 val acc = 0.8786 \n",
      "Epoch 20 , step 858 , loss= 0.3149028 val_loss= 0.43466315 , acc = 0.9375 val acc = 0.8806 \n",
      "Epoch 20 , step 958 , loss= 0.43577272 val_loss= 0.4324918 , acc = 0.78125 val acc = 0.8804 \n",
      "Epoch 20 , step 1058 , loss= 0.28444818 val_loss= 0.4360912 , acc = 0.90625 val acc = 0.8824 \n",
      "Epoch 20 , step 1158 , loss= 0.6362277 val_loss= 0.43361235 , acc = 0.84375 val acc = 0.8764 \n",
      "Epoch 20 , step 1258 , loss= 0.3792991 val_loss= 0.43283165 , acc = 0.90625 val acc = 0.879 \n",
      "Epoch 20 , step 1358 , loss= 0.5285371 val_loss= 0.45166123 , acc = 0.84375 val acc = 0.8744 \n",
      "Epoch 20 , step 1458 , loss= 0.3738008 val_loss= 0.4358124 , acc = 0.875 val acc = 0.8816 \n",
      "Epoch 20 , step 1558 , loss= 0.4347955 val_loss= 0.4351665 , acc = 0.9375 val acc = 0.877 \n",
      "Epoch 20 , step 1658 , loss= 0.5282997 val_loss= 0.4375163 , acc = 0.875 val acc = 0.8798 \n",
      "Epoch 20 , step 1717 , loss= 0.6711773 val_loss= 0.43104383 , acc = 0.83928573 val acc = 0.8832 \n"
     ]
    }
   ],
   "source": [
    "import gc\n",
    "gc.collect()\n",
    "if try_cls2:\n",
    "    small = build_small_model(input_dims, output_dims, session, is_student=False)\n",
    "    small.train(\n",
    "        X=X_train\n",
    "        ,y=y_train\n",
    "        ,val_set=[X_val,y_val]\n",
    "        ,batch_size=32\n",
    "        ,n_epochs=20\n",
    "        ,display_steps=100)"
   ]
  },
  {
   "cell_type": "code",
   "execution_count": 24,
   "metadata": {
    "ExecuteTime": {
     "end_time": "2018-11-16T07:22:14.694150Z",
     "start_time": "2018-11-16T07:21:58.450986Z"
    }
   },
   "outputs": [
    {
     "name": "stdout",
     "output_type": "stream",
     "text": [
      "Small model\n",
      "Plotting loss...\n"
     ]
    },
    {
     "data": {
      "image/png": "[encoded data removed]",
      "text/plain": [
       "<Figure size 432x288 with 1 Axes>"
      ]
     },
     "metadata": {
      "needs_background": "light"
     },
     "output_type": "display_data"
    },
    {
     "name": "stdout",
     "output_type": "stream",
     "text": [
      "Plotting metrics...\n"
     ]
    },
    {
     "data": {
      "image/png": "[encoded data removed]",
      "text/plain": [
       "<Figure size 432x288 with 1 Axes>"
      ]
     },
     "metadata": {
      "needs_background": "light"
     },
     "output_type": "display_data"
    },
    {
     "name": "stdout",
     "output_type": "stream",
     "text": [
      "train {'acc': 0.87707275}\n",
      "test {'acc': 0.8739}\n"
     ]
    }
   ],
   "source": [
    "if try_cls2:\n",
    "    print('Small model')\n",
    "    small.plt_loss()\n",
    "    small.plt_metrics()\n",
    "    train_metric = small.get_metrics(X_train, y_train)\n",
    "    test_metric = small.get_metrics(X_test, y_test)\n",
    "    print('train',train_metric)\n",
    "    print('test',test_metric)"
   ]
  },
  {
   "cell_type": "code",
   "execution_count": 25,
   "metadata": {
    "ExecuteTime": {
     "end_time": "2018-11-16T07:38:55.308579Z",
     "start_time": "2018-11-16T07:36:13.383778Z"
    }
   },
   "outputs": [
    {
     "name": "stdout",
     "output_type": "stream",
     "text": [
      "Training student with temperature = 2 , coef = 4 .\n",
      "Epoch 1 , step 0 , loss= 11.4654 val_loss= 11.490796 , acc = 0.1875 val acc = 0.0946 \n",
      "Epoch 1 , step 100 , loss= 11.1092 val_loss= 11.115192 , acc = 0.21875 val acc = 0.1572 \n",
      "Epoch 1 , step 200 , loss= 10.971261 val_loss= 10.915095 , acc = 0.15625 val acc = 0.2834 \n",
      "Epoch 1 , step 300 , loss= 10.846955 val_loss= 10.800271 , acc = 0.375 val acc = 0.4062 \n",
      "Epoch 1 , step 400 , loss= 11.022465 val_loss= 10.712525 , acc = 0.25 val acc = 0.4346 \n",
      "Epoch 1 , step 500 , loss= 10.614459 val_loss= 10.659089 , acc = 0.5625 val acc = 0.4744 \n",
      "Epoch 1 , step 600 , loss= 10.410886 val_loss= 10.627358 , acc = 0.65625 val acc = 0.4972 \n",
      "Epoch 1 , step 700 , loss= 10.560835 val_loss= 10.598906 , acc = 0.46875 val acc = 0.5228 \n",
      "Epoch 1 , step 800 , loss= 10.744639 val_loss= 10.590179 , acc = 0.5625 val acc = 0.5454 \n",
      "Epoch 1 , step 900 , loss= 10.635666 val_loss= 10.578635 , acc = 0.5625 val acc = 0.5558 \n",
      "Epoch 1 , step 1000 , loss= 10.788486 val_loss= 10.563873 , acc = 0.46875 val acc = 0.5616 \n",
      "Epoch 1 , step 1100 , loss= 10.681526 val_loss= 10.558315 , acc = 0.46875 val acc = 0.5742 \n",
      "Epoch 1 , step 1200 , loss= 10.347314 val_loss= 10.554319 , acc = 0.46875 val acc = 0.5676 \n"
     ]
    },
    {
     "ename": "KeyboardInterrupt",
     "evalue": "",
     "output_type": "error",
     "traceback": [
      "\u001b[0;31m---------------------------------------------------------------------------\u001b[0m",
      "\u001b[0;31mKeyboardInterrupt\u001b[0m                         Traceback (most recent call last)",
      "\u001b[0;32m<ipython-input-25-6de7dd60352f>\u001b[0m in \u001b[0;36m<module>\u001b[0;34m()\u001b[0m\n\u001b[1;32m     25\u001b[0m             \u001b[0;34m,\u001b[0m\u001b[0mbatch_size\u001b[0m\u001b[0;34m=\u001b[0m\u001b[0;36m32\u001b[0m\u001b[0;34m\u001b[0m\u001b[0m\n\u001b[1;32m     26\u001b[0m             \u001b[0;34m,\u001b[0m\u001b[0mn_epochs\u001b[0m\u001b[0;34m=\u001b[0m\u001b[0;36m20\u001b[0m\u001b[0;34m\u001b[0m\u001b[0m\n\u001b[0;32m---> 27\u001b[0;31m             ,display_steps=100)\n\u001b[0m\u001b[1;32m     28\u001b[0m         \u001b[0;31m# show result\u001b[0m\u001b[0;34m\u001b[0m\u001b[0;34m\u001b[0m\u001b[0m\n\u001b[1;32m     29\u001b[0m         \u001b[0mprint\u001b[0m\u001b[0;34m(\u001b[0m\u001b[0;34m'Student performance with temperature ='\u001b[0m\u001b[0;34m,\u001b[0m\u001b[0mtemperature\u001b[0m\u001b[0;34m,\u001b[0m\u001b[0;34m', coef ='\u001b[0m\u001b[0;34m,\u001b[0m\u001b[0mcoef_softloss\u001b[0m\u001b[0;34m,\u001b[0m\u001b[0;34m'.'\u001b[0m\u001b[0;34m)\u001b[0m\u001b[0;34m\u001b[0m\u001b[0m\n",
      "\u001b[0;32m/media/deep3072/Data/tu/kd_01/nn_kd.py\u001b[0m in \u001b[0;36msoft_train\u001b[0;34m(self, X, y, y_soft, temperature, coef_softloss, n_epochs, batch_size, val_set, display_steps, shuffle)\u001b[0m\n\u001b[1;32m    143\u001b[0m                     \u001b[0mprint\u001b[0m\u001b[0;34m(\u001b[0m\u001b[0;34m)\u001b[0m\u001b[0;34m\u001b[0m\u001b[0m\n\u001b[1;32m    144\u001b[0m \u001b[0;34m\u001b[0m\u001b[0m\n\u001b[0;32m--> 145\u001b[0;31m                 \u001b[0mgc\u001b[0m\u001b[0;34m.\u001b[0m\u001b[0mcollect\u001b[0m\u001b[0;34m(\u001b[0m\u001b[0;34m)\u001b[0m\u001b[0;34m\u001b[0m\u001b[0m\n\u001b[0m\u001b[1;32m    146\u001b[0m                 \u001b[0mcounter\u001b[0m \u001b[0;34m+=\u001b[0m \u001b[0;36m1\u001b[0m\u001b[0;34m\u001b[0m\u001b[0m\n\u001b[1;32m    147\u001b[0m \u001b[0;34m\u001b[0m\u001b[0m\n",
      "\u001b[0;31mKeyboardInterrupt\u001b[0m: "
     ]
    }
   ],
   "source": [
    "\n",
    "temperatures = [2,4,8,16,32,64]\n",
    "train_metrics = {}\n",
    "test_metrics = {}\n",
    "for temperature in temperatures:\n",
    "    # initialize metrics\n",
    "    train_metrics[temperature] = []\n",
    "    test_metrics[temperature] = []\n",
    "    # prepare softened data\n",
    "    y_train_soft = teacher.predict_softened(X_train, temperature)\n",
    "    y_val_soft = teacher.predict_softened(X_val, temperature)\n",
    "    y_test_soft = teacher.predict_softened(X_test, temperature)\n",
    "    for coef_softloss in [1/(temperature**2), 1, temperature**2]:\n",
    "        print('Training student with temperature =',temperature,', coef =',coef_softloss,'.')\n",
    "        # build network architecture\n",
    "        student = build_small_model(input_dims, output_dims, session, is_student=True)\n",
    "        # train network\n",
    "        student.soft_train(\n",
    "            X=X_train\n",
    "            ,y=y_train\n",
    "            ,y_soft=y_train_soft\n",
    "            ,temperature=temperature\n",
    "            ,coef_softloss= coef_softloss# * temperature**2\n",
    "            ,val_set=[X_val,y_val,y_val_soft]\n",
    "            ,batch_size=32\n",
    "            ,n_epochs=20\n",
    "            ,display_steps=100)\n",
    "        # show result\n",
    "        print('Student performance with temperature =',temperature,', coef =',coef_softloss,'.')\n",
    "        student.plt_loss()\n",
    "        student.plt_metrics()\n",
    "        train_metric = student.get_metrics(X_train, y_train)\n",
    "        test_metric = student.get_metrics(X_test, y_test)\n",
    "        print('train',train_metric)\n",
    "        print('test',test_metric)\n",
    "        print()\n",
    "        train_metrics[temperature].append(train_metric)\n",
    "        test_metrics[temperature].append(test_metric)\n",
    "        gc.collect()"
   ]
  },
  {
   "cell_type": "code",
   "execution_count": null,
   "metadata": {
    "ExecuteTime": {
     "end_time": "2018-11-13T23:09:40.062666Z",
     "start_time": "2018-11-13T23:09:40.040932Z"
    }
   },
   "outputs": [],
   "source": [
    "print(test_metrics)"
   ]
  },
  {
   "cell_type": "code",
   "execution_count": null,
   "metadata": {
    "ExecuteTime": {
     "end_time": "2018-11-13T23:09:41.570618Z",
     "start_time": "2018-11-13T23:09:40.064295Z"
    },
    "scrolled": true
   },
   "outputs": [],
   "source": [
    "# plot and show sample # deprecated\n",
    "if try_cls2 and True:\n",
    "    n_samples = 6\n",
    "    round_show = 4\n",
    "    n_data = X_test.shape[0]\n",
    "    indices = np.random.choice(n_data,n_samples)\n",
    "    for i in range(n_samples):\n",
    "        sample = X_test[[indices[i]]]\n",
    "        label = y_test[indices[i]]\n",
    "        plt.imshow(sample.reshape((28,28)), cmap='gray')\n",
    "        plt.show()\n",
    "        pred = student.predict(sample)\n",
    "        pred_t = student.predict_softened(sample, temperature=temperature)\n",
    "        print(label)\n",
    "        print(np.round(pred,round_show))\n",
    "        print(np.round(pred_t,round_show))\n",
    "#         print(np.round(pred_t2,round_show))\n",
    "        #     student.predict()"
   ]
  },
  {
   "cell_type": "code",
   "execution_count": null,
   "metadata": {
    "ExecuteTime": {
     "end_time": "2018-11-13T23:09:41.600795Z",
     "start_time": "2018-11-13T23:09:41.572436Z"
    }
   },
   "outputs": [],
   "source": [
    "# close_session(session)"
   ]
  },
  {
   "cell_type": "code",
   "execution_count": null,
   "metadata": {},
   "outputs": [],
   "source": []
  }
 ],
 "metadata": {
  "kernelspec": {
   "display_name": "Python [conda env:tu36]",
   "language": "python",
   "name": "conda-env-tu36-py"
  },
  "language_info": {
   "codemirror_mode": {
    "name": "ipython",
    "version": 3
   },
   "file_extension": ".py",
   "mimetype": "text/x-python",
   "name": "python",
   "nbconvert_exporter": "python",
   "pygments_lexer": "ipython3",
   "version": "3.6.6"
  },
  "widgets": {
   "state": {},
   "version": "1.1.2"
  }
 },
 "nbformat": 4,
 "nbformat_minor": 2
}
