{
 "cells": [
  {
   "cell_type": "code",
   "execution_count": 1,
   "metadata": {
    "ExecuteTime": {
     "end_time": "2018-11-16T07:35:07.418563Z",
     "start_time": "2018-11-16T07:35:07.407308Z"
    }
   },
   "outputs": [],
   "source": [
    "# to auto reload the modified module\n",
    "% load_ext autoreload\n",
    "% autoreload 2"
   ]
  },
  {
   "cell_type": "code",
   "execution_count": null,
   "metadata": {
    "ExecuteTime": {
     "start_time": "2018-11-16T07:35:06.820Z"
    }
   },
   "outputs": [],
   "source": [
    "import tensorflow as tf\n",
    "import numpy as np\n",
    "import random\n",
    "import os\n",
    "from sklearn.model_selection import train_test_split\n",
    "import matplotlib.pyplot as plt\n",
    "import gc\n",
    "\n",
    "from utils import *\n",
    "from data import MnistTF\n",
    "from models import *"
   ]
  },
  {
   "cell_type": "code",
   "execution_count": null,
   "metadata": {
    "ExecuteTime": {
     "start_time": "2018-11-16T07:35:07.003Z"
    }
   },
   "outputs": [],
   "source": [
    "# session settings\n",
    "session = create_session(gpu_id='0')\n",
    "# seed settings\n",
    "set_rand_seed(0)"
   ]
  },
  {
   "cell_type": "code",
   "execution_count": null,
   "metadata": {
    "ExecuteTime": {
     "end_time": "2018-11-13T10:45:13.957762Z",
     "start_time": "2018-11-13T10:45:13.895288Z"
    }
   },
   "outputs": [],
   "source": [
    "try_reg2 = False\n",
    "if try_reg2:\n",
    "#         X_data = np.random.random((6000))[:, np.newaxis]*100\n",
    "#         noise = np.random.normal(0, 0.05, X_data.shape).astype(np.float32)*0\n",
    "#         y_data = X_data*2 + 1 + noise\n",
    "    X_data = np.linspace(-10,10,5000, dtype=np.float32)[:, np.newaxis]\n",
    "    np.random.shuffle(X_data)\n",
    "    noise = np.random.normal(0, 10, X_data.shape).astype(np.float32)\n",
    "    y_data = np.square(X_data) - 0.5 + noise\n",
    "    print('X_data',X_data.shape,'\\n',X_data[:5])\n",
    "    print('y_data',y_data.shape,'\\n',y_data[:5])\n",
    "    \n",
    "    X_train, X_test, y_train, y_test = train_test_split(X_data, y_data, test_size=0.2)\n",
    "    X_train, X_val, y_train, y_val = train_test_split(X_train, y_train, test_size=0.25)\n",
    "    \n",
    "    input_dims = X_train.shape[1]\n",
    "    col_0 = SoftenedNN(\n",
    "        input_dims=input_dims\n",
    "        , output_dims=1\n",
    "        , session=session\n",
    "        , dtype_X=tf.float32, dtype_y=tf.float32\n",
    "    )\n",
    "    col_0.add_layer(\n",
    "        FC(inputs=col_0.h[-1],out_dims=256,activation_fn=tf.nn.relu)\n",
    "    )\n",
    "    col_0.add_layer(\n",
    "        FC(inputs=col_0.h[-1],out_dims=1,activation_fn=None)\n",
    "    )\n",
    "    col_0.compile_nn(\n",
    "#         loss=tf.reduce_mean(tf.reduce_sum(tf.square(col_0.ys - col_0.prediction),reduction_indices=[1]))\n",
    "        loss=tf.losses.mean_squared_error(col_0.ys,col_0.prediction)\n",
    "        ,opt=tf.train.AdamOptimizer(learning_rate=1e-3)\n",
    "#         ,opt=tf.train.GradientDescentOptimizer(learning_rate=1e-1)\n",
    "#         ,mectrics=[]\n",
    "    )\n",
    "    col_0.train(\n",
    "        X=X_train\n",
    "        , y=y_train\n",
    "#         , val_set=[X_val,y_val]\n",
    "        , batch_size=32\n",
    "        , n_epochs=200\n",
    "        , display_steps=100\n",
    "    )"
   ]
  },
  {
   "cell_type": "code",
   "execution_count": null,
   "metadata": {
    "ExecuteTime": {
     "end_time": "2018-11-13T10:45:13.978314Z",
     "start_time": "2018-11-13T10:45:13.959081Z"
    }
   },
   "outputs": [],
   "source": [
    "if try_reg2:\n",
    "    col_0.plt_loss()\n",
    "    col_0.plt_metrics()\n",
    "    test_metric = col_0.get_metrics(X_test, y_test)\n",
    "    print(test_metric)"
   ]
  },
  {
   "cell_type": "code",
   "execution_count": null,
   "metadata": {
    "ExecuteTime": {
     "end_time": "2018-11-13T10:45:14.395900Z",
     "start_time": "2018-11-13T10:45:13.979575Z"
    },
    "scrolled": true
   },
   "outputs": [],
   "source": [
    "try_cls2 = True\n",
    "if try_cls2:\n",
    "    mnist = MnistTF()\n",
    "    X_train, y_train = mnist.get_train_data()\n",
    "    X_val, y_val = mnist.get_validation_data()\n",
    "    X_test, y_test = mnist.get_test_data()\n",
    "    print_obj(X_train, 'X_train')\n",
    "    print_obj(y_train, 'y_train')\n",
    "    input_dims = X_train.shape[1]\n",
    "    output_dims = y_train.shape[1]\n",
    "    print_obj(input_dims, 'input_dims')\n",
    "    print_obj(output_dims, 'output_dims')\n"
   ]
  },
  {
   "cell_type": "code",
   "execution_count": null,
   "metadata": {
    "ExecuteTime": {
     "end_time": "2018-11-13T10:45:47.920401Z",
     "start_time": "2018-11-13T10:45:14.397282Z"
    }
   },
   "outputs": [],
   "source": [
    "if try_cls2:\n",
    "    teacher = build_big_model(input_dims, output_dims, session)\n",
    "    teacher.train(\n",
    "        X=X_train\n",
    "        ,y=y_train\n",
    "        ,val_set=[X_val,y_val]\n",
    "        ,batch_size=32\n",
    "        ,n_epochs=20\n",
    "        ,display_steps=100)"
   ]
  },
  {
   "cell_type": "code",
   "execution_count": null,
   "metadata": {
    "ExecuteTime": {
     "end_time": "2018-11-13T10:45:48.349951Z",
     "start_time": "2018-11-13T10:45:47.922028Z"
    }
   },
   "outputs": [],
   "source": [
    "if try_cls2:\n",
    "    teacher.plt_loss()\n",
    "    teacher.plt_metrics()\n",
    "    train_metric = teacher.get_metrics(X_train, y_train)\n",
    "    test_metric = teacher.get_metrics(X_test, y_test)\n",
    "    print('train',train_metric)\n",
    "    print('test',test_metric)\n",
    "    print(test_metric)"
   ]
  },
  {
   "cell_type": "code",
   "execution_count": null,
   "metadata": {
    "ExecuteTime": {
     "end_time": "2018-11-13T10:45:48.371799Z",
     "start_time": "2018-11-13T10:45:48.351180Z"
    }
   },
   "outputs": [],
   "source": [
    "# plot and show sample\n",
    "if try_cls2 and False:\n",
    "    n_samples = 6\n",
    "    round_show = 4\n",
    "    X_show = X_train\n",
    "    n_data = X_show.shape[0]\n",
    "    indices = np.random.choice(n_data,n_samples)\n",
    "    for i in range(n_samples):\n",
    "        sample = X_show[[indices[i]]]\n",
    "        label = y_train[indices[i]]\n",
    "        plt.imshow(sample.reshape((28,28)), cmap='gray')\n",
    "        plt.show()\n",
    "        pred = teacher.predict(sample)\n",
    "        pred_t = teacher.predict_softened(sample, temperature=temperature)\n",
    "        pred_t2 = y_train_soft[indices[i]]\n",
    "        print('sample.max()',sample.max())\n",
    "        print('label',label)\n",
    "        print('teacher.predict',np.round(pred,round_show))\n",
    "        print('teacher.predict_softened',np.round(pred_t,round_show))\n",
    "        print('y_soft',np.round(pred_t2,round_show))\n",
    "        #     teacher.predict()"
   ]
  },
  {
   "cell_type": "code",
   "execution_count": null,
   "metadata": {
    "ExecuteTime": {
     "end_time": "2018-11-13T16:34:39.311011Z",
     "start_time": "2018-11-13T16:34:38.413466Z"
    }
   },
   "outputs": [],
   "source": [
    "import gc\n",
    "gc.collect()\n",
    "if try_cls2:\n",
    "    small = build_small_model(input_dims, output_dims, session, is_student=False)\n",
    "    small.train(\n",
    "        X=X_train\n",
    "        ,y=y_train\n",
    "        ,val_set=[X_val,y_val]\n",
    "        ,batch_size=32\n",
    "        ,n_epochs=20\n",
    "        ,display_steps=100)"
   ]
  },
  {
   "cell_type": "code",
   "execution_count": null,
   "metadata": {
    "ExecuteTime": {
     "end_time": "2018-11-13T10:46:28.779351Z",
     "start_time": "2018-11-13T10:46:28.373820Z"
    }
   },
   "outputs": [],
   "source": [
    "if try_cls2:\n",
    "    small.plt_loss()\n",
    "    small.plt_metrics()\n",
    "    train_metric = small.get_metrics(X_train, y_train)\n",
    "    test_metric = small.get_metrics(X_test, y_test)\n",
    "    print('train',train_metric)\n",
    "    print('test',test_metric)"
   ]
  },
  {
   "cell_type": "code",
   "execution_count": null,
   "metadata": {
    "ExecuteTime": {
     "end_time": "2018-11-16T07:34:48.600695Z",
     "start_time": "2018-11-16T07:34:44.164337Z"
    }
   },
   "outputs": [],
   "source": [
    "\n",
    "temperatures = [2,4,8,16,32,64]\n",
    "train_metrics = {}\n",
    "test_metrics = {}\n",
    "for temperature in temperatures:\n",
    "    # initialize metrics\n",
    "    train_metrics[temperature] = []\n",
    "    test_metrics[temperature] = []\n",
    "    # prepare softened data\n",
    "    y_train_soft = teacher.predict_softened(X_train, temperature)\n",
    "    y_val_soft = teacher.predict_softened(X_val, temperature)\n",
    "    y_test_soft = teacher.predict_softened(X_test, temperature)\n",
    "    for coef_softloss in [1, temperature**2, 1/(temperature**2)]:\n",
    "        print('Training student with temperature =',temperature,', coef =',coef_softloss,'.')\n",
    "        # build network architecture\n",
    "        student = build_small_model(input_dims, output_dims, session, is_student=True)\n",
    "        # train network\n",
    "        student.soft_train(\n",
    "            X=X_train\n",
    "            ,y=y_train\n",
    "            ,y_soft=y_train_soft\n",
    "            ,temperature=temperature\n",
    "            ,coef_softloss= coef_softloss# * temperature**2\n",
    "            ,val_set=[X_val,y_val,y_val_soft]\n",
    "            ,batch_size=32\n",
    "            ,n_epochs=20\n",
    "            ,display_steps=100)\n",
    "        # show result\n",
    "        print('Student performance with temperature =',temperature,', coef =',coef_softloss,'.')\n",
    "        student.plt_loss()\n",
    "        student.plt_metrics()\n",
    "        train_metric = student.get_metrics(X_train, y_train)\n",
    "        test_metric = student.get_metrics(X_test, y_test)\n",
    "        print('train',train_metric)\n",
    "        print('test',test_metric)\n",
    "        print()\n",
    "        train_metrics[temperature].append(train_metric)\n",
    "        test_metrics[temperature].append(test_metric)\n",
    "        gc.collect()"
   ]
  },
  {
   "cell_type": "code",
   "execution_count": null,
   "metadata": {
    "ExecuteTime": {
     "end_time": "2018-11-13T16:19:27.589356Z",
     "start_time": "2018-11-13T16:19:27.528814Z"
    }
   },
   "outputs": [],
   "source": [
    "print(test_metrics)"
   ]
  },
  {
   "cell_type": "code",
   "execution_count": null,
   "metadata": {
    "ExecuteTime": {
     "end_time": "2018-11-13T07:48:44.912830Z",
     "start_time": "2018-11-13T07:48:44.379401Z"
    },
    "scrolled": true
   },
   "outputs": [],
   "source": [
    "# plot and show sample # deprecated\n",
    "if try_cls2 and True:\n",
    "    n_samples = 6\n",
    "    round_show = 4\n",
    "    n_data = X_test.shape[0]\n",
    "    indices = np.random.choice(n_data,n_samples)\n",
    "    for i in range(n_samples):\n",
    "        sample = X_test[[indices[i]]]\n",
    "        label = y_test[indices[i]]\n",
    "        plt.imshow(sample.reshape((28,28)), cmap='gray')\n",
    "        plt.show()\n",
    "        pred = student.predict(sample)\n",
    "        pred_t = student.predict_softened(sample, temperature=temperature)\n",
    "        print(label)\n",
    "        print(np.round(pred,round_show))\n",
    "        print(np.round(pred_t,round_show))\n",
    "#         print(np.round(pred_t2,round_show))\n",
    "        #     student.predict()"
   ]
  },
  {
   "cell_type": "code",
   "execution_count": null,
   "metadata": {
    "ExecuteTime": {
     "end_time": "2018-11-13T07:48:44.933494Z",
     "start_time": "2018-11-13T07:48:44.914132Z"
    }
   },
   "outputs": [],
   "source": [
    "# close_session(session)"
   ]
  },
  {
   "cell_type": "code",
   "execution_count": null,
   "metadata": {},
   "outputs": [],
   "source": []
  }
 ],
 "metadata": {
  "kernelspec": {
   "display_name": "Python [conda env:tu36]",
   "language": "python",
   "name": "conda-env-tu36-py"
  },
  "language_info": {
   "codemirror_mode": {
    "name": "ipython",
    "version": 3
   },
   "file_extension": ".py",
   "mimetype": "text/x-python",
   "name": "python",
   "nbconvert_exporter": "python",
   "pygments_lexer": "ipython3",
   "version": "3.6.6"
  },
  "widgets": {
   "state": {},
   "version": "1.1.2"
  }
 },
 "nbformat": 4,
 "nbformat_minor": 2
}
